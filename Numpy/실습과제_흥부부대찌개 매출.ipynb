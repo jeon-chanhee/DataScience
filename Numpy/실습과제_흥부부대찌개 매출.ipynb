{
 "cells": [
  {
   "cell_type": "code",
   "execution_count": 7,
   "metadata": {},
   "outputs": [],
   "source": [
    "import numpy as np\n"
   ]
  },
  {
   "cell_type": "code",
   "execution_count": 16,
   "metadata": {},
   "outputs": [
    {
     "name": "stdout",
     "output_type": "stream",
     "text": [
      "[3024000원 3427200원 3225600원 3628800원 4435200원 1411200원 1814400원 3427200원\n",
      " 3326400원 2923200원 2822400원 3830400원 1713600원 1411200원 2318400원 3931200원\n",
      " 4032000원 3528000원 3830400원 1512000원 1108800원 2419200원 3830400원 3830400원\n",
      " 3427200원 4233600원 1512000원 1310400원 3628800원 3225600원 2520000원]\n"
     ]
    }
   ],
   "source": [
    "yen = np.array([300000, 340000, 320000, 360000, \n",
    "                440000, 140000, 180000, 340000, \n",
    "                330000, 290000, 280000, 380000, \n",
    "                170000, 140000, 230000, 390000, \n",
    "                400000, 350000, 380000, 150000, \n",
    "                110000, 240000, 380000, 380000, \n",
    "                340000, 420000, 150000, 130000, \n",
    "                360000, 320000, 250000])\n",
    "exchange = 10.08\n",
    "price = yen*exchange\n",
    "print(str(price).replace('.','원'))\n"
   ]
  }
 ],
 "metadata": {
  "kernelspec": {
   "display_name": "Python 3",
   "language": "python",
   "name": "python3"
  },
  "language_info": {
   "codemirror_mode": {
    "name": "ipython",
    "version": 3
   },
   "file_extension": ".py",
   "mimetype": "text/x-python",
   "name": "python",
   "nbconvert_exporter": "python",
   "pygments_lexer": "ipython3",
   "version": "3.6.5"
  }
 },
 "nbformat": 4,
 "nbformat_minor": 4
}
