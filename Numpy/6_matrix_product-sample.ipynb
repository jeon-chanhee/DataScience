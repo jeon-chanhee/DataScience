{
 "cells": [
  {
   "cell_type": "code",
   "execution_count": 2,
   "metadata": {},
   "outputs": [
    {
     "name": "stdout",
     "output_type": "stream",
     "text": [
      "[[ 6  3]\n",
      " [12  6]]\n"
     ]
    }
   ],
   "source": [
    "import numpy as np\n",
    "\n",
    "a = np.array([[0,1,2],\n",
    "             [1,2,3]])\n",
    "b = np.array([[2,1],\n",
    "                 [2,1],\n",
    "                 [2,1]])\n",
    "print(np.dot(a,b))\n",
    "# 2x3 ,3x2 와 같이 행렬 끼리의 곱은 dot 메소드를 써야한다."
   ]
  },
  {
   "cell_type": "code",
   "execution_count": 7,
   "metadata": {},
   "outputs": [
    {
     "name": "stdout",
     "output_type": "stream",
     "text": [
      "[[ 2  4  2]\n",
      " [ 8 16  8]\n",
      " [14 28 14]]\n"
     ]
    }
   ],
   "source": [
    "a = np.array([[0,1,2],\n",
    "             [3,4,5],\n",
    "             [6,7,8]])\n",
    "b = np.array([[0,2,0],\n",
    "             [2,0,2],\n",
    "             [0,2,0]])\n",
    "print(np.dot(a,b))"
   ]
  }
 ],
 "metadata": {
  "kernelspec": {
   "display_name": "Python 3",
   "language": "python",
   "name": "python3"
  },
  "language_info": {
   "codemirror_mode": {
    "name": "ipython",
    "version": 3
   },
   "file_extension": ".py",
   "mimetype": "text/x-python",
   "name": "python",
   "nbconvert_exporter": "python",
   "pygments_lexer": "ipython3",
   "version": "3.6.5"
  }
 },
 "nbformat": 4,
 "nbformat_minor": 2
}
