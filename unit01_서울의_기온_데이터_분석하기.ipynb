{
  "nbformat": 4,
  "nbformat_minor": 0,
  "metadata": {
    "colab": {
      "name": "unit01_서울의 기온 데이터 분석하기.ipynb",
      "provenance": [],
      "collapsed_sections": [],
      "authorship_tag": "ABX9TyNnnT1dFhbzp9YNSFdxUzUw",
      "include_colab_link": true
    },
    "kernelspec": {
      "name": "python3",
      "display_name": "Python 3"
    },
    "language_info": {
      "name": "python"
    }
  },
  "cells": [
    {
      "cell_type": "markdown",
      "metadata": {
        "id": "view-in-github",
        "colab_type": "text"
      },
      "source": [
        "<a href=\"https://colab.research.google.com/github/jeon-chanhee/DataScience/blob/main/unit01_%EC%84%9C%EC%9A%B8%EC%9D%98_%EA%B8%B0%EC%98%A8_%EB%8D%B0%EC%9D%B4%ED%84%B0_%EB%B6%84%EC%84%9D%ED%95%98%EA%B8%B0.ipynb\" target=\"_parent\"><img src=\"https://colab.research.google.com/assets/colab-badge.svg\" alt=\"Open In Colab\"/></a>"
      ]
    },
    {
      "cell_type": "markdown",
      "metadata": {
        "id": "z_YgR9T52N3l"
      },
      "source": [
        "seoul.csv 파일 읽어오기"
      ]
    },
    {
      "cell_type": "code",
      "metadata": {
        "colab": {
          "base_uri": "https://localhost:8080/"
        },
        "id": "YKGTmLow2QMk",
        "outputId": "d36797ee-f223-49f7-e387-8525f7e36791"
      },
      "source": [
        "import csv\n",
        "\n",
        "f = open('/content/seoul.csv','r',encoding='cp949') # '파일경로','부르는 목적(r w)','인코딩'\n",
        "data = csv.reader(f,delimiter=',')\n",
        "print(data)\n",
        "f.close()"
      ],
      "execution_count": null,
      "outputs": [
        {
          "output_type": "stream",
          "text": [
            "<_csv.reader object at 0x7f89a38507d0>\n"
          ],
          "name": "stdout"
        }
      ]
    },
    {
      "cell_type": "code",
      "metadata": {
        "id": "QLsAjKdG2Fzt"
      },
      "source": [
        "import csv\n",
        "\n",
        "f = open('/content/seoul.csv','r',encoding='cp949') # '파일경로','부르는 목적(r w)','인코딩'\n",
        "data = csv.reader(f) # delimiter(구분자) -> ,로 생략가능 (기본으로 , ^ | 을 많이씀)\n",
        "\n",
        "# 데이터를 한줄씩 출력\n",
        "for row in data:\n",
        "  print(row)\n",
        "\n",
        "\n",
        "f.close()"
      ],
      "execution_count": null,
      "outputs": []
    },
    {
      "cell_type": "markdown",
      "metadata": {
        "id": "dWsaYTy87UZ2"
      },
      "source": [
        "헤더 저장하기"
      ]
    },
    {
      "cell_type": "code",
      "metadata": {
        "colab": {
          "base_uri": "https://localhost:8080/"
        },
        "id": "0uUmbl177T4_",
        "outputId": "6d17751a-1ade-4fad-ce6d-fcadb385342b"
      },
      "source": [
        "import csv\n",
        "\n",
        "f = open('/content/seoul.csv','r',encoding='cp949') # '파일경로','부르는 목적(r w)','인코딩'\n",
        "data = csv.reader(f,delimiter=',')\n",
        "header = next(data)   # next() 데이터의 한줄을 읽음, next 한번 실행되면 커서가 다음줄로 옮겨짐\n",
        "                      # column을 제외하고 데이터 레코드만 읽을 준비가 되었다는 듯\n",
        "\n",
        "print(header)          # 첫 번째 행을 읽은 후 다음 행으로 이동시키는 함수\n",
        "\n",
        "f.close()"
      ],
      "execution_count": null,
      "outputs": [
        {
          "output_type": "stream",
          "text": [
            "['날짜', '지점', '평균기온(℃)', '최저기온(℃)', '최고기온(℃)']\n"
          ],
          "name": "stdout"
        }
      ]
    },
    {
      "cell_type": "code",
      "metadata": {
        "colab": {
          "base_uri": "https://localhost:8080/"
        },
        "id": "uurYP7c_4yz3",
        "outputId": "aeac902e-cf89-418e-9877-2d39aee74dd0"
      },
      "source": [
        "import csv\n",
        "\n",
        "f = open('/content/seoul.csv','r',encoding='cp949') # '파일경로','부르는 목적(r w)','인코딩'\n",
        "data = csv.reader(f,delimiter=',')\n",
        "header = next(data)   # next() 데이터의 한줄을 읽음, next 한번 실행되면 커서가 다음줄로 옮겨짐\n",
        "                      # column을 제외하고 데이터 레코드만 읽을 준비가 되었다는 듯\n",
        "\n",
        "print(header)          # 첫 번째 행을 읽은 후 다음 행으로 이동시키는 함수\n",
        "print(next(data))      # 두 번째 행 읽은 후 다음 행으로 이동\n",
        "print(next(data))\n",
        "f.close()"
      ],
      "execution_count": null,
      "outputs": [
        {
          "output_type": "stream",
          "text": [
            "['날짜', '지점', '평균기온(℃)', '최저기온(℃)', '최고기온(℃)']\n",
            "['1907-10-01', '108', '13.5', '7.9', '20.7']\n",
            "['1907-10-02', '108', '16.2', '7.9', '22']\n"
          ],
          "name": "stdout"
        }
      ]
    },
    {
      "cell_type": "markdown",
      "metadata": {
        "id": "ZHPPgi-QIMN7"
      },
      "source": [
        "-> 기상 관측 이래, 서울의 최고 기온이 가장 높았던 날은 언제였고, 몇 도였을까? \n",
        "<br>\n",
        "날짜, 최고기온 데이터를 사용"
      ]
    },
    {
      "cell_type": "markdown",
      "metadata": {
        "id": "fsMD5jsLIf6q"
      },
      "source": [
        "\n",
        "-> 기상 관측 이래, 서울의 평균 기온이 가장 높았던 날은 언제였고, 몇 도였을까? <br>\n",
        "날짜, 평균기온 데이터를 사용"
      ]
    },
    {
      "cell_type": "markdown",
      "metadata": {
        "id": "WVZ-wed6InOJ"
      },
      "source": [
        "-> 평균 기온과 최고 기온의 차이?"
      ]
    },
    {
      "cell_type": "markdown",
      "metadata": {
        "id": "pDnwq08kIuWW"
      },
      "source": [
        "-> 기상 관측 이래, 서울의 최저 기온이 가장 높았던 날은 언제였고, 몇 도였을까? <br>\n",
        "날짜, 최저기온 데이터를 사용"
      ]
    },
    {
      "cell_type": "markdown",
      "metadata": {
        "id": "rSM69HUUI4PK"
      },
      "source": [
        "-> 기상 관측 이래, 서울의 평균 기온이 가장 높았던 날은 언제였고, 몇 도였을까? <br>\n",
        "날짜, 평균기온 데이터를 사용"
      ]
    },
    {
      "cell_type": "code",
      "metadata": {
        "id": "aDr_ycvy9v6z"
      },
      "source": [
        "import csv\n",
        "\n",
        "f = open('/content/seoul.csv','r',encoding='cp949') \n",
        "\n",
        "data = csv.reader(f)\n",
        "header = next(data)   \n",
        "print(header)         # 헤더 추출    \n",
        "\n",
        "# 데이터를 한줄씩 출력   \n",
        "for row in data:\n",
        "  print(row)\n",
        "\n",
        "f.close()"
      ],
      "execution_count": null,
      "outputs": []
    }
  ]
}