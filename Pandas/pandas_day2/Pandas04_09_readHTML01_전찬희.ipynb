{
 "cells": [
  {
   "cell_type": "code",
   "execution_count": 4,
   "metadata": {},
   "outputs": [
    {
     "name": "stdout",
     "output_type": "stream",
     "text": [
      "2 \n",
      "==>\n",
      "[            0          1     2\n",
      "0  Firstname1  Lastname1  Age1\n",
      "1      Jill_1    Smith_1    50,            0         1    2\n",
      "0  Firstname  Lastname  Age\n",
      "1        Eve   Jackson   94] \n",
      "==>\n",
      "tables[0] \n",
      "\n",
      "            0          1     2\n",
      "0  Firstname1  Lastname1  Age1\n",
      "1      Jill_1    Smith_1    50 \n",
      "\n",
      "tables[1] \n",
      "\n",
      "           0         1    2\n",
      "0  Firstname  Lastname  Age\n",
      "1        Eve   Jackson   94 \n",
      "\n",
      "--------------------------------------------------\n",
      "Int64Index([0, 1, 2], dtype='int64') \n",
      "\n"
     ]
    }
   ],
   "source": [
    "import pandas as pd\n",
    "\n",
    "# HTML 파일 경로 or 웹 페이지 주소를 url 변수에 저장\n",
    "url = './DataSet/Pandas04_08_Test01_전찬희.html'\n",
    "\n",
    "# HTML 웹페이지의 표(table)를 가져와서 데이터프레임으로 변환\n",
    "tables = pd.read_html(url)\n",
    "\n",
    "# 표(table)의 개수 확인\n",
    "print(len(tables), '\\n==>')\n",
    "\n",
    "print(tables, '\\n==>')\n",
    "\n",
    "# table 리스트의 원소를 iteration하면서 각각 화면 출력\n",
    "for i in range(len(tables)):\n",
    "    print('tables[%s]'%i, '\\n')\n",
    "    print(tables[i],'\\n')\n",
    "    \n",
    "\n",
    "print('-'*50)    \n",
    "# 파이썬 패키지 정보가 들어있는 두 번째 데이터프레임을 선태하여 df변수에 저장\n",
    "df = tables[1]\n",
    "print(df.columns,'\\n')\n",
    "\n",
    "\n",
    "\n",
    "#자바에서 th는 열, header라는 의미로 td+센터+bold(두껍게)\n",
    "# td 열\n",
    "# tr 행"
   ]
  }
 ],
 "metadata": {
  "kernelspec": {
   "display_name": "Python 3",
   "language": "python",
   "name": "python3"
  },
  "language_info": {
   "codemirror_mode": {
    "name": "ipython",
    "version": 3
   },
   "file_extension": ".py",
   "mimetype": "text/x-python",
   "name": "python",
   "nbconvert_exporter": "python",
   "pygments_lexer": "ipython3",
   "version": "3.6.5"
  }
 },
 "nbformat": 4,
 "nbformat_minor": 2
}
