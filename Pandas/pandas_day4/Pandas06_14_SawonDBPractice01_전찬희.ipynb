{
 "cells": [
  {
   "cell_type": "code",
   "execution_count": 2,
   "metadata": {},
   "outputs": [
    {
     "name": "stdout",
     "output_type": "stream",
     "text": [
      "   deptno dname  loc\n",
      "0      10   총무부   서울\n",
      "1      20   영업부   대전\n",
      "2      30   전산부   부산\n",
      "3      40   관리부   광주\n"
     ]
    }
   ],
   "source": [
    "import pandas as pd\n",
    "\n",
    "deptDB = pd.read_csv('./../data/deptDB.csv',header=None)\n",
    "deptDB.columns=['deptno','dname','loc']\n",
    "\n",
    "deptDB = deptDB.replace('\\'','',regex=True)\n",
    "print(deptDB)"
   ]
  },
  {
   "cell_type": "code",
   "execution_count": 17,
   "metadata": {
    "scrolled": true
   },
   "outputs": [
    {
     "name": "stdout",
     "output_type": "stream",
     "text": [
      "    sabun saname  deptno sajob  sapay       sahire sasex  samgr\n",
      "0       1    홍길동      10    회장   5000   1980/01/01    남자   null\n",
      "1       2    한국남      20    부장   3000   1988/11/01    남자      1\n",
      "2       3    이순신      20    과장   3500   1985/03/01    남자      2\n",
      "3       5    이순라      20    사원   1200   1990/05/01    여자      3\n",
      "4       7    놀기만      20    과장   2300   1996/06/01    여자      2\n",
      "5      11    뷰별나      20    과장   1600   1989/12/01    여자      2\n",
      "6      14    채시라      20    사원   3400   1993/10/01    여자      3\n",
      "7      17    이성계      30    부장   2803   1984/05/01    남자      1\n",
      "8      13    무궁화      10    부장   3000   1996/11/01    여자      1\n",
      "9      19    임꺽정      20    사원   2200   1988/04/01    남자      7\n",
      "10     20    깨똥이      10    과장   4500   1990/05/01    남자     13\n",
      "11      6    공부만      30    과장   4003   1995/05/01    남자     17\n",
      "12      8    채송화      30    대리   1703   1992/06/01    여자     17\n",
      "13      4    이미라      30    대리   2503   1983/04/01    여자     17\n",
      "14     10    공부해      30    사원   1303   1988/11/01    남자      4\n",
      "15     12    뷰명한      10    대리   1800   1990/10/01    남자     20\n",
      "16      9    무궁화      10    사원   1100   1984/08/01    여자     12\n",
      "17     15    최진실      10    사원   2000   1991/04/01    여자     12\n",
      "18     16    김유신      30    사원    400   1981/04/01    남자      4\n",
      "19     18    강감찬      30    사원   1003   1986/07/01    남자      4\n"
     ]
    }
   ],
   "source": [
    "sawonDB = pd.read_csv('./../data/sawonDB.csv',header=None)\n",
    "sawonDB.columns=['sabun','saname','deptno','sajob','sapay','sahire','sasex','samgr']\n",
    "sawonDB = sawonDB.replace('\\'','',regex=True)\n",
    "print(sawonDB)"
   ]
  },
  {
   "cell_type": "code",
   "execution_count": 13,
   "metadata": {},
   "outputs": [
    {
     "name": "stdout",
     "output_type": "stream",
     "text": [
      "   gobun goname      gotel         gojumin  godam\n",
      "0      1     뷰민   123-1234  700113-1537915    3.0\n",
      "1      2     강민  1343-1455  690216-1627914    2.0\n",
      "2      3     영희   144-1655  750320-2636215    NaN\n",
      "3      4     철이   673-1674  770430-1234567    4.0\n",
      "4      5     뷰완   123-1674  720521-1123675    3.0\n",
      "5      6     캔디   673-1764  650725-2534566    NaN\n",
      "6      7     똘이   176-7677  630608-1648614    7.0\n",
      "7      8     쇠돌   673-6774  800804-1346574    9.0\n",
      "8      9     홍이   767-1234  731225-1234689   13.0\n",
      "9     10     안나   767-1677  751015-2432168    4.0\n"
     ]
    }
   ],
   "source": [
    "gogekDB = pd.read_csv('./../data/gogekDB.csv',header=None)\n",
    "gogekDB.columns=['gobun','goname','gotel','gojumin','godam']\n",
    "gogekDB = gogekDB.replace('\\'','',regex=True)\n",
    "print(gogekDB)"
   ]
  },
  {
   "cell_type": "code",
   "execution_count": 39,
   "metadata": {},
   "outputs": [],
   "source": [
    "# 문제01] SawonDB 데이터에서 입사년도가 88년도인 사람 출력\n",
    "# 문제02] SawonDB 데이터에서 4월에 입사한 사원 출력\n",
    "# 문제03] SawonDB 데이터에서 사원번호가 짝수인 사람만 출력\n",
    "# 문제04] SawonDB 데이터에서 직위별 급여 평균 출력\n",
    "# 문제05] SawonDB 데이터에서 직위별,성별 급여 평균 출력"
   ]
  },
  {
   "cell_type": "code",
   "execution_count": 23,
   "metadata": {},
   "outputs": [
    {
     "name": "stdout",
     "output_type": "stream",
     "text": [
      "sabun               2\n",
      "saname            한국남\n",
      "deptno             20\n",
      "sajob              부장\n",
      "sapay            3000\n",
      "sahire     1988/11/01\n",
      "sasex              남자\n",
      "samgr               1\n",
      "Name: 1, dtype: object\n",
      "sabun              19\n",
      "saname            임꺽정\n",
      "deptno             20\n",
      "sajob              사원\n",
      "sapay            2200\n",
      "sahire     1988/04/01\n",
      "sasex              남자\n",
      "samgr               7\n",
      "Name: 9, dtype: object\n",
      "sabun              10\n",
      "saname            공부해\n",
      "deptno             30\n",
      "sajob              사원\n",
      "sapay            1303\n",
      "sahire     1988/11/01\n",
      "sasex              남자\n",
      "samgr               4\n",
      "Name: 14, dtype: object\n"
     ]
    }
   ],
   "source": [
    "# 문제01] SawonDB 데이터에서 입사년도가 88년도인 사람 출력\n",
    "for i in range(len(sawonDB)):\n",
    "    if sawonDB.iloc[:,5][i][1:5] =='1988':  # 1988 이전에 ' 이라는 문자가 있기에 1:5를 범위로 지정\n",
    "        print(sawonDB.iloc[i,:8])"
   ]
  },
  {
   "cell_type": "code",
   "execution_count": null,
   "metadata": {},
   "outputs": [],
   "source": [
    "# 문제02] SawonDB 데이터에서 4월에 입사한 사원 출력"
   ]
  },
  {
   "cell_type": "code",
   "execution_count": 5,
   "metadata": {},
   "outputs": [
    {
     "data": {
      "text/html": [
       "<div>\n",
       "<style scoped>\n",
       "    .dataframe tbody tr th:only-of-type {\n",
       "        vertical-align: middle;\n",
       "    }\n",
       "\n",
       "    .dataframe tbody tr th {\n",
       "        vertical-align: top;\n",
       "    }\n",
       "\n",
       "    .dataframe thead th {\n",
       "        text-align: right;\n",
       "    }\n",
       "</style>\n",
       "<table border=\"1\" class=\"dataframe\">\n",
       "  <thead>\n",
       "    <tr style=\"text-align: right;\">\n",
       "      <th></th>\n",
       "      <th>sabun</th>\n",
       "      <th>saname</th>\n",
       "      <th>deptno</th>\n",
       "      <th>sajob</th>\n",
       "      <th>sapay</th>\n",
       "      <th>sahire</th>\n",
       "      <th>sasex</th>\n",
       "      <th>samgr</th>\n",
       "    </tr>\n",
       "  </thead>\n",
       "  <tbody>\n",
       "    <tr>\n",
       "      <th>1</th>\n",
       "      <td>2</td>\n",
       "      <td>한국남</td>\n",
       "      <td>20</td>\n",
       "      <td>부장</td>\n",
       "      <td>3000</td>\n",
       "      <td>1988/11/01</td>\n",
       "      <td>남자</td>\n",
       "      <td>1</td>\n",
       "    </tr>\n",
       "    <tr>\n",
       "      <th>6</th>\n",
       "      <td>14</td>\n",
       "      <td>채시라</td>\n",
       "      <td>20</td>\n",
       "      <td>사원</td>\n",
       "      <td>3400</td>\n",
       "      <td>1993/10/01</td>\n",
       "      <td>여자</td>\n",
       "      <td>3</td>\n",
       "    </tr>\n",
       "    <tr>\n",
       "      <th>10</th>\n",
       "      <td>20</td>\n",
       "      <td>깨똥이</td>\n",
       "      <td>10</td>\n",
       "      <td>과장</td>\n",
       "      <td>4500</td>\n",
       "      <td>1990/05/01</td>\n",
       "      <td>남자</td>\n",
       "      <td>13</td>\n",
       "    </tr>\n",
       "    <tr>\n",
       "      <th>11</th>\n",
       "      <td>6</td>\n",
       "      <td>공부만</td>\n",
       "      <td>30</td>\n",
       "      <td>과장</td>\n",
       "      <td>4003</td>\n",
       "      <td>1995/05/01</td>\n",
       "      <td>남자</td>\n",
       "      <td>17</td>\n",
       "    </tr>\n",
       "    <tr>\n",
       "      <th>12</th>\n",
       "      <td>8</td>\n",
       "      <td>채송화</td>\n",
       "      <td>30</td>\n",
       "      <td>대리</td>\n",
       "      <td>1703</td>\n",
       "      <td>1992/06/01</td>\n",
       "      <td>여자</td>\n",
       "      <td>17</td>\n",
       "    </tr>\n",
       "    <tr>\n",
       "      <th>13</th>\n",
       "      <td>4</td>\n",
       "      <td>이미라</td>\n",
       "      <td>30</td>\n",
       "      <td>대리</td>\n",
       "      <td>2503</td>\n",
       "      <td>1983/04/01</td>\n",
       "      <td>여자</td>\n",
       "      <td>17</td>\n",
       "    </tr>\n",
       "    <tr>\n",
       "      <th>14</th>\n",
       "      <td>10</td>\n",
       "      <td>공부해</td>\n",
       "      <td>30</td>\n",
       "      <td>사원</td>\n",
       "      <td>1303</td>\n",
       "      <td>1988/11/01</td>\n",
       "      <td>남자</td>\n",
       "      <td>4</td>\n",
       "    </tr>\n",
       "    <tr>\n",
       "      <th>15</th>\n",
       "      <td>12</td>\n",
       "      <td>뷰명한</td>\n",
       "      <td>10</td>\n",
       "      <td>대리</td>\n",
       "      <td>1800</td>\n",
       "      <td>1990/10/01</td>\n",
       "      <td>남자</td>\n",
       "      <td>20</td>\n",
       "    </tr>\n",
       "    <tr>\n",
       "      <th>18</th>\n",
       "      <td>16</td>\n",
       "      <td>김유신</td>\n",
       "      <td>30</td>\n",
       "      <td>사원</td>\n",
       "      <td>400</td>\n",
       "      <td>1981/04/01</td>\n",
       "      <td>남자</td>\n",
       "      <td>4</td>\n",
       "    </tr>\n",
       "    <tr>\n",
       "      <th>19</th>\n",
       "      <td>18</td>\n",
       "      <td>강감찬</td>\n",
       "      <td>30</td>\n",
       "      <td>사원</td>\n",
       "      <td>1003</td>\n",
       "      <td>1986/07/01</td>\n",
       "      <td>남자</td>\n",
       "      <td>4</td>\n",
       "    </tr>\n",
       "  </tbody>\n",
       "</table>\n",
       "</div>"
      ],
      "text/plain": [
       "    sabun saname  deptno sajob  sapay       sahire sasex samgr\n",
       "1       2    한국남      20    부장   3000   1988/11/01    남자     1\n",
       "6      14    채시라      20    사원   3400   1993/10/01    여자     3\n",
       "10     20    깨똥이      10    과장   4500   1990/05/01    남자    13\n",
       "11      6    공부만      30    과장   4003   1995/05/01    남자    17\n",
       "12      8    채송화      30    대리   1703   1992/06/01    여자    17\n",
       "13      4    이미라      30    대리   2503   1983/04/01    여자    17\n",
       "14     10    공부해      30    사원   1303   1988/11/01    남자     4\n",
       "15     12    뷰명한      10    대리   1800   1990/10/01    남자    20\n",
       "18     16    김유신      30    사원    400   1981/04/01    남자     4\n",
       "19     18    강감찬      30    사원   1003   1986/07/01    남자     4"
      ]
     },
     "execution_count": 5,
     "metadata": {},
     "output_type": "execute_result"
    }
   ],
   "source": [
    "# 문제03] SawonDB 데이터에서 사원번호가 짝수인 사람만 출력\n",
    "sawonDB.loc[sawonDB['sabun'] % 2 == 0]"
   ]
  },
  {
   "cell_type": "code",
   "execution_count": 6,
   "metadata": {},
   "outputs": [
    {
     "name": "stdout",
     "output_type": "stream",
     "text": [
      "sajob\n",
      " 과장    3180.600000\n",
      " 대리    2002.000000\n",
      " 부장    2934.333333\n",
      " 사원    1575.750000\n",
      " 회장    5000.000000\n",
      "Name: sapay, dtype: float64\n"
     ]
    }
   ],
   "source": [
    "# 문제04] SawonDB 데이터에서 직위별 급여 평균 출력\n",
    "print(sawonDB.groupby('sajob')['sapay'].mean())"
   ]
  },
  {
   "cell_type": "code",
   "execution_count": 41,
   "metadata": {},
   "outputs": [
    {
     "name": "stdout",
     "output_type": "stream",
     "text": [
      "sajob  sasex\n",
      " 과장     남자      4001.0\n",
      "        여자      1950.0\n",
      " 대리     남자      1800.0\n",
      "        여자      2103.0\n",
      " 부장     남자      2901.5\n",
      "        여자      3000.0\n",
      " 사원     남자      1226.5\n",
      "        여자      1925.0\n",
      " 회장     남자      5000.0\n",
      "Name: sapay, dtype: float64\n"
     ]
    }
   ],
   "source": [
    "# 문제05] SawonDB 데이터에서 직위별,성별 급여 평균 출력\n",
    "print(sawonDB.groupby(['sajob','sasex'])['sapay'].mean())"
   ]
  }
 ],
 "metadata": {
  "kernelspec": {
   "display_name": "Python 3",
   "language": "python",
   "name": "python3"
  },
  "language_info": {
   "codemirror_mode": {
    "name": "ipython",
    "version": 3
   },
   "file_extension": ".py",
   "mimetype": "text/x-python",
   "name": "python",
   "nbconvert_exporter": "python",
   "pygments_lexer": "ipython3",
   "version": "3.6.5"
  }
 },
 "nbformat": 4,
 "nbformat_minor": 2
}
