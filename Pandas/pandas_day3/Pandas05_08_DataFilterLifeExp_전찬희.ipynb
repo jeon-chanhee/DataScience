{
 "cells": [
  {
   "cell_type": "code",
   "execution_count": 1,
   "metadata": {},
   "outputs": [],
   "source": [
    "import pandas as pd"
   ]
  },
  {
   "cell_type": "code",
   "execution_count": 3,
   "metadata": {},
   "outputs": [
    {
     "name": "stdout",
     "output_type": "stream",
     "text": [
      "0    4\n",
      "1    2\n",
      "2    0\n",
      "3    8\n",
      "dtype: int64\n",
      "8\n",
      "0\n"
     ]
    }
   ],
   "source": [
    "df=pd.read_csv('./../data/gapminder.tsv',sep='\\t')\n",
    "s = pd.Series([4,2,0,8])\n",
    "print(s)\n",
    "print(s.max())\n",
    "print(s.min())\n",
    "\n",
    "# 문제] 최대 기대 수명, 최소 기대 수명 출력\n",
    "# [loc,iloc,컬럼명 3가지로 학인]"
   ]
  },
  {
   "cell_type": "code",
   "execution_count": 20,
   "metadata": {},
   "outputs": [
    {
     "name": "stdout",
     "output_type": "stream",
     "text": [
      "82.603\n"
     ]
    }
   ],
   "source": [
    "print(df.lifeExp.max())"
   ]
  },
  {
   "cell_type": "code",
   "execution_count": 21,
   "metadata": {},
   "outputs": [
    {
     "name": "stdout",
     "output_type": "stream",
     "text": [
      "23.599\n"
     ]
    }
   ],
   "source": [
    "print(df.lifeExp.min())"
   ]
  },
  {
   "cell_type": "code",
   "execution_count": 17,
   "metadata": {},
   "outputs": [
    {
     "name": "stdout",
     "output_type": "stream",
     "text": [
      "82.603\n",
      "23.599\n"
     ]
    }
   ],
   "source": [
    "lifeExp_loc = df.loc[:,'lifeExp']     # loc는 라벨링 모든 행 중에서 lifeExp만     \n",
    "print(lifeExp_loc.max())\n",
    "print(lifeExp_loc.min())"
   ]
  },
  {
   "cell_type": "code",
   "execution_count": 18,
   "metadata": {},
   "outputs": [
    {
     "name": "stdout",
     "output_type": "stream",
     "text": [
      "82.603\n",
      "23.599\n"
     ]
    }
   ],
   "source": [
    "lifeExp_iloc = df.iloc[:,3]          # iloc는 인덱싱 모든 행 중에서 3번째인 lifeExp만\n",
    "print(lifeExp_iloc.max())\n",
    "print(lifeExp_iloc.min())"
   ]
  },
  {
   "cell_type": "code",
   "execution_count": 19,
   "metadata": {},
   "outputs": [
    {
     "name": "stdout",
     "output_type": "stream",
     "text": [
      "82.603\n",
      "23.599\n"
     ]
    }
   ],
   "source": [
    "lifeExp_col = df['lifeExp']     # column 이름으로 lifeExp 설정\n",
    "print(lifeExp_col.max())\n",
    "print(lifeExp_col.min())"
   ]
  },
  {
   "cell_type": "code",
   "execution_count": null,
   "metadata": {},
   "outputs": [],
   "source": []
  }
 ],
 "metadata": {
  "kernelspec": {
   "display_name": "Python 3",
   "language": "python",
   "name": "python3"
  },
  "language_info": {
   "codemirror_mode": {
    "name": "ipython",
    "version": 3
   },
   "file_extension": ".py",
   "mimetype": "text/x-python",
   "name": "python",
   "nbconvert_exporter": "python",
   "pygments_lexer": "ipython3",
   "version": "3.6.5"
  }
 },
 "nbformat": 4,
 "nbformat_minor": 2
}
