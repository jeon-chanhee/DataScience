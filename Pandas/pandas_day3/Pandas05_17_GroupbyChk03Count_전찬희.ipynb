{
 "cells": [
  {
   "cell_type": "code",
   "execution_count": 1,
   "metadata": {},
   "outputs": [],
   "source": [
    "import pandas as pd\n",
    "\n",
    "df=pd.read_csv('./../data/gapminder.tsv',sep='\\t')"
   ]
  },
  {
   "cell_type": "code",
   "execution_count": 2,
   "metadata": {},
   "outputs": [
    {
     "name": "stdout",
     "output_type": "stream",
     "text": [
      "continent\n",
      "Africa      624\n",
      "Americas    300\n",
      "Asia        396\n",
      "Europe      360\n",
      "Oceania      24\n",
      "Name: year, dtype: int64\n"
     ]
    }
   ],
   "source": [
    "print(df.groupby('continent')['year'].count()) #continent의 year 세는 함수"
   ]
  },
  {
   "cell_type": "code",
   "execution_count": 8,
   "metadata": {
    "scrolled": false
   },
   "outputs": [
    {
     "name": "stdout",
     "output_type": "stream",
     "text": [
      "Asia \n",
      "=====> 1\n",
      "396 \n",
      "=====> 2 \n",
      ":        country continent  year  lifeExp       pop   gdpPercap\n",
      "0  Afghanistan      Asia  1952   28.801   8425333  779.445314\n",
      "1  Afghanistan      Asia  1957   30.332   9240934  820.853030\n",
      "2  Afghanistan      Asia  1962   31.997  10267083  853.100710 \n",
      "=====> 3 \n",
      ": (396, 6)\n",
      "396\n",
      "Europe \n",
      "=====> 1\n",
      "360 \n",
      "=====> 2 \n",
      ":     country continent  year  lifeExp      pop    gdpPercap\n",
      "12  Albania    Europe  1952    55.23  1282697  1601.056136\n",
      "13  Albania    Europe  1957    59.28  1476505  1942.284244\n",
      "14  Albania    Europe  1962    64.82  1728137  2312.888958 \n",
      "=====> 3 \n",
      ": (360, 6)\n",
      "360\n",
      "Africa \n",
      "=====> 1\n",
      "624 \n",
      "=====> 2 \n",
      ":     country continent  year  lifeExp       pop    gdpPercap\n",
      "24  Algeria    Africa  1952   43.077   9279525  2449.008185\n",
      "25  Algeria    Africa  1957   45.685  10270856  3013.976023\n",
      "26  Algeria    Africa  1962   48.303  11000948  2550.816880 \n",
      "=====> 3 \n",
      ": (624, 6)\n",
      "624\n",
      "Americas \n",
      "=====> 1\n",
      "300 \n",
      "=====> 2 \n",
      ":       country continent  year  lifeExp       pop    gdpPercap\n",
      "48  Argentina  Americas  1952   62.485  17876956  5911.315053\n",
      "49  Argentina  Americas  1957   64.399  19610538  6856.856212\n",
      "50  Argentina  Americas  1962   65.142  21283783  7133.166023 \n",
      "=====> 3 \n",
      ": (300, 6)\n",
      "300\n",
      "Oceania \n",
      "=====> 1\n",
      "24 \n",
      "=====> 2 \n",
      ":       country continent  year  lifeExp       pop    gdpPercap\n",
      "60  Australia   Oceania  1952    69.12   8691212  10039.59564\n",
      "61  Australia   Oceania  1957    70.33   9712569  10949.64959\n",
      "62  Australia   Oceania  1962    70.93  10794968  12217.22686 \n",
      "=====> 3 \n",
      ": (24, 6)\n",
      "24\n"
     ]
    }
   ],
   "source": [
    "# for 적용해서 결과 확인\n",
    "conList = df['continent'].unique()\n",
    "\n",
    "for i in conList:     # for 문을 통해 했던 알고리즘 반증하기\n",
    "    print(i, '\\n=====> 1')  \n",
    "    sCon = df[df['continent']==i]   # i와 같은 continent (ex: Asia) 묶기\n",
    "    print(len(sCon),'\\n=====> 2 \\n:',sCon.head(3),'\\n=====> 3 \\n:', sCon.shape)\n",
    "    print(sCon['year'].count())"
   ]
  },
  {
   "cell_type": "code",
   "execution_count": null,
   "metadata": {},
   "outputs": [],
   "source": []
  }
 ],
 "metadata": {
  "kernelspec": {
   "display_name": "Python 3",
   "language": "python",
   "name": "python3"
  },
  "language_info": {
   "codemirror_mode": {
    "name": "ipython",
    "version": 3
   },
   "file_extension": ".py",
   "mimetype": "text/x-python",
   "name": "python",
   "nbconvert_exporter": "python",
   "pygments_lexer": "ipython3",
   "version": "3.6.5"
  }
 },
 "nbformat": 4,
 "nbformat_minor": 2
}
