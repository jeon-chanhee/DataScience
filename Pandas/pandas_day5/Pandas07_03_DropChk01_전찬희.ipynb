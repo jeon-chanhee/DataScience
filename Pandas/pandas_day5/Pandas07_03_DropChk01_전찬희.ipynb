{
 "cells": [
  {
   "cell_type": "code",
   "execution_count": 1,
   "metadata": {},
   "outputs": [
    {
     "name": "stdout",
     "output_type": "stream",
     "text": [
      "   수학  영어   음악   체육\n",
      "0  90  98   85  100\n",
      "1  80  89   95   90\n",
      "2  70  95  100   90 \n",
      "\n",
      "    수학  영어   음악   체육\n",
      "서준  90  98   85  100\n",
      "우현  80  89   95   90\n",
      "인아  70  95  100   90 \n",
      "\n",
      "    수학  영어   음악   체육\n",
      "서준  90  98   85  100\n",
      "인아  70  95  100   90 \n",
      "\n",
      "    수학  영어  음악   체육\n",
      "서준  90  98  85  100\n"
     ]
    },
    {
     "name": "stderr",
     "output_type": "stream",
     "text": [
      "C:\\Anaconda3_5.2\\lib\\site-packages\\pandas\\core\\frame.py:3694: SettingWithCopyWarning: \n",
      "A value is trying to be set on a copy of a slice from a DataFrame\n",
      "\n",
      "See the caveats in the documentation: http://pandas.pydata.org/pandas-docs/stable/indexing.html#indexing-view-versus-copy\n",
      "  errors=errors)\n"
     ]
    }
   ],
   "source": [
    "import pandas as pd\n",
    "\n",
    "#axis =0 이면 행 지우기 axis=1이면 열 지우기 디폴트는 0\n",
    "# DataFrame() 함수로 데이터프레임 변환. 변수 df에 저장\n",
    "exam_data = {'수학':[90,80,70],'영어':[98,89,95],\n",
    "            '음악':[85,95,100],'체육':[100,90,90]}\n",
    "\n",
    "df = pd.DataFrame(exam_data)\n",
    "print(df,'\\n')\n",
    "\n",
    "df = pd.DataFrame(exam_data,index=['서준','우현','인아'])\n",
    "print(df,'\\n')\n",
    "\n",
    "# 데이터프레임 df를 복제하여 변수 df에 저장. df2의 1개 행 삭제\n",
    "df2 = df[:]  # df1=df2로 하면 주소값이 같아져서 원본과 똑같이 움직임 조심!\n",
    "df2.drop('우현',inplace=True)  # 디폴트값 0이기 때문에 axis 안써도 삭제 가능\n",
    "print(df2,'\\n')\n",
    "\n",
    "# 데이터프레임 df를 복제하여 변수 df3에 저장 df3의 2개 행 삭제\n",
    "df3 = df[:]\n",
    "df3.drop(['우현','인아'],axis=0,inplace=True)\n",
    "print(df3)"
   ]
  },
  {
   "cell_type": "code",
   "execution_count": 2,
   "metadata": {},
   "outputs": [
    {
     "name": "stdout",
     "output_type": "stream",
     "text": [
      "   수학  영어   음악   체육\n",
      "0  90  98   85  100\n",
      "1  80  89   95   90\n",
      "2  70  95  100   90 \n",
      "\n",
      "    수학  영어   음악   체육\n",
      "서준  90  98   85  100\n",
      "우현  80  89   95   90\n",
      "인아  70  95  100   90 \n",
      "\n",
      "    영어   음악   체육\n",
      "서준  98   85  100\n",
      "우현  89   95   90\n",
      "인아  95  100   90 \n",
      "\n",
      "    수학   체육\n",
      "서준  90  100\n",
      "우현  80   90\n",
      "인아  70   90 \n",
      "\n"
     ]
    },
    {
     "name": "stderr",
     "output_type": "stream",
     "text": [
      "C:\\Anaconda3_5.2\\lib\\site-packages\\pandas\\core\\frame.py:3694: SettingWithCopyWarning: \n",
      "A value is trying to be set on a copy of a slice from a DataFrame\n",
      "\n",
      "See the caveats in the documentation: http://pandas.pydata.org/pandas-docs/stable/indexing.html#indexing-view-versus-copy\n",
      "  errors=errors)\n"
     ]
    }
   ],
   "source": [
    "# DataFrame() 함수로 데이터프레임 변환. 변수 df에 저장\n",
    "exam_data = {'수학':[90,80,70],'영어':[98,89,95],\n",
    "            '음악':[85,95,100],'체육':[100,90,90]}\n",
    "\n",
    "df = pd.DataFrame(exam_data)\n",
    "print(df,'\\n')\n",
    "\n",
    "df = pd.DataFrame(exam_data,index=['서준','우현','인아'])\n",
    "print(df,'\\n')\n",
    "\n",
    "# 데이터프레임 df를 복제하여 변수 df에 저장. df2의 1개 열 삭제\n",
    "df4 = df[:]  \n",
    "df4.drop('수학',axis=1,inplace=True)  # axis=1은 열 삭제\n",
    "print(df4,'\\n')\n",
    "\n",
    "# 데이터프레임 df를 복제하여 변수 df에 저장. df2의 2개 열 삭제\n",
    "df5 = df[:]  \n",
    "df5.drop(['영어','음악'],axis=1,inplace=True)  # axis=1은 열 삭제\n",
    "print(df5,'\\n')\n"
   ]
  }
 ],
 "metadata": {
  "kernelspec": {
   "display_name": "Python 3",
   "language": "python",
   "name": "python3"
  },
  "language_info": {
   "codemirror_mode": {
    "name": "ipython",
    "version": 3
   },
   "file_extension": ".py",
   "mimetype": "text/x-python",
   "name": "python",
   "nbconvert_exporter": "python",
   "pygments_lexer": "ipython3",
   "version": "3.6.5"
  }
 },
 "nbformat": 4,
 "nbformat_minor": 2
}
