{
 "cells": [
  {
   "cell_type": "code",
   "execution_count": 2,
   "metadata": {},
   "outputs": [
    {
     "name": "stdout",
     "output_type": "stream",
     "text": [
      "   이름  수학  영어   음악   체육\n",
      "0  서준  90  98   85  100\n",
      "1  우현  80  89   95   90\n",
      "2  인아  70  95  100   90 \n",
      "\n",
      "     이름    수학    영어     음악     체육\n",
      "0    서준  90.0  98.0   85.0  100.0\n",
      "1    우현  80.0  89.0   95.0   90.0\n",
      "2    인아  70.0  95.0  100.0   90.0\n",
      "서준  NaN   NaN   NaN   50.0   50.0 \n",
      "\n",
      "     이름    수학    영어     음악     체육\n",
      "0    서준  90.0  98.0   85.0  100.0\n",
      "1    우현  80.0  89.0   95.0   90.0\n",
      "2    인아  70.0  95.0  100.0   90.0\n",
      "서준  NaN   NaN   NaN  100.0   50.0\n"
     ]
    }
   ],
   "source": [
    "import pandas as pd\n",
    "\n",
    "# DataFrame() 함수로 데이터프레임 변환. 변수 df에 저장\n",
    "exam_data = {'이름':['서준','우현','인아'],\n",
    "             '수학':[90,80,70],\n",
    "             '영어':[98,89,95],\n",
    "             '음악':[85,95,100],\n",
    "             '체육':[100,90,90]}\n",
    "df = pd.DataFrame(exam_data)\n",
    "print(df,'\\n')\n",
    "\n",
    "# 데이터프레임 df의 원소 여러 개를 변경하는 방법:'서준'의 '음악','체육'점수\n",
    "df.loc['서준',['음악','체육']] = 50\n",
    "print(df,'\\n')\n",
    "\n",
    "df.loc['서준',['음악','체육']] = 100, 50\n",
    "print(df)"
   ]
  },
  {
   "cell_type": "code",
   "execution_count": 3,
   "metadata": {},
   "outputs": [
    {
     "name": "stdout",
     "output_type": "stream",
     "text": [
      "      0   1    2   서준\n",
      "이름   서준  우현   인아  NaN\n",
      "수학   90  80   70  NaN\n",
      "영어   98  89   95  NaN\n",
      "음악   85  95  100  100\n",
      "체육  100  90   90   50 \n",
      "\n",
      "     이름   수학   영어   음악   체육\n",
      "0    서준   90   98   85  100\n",
      "1    우현   80   89   95   90\n",
      "2    인아   70   95  100   90\n",
      "서준  NaN  NaN  NaN  100   50\n"
     ]
    }
   ],
   "source": [
    "# 데이터프레임 df를 전치하기 (메소드 활용)\n",
    "df = df.transpose()\n",
    "print(df,'\\n')\n",
    "\n",
    "# 데이터프레임 df를 다시 전치하기(클래스 속성 활용)\n",
    "df = df.T\n",
    "print(df)"
   ]
  }
 ],
 "metadata": {
  "kernelspec": {
   "display_name": "Python 3",
   "language": "python",
   "name": "python3"
  },
  "language_info": {
   "codemirror_mode": {
    "name": "ipython",
    "version": 3
   },
   "file_extension": ".py",
   "mimetype": "text/x-python",
   "name": "python",
   "nbconvert_exporter": "python",
   "pygments_lexer": "ipython3",
   "version": "3.6.5"
  }
 },
 "nbformat": 4,
 "nbformat_minor": 2
}
