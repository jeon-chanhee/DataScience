{
 "cells": [
  {
   "cell_type": "code",
   "execution_count": 3,
   "metadata": {},
   "outputs": [
    {
     "name": "stdout",
     "output_type": "stream",
     "text": [
      "      algol basic c++\n",
      "name                 \n",
      "Jerry     A     C  B+\n",
      "Riah     A+     B   C\n",
      "Paul      B    B+  C+\n"
     ]
    }
   ],
   "source": [
    "import pandas as pd\n",
    "\n",
    "data = {'name':['Jerry','Riah','Paul'],\n",
    "       'algol':['A','A+','B'],\n",
    "       'basic':['C','B','B+'],\n",
    "       'c++':['B+','C','C+']}\n",
    "\n",
    "df = pd.DataFrame(data)\n",
    "df.set_index('name',inplace=True)    # name 열을 인덱스로 지정\n",
    "print(df)\n",
    "\n",
    "#to_csv() 메소드를 사용하여 csv 파일로 내보내기\n",
    "df.to_csv('./df_sample.csv')"
   ]
  }
 ],
 "metadata": {
  "kernelspec": {
   "display_name": "Python 3",
   "language": "python",
   "name": "python3"
  },
  "language_info": {
   "codemirror_mode": {
    "name": "ipython",
    "version": 3
   },
   "file_extension": ".py",
   "mimetype": "text/x-python",
   "name": "python",
   "nbconvert_exporter": "python",
   "pygments_lexer": "ipython3",
   "version": "3.6.5"
  }
 },
 "nbformat": 4,
 "nbformat_minor": 2
}
