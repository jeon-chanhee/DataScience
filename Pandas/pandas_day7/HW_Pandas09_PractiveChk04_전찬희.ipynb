{
 "cells": [
  {
   "cell_type": "code",
   "execution_count": 43,
   "metadata": {},
   "outputs": [
    {
     "name": "stdout",
     "output_type": "stream",
     "text": [
      "   deptno dname  loc\n",
      "0      10   총무부   서울\n",
      "1      20   영업부   대전\n",
      "2      30   전산부   부산\n",
      "3      40   관리부   광주\n",
      "   gobun goname      gotel         gojumin  godam\n",
      "0      1     뷰민   123-1234  700113-1537915    3.0\n",
      "1      2     강민  1343-1455  690216-1627914    2.0\n",
      "2      3     영희   144-1655  750320-2636215    NaN\n",
      "3      4     철이   673-1674  770430-1234567    4.0\n",
      "4      5     뷰완   123-1674  720521-1123675    3.0\n",
      "5      6     캔디   673-1764  650725-2534566    NaN\n",
      "6      7     똘이   176-7677  630608-1648614    7.0\n",
      "7      8     쇠돌   673-6774  800804-1346574    9.0\n",
      "8      9     홍이   767-1234  731225-1234689   13.0\n",
      "9     10     안나   767-1677  751015-2432168    4.0\n",
      "    sabun saname  deptno sajob  sapay       sahire sasex  samgr\n",
      "0       1    홍길동      10    회장   5000   1980/01/01    남자   null\n",
      "1       2    한국남      20    부장   3000   1988/11/01    남자      1\n",
      "2       3    이순신      20    과장   3500   1985/03/01    남자      2\n",
      "3       5    이순라      20    사원   1200   1990/05/01    여자      3\n",
      "4       7    놀기만      20    과장   2300   1996/06/01    여자      2\n",
      "5      11    뷰별나      20    과장   1600   1989/12/01    여자      2\n",
      "6      14    채시라      20    사원   3400   1993/10/01    여자      3\n",
      "7      17    이성계      30    부장   2803   1984/05/01    남자      1\n",
      "8      13    무궁화      10    부장   3000   1996/11/01    여자      1\n",
      "9      19    임꺽정      20    사원   2200   1988/04/01    남자      7\n",
      "10     20    깨똥이      10    과장   4500   1990/05/01    남자     13\n",
      "11      6    공부만      30    과장   4003   1995/05/01    남자     17\n",
      "12      8    채송화      30    대리   1703   1992/06/01    여자     17\n",
      "13      4    이미라      30    대리   2503   1983/04/01    여자     17\n",
      "14     10    공부해      30    사원   1303   1988/11/01    남자      4\n",
      "15     12    뷰명한      10    대리   1800   1990/10/01    남자     20\n",
      "16      9    무궁화      10    사원   1100   1984/08/01    여자     12\n",
      "17     15    최진실      10    사원   2000   1991/04/01    여자     12\n",
      "18     16    김유신      30    사원    400   1981/04/01    남자      4\n",
      "19     18    강감찬      30    사원   1003   1986/07/01    남자      4\n"
     ]
    }
   ],
   "source": [
    "import pandas as pd\n",
    "\n",
    "sawonDB = pd.read_csv('./../data/sawonDB.csv',header=None)\n",
    "sawonDB.columns=['sabun','saname','deptno','sajob','sapay','sahire','sasex','samgr']\n",
    "sawonDB = sawonDB.replace('\\'','',regex=True)\n",
    "\n",
    "gogekDB = pd.read_csv('./../data/gogekDB.csv',header=None)\n",
    "gogekDB.columns=['gobun','goname','gotel','gojumin','godam']\n",
    "gogekDB = gogekDB.replace('\\'','',regex=True)\n",
    "\n",
    "deptDB = pd.read_csv('./../data/deptDB.csv',header=None)\n",
    "deptDB.columns=['deptno','dname','loc']\n",
    "deptDB = deptDB.replace('\\'','',regex=True)\n",
    "\n",
    "\n",
    "# strip 전체로 적용되는건 series\n",
    "print(deptDB)\n",
    "print(gogekDB)\n",
    "print(sawonDB)"
   ]
  },
  {
   "cell_type": "code",
   "execution_count": 44,
   "metadata": {},
   "outputs": [],
   "source": [
    "# replace를 안쓸시 '' 제거할 때 쓰는것 그리고 sawonDB에 다시 저장\n",
    "sawonDB['saname']=sawonDB['saname'].str.strip(\"' \")\n",
    "sawonDB['sajob']=sawonDB['sajob'].str.strip(\"' \")\n",
    "sawonDB['sahire']=sawonDB['sahire'].str.strip(\"' \")\n",
    "sawonDB['sasex']=sawonDB['sasex'].str.strip(\" \")"
   ]
  },
  {
   "cell_type": "code",
   "execution_count": 45,
   "metadata": {},
   "outputs": [],
   "source": [
    "sawonDB['saname']=sawonDB['saname'].str.strip()\n",
    "sawonDB['sajob']=sawonDB['sajob'].str.strip()\n",
    "sawonDB['sahire']=sawonDB['sahire'].str.strip()\n",
    "sawonDB['sasex']=sawonDB['sasex'].str.strip()"
   ]
  },
  {
   "cell_type": "code",
   "execution_count": 50,
   "metadata": {},
   "outputs": [],
   "source": [
    "gogekDB['goname']=gogekDB['goname'].str.strip()\n",
    "gogekDB['gotel']=gogekDB['gotel'].str.strip()\n",
    "gogekDB['gojumin']=gogekDB['gojumin'].str.strip()"
   ]
  },
  {
   "cell_type": "code",
   "execution_count": 51,
   "metadata": {},
   "outputs": [],
   "source": [
    "deptDB['dname']=deptDB['dname'].str.strip()\n",
    "deptDB['loc']=deptDB['loc'].str.strip()"
   ]
  },
  {
   "cell_type": "code",
   "execution_count": 36,
   "metadata": {},
   "outputs": [
    {
     "name": "stdout",
     "output_type": "stream",
     "text": [
      "    sabun saname  deptno sajob  sapay      sahire sasex samgr\n",
      "9      19    임꺽정      20    사원   2200  1988/04/01    남자     7\n",
      "13      4    이미라      30    대리   2503  1983/04/01    여자    17\n",
      "17     15    최진실      10    사원   2000  1991/04/01    여자    12\n",
      "18     16    김유신      30    사원    400  1981/04/01    남자     4\n"
     ]
    }
   ],
   "source": [
    "# 문제 2\n",
    "q2_lst04 = []\n",
    "for idx in range(len(sawonDB)):\n",
    "    q2_lst04.append(sawonDB['sahire'][idx][5:7] == '04')\n",
    "\n",
    "print(sawonDB.loc[q2_lst04])\n",
    "    "
   ]
  },
  {
   "cell_type": "code",
   "execution_count": 55,
   "metadata": {},
   "outputs": [
    {
     "ename": "TypeError",
     "evalue": "unhashable type: 'slice'",
     "output_type": "error",
     "traceback": [
      "\u001b[1;31m---------------------------------------------------------------------------\u001b[0m",
      "\u001b[1;31mTypeError\u001b[0m                                 Traceback (most recent call last)",
      "\u001b[1;32m<ipython-input-55-46b07d3284cb>\u001b[0m in \u001b[0;36m<module>\u001b[1;34m()\u001b[0m\n\u001b[0;32m      1\u001b[0m \u001b[1;32mfor\u001b[0m \u001b[0midx\u001b[0m \u001b[1;32min\u001b[0m \u001b[0mrange\u001b[0m\u001b[1;33m(\u001b[0m\u001b[0mlen\u001b[0m\u001b[1;33m(\u001b[0m\u001b[0msawonDB\u001b[0m\u001b[1;33m)\u001b[0m\u001b[1;33m)\u001b[0m\u001b[1;33m:\u001b[0m\u001b[1;33m\u001b[0m\u001b[0m\n\u001b[1;32m----> 2\u001b[1;33m     \u001b[0mprint\u001b[0m\u001b[1;33m(\u001b[0m\u001b[0msawonDB\u001b[0m\u001b[1;33m[\u001b[0m\u001b[1;33m:\u001b[0m\u001b[1;33m,\u001b[0m\u001b[1;36m6\u001b[0m\u001b[1;33m]\u001b[0m\u001b[1;33m[\u001b[0m\u001b[0midx\u001b[0m\u001b[1;33m]\u001b[0m\u001b[1;33m[\u001b[0m\u001b[1;36m5\u001b[0m\u001b[1;33m:\u001b[0m\u001b[1;36m7\u001b[0m\u001b[1;33m]\u001b[0m\u001b[1;33m==\u001b[0m\u001b[1;34m'04'\u001b[0m\u001b[1;33m)\u001b[0m\u001b[1;33m\u001b[0m\u001b[0m\n\u001b[0m\u001b[0;32m      3\u001b[0m \u001b[1;33m\u001b[0m\u001b[0m\n",
      "\u001b[1;32mC:\\Anaconda3_5.2\\lib\\site-packages\\pandas\\core\\frame.py\u001b[0m in \u001b[0;36m__getitem__\u001b[1;34m(self, key)\u001b[0m\n\u001b[0;32m   2683\u001b[0m             \u001b[1;32mreturn\u001b[0m \u001b[0mself\u001b[0m\u001b[1;33m.\u001b[0m\u001b[0m_getitem_multilevel\u001b[0m\u001b[1;33m(\u001b[0m\u001b[0mkey\u001b[0m\u001b[1;33m)\u001b[0m\u001b[1;33m\u001b[0m\u001b[0m\n\u001b[0;32m   2684\u001b[0m         \u001b[1;32melse\u001b[0m\u001b[1;33m:\u001b[0m\u001b[1;33m\u001b[0m\u001b[0m\n\u001b[1;32m-> 2685\u001b[1;33m             \u001b[1;32mreturn\u001b[0m \u001b[0mself\u001b[0m\u001b[1;33m.\u001b[0m\u001b[0m_getitem_column\u001b[0m\u001b[1;33m(\u001b[0m\u001b[0mkey\u001b[0m\u001b[1;33m)\u001b[0m\u001b[1;33m\u001b[0m\u001b[0m\n\u001b[0m\u001b[0;32m   2686\u001b[0m \u001b[1;33m\u001b[0m\u001b[0m\n\u001b[0;32m   2687\u001b[0m     \u001b[1;32mdef\u001b[0m \u001b[0m_getitem_column\u001b[0m\u001b[1;33m(\u001b[0m\u001b[0mself\u001b[0m\u001b[1;33m,\u001b[0m \u001b[0mkey\u001b[0m\u001b[1;33m)\u001b[0m\u001b[1;33m:\u001b[0m\u001b[1;33m\u001b[0m\u001b[0m\n",
      "\u001b[1;32mC:\\Anaconda3_5.2\\lib\\site-packages\\pandas\\core\\frame.py\u001b[0m in \u001b[0;36m_getitem_column\u001b[1;34m(self, key)\u001b[0m\n\u001b[0;32m   2690\u001b[0m         \u001b[1;31m# get column\u001b[0m\u001b[1;33m\u001b[0m\u001b[1;33m\u001b[0m\u001b[0m\n\u001b[0;32m   2691\u001b[0m         \u001b[1;32mif\u001b[0m \u001b[0mself\u001b[0m\u001b[1;33m.\u001b[0m\u001b[0mcolumns\u001b[0m\u001b[1;33m.\u001b[0m\u001b[0mis_unique\u001b[0m\u001b[1;33m:\u001b[0m\u001b[1;33m\u001b[0m\u001b[0m\n\u001b[1;32m-> 2692\u001b[1;33m             \u001b[1;32mreturn\u001b[0m \u001b[0mself\u001b[0m\u001b[1;33m.\u001b[0m\u001b[0m_get_item_cache\u001b[0m\u001b[1;33m(\u001b[0m\u001b[0mkey\u001b[0m\u001b[1;33m)\u001b[0m\u001b[1;33m\u001b[0m\u001b[0m\n\u001b[0m\u001b[0;32m   2693\u001b[0m \u001b[1;33m\u001b[0m\u001b[0m\n\u001b[0;32m   2694\u001b[0m         \u001b[1;31m# duplicate columns & possible reduce dimensionality\u001b[0m\u001b[1;33m\u001b[0m\u001b[1;33m\u001b[0m\u001b[0m\n",
      "\u001b[1;32mC:\\Anaconda3_5.2\\lib\\site-packages\\pandas\\core\\generic.py\u001b[0m in \u001b[0;36m_get_item_cache\u001b[1;34m(self, item)\u001b[0m\n\u001b[0;32m   2482\u001b[0m         \u001b[1;34m\"\"\"Return the cached item, item represents a label indexer.\"\"\"\u001b[0m\u001b[1;33m\u001b[0m\u001b[0m\n\u001b[0;32m   2483\u001b[0m         \u001b[0mcache\u001b[0m \u001b[1;33m=\u001b[0m \u001b[0mself\u001b[0m\u001b[1;33m.\u001b[0m\u001b[0m_item_cache\u001b[0m\u001b[1;33m\u001b[0m\u001b[0m\n\u001b[1;32m-> 2484\u001b[1;33m         \u001b[0mres\u001b[0m \u001b[1;33m=\u001b[0m \u001b[0mcache\u001b[0m\u001b[1;33m.\u001b[0m\u001b[0mget\u001b[0m\u001b[1;33m(\u001b[0m\u001b[0mitem\u001b[0m\u001b[1;33m)\u001b[0m\u001b[1;33m\u001b[0m\u001b[0m\n\u001b[0m\u001b[0;32m   2485\u001b[0m         \u001b[1;32mif\u001b[0m \u001b[0mres\u001b[0m \u001b[1;32mis\u001b[0m \u001b[1;32mNone\u001b[0m\u001b[1;33m:\u001b[0m\u001b[1;33m\u001b[0m\u001b[0m\n\u001b[0;32m   2486\u001b[0m             \u001b[0mvalues\u001b[0m \u001b[1;33m=\u001b[0m \u001b[0mself\u001b[0m\u001b[1;33m.\u001b[0m\u001b[0m_data\u001b[0m\u001b[1;33m.\u001b[0m\u001b[0mget\u001b[0m\u001b[1;33m(\u001b[0m\u001b[0mitem\u001b[0m\u001b[1;33m)\u001b[0m\u001b[1;33m\u001b[0m\u001b[0m\n",
      "\u001b[1;31mTypeError\u001b[0m: unhashable type: 'slice'"
     ]
    }
   ],
   "source": [
    "for idx in range(len(sawonDB)):\n",
    "    print(sawonDB[:,6][idx][5:7]=='04')\n",
    "   "
   ]
  }
 ],
 "metadata": {
  "kernelspec": {
   "display_name": "Python 3",
   "language": "python",
   "name": "python3"
  },
  "language_info": {
   "codemirror_mode": {
    "name": "ipython",
    "version": 3
   },
   "file_extension": ".py",
   "mimetype": "text/x-python",
   "name": "python",
   "nbconvert_exporter": "python",
   "pygments_lexer": "ipython3",
   "version": "3.6.5"
  }
 },
 "nbformat": 4,
 "nbformat_minor": 2
}
