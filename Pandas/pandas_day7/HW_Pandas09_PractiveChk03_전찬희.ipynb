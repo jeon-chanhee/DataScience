{
 "cells": [
  {
   "cell_type": "code",
   "execution_count": 2,
   "metadata": {},
   "outputs": [
    {
     "name": "stdout",
     "output_type": "stream",
     "text": [
      "    sabun saname  deptno sajob  sapay       sahire sasex  samgr\n",
      "0       1    홍길동      10    회장   5000   1980/01/01    남자   null\n",
      "1       2    한국남      20    부장   3000   1988/11/01    남자      1\n",
      "2       3    이순신      20    과장   3500   1985/03/01    남자      2\n",
      "3       5    이순라      20    사원   1200   1990/05/01    여자      3\n",
      "4       7    놀기만      20    과장   2300   1996/06/01    여자      2\n",
      "5      11    뷰별나      20    과장   1600   1989/12/01    여자      2\n",
      "6      14    채시라      20    사원   3400   1993/10/01    여자      3\n",
      "7      17    이성계      30    부장   2803   1984/05/01    남자      1\n",
      "8      13    무궁화      10    부장   3000   1996/11/01    여자      1\n",
      "9      19    임꺽정      20    사원   2200   1988/04/01    남자      7\n",
      "10     20    깨똥이      10    과장   4500   1990/05/01    남자     13\n",
      "11      6    공부만      30    과장   4003   1995/05/01    남자     17\n",
      "12      8    채송화      30    대리   1703   1992/06/01    여자     17\n",
      "13      4    이미라      30    대리   2503   1983/04/01    여자     17\n",
      "14     10    공부해      30    사원   1303   1988/11/01    남자      4\n",
      "15     12    뷰명한      10    대리   1800   1990/10/01    남자     20\n",
      "16      9    무궁화      10    사원   1100   1984/08/01    여자     12\n",
      "17     15    최진실      10    사원   2000   1991/04/01    여자     12\n",
      "18     16    김유신      30    사원    400   1981/04/01    남자      4\n",
      "19     18    강감찬      30    사원   1003   1986/07/01    남자      4\n"
     ]
    }
   ],
   "source": [
    "import pandas as pd\n",
    "\n",
    "sawonDB = pd.read_csv('./../data/sawonDB.csv',header=None)\n",
    "sawonDB.columns=['sabun','saname','deptno','sajob','sapay','sahire','sasex','samgr']\n",
    "sawonDB = sawonDB.replace('\\'','',regex=True)\n",
    "print(sawonDB)"
   ]
  },
  {
   "cell_type": "code",
   "execution_count": 3,
   "metadata": {},
   "outputs": [
    {
     "name": "stdout",
     "output_type": "stream",
     "text": [
      "[False, True, False, False, False, False, False, False, False, True, False, False, False, False, True, False, False, False, False, False]\n"
     ]
    },
    {
     "data": {
      "text/html": [
       "<div>\n",
       "<style scoped>\n",
       "    .dataframe tbody tr th:only-of-type {\n",
       "        vertical-align: middle;\n",
       "    }\n",
       "\n",
       "    .dataframe tbody tr th {\n",
       "        vertical-align: top;\n",
       "    }\n",
       "\n",
       "    .dataframe thead th {\n",
       "        text-align: right;\n",
       "    }\n",
       "</style>\n",
       "<table border=\"1\" class=\"dataframe\">\n",
       "  <thead>\n",
       "    <tr style=\"text-align: right;\">\n",
       "      <th></th>\n",
       "      <th>sabun</th>\n",
       "      <th>saname</th>\n",
       "      <th>deptno</th>\n",
       "      <th>sajob</th>\n",
       "      <th>sapay</th>\n",
       "      <th>sahire</th>\n",
       "      <th>sasex</th>\n",
       "      <th>samgr</th>\n",
       "    </tr>\n",
       "  </thead>\n",
       "  <tbody>\n",
       "    <tr>\n",
       "      <th>1</th>\n",
       "      <td>2</td>\n",
       "      <td>한국남</td>\n",
       "      <td>20</td>\n",
       "      <td>부장</td>\n",
       "      <td>3000</td>\n",
       "      <td>1988/11/01</td>\n",
       "      <td>남자</td>\n",
       "      <td>1</td>\n",
       "    </tr>\n",
       "    <tr>\n",
       "      <th>9</th>\n",
       "      <td>19</td>\n",
       "      <td>임꺽정</td>\n",
       "      <td>20</td>\n",
       "      <td>사원</td>\n",
       "      <td>2200</td>\n",
       "      <td>1988/04/01</td>\n",
       "      <td>남자</td>\n",
       "      <td>7</td>\n",
       "    </tr>\n",
       "    <tr>\n",
       "      <th>14</th>\n",
       "      <td>10</td>\n",
       "      <td>공부해</td>\n",
       "      <td>30</td>\n",
       "      <td>사원</td>\n",
       "      <td>1303</td>\n",
       "      <td>1988/11/01</td>\n",
       "      <td>남자</td>\n",
       "      <td>4</td>\n",
       "    </tr>\n",
       "  </tbody>\n",
       "</table>\n",
       "</div>"
      ],
      "text/plain": [
       "    sabun saname  deptno sajob  sapay       sahire sasex samgr\n",
       "1       2    한국남      20    부장   3000   1988/11/01    남자     1\n",
       "9      19    임꺽정      20    사원   2200   1988/04/01    남자     7\n",
       "14     10    공부해      30    사원   1303   1988/11/01    남자     4"
      ]
     },
     "execution_count": 3,
     "metadata": {},
     "output_type": "execute_result"
    }
   ],
   "source": [
    "# 문제 01\n",
    "q1_lst88 = []\n",
    "for idx in range(len(sawonDB)):\n",
    "    q1_lst88.append(sawonDB['sahire'][idx][1:5]=='1988')\n",
    "# sawonDB['sahire'][idx] 값을 슬라이싱을 통해 88년도 비교,\n",
    "# loc로 출력해줄 것이기에 q1_lst88 리스트 변수에 True,False 저장\n",
    "print(q1_lst88)\n",
    "sawonDB.loc[q1_lst88]"
   ]
  },
  {
   "cell_type": "code",
   "execution_count": 5,
   "metadata": {},
   "outputs": [
    {
     "data": {
      "text/html": [
       "<div>\n",
       "<style scoped>\n",
       "    .dataframe tbody tr th:only-of-type {\n",
       "        vertical-align: middle;\n",
       "    }\n",
       "\n",
       "    .dataframe tbody tr th {\n",
       "        vertical-align: top;\n",
       "    }\n",
       "\n",
       "    .dataframe thead th {\n",
       "        text-align: right;\n",
       "    }\n",
       "</style>\n",
       "<table border=\"1\" class=\"dataframe\">\n",
       "  <thead>\n",
       "    <tr style=\"text-align: right;\">\n",
       "      <th></th>\n",
       "      <th>sabun</th>\n",
       "      <th>saname</th>\n",
       "      <th>deptno</th>\n",
       "      <th>sajob</th>\n",
       "      <th>sapay</th>\n",
       "      <th>sahire</th>\n",
       "      <th>sasex</th>\n",
       "      <th>samgr</th>\n",
       "    </tr>\n",
       "  </thead>\n",
       "  <tbody>\n",
       "    <tr>\n",
       "      <th>1</th>\n",
       "      <td>2</td>\n",
       "      <td>한국남</td>\n",
       "      <td>20</td>\n",
       "      <td>부장</td>\n",
       "      <td>3000</td>\n",
       "      <td>1988/11/01</td>\n",
       "      <td>남자</td>\n",
       "      <td>1</td>\n",
       "    </tr>\n",
       "    <tr>\n",
       "      <th>9</th>\n",
       "      <td>19</td>\n",
       "      <td>임꺽정</td>\n",
       "      <td>20</td>\n",
       "      <td>사원</td>\n",
       "      <td>2200</td>\n",
       "      <td>1988/04/01</td>\n",
       "      <td>남자</td>\n",
       "      <td>7</td>\n",
       "    </tr>\n",
       "    <tr>\n",
       "      <th>14</th>\n",
       "      <td>10</td>\n",
       "      <td>공부해</td>\n",
       "      <td>30</td>\n",
       "      <td>사원</td>\n",
       "      <td>1303</td>\n",
       "      <td>1988/11/01</td>\n",
       "      <td>남자</td>\n",
       "      <td>4</td>\n",
       "    </tr>\n",
       "  </tbody>\n",
       "</table>\n",
       "</div>"
      ],
      "text/plain": [
       "    sabun saname  deptno sajob  sapay       sahire sasex samgr\n",
       "1       2    한국남      20    부장   3000   1988/11/01    남자     1\n",
       "9      19    임꺽정      20    사원   2200   1988/04/01    남자     7\n",
       "14     10    공부해      30    사원   1303   1988/11/01    남자     4"
      ]
     },
     "execution_count": 5,
     "metadata": {},
     "output_type": "execute_result"
    }
   ],
   "source": [
    "# 문제 01\n",
    "q1_lst88 = []\n",
    "for idx in range(len(sawonDB)):        # strip을 통해 공백 제거\n",
    "    q1_lst88.append(sawonDB['sahire'].str.strip()[idx][0:4]=='1988')\n",
    "# sawonDB['sahire'][idx] 값을 슬라이싱을 통해 88년도 비교,\n",
    "# loc로 출력해줄 것이기에 q1_lst88 리스트 변수에 True,False 저장\n",
    "sawonDB.loc[q1_lst88] # loc에서 True인 값만 출력"
   ]
  },
  {
   "cell_type": "code",
   "execution_count": null,
   "metadata": {},
   "outputs": [],
   "source": []
  }
 ],
 "metadata": {
  "kernelspec": {
   "display_name": "Python 3",
   "language": "python",
   "name": "python3"
  },
  "language_info": {
   "codemirror_mode": {
    "name": "ipython",
    "version": 3
   },
   "file_extension": ".py",
   "mimetype": "text/x-python",
   "name": "python",
   "nbconvert_exporter": "python",
   "pygments_lexer": "ipython3",
   "version": "3.6.5"
  }
 },
 "nbformat": 4,
 "nbformat_minor": 2
}
