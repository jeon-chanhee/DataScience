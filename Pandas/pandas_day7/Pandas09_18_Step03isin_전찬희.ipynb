{
 "cells": [
  {
   "cell_type": "code",
   "execution_count": 12,
   "metadata": {},
   "outputs": [],
   "source": [
    "import pandas as pd\n",
    "\n",
    "sawonDB = pd.read_csv('./../data/sawonDB.csv',header=None)\n",
    "sawonDB.columns=['sabun','saname','deptno','sajob','sapay','sahire','sasex','samgr']\n",
    "sawonDB = sawonDB.replace('\\'','',regex=True)\n",
    "\n",
    "sawonDB['saname']=sawonDB['saname'].str.strip()\n",
    "sawonDB['sajob']=sawonDB['sajob'].str.strip()\n",
    "sawonDB['sahire']=sawonDB['sahire'].str.strip()\n",
    "sawonDB['sasex']=sawonDB['sasex'].str.strip()"
   ]
  },
  {
   "cell_type": "code",
   "execution_count": 15,
   "metadata": {},
   "outputs": [
    {
     "name": "stdout",
     "output_type": "stream",
     "text": [
      "sajob\n",
      "사원    1575.75\n",
      "Name: sapay, dtype: float64\n"
     ]
    }
   ],
   "source": [
    "#sajobChk = sawonDB[(sawonDB['sajob']=='대리')|(sawonDB['sajob']=='사원')]\n",
    "sajobChk = sawonDB[(sawonDB['sajob'].isin(['대리','사원']))]\n",
    "sajobCntChk = (sajobChk.groupby('sajob')['sabun'].count() >=4)\n",
    "\n",
    "sajobChkResult = sajobCntChk[sajobCntChk.values]\n",
    "\n",
    "for i,value in enumerate(sajobChkResult.index):\n",
    "    cal = sawonDB[sawonDB['sajob']==value]\n",
    "    print(cal.groupby('sajob')['sapay'].mean())"
   ]
  },
  {
   "cell_type": "code",
   "execution_count": null,
   "metadata": {},
   "outputs": [],
   "source": []
  }
 ],
 "metadata": {
  "kernelspec": {
   "display_name": "Python 3",
   "language": "python",
   "name": "python3"
  },
  "language_info": {
   "codemirror_mode": {
    "name": "ipython",
    "version": 3
   },
   "file_extension": ".py",
   "mimetype": "text/x-python",
   "name": "python",
   "nbconvert_exporter": "python",
   "pygments_lexer": "ipython3",
   "version": "3.6.5"
  }
 },
 "nbformat": 4,
 "nbformat_minor": 2
}
