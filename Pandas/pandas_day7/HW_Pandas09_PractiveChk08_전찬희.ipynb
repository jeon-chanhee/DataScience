{
 "cells": [
  {
   "cell_type": "code",
   "execution_count": 1,
   "metadata": {},
   "outputs": [],
   "source": [
    "import pandas as pd\n",
    "\n",
    "sawonDB = pd.read_csv('./../data/sawonDB.csv',header=None)\n",
    "sawonDB.columns=['sabun','saname','deptno','sajob','sapay','sahire','sasex','samgr']\n",
    "sawonDB = sawonDB.replace('\\'','',regex=True)\n",
    "\n",
    "gogekDB = pd.read_csv('./../data/gogekDB.csv',header=None)\n",
    "gogekDB.columns=['gobun','goname','gotel','gojumin','godam']\n",
    "gogekDB = gogekDB.replace('\\'','',regex=True)\n",
    "\n",
    "deptDB = pd.read_csv('./../data/deptDB.csv',header=None)\n",
    "deptDB.columns=['deptno','dname','loc']\n",
    "deptDB = deptDB.replace('\\'','',regex=True)\n"
   ]
  },
  {
   "cell_type": "code",
   "execution_count": 2,
   "metadata": {},
   "outputs": [],
   "source": [
    "sawonDB['saname']=sawonDB['saname'].str.strip(\"' \")\n",
    "sawonDB['sajob']=sawonDB['sajob'].str.strip(\"' \")\n",
    "sawonDB['sahire']=sawonDB['sahire'].str.strip(\"' \")\n",
    "sawonDB['sasex']=sawonDB['sasex'].str.strip(\" \")\n",
    "\n",
    "sawonDB['saname']=sawonDB['saname'].str.strip()\n",
    "sawonDB['sajob']=sawonDB['sajob'].str.strip()\n",
    "sawonDB['sahire']=sawonDB['sahire'].str.strip()\n",
    "sawonDB['sasex']=sawonDB['sasex'].str.strip()\n",
    "\n",
    "gogekDB['goname']=gogekDB['goname'].str.strip()\n",
    "gogekDB['gotel']=gogekDB['gotel'].str.strip()\n",
    "gogekDB['gojumin']=gogekDB['gojumin'].str.strip()\n",
    "\n",
    "deptDB['dname']=deptDB['dname'].str.strip()\n",
    "deptDB['loc']=deptDB['loc'].str.strip()"
   ]
  },
  {
   "cell_type": "code",
   "execution_count": 3,
   "metadata": {},
   "outputs": [
    {
     "name": "stdout",
     "output_type": "stream",
     "text": [
      "    sabun saname  deptno sajob  sapay      sahire sasex samgr\n",
      "1       2    한국남      20    부장   3000  1988/11/01    남자     1\n",
      "9      19    임꺽정      20    사원   2200  1988/04/01    남자     7\n",
      "14     10    공부해      30    사원   1303  1988/11/01    남자     4\n"
     ]
    }
   ],
   "source": [
    "# 문제1\n",
    "sawon_1988 = sawonDB[sawonDB['sahire'].str.contains('1988')]\n",
    "print(sawon_1988)"
   ]
  },
  {
   "cell_type": "code",
   "execution_count": 5,
   "metadata": {},
   "outputs": [
    {
     "name": "stdout",
     "output_type": "stream",
     "text": [
      "    sabun saname  deptno sajob  sapay      sahire sasex samgr\n",
      "9      19    임꺽정      20    사원   2200  1988/04/01    남자     7\n",
      "13      4    이미라      30    대리   2503  1983/04/01    여자    17\n",
      "17     15    최진실      10    사원   2000  1991/04/01    여자    12\n",
      "18     16    김유신      30    사원    400  1981/04/01    남자     4\n"
     ]
    }
   ],
   "source": [
    "# 문제 2\n",
    "sawon_4 = sawonDB[sawonDB['sahire'].str.contains('/04/')]\n",
    "print(sawon_4)"
   ]
  },
  {
   "cell_type": "code",
   "execution_count": 9,
   "metadata": {},
   "outputs": [
    {
     "name": "stdout",
     "output_type": "stream",
     "text": [
      "    sabun saname  deptno sajob  sapay      sahire sasex samgr\n",
      "1       2    한국남      20    부장   3000  1988/11/01    남자     1\n",
      "6      14    채시라      20    사원   3400  1993/10/01    여자     3\n",
      "10     20    깨똥이      10    과장   4500  1990/05/01    남자    13\n",
      "11      6    공부만      30    과장   4003  1995/05/01    남자    17\n",
      "12      8    채송화      30    대리   1703  1992/06/01    여자    17\n",
      "13      4    이미라      30    대리   2503  1983/04/01    여자    17\n",
      "14     10    공부해      30    사원   1303  1988/11/01    남자     4\n",
      "15     12    뷰명한      10    대리   1800  1990/10/01    남자    20\n",
      "18     16    김유신      30    사원    400  1981/04/01    남자     4\n",
      "19     18    강감찬      30    사원   1003  1986/07/01    남자     4\n"
     ]
    }
   ],
   "source": [
    "# 문제 3\n",
    "slist = []\n",
    "for i,sabun in enumerate(sawonDB['sabun']):\n",
    "    if sabun % 2 == 0:\n",
    "        slist.append(i)\n",
    "print(sawonDB.loc[slist])    "
   ]
  },
  {
   "cell_type": "code",
   "execution_count": null,
   "metadata": {},
   "outputs": [],
   "source": [
    "slist = []\n",
    "for i,sabun in enumerate(sawonDB['sabun']):\n",
    "    if sabun % 2 ==0:\n",
    "        slist.append(i)\n",
    "print(sawonDB.loc[slist])"
   ]
  }
 ],
 "metadata": {
  "kernelspec": {
   "display_name": "Python 3",
   "language": "python",
   "name": "python3"
  },
  "language_info": {
   "codemirror_mode": {
    "name": "ipython",
    "version": 3
   },
   "file_extension": ".py",
   "mimetype": "text/x-python",
   "name": "python",
   "nbconvert_exporter": "python",
   "pygments_lexer": "ipython3",
   "version": "3.6.5"
  }
 },
 "nbformat": 4,
 "nbformat_minor": 2
}
