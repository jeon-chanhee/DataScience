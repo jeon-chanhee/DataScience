{
 "cells": [
  {
   "cell_type": "markdown",
   "metadata": {},
   "source": [
    "### 기본 함수 선언 연습 01\n",
    "<h1> 기본 연습 </h1>\n",
    "<h2> 기본 연습 </h2>\n",
    "<h3> 기본 연습 </h3>\n",
    "<h4> 기본 연습 </h4>\n",
    "HTML : Hyper Text Markup Language\n",
    "                         <,>,/"
   ]
  },
  {
   "cell_type": "code",
   "execution_count": 13,
   "metadata": {},
   "outputs": [
    {
     "name": "stdout",
     "output_type": "stream",
     "text": [
      "3 + 4 = 7\n"
     ]
    }
   ],
   "source": [
    "\n",
    "def add(a,b):      # a,b는 매개변수\n",
    "    return a+b\n",
    "a = 3\n",
    "b = 4\n",
    "c = add(a,b)\n",
    "print('%d + %d = %d' % (a,b,c))"
   ]
  },
  {
   "cell_type": "code",
   "execution_count": 29,
   "metadata": {},
   "outputs": [
    {
     "name": "stdout",
     "output_type": "stream",
     "text": [
      "5+3=8\n"
     ]
    }
   ],
   "source": [
    "# 매개변수 지정하여 호출하기\n",
    "# 1. 일반적인 함수\n",
    "def add(a,b):\n",
    "    return a,b,a+b\n",
    "\n",
    "a,b,result = add(b=5,a=3)\n",
    "print('%d+%d=%d'%(b,a,result))"
   ]
  },
  {
   "cell_type": "code",
   "execution_count": 28,
   "metadata": {},
   "outputs": [
    {
     "name": "stdout",
     "output_type": "stream",
     "text": [
      "Hi\n"
     ]
    }
   ],
   "source": [
    "# 2. 입력값이 없는 함수\n",
    "def say():\n",
    "    return'Hi'\n",
    "print(say())"
   ]
  },
  {
   "cell_type": "code",
   "execution_count": 27,
   "metadata": {},
   "outputs": [
    {
     "name": "stdout",
     "output_type": "stream",
     "text": [
      "3,4의 합은 7입니다\n",
      "None\n"
     ]
    }
   ],
   "source": [
    "# 3. 결괏값이 없는 함수\n",
    "# 결괏값은 오직 return 명령어로만 돌려받을 수 있다.!!\n",
    "def add2(a,b):\n",
    "    print('%d,%d의 합은 %d입니다' %(a,b,a+b))\n",
    "print(add2(3,4))"
   ]
  },
  {
   "cell_type": "code",
   "execution_count": 26,
   "metadata": {},
   "outputs": [
    {
     "name": "stdout",
     "output_type": "stream",
     "text": [
      "Hi\n"
     ]
    }
   ],
   "source": [
    "# 4. 입력값도 결괏값도 없는 함수\n",
    "def say2():\n",
    "    print('Hi')\n",
    "say2()"
   ]
  }
 ],
 "metadata": {
  "kernelspec": {
   "display_name": "Python 3",
   "language": "python",
   "name": "python3"
  },
  "language_info": {
   "codemirror_mode": {
    "name": "ipython",
    "version": 3
   },
   "file_extension": ".py",
   "mimetype": "text/x-python",
   "name": "python",
   "nbconvert_exporter": "python",
   "pygments_lexer": "ipython3",
   "version": "3.6.5"
  }
 },
 "nbformat": 4,
 "nbformat_minor": 2
}
