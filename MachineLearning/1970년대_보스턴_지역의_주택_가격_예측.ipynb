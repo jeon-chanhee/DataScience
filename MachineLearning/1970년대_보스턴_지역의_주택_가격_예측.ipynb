{
  "nbformat": 4,
  "nbformat_minor": 0,
  "metadata": {
    "colab": {
      "name": "1970년대 보스턴 지역의 주택 가격 예측.ipynb",
      "provenance": []
    },
    "kernelspec": {
      "name": "python3",
      "display_name": "Python 3"
    },
    "language_info": {
      "name": "python"
    }
  },
  "cells": [
    {
      "cell_type": "markdown",
      "metadata": {
        "id": "aqqxxuIMh-gp"
      },
      "source": [
        "1970년대 보스턴 지역의 주택 가격 예측 => 회귀"
      ]
    },
    {
      "cell_type": "markdown",
      "metadata": {
        "id": "KvxEDVKSiqBk"
      },
      "source": [
        "데이터 준비하기"
      ]
    },
    {
      "cell_type": "code",
      "metadata": {
        "colab": {
          "base_uri": "https://localhost:8080/"
        },
        "id": "BKRuo8GKirqg",
        "outputId": "ac443efb-f6e8-4f04-ddf9-4e6dfa106fce"
      },
      "source": [
        "from tensorflow.keras.datasets.boston_housing import load_data\n",
        "\n",
        "# 텐서플로우 저장소에서 데이터를 다운받습니다.\n",
        "(x_train, y_train), (x_test, y_test) = load_data(path='boston_housing.npz',\n",
        "                                                 test_split=0.2,\n",
        "                                                 seed=777)"
      ],
      "execution_count": null,
      "outputs": [
        {
          "output_type": "stream",
          "text": [
            "Downloading data from https://storage.googleapis.com/tensorflow/tf-keras-datasets/boston_housing.npz\n",
            "57344/57026 [==============================] - 0s 0us/step\n"
          ],
          "name": "stdout"
        }
      ]
    },
    {
      "cell_type": "markdown",
      "metadata": {
        "id": "hFT3HS8QjVEy"
      },
      "source": [
        "데이터 형태 확인하기"
      ]
    },
    {
      "cell_type": "code",
      "metadata": {
        "colab": {
          "base_uri": "https://localhost:8080/"
        },
        "id": "-txFRO5djWR0",
        "outputId": "92887388-3233-4739-a8d3-e5e2446495e1"
      },
      "source": [
        "print(x_train.shape, y_train.shape)\n",
        "print(x_test.shape, y_test.shape)"
      ],
      "execution_count": null,
      "outputs": [
        {
          "output_type": "stream",
          "text": [
            "(404, 13) (404,)\n",
            "(102, 13) (102,)\n"
          ],
          "name": "stdout"
        }
      ]
    },
    {
      "cell_type": "markdown",
      "metadata": {
        "id": "Nz_GUcTuj9aG"
      },
      "source": [
        "데이터 전처리 및 검증 데이터셋 만들기"
      ]
    },
    {
      "cell_type": "code",
      "metadata": {
        "colab": {
          "base_uri": "https://localhost:8080/"
        },
        "id": "6thE1xqWkARO",
        "outputId": "9de91f77-683d-40e7-ed01-6f25593b1bbd"
      },
      "source": [
        "import numpy as np\n",
        "np.set_printoptions(suppress=True)\n",
        "\n",
        "print(x_train[0])"
      ],
      "execution_count": null,
      "outputs": [
        {
          "output_type": "stream",
          "text": [
            "[  0.25199   0.       10.59      0.        0.489     5.783    72.7\n",
            "   4.3549    4.      277.       18.6     389.43     18.06   ]\n"
          ],
          "name": "stdout"
        }
      ]
    },
    {
      "cell_type": "code",
      "metadata": {
        "colab": {
          "base_uri": "https://localhost:8080/"
        },
        "id": "IR2Cwpu7kGPy",
        "outputId": "c13134bc-ab1d-4f04-ba2f-64454297a25c"
      },
      "source": [
        "# 데이터 전처리 -> 표준화 (Standardization)\n",
        "\n",
        "mean = np.mean(x_train, axis=0)\n",
        "std = np.std(x_train, axis=0)\n",
        "\n",
        "# 데이터(훈련, 테스트 데이터 모두) - 평균 / 표준편차 (Standardization)\n",
        "x_train = (x_train - mean) / std\n",
        "x_test = (x_test - mean) / std\n",
        "\n",
        "print(x_train[0])"
      ],
      "execution_count": null,
      "outputs": [
        {
          "output_type": "stream",
          "text": [
            "[-0.40102395 -0.48033655 -0.12089418 -0.28828791 -0.58254176 -0.68137272\n",
            "  0.11117586  0.26484408 -0.65187119 -0.80249043  0.0756568   0.37366783\n",
            "  0.69211835]\n"
          ],
          "name": "stdout"
        }
      ]
    },
    {
      "cell_type": "code",
      "metadata": {
        "id": "cmzbhgbJk3aT"
      },
      "source": [
        "# 검증 데이터셋 만들기\n",
        "from sklearn.model_selection import train_test_split\n",
        "\n",
        "x_train, x_val, y_train, y_val = train_test_split(x_train,y_train,\n",
        "                                                  test_size=0.33,\n",
        "                                                  random_state=777)"
      ],
      "execution_count": null,
      "outputs": []
    },
    {
      "cell_type": "code",
      "metadata": {
        "colab": {
          "base_uri": "https://localhost:8080/"
        },
        "id": "S7xIwRFKlWmH",
        "outputId": "eac8b99f-f139-40a8-bca2-bb69cc4d70c9"
      },
      "source": [
        "print(x_train.shape, x_val.shape)"
      ],
      "execution_count": null,
      "outputs": [
        {
          "output_type": "stream",
          "text": [
            "(270, 13) (134, 13)\n"
          ],
          "name": "stdout"
        }
      ]
    },
    {
      "cell_type": "markdown",
      "metadata": {
        "id": "Nmiw1WRnl5dz"
      },
      "source": [
        "모델 구성하기"
      ]
    },
    {
      "cell_type": "code",
      "metadata": {
        "id": "dD9Bn2M9l68r"
      },
      "source": [
        "from keras.models import Sequential\n",
        "from keras.layers import Dense\n",
        "\n",
        "model = Sequential()\n",
        "model.add(Dense(64, activation='relu', input_shape=(13,)))\n",
        "model.add(Dense(32, activation='relu'))\n",
        "model.add(Dense(1)) #하나의 값을 출력 -> 주택가격"
      ],
      "execution_count": null,
      "outputs": []
    },
    {
      "cell_type": "markdown",
      "metadata": {
        "id": "gpdf0R7Pmu1F"
      },
      "source": [
        "모델 설정하기"
      ]
    },
    {
      "cell_type": "code",
      "metadata": {
        "id": "l2UKzSbMmwZi"
      },
      "source": [
        "model.compile(optimizer='adam',loss='mse', metrics=['mae','mse'])"
      ],
      "execution_count": null,
      "outputs": []
    },
    {
      "cell_type": "code",
      "metadata": {
        "colab": {
          "base_uri": "https://localhost:8080/"
        },
        "id": "m4bNWrM0nQIZ",
        "outputId": "0d57c54b-d073-478c-9f49-23dd441a861b"
      },
      "source": [
        "history = model.fit(x_train, y_train,\n",
        "                    epochs=300,\n",
        "                    validation_data=(x_val,y_val)) # batch_size 64번 공부해라\n",
        "                    # validation 쪽지시험 결과도 나옴"
      ],
      "execution_count": null,
      "outputs": [
        {
          "output_type": "stream",
          "text": [
            "Epoch 1/300\n",
            "9/9 [==============================] - 14s 59ms/step - loss: 564.2696 - mae: 22.0497 - mse: 564.2696 - val_loss: 595.2850 - val_mae: 22.1675 - val_mse: 595.2850\n",
            "Epoch 2/300\n",
            "9/9 [==============================] - 0s 4ms/step - loss: 547.5419 - mae: 21.5580 - mse: 547.5419 - val_loss: 566.0613 - val_mae: 21.4927 - val_mse: 566.0613\n",
            "Epoch 3/300\n",
            "9/9 [==============================] - 0s 4ms/step - loss: 487.7875 - mae: 20.4397 - mse: 487.7875 - val_loss: 534.8525 - val_mae: 20.7471 - val_mse: 534.8525\n",
            "Epoch 4/300\n",
            "9/9 [==============================] - 0s 6ms/step - loss: 435.4178 - mae: 19.0542 - mse: 435.4178 - val_loss: 498.9540 - val_mae: 19.8760 - val_mse: 498.9540\n",
            "Epoch 5/300\n",
            "9/9 [==============================] - 0s 3ms/step - loss: 413.6900 - mae: 18.3974 - mse: 413.6900 - val_loss: 457.2849 - val_mae: 18.8128 - val_mse: 457.2849\n",
            "Epoch 6/300\n",
            "9/9 [==============================] - 0s 4ms/step - loss: 417.3907 - mae: 18.1862 - mse: 417.3907 - val_loss: 408.0130 - val_mae: 17.5003 - val_mse: 408.0130\n",
            "Epoch 7/300\n",
            "9/9 [==============================] - 0s 4ms/step - loss: 351.8284 - mae: 16.6346 - mse: 351.8284 - val_loss: 351.7510 - val_mae: 15.9616 - val_mse: 351.7510\n",
            "Epoch 8/300\n",
            "9/9 [==============================] - 0s 6ms/step - loss: 291.7016 - mae: 14.9353 - mse: 291.7016 - val_loss: 290.9568 - val_mae: 14.1959 - val_mse: 290.9568\n",
            "Epoch 9/300\n",
            "9/9 [==============================] - 0s 4ms/step - loss: 239.1360 - mae: 13.3755 - mse: 239.1360 - val_loss: 230.7884 - val_mae: 12.3062 - val_mse: 230.7884\n",
            "Epoch 10/300\n",
            "9/9 [==============================] - 0s 6ms/step - loss: 162.2119 - mae: 10.7120 - mse: 162.2119 - val_loss: 176.9836 - val_mae: 10.5570 - val_mse: 176.9836\n",
            "Epoch 11/300\n",
            "9/9 [==============================] - 0s 4ms/step - loss: 143.8943 - mae: 9.8340 - mse: 143.8943 - val_loss: 135.2382 - val_mae: 8.9957 - val_mse: 135.2382\n",
            "Epoch 12/300\n",
            "9/9 [==============================] - 0s 4ms/step - loss: 94.2736 - mae: 7.9983 - mse: 94.2736 - val_loss: 107.6905 - val_mae: 7.9988 - val_mse: 107.6905\n",
            "Epoch 13/300\n",
            "9/9 [==============================] - 0s 4ms/step - loss: 74.5947 - mae: 6.9657 - mse: 74.5947 - val_loss: 89.7850 - val_mae: 7.3092 - val_mse: 89.7850\n",
            "Epoch 14/300\n",
            "9/9 [==============================] - 0s 4ms/step - loss: 56.8559 - mae: 6.1310 - mse: 56.8559 - val_loss: 76.7152 - val_mae: 6.7226 - val_mse: 76.7152\n",
            "Epoch 15/300\n",
            "9/9 [==============================] - 0s 5ms/step - loss: 50.4393 - mae: 5.4615 - mse: 50.4393 - val_loss: 65.5014 - val_mae: 6.1619 - val_mse: 65.5014\n",
            "Epoch 16/300\n",
            "9/9 [==============================] - 0s 4ms/step - loss: 41.5397 - mae: 5.0296 - mse: 41.5397 - val_loss: 56.0126 - val_mae: 5.6516 - val_mse: 56.0126\n",
            "Epoch 17/300\n",
            "9/9 [==============================] - 0s 4ms/step - loss: 34.9056 - mae: 4.6812 - mse: 34.9056 - val_loss: 48.9560 - val_mae: 5.2248 - val_mse: 48.9560\n",
            "Epoch 18/300\n",
            "9/9 [==============================] - 0s 3ms/step - loss: 34.2220 - mae: 4.3958 - mse: 34.2220 - val_loss: 43.5918 - val_mae: 4.8300 - val_mse: 43.5918\n",
            "Epoch 19/300\n",
            "9/9 [==============================] - 0s 4ms/step - loss: 23.6987 - mae: 3.8715 - mse: 23.6987 - val_loss: 39.0641 - val_mae: 4.5197 - val_mse: 39.0641\n",
            "Epoch 20/300\n",
            "9/9 [==============================] - 0s 4ms/step - loss: 28.4065 - mae: 3.8474 - mse: 28.4065 - val_loss: 35.6137 - val_mae: 4.2732 - val_mse: 35.6137\n",
            "Epoch 21/300\n",
            "9/9 [==============================] - 0s 4ms/step - loss: 25.3355 - mae: 3.6850 - mse: 25.3355 - val_loss: 33.0785 - val_mae: 4.0719 - val_mse: 33.0785\n",
            "Epoch 22/300\n",
            "9/9 [==============================] - 0s 5ms/step - loss: 22.5787 - mae: 3.4495 - mse: 22.5787 - val_loss: 31.3242 - val_mae: 3.9361 - val_mse: 31.3242\n",
            "Epoch 23/300\n",
            "9/9 [==============================] - 0s 4ms/step - loss: 24.1005 - mae: 3.5904 - mse: 24.1005 - val_loss: 29.7349 - val_mae: 3.8212 - val_mse: 29.7349\n",
            "Epoch 24/300\n",
            "9/9 [==============================] - 0s 4ms/step - loss: 24.7823 - mae: 3.3940 - mse: 24.7823 - val_loss: 28.3691 - val_mae: 3.7216 - val_mse: 28.3691\n",
            "Epoch 25/300\n",
            "9/9 [==============================] - 0s 4ms/step - loss: 17.5723 - mae: 3.0103 - mse: 17.5723 - val_loss: 27.7401 - val_mae: 3.6657 - val_mse: 27.7401\n",
            "Epoch 26/300\n",
            "9/9 [==============================] - 0s 4ms/step - loss: 19.9501 - mae: 3.1901 - mse: 19.9501 - val_loss: 26.7773 - val_mae: 3.6173 - val_mse: 26.7773\n",
            "Epoch 27/300\n",
            "9/9 [==============================] - 0s 4ms/step - loss: 16.2734 - mae: 2.9676 - mse: 16.2734 - val_loss: 26.5899 - val_mae: 3.5597 - val_mse: 26.5899\n",
            "Epoch 28/300\n",
            "9/9 [==============================] - 0s 4ms/step - loss: 19.0862 - mae: 3.1703 - mse: 19.0862 - val_loss: 25.7296 - val_mae: 3.5221 - val_mse: 25.7296\n",
            "Epoch 29/300\n",
            "9/9 [==============================] - 0s 4ms/step - loss: 20.7147 - mae: 3.1956 - mse: 20.7147 - val_loss: 25.2739 - val_mae: 3.5191 - val_mse: 25.2739\n",
            "Epoch 30/300\n",
            "9/9 [==============================] - 0s 4ms/step - loss: 15.9944 - mae: 2.8196 - mse: 15.9944 - val_loss: 24.8553 - val_mae: 3.4655 - val_mse: 24.8553\n",
            "Epoch 31/300\n",
            "9/9 [==============================] - 0s 4ms/step - loss: 22.3697 - mae: 3.1315 - mse: 22.3697 - val_loss: 24.1989 - val_mae: 3.4208 - val_mse: 24.1989\n",
            "Epoch 32/300\n",
            "9/9 [==============================] - 0s 4ms/step - loss: 17.4428 - mae: 2.9446 - mse: 17.4428 - val_loss: 23.7321 - val_mae: 3.3746 - val_mse: 23.7321\n",
            "Epoch 33/300\n",
            "9/9 [==============================] - 0s 6ms/step - loss: 17.9011 - mae: 2.9458 - mse: 17.9011 - val_loss: 23.4690 - val_mae: 3.3536 - val_mse: 23.4690\n",
            "Epoch 34/300\n",
            "9/9 [==============================] - 0s 4ms/step - loss: 19.7791 - mae: 3.0395 - mse: 19.7791 - val_loss: 23.4309 - val_mae: 3.3500 - val_mse: 23.4309\n",
            "Epoch 35/300\n",
            "9/9 [==============================] - 0s 6ms/step - loss: 12.6230 - mae: 2.5504 - mse: 12.6230 - val_loss: 23.1235 - val_mae: 3.3118 - val_mse: 23.1235\n",
            "Epoch 36/300\n",
            "9/9 [==============================] - 0s 4ms/step - loss: 16.8365 - mae: 2.8619 - mse: 16.8365 - val_loss: 22.6942 - val_mae: 3.2826 - val_mse: 22.6942\n",
            "Epoch 37/300\n",
            "9/9 [==============================] - 0s 5ms/step - loss: 16.2119 - mae: 2.7851 - mse: 16.2119 - val_loss: 22.6115 - val_mae: 3.2609 - val_mse: 22.6115\n",
            "Epoch 38/300\n",
            "9/9 [==============================] - 0s 4ms/step - loss: 15.7855 - mae: 2.8180 - mse: 15.7855 - val_loss: 22.5818 - val_mae: 3.2456 - val_mse: 22.5818\n",
            "Epoch 39/300\n",
            "9/9 [==============================] - 0s 4ms/step - loss: 20.0876 - mae: 2.9284 - mse: 20.0876 - val_loss: 21.9819 - val_mae: 3.1998 - val_mse: 21.9819\n",
            "Epoch 40/300\n",
            "9/9 [==============================] - 0s 4ms/step - loss: 17.8497 - mae: 2.8821 - mse: 17.8497 - val_loss: 21.7129 - val_mae: 3.1759 - val_mse: 21.7129\n",
            "Epoch 41/300\n",
            "9/9 [==============================] - 0s 4ms/step - loss: 15.2409 - mae: 2.7315 - mse: 15.2409 - val_loss: 21.3497 - val_mae: 3.1301 - val_mse: 21.3497\n",
            "Epoch 42/300\n",
            "9/9 [==============================] - 0s 4ms/step - loss: 18.0713 - mae: 2.7538 - mse: 18.0713 - val_loss: 21.5065 - val_mae: 3.1630 - val_mse: 21.5065\n",
            "Epoch 43/300\n",
            "9/9 [==============================] - 0s 4ms/step - loss: 13.9576 - mae: 2.6756 - mse: 13.9576 - val_loss: 21.2485 - val_mae: 3.1347 - val_mse: 21.2485\n",
            "Epoch 44/300\n",
            "9/9 [==============================] - 0s 6ms/step - loss: 12.8842 - mae: 2.4963 - mse: 12.8842 - val_loss: 21.0423 - val_mae: 3.1324 - val_mse: 21.0423\n",
            "Epoch 45/300\n",
            "9/9 [==============================] - 0s 4ms/step - loss: 15.0077 - mae: 2.6615 - mse: 15.0077 - val_loss: 20.8506 - val_mae: 3.1353 - val_mse: 20.8506\n",
            "Epoch 46/300\n",
            "9/9 [==============================] - 0s 7ms/step - loss: 15.8858 - mae: 2.8084 - mse: 15.8858 - val_loss: 20.7195 - val_mae: 3.0966 - val_mse: 20.7195\n",
            "Epoch 47/300\n",
            "9/9 [==============================] - 0s 4ms/step - loss: 12.8566 - mae: 2.5228 - mse: 12.8566 - val_loss: 20.7111 - val_mae: 3.0775 - val_mse: 20.7111\n",
            "Epoch 48/300\n",
            "9/9 [==============================] - 0s 5ms/step - loss: 13.7179 - mae: 2.6284 - mse: 13.7179 - val_loss: 20.4573 - val_mae: 3.0262 - val_mse: 20.4573\n",
            "Epoch 49/300\n",
            "9/9 [==============================] - 0s 3ms/step - loss: 13.8201 - mae: 2.5977 - mse: 13.8201 - val_loss: 19.9448 - val_mae: 3.0049 - val_mse: 19.9448\n",
            "Epoch 50/300\n",
            "9/9 [==============================] - 0s 4ms/step - loss: 10.8127 - mae: 2.3689 - mse: 10.8127 - val_loss: 19.8384 - val_mae: 3.0227 - val_mse: 19.8384\n",
            "Epoch 51/300\n",
            "9/9 [==============================] - 0s 3ms/step - loss: 14.1508 - mae: 2.6441 - mse: 14.1508 - val_loss: 19.7690 - val_mae: 3.0193 - val_mse: 19.7690\n",
            "Epoch 52/300\n",
            "9/9 [==============================] - 0s 4ms/step - loss: 16.0174 - mae: 2.6801 - mse: 16.0174 - val_loss: 19.5718 - val_mae: 2.9822 - val_mse: 19.5718\n",
            "Epoch 53/300\n",
            "9/9 [==============================] - 0s 6ms/step - loss: 10.6444 - mae: 2.3512 - mse: 10.6444 - val_loss: 19.5673 - val_mae: 2.9470 - val_mse: 19.5673\n",
            "Epoch 54/300\n",
            "9/9 [==============================] - 0s 6ms/step - loss: 13.7125 - mae: 2.5297 - mse: 13.7125 - val_loss: 18.8647 - val_mae: 2.9360 - val_mse: 18.8647\n",
            "Epoch 55/300\n",
            "9/9 [==============================] - 0s 4ms/step - loss: 14.0995 - mae: 2.5920 - mse: 14.0995 - val_loss: 18.9654 - val_mae: 2.9526 - val_mse: 18.9654\n",
            "Epoch 56/300\n",
            "9/9 [==============================] - 0s 4ms/step - loss: 13.6900 - mae: 2.6102 - mse: 13.6900 - val_loss: 18.8357 - val_mae: 2.9196 - val_mse: 18.8357\n",
            "Epoch 57/300\n",
            "9/9 [==============================] - 0s 4ms/step - loss: 16.1103 - mae: 2.5718 - mse: 16.1103 - val_loss: 18.6389 - val_mae: 2.9075 - val_mse: 18.6389\n",
            "Epoch 58/300\n",
            "9/9 [==============================] - 0s 4ms/step - loss: 14.5326 - mae: 2.7034 - mse: 14.5326 - val_loss: 18.4721 - val_mae: 2.8859 - val_mse: 18.4721\n",
            "Epoch 59/300\n",
            "9/9 [==============================] - 0s 4ms/step - loss: 13.3093 - mae: 2.4087 - mse: 13.3093 - val_loss: 18.4996 - val_mae: 2.8733 - val_mse: 18.4996\n",
            "Epoch 60/300\n",
            "9/9 [==============================] - 0s 5ms/step - loss: 13.2005 - mae: 2.4351 - mse: 13.2005 - val_loss: 18.2878 - val_mae: 2.8677 - val_mse: 18.2878\n",
            "Epoch 61/300\n",
            "9/9 [==============================] - 0s 4ms/step - loss: 11.1125 - mae: 2.4457 - mse: 11.1125 - val_loss: 18.1790 - val_mae: 2.8666 - val_mse: 18.1790\n",
            "Epoch 62/300\n",
            "9/9 [==============================] - 0s 4ms/step - loss: 11.9304 - mae: 2.4337 - mse: 11.9304 - val_loss: 18.1222 - val_mae: 2.8736 - val_mse: 18.1222\n",
            "Epoch 63/300\n",
            "9/9 [==============================] - 0s 4ms/step - loss: 11.5278 - mae: 2.3937 - mse: 11.5278 - val_loss: 18.0046 - val_mae: 2.8503 - val_mse: 18.0046\n",
            "Epoch 64/300\n",
            "9/9 [==============================] - 0s 5ms/step - loss: 12.4909 - mae: 2.4018 - mse: 12.4909 - val_loss: 18.0267 - val_mae: 2.8498 - val_mse: 18.0267\n",
            "Epoch 65/300\n",
            "9/9 [==============================] - 0s 4ms/step - loss: 10.0649 - mae: 2.3785 - mse: 10.0649 - val_loss: 17.9364 - val_mae: 2.8294 - val_mse: 17.9364\n",
            "Epoch 66/300\n",
            "9/9 [==============================] - 0s 6ms/step - loss: 9.9495 - mae: 2.2348 - mse: 9.9495 - val_loss: 17.9957 - val_mae: 2.8219 - val_mse: 17.9957\n",
            "Epoch 67/300\n",
            "9/9 [==============================] - 0s 6ms/step - loss: 11.5153 - mae: 2.3621 - mse: 11.5153 - val_loss: 17.7241 - val_mae: 2.8138 - val_mse: 17.7241\n",
            "Epoch 68/300\n",
            "9/9 [==============================] - 0s 4ms/step - loss: 9.5634 - mae: 2.2617 - mse: 9.5634 - val_loss: 17.4421 - val_mae: 2.8153 - val_mse: 17.4421\n",
            "Epoch 69/300\n",
            "9/9 [==============================] - 0s 4ms/step - loss: 10.1675 - mae: 2.2225 - mse: 10.1675 - val_loss: 17.0941 - val_mae: 2.7914 - val_mse: 17.0941\n",
            "Epoch 70/300\n",
            "9/9 [==============================] - 0s 4ms/step - loss: 11.8309 - mae: 2.3195 - mse: 11.8309 - val_loss: 16.9264 - val_mae: 2.7674 - val_mse: 16.9264\n",
            "Epoch 71/300\n",
            "9/9 [==============================] - 0s 5ms/step - loss: 14.8357 - mae: 2.4398 - mse: 14.8357 - val_loss: 17.4395 - val_mae: 2.7953 - val_mse: 17.4395\n",
            "Epoch 72/300\n",
            "9/9 [==============================] - 0s 4ms/step - loss: 11.9534 - mae: 2.2578 - mse: 11.9534 - val_loss: 17.5469 - val_mae: 2.7945 - val_mse: 17.5469\n",
            "Epoch 73/300\n",
            "9/9 [==============================] - 0s 5ms/step - loss: 11.4146 - mae: 2.3282 - mse: 11.4146 - val_loss: 16.9348 - val_mae: 2.7545 - val_mse: 16.9348\n",
            "Epoch 74/300\n",
            "9/9 [==============================] - 0s 4ms/step - loss: 12.0028 - mae: 2.4029 - mse: 12.0028 - val_loss: 16.8661 - val_mae: 2.7479 - val_mse: 16.8661\n",
            "Epoch 75/300\n",
            "9/9 [==============================] - 0s 4ms/step - loss: 10.2339 - mae: 2.2364 - mse: 10.2339 - val_loss: 16.7776 - val_mae: 2.7231 - val_mse: 16.7776\n",
            "Epoch 76/300\n",
            "9/9 [==============================] - 0s 4ms/step - loss: 11.8555 - mae: 2.4515 - mse: 11.8555 - val_loss: 16.8941 - val_mae: 2.7504 - val_mse: 16.8941\n",
            "Epoch 77/300\n",
            "9/9 [==============================] - 0s 6ms/step - loss: 10.3031 - mae: 2.2651 - mse: 10.3031 - val_loss: 17.0074 - val_mae: 2.7267 - val_mse: 17.0074\n",
            "Epoch 78/300\n",
            "9/9 [==============================] - 0s 5ms/step - loss: 18.2032 - mae: 2.6928 - mse: 18.2032 - val_loss: 16.8157 - val_mae: 2.7173 - val_mse: 16.8157\n",
            "Epoch 79/300\n",
            "9/9 [==============================] - 0s 5ms/step - loss: 12.6517 - mae: 2.4169 - mse: 12.6517 - val_loss: 16.6922 - val_mae: 2.7021 - val_mse: 16.6922\n",
            "Epoch 80/300\n",
            "9/9 [==============================] - 0s 6ms/step - loss: 9.7101 - mae: 2.1946 - mse: 9.7101 - val_loss: 16.6429 - val_mae: 2.7119 - val_mse: 16.6429\n",
            "Epoch 81/300\n",
            "9/9 [==============================] - 0s 4ms/step - loss: 11.3898 - mae: 2.3503 - mse: 11.3898 - val_loss: 16.4795 - val_mae: 2.6939 - val_mse: 16.4795\n",
            "Epoch 82/300\n",
            "9/9 [==============================] - 0s 6ms/step - loss: 10.0766 - mae: 2.2323 - mse: 10.0766 - val_loss: 16.2796 - val_mae: 2.7276 - val_mse: 16.2796\n",
            "Epoch 83/300\n",
            "9/9 [==============================] - 0s 4ms/step - loss: 14.1148 - mae: 2.4875 - mse: 14.1148 - val_loss: 16.2465 - val_mae: 2.7192 - val_mse: 16.2465\n",
            "Epoch 84/300\n",
            "9/9 [==============================] - 0s 4ms/step - loss: 10.5176 - mae: 2.3037 - mse: 10.5176 - val_loss: 16.3863 - val_mae: 2.6968 - val_mse: 16.3863\n",
            "Epoch 85/300\n",
            "9/9 [==============================] - 0s 5ms/step - loss: 12.1498 - mae: 2.3721 - mse: 12.1498 - val_loss: 16.2738 - val_mae: 2.6784 - val_mse: 16.2738\n",
            "Epoch 86/300\n",
            "9/9 [==============================] - 0s 4ms/step - loss: 10.3053 - mae: 2.1441 - mse: 10.3053 - val_loss: 16.1201 - val_mae: 2.6874 - val_mse: 16.1201\n",
            "Epoch 87/300\n",
            "9/9 [==============================] - 0s 4ms/step - loss: 9.7504 - mae: 2.1974 - mse: 9.7504 - val_loss: 15.9838 - val_mae: 2.6715 - val_mse: 15.9838\n",
            "Epoch 88/300\n",
            "9/9 [==============================] - 0s 5ms/step - loss: 10.8204 - mae: 2.2476 - mse: 10.8204 - val_loss: 16.1398 - val_mae: 2.6904 - val_mse: 16.1398\n",
            "Epoch 89/300\n",
            "9/9 [==============================] - 0s 4ms/step - loss: 14.2791 - mae: 2.4521 - mse: 14.2791 - val_loss: 16.0994 - val_mae: 2.6881 - val_mse: 16.0994\n",
            "Epoch 90/300\n",
            "9/9 [==============================] - 0s 4ms/step - loss: 10.6609 - mae: 2.3013 - mse: 10.6609 - val_loss: 16.0771 - val_mae: 2.6650 - val_mse: 16.0771\n",
            "Epoch 91/300\n",
            "9/9 [==============================] - 0s 5ms/step - loss: 10.8194 - mae: 2.2623 - mse: 10.8194 - val_loss: 15.7754 - val_mae: 2.6437 - val_mse: 15.7754\n",
            "Epoch 92/300\n",
            "9/9 [==============================] - 0s 4ms/step - loss: 9.6414 - mae: 2.1113 - mse: 9.6414 - val_loss: 15.6227 - val_mae: 2.6420 - val_mse: 15.6227\n",
            "Epoch 93/300\n",
            "9/9 [==============================] - 0s 4ms/step - loss: 10.3374 - mae: 2.2712 - mse: 10.3374 - val_loss: 15.4484 - val_mae: 2.6402 - val_mse: 15.4484\n",
            "Epoch 94/300\n",
            "9/9 [==============================] - 0s 4ms/step - loss: 11.0359 - mae: 2.2340 - mse: 11.0359 - val_loss: 15.5877 - val_mae: 2.6418 - val_mse: 15.5877\n",
            "Epoch 95/300\n",
            "9/9 [==============================] - 0s 5ms/step - loss: 8.6325 - mae: 2.0879 - mse: 8.6325 - val_loss: 15.4749 - val_mae: 2.6362 - val_mse: 15.4749\n",
            "Epoch 96/300\n",
            "9/9 [==============================] - 0s 4ms/step - loss: 8.9570 - mae: 2.1178 - mse: 8.9570 - val_loss: 15.4931 - val_mae: 2.6336 - val_mse: 15.4931\n",
            "Epoch 97/300\n",
            "9/9 [==============================] - 0s 6ms/step - loss: 10.7099 - mae: 2.2221 - mse: 10.7099 - val_loss: 15.3762 - val_mae: 2.6349 - val_mse: 15.3762\n",
            "Epoch 98/300\n",
            "9/9 [==============================] - 0s 6ms/step - loss: 8.8039 - mae: 2.1205 - mse: 8.8039 - val_loss: 15.4269 - val_mae: 2.6371 - val_mse: 15.4269\n",
            "Epoch 99/300\n",
            "9/9 [==============================] - 0s 4ms/step - loss: 11.3496 - mae: 2.2705 - mse: 11.3496 - val_loss: 15.7427 - val_mae: 2.6481 - val_mse: 15.7427\n",
            "Epoch 100/300\n",
            "9/9 [==============================] - 0s 3ms/step - loss: 9.2059 - mae: 2.1287 - mse: 9.2059 - val_loss: 15.7982 - val_mae: 2.6432 - val_mse: 15.7982\n",
            "Epoch 101/300\n",
            "9/9 [==============================] - 0s 4ms/step - loss: 13.1489 - mae: 2.3362 - mse: 13.1489 - val_loss: 15.4838 - val_mae: 2.6697 - val_mse: 15.4838\n",
            "Epoch 102/300\n",
            "9/9 [==============================] - 0s 4ms/step - loss: 10.8171 - mae: 2.2647 - mse: 10.8171 - val_loss: 15.0691 - val_mae: 2.6388 - val_mse: 15.0691\n",
            "Epoch 103/300\n",
            "9/9 [==============================] - 0s 4ms/step - loss: 12.1807 - mae: 2.3994 - mse: 12.1807 - val_loss: 15.5550 - val_mae: 2.6339 - val_mse: 15.5550\n",
            "Epoch 104/300\n",
            "9/9 [==============================] - 0s 4ms/step - loss: 11.7988 - mae: 2.3532 - mse: 11.7988 - val_loss: 15.4506 - val_mae: 2.6049 - val_mse: 15.4506\n",
            "Epoch 105/300\n",
            "9/9 [==============================] - 0s 6ms/step - loss: 10.3459 - mae: 2.1909 - mse: 10.3459 - val_loss: 15.2229 - val_mae: 2.6076 - val_mse: 15.2229\n",
            "Epoch 106/300\n",
            "9/9 [==============================] - 0s 3ms/step - loss: 9.7382 - mae: 2.1136 - mse: 9.7382 - val_loss: 15.0076 - val_mae: 2.6137 - val_mse: 15.0076\n",
            "Epoch 107/300\n",
            "9/9 [==============================] - 0s 4ms/step - loss: 12.4909 - mae: 2.2846 - mse: 12.4909 - val_loss: 15.1063 - val_mae: 2.5916 - val_mse: 15.1063\n",
            "Epoch 108/300\n",
            "9/9 [==============================] - 0s 4ms/step - loss: 10.8174 - mae: 2.2892 - mse: 10.8174 - val_loss: 15.2636 - val_mae: 2.6091 - val_mse: 15.2636\n",
            "Epoch 109/300\n",
            "9/9 [==============================] - 0s 4ms/step - loss: 8.7827 - mae: 2.1884 - mse: 8.7827 - val_loss: 15.1417 - val_mae: 2.5973 - val_mse: 15.1417\n",
            "Epoch 110/300\n",
            "9/9 [==============================] - 0s 4ms/step - loss: 9.4276 - mae: 2.0669 - mse: 9.4276 - val_loss: 15.0856 - val_mae: 2.6156 - val_mse: 15.0856\n",
            "Epoch 111/300\n",
            "9/9 [==============================] - 0s 4ms/step - loss: 10.2505 - mae: 2.1431 - mse: 10.2505 - val_loss: 15.1572 - val_mae: 2.6225 - val_mse: 15.1572\n",
            "Epoch 112/300\n",
            "9/9 [==============================] - 0s 7ms/step - loss: 12.7188 - mae: 2.3484 - mse: 12.7188 - val_loss: 14.9125 - val_mae: 2.6034 - val_mse: 14.9125\n",
            "Epoch 113/300\n",
            "9/9 [==============================] - 0s 4ms/step - loss: 9.1505 - mae: 2.0886 - mse: 9.1505 - val_loss: 15.0877 - val_mae: 2.5935 - val_mse: 15.0877\n",
            "Epoch 114/300\n",
            "9/9 [==============================] - 0s 4ms/step - loss: 11.1500 - mae: 2.1955 - mse: 11.1500 - val_loss: 14.9542 - val_mae: 2.5964 - val_mse: 14.9542\n",
            "Epoch 115/300\n",
            "9/9 [==============================] - 0s 4ms/step - loss: 8.5529 - mae: 2.0094 - mse: 8.5529 - val_loss: 14.9269 - val_mae: 2.6163 - val_mse: 14.9269\n",
            "Epoch 116/300\n",
            "9/9 [==============================] - 0s 4ms/step - loss: 11.1418 - mae: 2.2262 - mse: 11.1418 - val_loss: 14.5850 - val_mae: 2.5827 - val_mse: 14.5850\n",
            "Epoch 117/300\n",
            "9/9 [==============================] - 0s 6ms/step - loss: 9.2130 - mae: 2.0113 - mse: 9.2130 - val_loss: 15.1484 - val_mae: 2.5927 - val_mse: 15.1484\n",
            "Epoch 118/300\n",
            "9/9 [==============================] - 0s 7ms/step - loss: 10.6670 - mae: 2.1822 - mse: 10.6670 - val_loss: 14.8752 - val_mae: 2.6232 - val_mse: 14.8752\n",
            "Epoch 119/300\n",
            "9/9 [==============================] - 0s 4ms/step - loss: 7.8007 - mae: 2.0498 - mse: 7.8007 - val_loss: 14.6700 - val_mae: 2.6030 - val_mse: 14.6700\n",
            "Epoch 120/300\n",
            "9/9 [==============================] - 0s 4ms/step - loss: 10.8460 - mae: 2.1407 - mse: 10.8460 - val_loss: 14.4543 - val_mae: 2.5835 - val_mse: 14.4543\n",
            "Epoch 121/300\n",
            "9/9 [==============================] - 0s 5ms/step - loss: 10.3993 - mae: 2.2006 - mse: 10.3993 - val_loss: 14.1618 - val_mae: 2.5711 - val_mse: 14.1618\n",
            "Epoch 122/300\n",
            "9/9 [==============================] - 0s 5ms/step - loss: 9.9893 - mae: 2.2262 - mse: 9.9893 - val_loss: 14.5299 - val_mae: 2.5684 - val_mse: 14.5299\n",
            "Epoch 123/300\n",
            "9/9 [==============================] - 0s 5ms/step - loss: 7.7479 - mae: 1.9922 - mse: 7.7479 - val_loss: 14.4227 - val_mae: 2.5794 - val_mse: 14.4227\n",
            "Epoch 124/300\n",
            "9/9 [==============================] - 0s 4ms/step - loss: 10.2112 - mae: 2.1811 - mse: 10.2112 - val_loss: 13.9542 - val_mae: 2.5919 - val_mse: 13.9542\n",
            "Epoch 125/300\n",
            "9/9 [==============================] - 0s 4ms/step - loss: 8.3012 - mae: 2.0894 - mse: 8.3012 - val_loss: 14.6129 - val_mae: 2.5736 - val_mse: 14.6129\n",
            "Epoch 126/300\n",
            "9/9 [==============================] - 0s 4ms/step - loss: 7.5480 - mae: 1.9750 - mse: 7.5480 - val_loss: 14.4117 - val_mae: 2.6068 - val_mse: 14.4117\n",
            "Epoch 127/300\n",
            "9/9 [==============================] - 0s 4ms/step - loss: 10.9515 - mae: 2.1313 - mse: 10.9515 - val_loss: 14.0533 - val_mae: 2.5960 - val_mse: 14.0533\n",
            "Epoch 128/300\n",
            "9/9 [==============================] - 0s 5ms/step - loss: 8.4594 - mae: 2.0577 - mse: 8.4594 - val_loss: 14.1612 - val_mae: 2.5588 - val_mse: 14.1612\n",
            "Epoch 129/300\n",
            "9/9 [==============================] - 0s 4ms/step - loss: 9.0407 - mae: 2.1655 - mse: 9.0407 - val_loss: 14.0873 - val_mae: 2.5588 - val_mse: 14.0873\n",
            "Epoch 130/300\n",
            "9/9 [==============================] - 0s 4ms/step - loss: 9.6908 - mae: 2.0894 - mse: 9.6908 - val_loss: 14.1537 - val_mae: 2.5731 - val_mse: 14.1537\n",
            "Epoch 131/300\n",
            "9/9 [==============================] - 0s 7ms/step - loss: 10.1079 - mae: 2.1519 - mse: 10.1079 - val_loss: 14.0472 - val_mae: 2.5699 - val_mse: 14.0472\n",
            "Epoch 132/300\n",
            "9/9 [==============================] - 0s 4ms/step - loss: 8.4507 - mae: 2.0061 - mse: 8.4507 - val_loss: 13.7861 - val_mae: 2.5529 - val_mse: 13.7861\n",
            "Epoch 133/300\n",
            "9/9 [==============================] - 0s 5ms/step - loss: 8.5098 - mae: 2.0765 - mse: 8.5098 - val_loss: 13.9050 - val_mae: 2.5713 - val_mse: 13.9050\n",
            "Epoch 134/300\n",
            "9/9 [==============================] - 0s 4ms/step - loss: 7.9043 - mae: 2.0268 - mse: 7.9043 - val_loss: 13.8631 - val_mae: 2.5524 - val_mse: 13.8631\n",
            "Epoch 135/300\n",
            "9/9 [==============================] - 0s 7ms/step - loss: 10.8782 - mae: 2.1730 - mse: 10.8782 - val_loss: 13.8791 - val_mae: 2.5564 - val_mse: 13.8791\n",
            "Epoch 136/300\n",
            "9/9 [==============================] - 0s 4ms/step - loss: 8.9918 - mae: 2.0164 - mse: 8.9918 - val_loss: 14.7146 - val_mae: 2.5626 - val_mse: 14.7146\n",
            "Epoch 137/300\n",
            "9/9 [==============================] - 0s 7ms/step - loss: 7.8762 - mae: 1.9386 - mse: 7.8762 - val_loss: 14.2001 - val_mae: 2.5536 - val_mse: 14.2001\n",
            "Epoch 138/300\n",
            "9/9 [==============================] - 0s 5ms/step - loss: 9.5948 - mae: 2.1642 - mse: 9.5948 - val_loss: 13.9337 - val_mae: 2.5762 - val_mse: 13.9337\n",
            "Epoch 139/300\n",
            "9/9 [==============================] - 0s 6ms/step - loss: 8.5450 - mae: 2.0764 - mse: 8.5450 - val_loss: 13.7709 - val_mae: 2.5803 - val_mse: 13.7709\n",
            "Epoch 140/300\n",
            "9/9 [==============================] - 0s 6ms/step - loss: 10.5369 - mae: 2.1394 - mse: 10.5369 - val_loss: 13.9856 - val_mae: 2.5597 - val_mse: 13.9856\n",
            "Epoch 141/300\n",
            "9/9 [==============================] - 0s 4ms/step - loss: 8.8679 - mae: 2.0501 - mse: 8.8679 - val_loss: 14.1476 - val_mae: 2.5594 - val_mse: 14.1476\n",
            "Epoch 142/300\n",
            "9/9 [==============================] - 0s 4ms/step - loss: 8.1920 - mae: 1.9168 - mse: 8.1920 - val_loss: 13.9497 - val_mae: 2.5856 - val_mse: 13.9497\n",
            "Epoch 143/300\n",
            "9/9 [==============================] - 0s 4ms/step - loss: 9.7192 - mae: 2.1637 - mse: 9.7192 - val_loss: 13.8124 - val_mae: 2.5661 - val_mse: 13.8124\n",
            "Epoch 144/300\n",
            "9/9 [==============================] - 0s 5ms/step - loss: 7.1238 - mae: 1.8841 - mse: 7.1238 - val_loss: 13.6054 - val_mae: 2.5304 - val_mse: 13.6054\n",
            "Epoch 145/300\n",
            "9/9 [==============================] - 0s 5ms/step - loss: 7.6238 - mae: 2.0139 - mse: 7.6238 - val_loss: 13.6222 - val_mae: 2.5713 - val_mse: 13.6222\n",
            "Epoch 146/300\n",
            "9/9 [==============================] - 0s 5ms/step - loss: 7.2613 - mae: 1.9299 - mse: 7.2613 - val_loss: 13.7233 - val_mae: 2.5597 - val_mse: 13.7233\n",
            "Epoch 147/300\n",
            "9/9 [==============================] - 0s 5ms/step - loss: 8.8293 - mae: 2.1284 - mse: 8.8293 - val_loss: 13.6024 - val_mae: 2.5451 - val_mse: 13.6024\n",
            "Epoch 148/300\n",
            "9/9 [==============================] - 0s 4ms/step - loss: 8.3327 - mae: 2.0758 - mse: 8.3327 - val_loss: 13.6246 - val_mae: 2.5416 - val_mse: 13.6246\n",
            "Epoch 149/300\n",
            "9/9 [==============================] - 0s 5ms/step - loss: 7.5907 - mae: 2.0408 - mse: 7.5907 - val_loss: 13.6958 - val_mae: 2.5416 - val_mse: 13.6958\n",
            "Epoch 150/300\n",
            "9/9 [==============================] - 0s 4ms/step - loss: 7.0401 - mae: 1.9126 - mse: 7.0401 - val_loss: 13.7830 - val_mae: 2.5806 - val_mse: 13.7830\n",
            "Epoch 151/300\n",
            "9/9 [==============================] - 0s 4ms/step - loss: 6.6190 - mae: 1.8730 - mse: 6.6190 - val_loss: 13.6220 - val_mae: 2.5473 - val_mse: 13.6220\n",
            "Epoch 152/300\n",
            "9/9 [==============================] - 0s 6ms/step - loss: 8.3485 - mae: 2.0240 - mse: 8.3485 - val_loss: 13.1531 - val_mae: 2.5501 - val_mse: 13.1531\n",
            "Epoch 153/300\n",
            "9/9 [==============================] - 0s 4ms/step - loss: 8.1858 - mae: 2.0818 - mse: 8.1858 - val_loss: 13.7683 - val_mae: 2.5521 - val_mse: 13.7683\n",
            "Epoch 154/300\n",
            "9/9 [==============================] - 0s 4ms/step - loss: 9.4449 - mae: 2.0578 - mse: 9.4449 - val_loss: 13.5156 - val_mae: 2.5520 - val_mse: 13.5156\n",
            "Epoch 155/300\n",
            "9/9 [==============================] - 0s 6ms/step - loss: 6.9642 - mae: 1.9452 - mse: 6.9642 - val_loss: 13.3549 - val_mae: 2.5266 - val_mse: 13.3549\n",
            "Epoch 156/300\n",
            "9/9 [==============================] - 0s 5ms/step - loss: 8.9223 - mae: 2.0568 - mse: 8.9223 - val_loss: 13.4559 - val_mae: 2.5562 - val_mse: 13.4559\n",
            "Epoch 157/300\n",
            "9/9 [==============================] - 0s 5ms/step - loss: 6.6932 - mae: 1.8951 - mse: 6.6932 - val_loss: 13.4732 - val_mae: 2.5554 - val_mse: 13.4732\n",
            "Epoch 158/300\n",
            "9/9 [==============================] - 0s 4ms/step - loss: 8.7467 - mae: 2.0269 - mse: 8.7467 - val_loss: 13.1568 - val_mae: 2.5288 - val_mse: 13.1568\n",
            "Epoch 159/300\n",
            "9/9 [==============================] - 0s 5ms/step - loss: 6.2602 - mae: 1.8182 - mse: 6.2602 - val_loss: 13.4025 - val_mae: 2.5297 - val_mse: 13.4025\n",
            "Epoch 160/300\n",
            "9/9 [==============================] - 0s 5ms/step - loss: 6.7310 - mae: 1.9457 - mse: 6.7310 - val_loss: 13.4282 - val_mae: 2.5660 - val_mse: 13.4282\n",
            "Epoch 161/300\n",
            "9/9 [==============================] - 0s 4ms/step - loss: 8.5829 - mae: 1.9792 - mse: 8.5829 - val_loss: 13.3143 - val_mae: 2.5629 - val_mse: 13.3143\n",
            "Epoch 162/300\n",
            "9/9 [==============================] - 0s 6ms/step - loss: 7.9727 - mae: 1.9008 - mse: 7.9727 - val_loss: 13.5461 - val_mae: 2.5468 - val_mse: 13.5461\n",
            "Epoch 163/300\n",
            "9/9 [==============================] - 0s 6ms/step - loss: 7.2934 - mae: 1.8945 - mse: 7.2934 - val_loss: 13.4980 - val_mae: 2.5334 - val_mse: 13.4980\n",
            "Epoch 164/300\n",
            "9/9 [==============================] - 0s 6ms/step - loss: 6.9580 - mae: 1.8967 - mse: 6.9580 - val_loss: 13.0947 - val_mae: 2.5499 - val_mse: 13.0947\n",
            "Epoch 165/300\n",
            "9/9 [==============================] - 0s 4ms/step - loss: 8.2742 - mae: 1.9781 - mse: 8.2742 - val_loss: 13.0889 - val_mae: 2.5485 - val_mse: 13.0889\n",
            "Epoch 166/300\n",
            "9/9 [==============================] - 0s 6ms/step - loss: 8.2634 - mae: 1.9248 - mse: 8.2634 - val_loss: 13.4486 - val_mae: 2.5434 - val_mse: 13.4486\n",
            "Epoch 167/300\n",
            "9/9 [==============================] - 0s 4ms/step - loss: 10.2692 - mae: 2.1368 - mse: 10.2692 - val_loss: 13.1538 - val_mae: 2.5369 - val_mse: 13.1538\n",
            "Epoch 168/300\n",
            "9/9 [==============================] - 0s 4ms/step - loss: 6.1530 - mae: 1.8250 - mse: 6.1530 - val_loss: 13.2168 - val_mae: 2.5521 - val_mse: 13.2168\n",
            "Epoch 169/300\n",
            "9/9 [==============================] - 0s 4ms/step - loss: 6.8574 - mae: 1.9440 - mse: 6.8574 - val_loss: 12.9550 - val_mae: 2.5103 - val_mse: 12.9550\n",
            "Epoch 170/300\n",
            "9/9 [==============================] - 0s 4ms/step - loss: 7.8559 - mae: 1.9525 - mse: 7.8559 - val_loss: 13.4294 - val_mae: 2.5510 - val_mse: 13.4294\n",
            "Epoch 171/300\n",
            "9/9 [==============================] - 0s 4ms/step - loss: 7.7881 - mae: 1.9263 - mse: 7.7881 - val_loss: 13.1944 - val_mae: 2.5503 - val_mse: 13.1944\n",
            "Epoch 172/300\n",
            "9/9 [==============================] - 0s 6ms/step - loss: 7.9435 - mae: 1.9759 - mse: 7.9435 - val_loss: 13.1742 - val_mae: 2.5419 - val_mse: 13.1742\n",
            "Epoch 173/300\n",
            "9/9 [==============================] - 0s 7ms/step - loss: 10.3434 - mae: 2.0869 - mse: 10.3434 - val_loss: 12.8500 - val_mae: 2.5276 - val_mse: 12.8500\n",
            "Epoch 174/300\n",
            "9/9 [==============================] - 0s 4ms/step - loss: 5.7905 - mae: 1.8142 - mse: 5.7905 - val_loss: 13.1097 - val_mae: 2.5149 - val_mse: 13.1097\n",
            "Epoch 175/300\n",
            "9/9 [==============================] - 0s 4ms/step - loss: 9.7880 - mae: 2.0780 - mse: 9.7880 - val_loss: 12.5321 - val_mae: 2.5289 - val_mse: 12.5321\n",
            "Epoch 176/300\n",
            "9/9 [==============================] - 0s 5ms/step - loss: 7.1211 - mae: 1.9564 - mse: 7.1211 - val_loss: 13.1825 - val_mae: 2.5642 - val_mse: 13.1825\n",
            "Epoch 177/300\n",
            "9/9 [==============================] - 0s 4ms/step - loss: 7.4447 - mae: 1.9439 - mse: 7.4447 - val_loss: 13.0623 - val_mae: 2.5080 - val_mse: 13.0623\n",
            "Epoch 178/300\n",
            "9/9 [==============================] - 0s 4ms/step - loss: 7.4750 - mae: 1.9556 - mse: 7.4750 - val_loss: 12.6123 - val_mae: 2.5110 - val_mse: 12.6123\n",
            "Epoch 179/300\n",
            "9/9 [==============================] - 0s 4ms/step - loss: 9.3132 - mae: 2.0189 - mse: 9.3132 - val_loss: 12.8399 - val_mae: 2.5371 - val_mse: 12.8399\n",
            "Epoch 180/300\n",
            "9/9 [==============================] - 0s 4ms/step - loss: 6.4670 - mae: 1.9119 - mse: 6.4670 - val_loss: 12.7975 - val_mae: 2.5052 - val_mse: 12.7975\n",
            "Epoch 181/300\n",
            "9/9 [==============================] - 0s 7ms/step - loss: 8.7674 - mae: 1.9738 - mse: 8.7674 - val_loss: 12.7988 - val_mae: 2.5279 - val_mse: 12.7988\n",
            "Epoch 182/300\n",
            "9/9 [==============================] - 0s 4ms/step - loss: 7.0537 - mae: 1.8425 - mse: 7.0537 - val_loss: 13.0426 - val_mae: 2.5404 - val_mse: 13.0426\n",
            "Epoch 183/300\n",
            "9/9 [==============================] - 0s 5ms/step - loss: 5.8478 - mae: 1.7789 - mse: 5.8478 - val_loss: 12.7616 - val_mae: 2.5253 - val_mse: 12.7616\n",
            "Epoch 184/300\n",
            "9/9 [==============================] - 0s 6ms/step - loss: 6.8070 - mae: 1.8994 - mse: 6.8070 - val_loss: 12.7820 - val_mae: 2.5250 - val_mse: 12.7820\n",
            "Epoch 185/300\n",
            "9/9 [==============================] - 0s 4ms/step - loss: 5.9792 - mae: 1.7791 - mse: 5.9792 - val_loss: 12.6976 - val_mae: 2.5080 - val_mse: 12.6976\n",
            "Epoch 186/300\n",
            "9/9 [==============================] - 0s 7ms/step - loss: 6.1428 - mae: 1.7939 - mse: 6.1428 - val_loss: 12.6091 - val_mae: 2.5087 - val_mse: 12.6091\n",
            "Epoch 187/300\n",
            "9/9 [==============================] - 0s 4ms/step - loss: 8.5421 - mae: 1.9400 - mse: 8.5421 - val_loss: 12.6195 - val_mae: 2.5108 - val_mse: 12.6195\n",
            "Epoch 188/300\n",
            "9/9 [==============================] - 0s 4ms/step - loss: 6.2131 - mae: 1.9111 - mse: 6.2131 - val_loss: 12.7769 - val_mae: 2.5116 - val_mse: 12.7769\n",
            "Epoch 189/300\n",
            "9/9 [==============================] - 0s 4ms/step - loss: 7.9838 - mae: 1.9622 - mse: 7.9838 - val_loss: 12.2841 - val_mae: 2.4898 - val_mse: 12.2841\n",
            "Epoch 190/300\n",
            "9/9 [==============================] - 0s 4ms/step - loss: 6.1536 - mae: 1.7651 - mse: 6.1536 - val_loss: 12.5183 - val_mae: 2.5075 - val_mse: 12.5183\n",
            "Epoch 191/300\n",
            "9/9 [==============================] - 0s 6ms/step - loss: 7.2248 - mae: 1.9422 - mse: 7.2248 - val_loss: 12.7556 - val_mae: 2.5056 - val_mse: 12.7556\n",
            "Epoch 192/300\n",
            "9/9 [==============================] - 0s 4ms/step - loss: 6.4120 - mae: 1.8506 - mse: 6.4120 - val_loss: 12.5562 - val_mae: 2.5029 - val_mse: 12.5562\n",
            "Epoch 193/300\n",
            "9/9 [==============================] - 0s 4ms/step - loss: 6.3083 - mae: 1.8872 - mse: 6.3083 - val_loss: 12.5307 - val_mae: 2.4926 - val_mse: 12.5307\n",
            "Epoch 194/300\n",
            "9/9 [==============================] - 0s 4ms/step - loss: 7.7474 - mae: 1.9116 - mse: 7.7474 - val_loss: 12.2636 - val_mae: 2.5181 - val_mse: 12.2636\n",
            "Epoch 195/300\n",
            "9/9 [==============================] - 0s 4ms/step - loss: 6.3262 - mae: 1.8550 - mse: 6.3262 - val_loss: 12.7299 - val_mae: 2.5345 - val_mse: 12.7299\n",
            "Epoch 196/300\n",
            "9/9 [==============================] - 0s 5ms/step - loss: 5.9196 - mae: 1.7180 - mse: 5.9196 - val_loss: 12.1732 - val_mae: 2.4795 - val_mse: 12.1732\n",
            "Epoch 197/300\n",
            "9/9 [==============================] - 0s 4ms/step - loss: 7.8955 - mae: 1.8090 - mse: 7.8955 - val_loss: 12.3056 - val_mae: 2.4884 - val_mse: 12.3056\n",
            "Epoch 198/300\n",
            "9/9 [==============================] - 0s 6ms/step - loss: 6.3332 - mae: 1.7961 - mse: 6.3332 - val_loss: 12.3490 - val_mae: 2.5046 - val_mse: 12.3490\n",
            "Epoch 199/300\n",
            "9/9 [==============================] - 0s 7ms/step - loss: 5.8331 - mae: 1.8166 - mse: 5.8331 - val_loss: 12.2627 - val_mae: 2.4967 - val_mse: 12.2627\n",
            "Epoch 200/300\n",
            "9/9 [==============================] - 0s 4ms/step - loss: 6.7541 - mae: 1.8597 - mse: 6.7541 - val_loss: 12.3934 - val_mae: 2.5047 - val_mse: 12.3934\n",
            "Epoch 201/300\n",
            "9/9 [==============================] - 0s 4ms/step - loss: 7.7535 - mae: 1.9484 - mse: 7.7535 - val_loss: 12.1843 - val_mae: 2.4993 - val_mse: 12.1843\n",
            "Epoch 202/300\n",
            "9/9 [==============================] - 0s 4ms/step - loss: 7.7264 - mae: 1.9422 - mse: 7.7264 - val_loss: 12.4529 - val_mae: 2.5164 - val_mse: 12.4529\n",
            "Epoch 203/300\n",
            "9/9 [==============================] - 0s 5ms/step - loss: 8.1722 - mae: 1.8671 - mse: 8.1722 - val_loss: 12.3104 - val_mae: 2.4853 - val_mse: 12.3104\n",
            "Epoch 204/300\n",
            "9/9 [==============================] - 0s 6ms/step - loss: 6.7737 - mae: 1.8335 - mse: 6.7737 - val_loss: 12.2066 - val_mae: 2.4858 - val_mse: 12.2066\n",
            "Epoch 205/300\n",
            "9/9 [==============================] - 0s 4ms/step - loss: 5.6252 - mae: 1.6963 - mse: 5.6252 - val_loss: 12.0913 - val_mae: 2.4796 - val_mse: 12.0913\n",
            "Epoch 206/300\n",
            "9/9 [==============================] - 0s 4ms/step - loss: 5.0027 - mae: 1.6758 - mse: 5.0027 - val_loss: 12.4191 - val_mae: 2.5151 - val_mse: 12.4191\n",
            "Epoch 207/300\n",
            "9/9 [==============================] - 0s 4ms/step - loss: 5.7542 - mae: 1.7813 - mse: 5.7542 - val_loss: 12.4501 - val_mae: 2.5025 - val_mse: 12.4501\n",
            "Epoch 208/300\n",
            "9/9 [==============================] - 0s 4ms/step - loss: 6.4361 - mae: 1.7234 - mse: 6.4361 - val_loss: 12.3013 - val_mae: 2.5172 - val_mse: 12.3013\n",
            "Epoch 209/300\n",
            "9/9 [==============================] - 0s 5ms/step - loss: 7.8144 - mae: 1.9576 - mse: 7.8144 - val_loss: 12.5369 - val_mae: 2.5310 - val_mse: 12.5369\n",
            "Epoch 210/300\n",
            "9/9 [==============================] - 0s 5ms/step - loss: 6.6115 - mae: 1.8452 - mse: 6.6115 - val_loss: 12.2149 - val_mae: 2.4935 - val_mse: 12.2149\n",
            "Epoch 211/300\n",
            "9/9 [==============================] - 0s 4ms/step - loss: 6.2315 - mae: 1.7905 - mse: 6.2315 - val_loss: 12.1806 - val_mae: 2.4899 - val_mse: 12.1806\n",
            "Epoch 212/300\n",
            "9/9 [==============================] - 0s 7ms/step - loss: 6.5058 - mae: 1.8320 - mse: 6.5058 - val_loss: 12.0920 - val_mae: 2.4924 - val_mse: 12.0920\n",
            "Epoch 213/300\n",
            "9/9 [==============================] - 0s 4ms/step - loss: 6.0823 - mae: 1.7793 - mse: 6.0823 - val_loss: 12.0981 - val_mae: 2.4842 - val_mse: 12.0981\n",
            "Epoch 214/300\n",
            "9/9 [==============================] - 0s 4ms/step - loss: 5.4707 - mae: 1.7143 - mse: 5.4707 - val_loss: 12.4402 - val_mae: 2.5045 - val_mse: 12.4402\n",
            "Epoch 215/300\n",
            "9/9 [==============================] - 0s 5ms/step - loss: 7.1963 - mae: 1.8235 - mse: 7.1963 - val_loss: 12.3018 - val_mae: 2.5331 - val_mse: 12.3018\n",
            "Epoch 216/300\n",
            "9/9 [==============================] - 0s 4ms/step - loss: 7.6117 - mae: 1.8733 - mse: 7.6117 - val_loss: 12.2698 - val_mae: 2.4999 - val_mse: 12.2698\n",
            "Epoch 217/300\n",
            "9/9 [==============================] - 0s 4ms/step - loss: 7.0538 - mae: 1.8146 - mse: 7.0538 - val_loss: 12.2538 - val_mae: 2.4950 - val_mse: 12.2538\n",
            "Epoch 218/300\n",
            "9/9 [==============================] - 0s 4ms/step - loss: 5.9227 - mae: 1.8092 - mse: 5.9227 - val_loss: 12.4495 - val_mae: 2.5134 - val_mse: 12.4495\n",
            "Epoch 219/300\n",
            "9/9 [==============================] - 0s 4ms/step - loss: 5.9024 - mae: 1.7495 - mse: 5.9024 - val_loss: 12.3685 - val_mae: 2.5300 - val_mse: 12.3685\n",
            "Epoch 220/300\n",
            "9/9 [==============================] - 0s 4ms/step - loss: 5.0483 - mae: 1.7137 - mse: 5.0483 - val_loss: 12.4447 - val_mae: 2.5351 - val_mse: 12.4447\n",
            "Epoch 221/300\n",
            "9/9 [==============================] - 0s 4ms/step - loss: 5.3905 - mae: 1.6810 - mse: 5.3905 - val_loss: 11.8813 - val_mae: 2.4807 - val_mse: 11.8813\n",
            "Epoch 222/300\n",
            "9/9 [==============================] - 0s 5ms/step - loss: 5.8954 - mae: 1.7666 - mse: 5.8954 - val_loss: 11.9641 - val_mae: 2.4884 - val_mse: 11.9641\n",
            "Epoch 223/300\n",
            "9/9 [==============================] - 0s 7ms/step - loss: 5.4986 - mae: 1.7827 - mse: 5.4986 - val_loss: 11.7485 - val_mae: 2.4698 - val_mse: 11.7485\n",
            "Epoch 224/300\n",
            "9/9 [==============================] - 0s 5ms/step - loss: 5.1807 - mae: 1.6650 - mse: 5.1807 - val_loss: 11.6925 - val_mae: 2.4810 - val_mse: 11.6925\n",
            "Epoch 225/300\n",
            "9/9 [==============================] - 0s 6ms/step - loss: 6.2920 - mae: 1.7992 - mse: 6.2920 - val_loss: 12.1025 - val_mae: 2.5010 - val_mse: 12.1025\n",
            "Epoch 226/300\n",
            "9/9 [==============================] - 0s 4ms/step - loss: 4.9929 - mae: 1.6735 - mse: 4.9929 - val_loss: 12.1401 - val_mae: 2.5051 - val_mse: 12.1401\n",
            "Epoch 227/300\n",
            "9/9 [==============================] - 0s 5ms/step - loss: 6.6797 - mae: 1.8438 - mse: 6.6797 - val_loss: 11.8880 - val_mae: 2.4810 - val_mse: 11.8880\n",
            "Epoch 228/300\n",
            "9/9 [==============================] - 0s 5ms/step - loss: 4.6863 - mae: 1.5779 - mse: 4.6863 - val_loss: 11.7214 - val_mae: 2.4786 - val_mse: 11.7214\n",
            "Epoch 229/300\n",
            "9/9 [==============================] - 0s 6ms/step - loss: 6.2431 - mae: 1.7565 - mse: 6.2431 - val_loss: 11.9850 - val_mae: 2.5023 - val_mse: 11.9850\n",
            "Epoch 230/300\n",
            "9/9 [==============================] - 0s 4ms/step - loss: 5.5566 - mae: 1.7079 - mse: 5.5566 - val_loss: 11.9564 - val_mae: 2.4800 - val_mse: 11.9564\n",
            "Epoch 231/300\n",
            "9/9 [==============================] - 0s 4ms/step - loss: 5.7578 - mae: 1.7517 - mse: 5.7578 - val_loss: 12.0752 - val_mae: 2.4907 - val_mse: 12.0752\n",
            "Epoch 232/300\n",
            "9/9 [==============================] - 0s 4ms/step - loss: 7.4608 - mae: 1.8067 - mse: 7.4608 - val_loss: 11.6822 - val_mae: 2.4707 - val_mse: 11.6822\n",
            "Epoch 233/300\n",
            "9/9 [==============================] - 0s 5ms/step - loss: 5.9760 - mae: 1.6678 - mse: 5.9760 - val_loss: 12.0637 - val_mae: 2.4846 - val_mse: 12.0637\n",
            "Epoch 234/300\n",
            "9/9 [==============================] - 0s 5ms/step - loss: 4.7871 - mae: 1.6392 - mse: 4.7871 - val_loss: 12.0708 - val_mae: 2.5063 - val_mse: 12.0708\n",
            "Epoch 235/300\n",
            "9/9 [==============================] - 0s 4ms/step - loss: 5.7857 - mae: 1.7212 - mse: 5.7857 - val_loss: 11.9242 - val_mae: 2.4981 - val_mse: 11.9242\n",
            "Epoch 236/300\n",
            "9/9 [==============================] - 0s 4ms/step - loss: 4.8459 - mae: 1.6559 - mse: 4.8459 - val_loss: 11.9490 - val_mae: 2.4774 - val_mse: 11.9490\n",
            "Epoch 237/300\n",
            "9/9 [==============================] - 0s 5ms/step - loss: 4.5627 - mae: 1.5914 - mse: 4.5627 - val_loss: 12.1084 - val_mae: 2.5211 - val_mse: 12.1084\n",
            "Epoch 238/300\n",
            "9/9 [==============================] - 0s 5ms/step - loss: 5.2566 - mae: 1.7253 - mse: 5.2566 - val_loss: 11.8366 - val_mae: 2.4835 - val_mse: 11.8366\n",
            "Epoch 239/300\n",
            "9/9 [==============================] - 0s 4ms/step - loss: 5.2287 - mae: 1.6816 - mse: 5.2287 - val_loss: 11.8463 - val_mae: 2.4855 - val_mse: 11.8463\n",
            "Epoch 240/300\n",
            "9/9 [==============================] - 0s 4ms/step - loss: 5.7613 - mae: 1.6218 - mse: 5.7613 - val_loss: 11.7907 - val_mae: 2.4741 - val_mse: 11.7907\n",
            "Epoch 241/300\n",
            "9/9 [==============================] - 0s 5ms/step - loss: 6.4501 - mae: 1.7620 - mse: 6.4501 - val_loss: 11.8858 - val_mae: 2.5052 - val_mse: 11.8858\n",
            "Epoch 242/300\n",
            "9/9 [==============================] - 0s 5ms/step - loss: 6.3185 - mae: 1.8125 - mse: 6.3185 - val_loss: 12.2308 - val_mae: 2.5284 - val_mse: 12.2308\n",
            "Epoch 243/300\n",
            "9/9 [==============================] - 0s 5ms/step - loss: 4.6389 - mae: 1.5686 - mse: 4.6389 - val_loss: 11.5948 - val_mae: 2.4702 - val_mse: 11.5948\n",
            "Epoch 244/300\n",
            "9/9 [==============================] - 0s 4ms/step - loss: 4.7871 - mae: 1.6017 - mse: 4.7871 - val_loss: 11.7057 - val_mae: 2.4975 - val_mse: 11.7057\n",
            "Epoch 245/300\n",
            "9/9 [==============================] - 0s 7ms/step - loss: 4.8382 - mae: 1.6306 - mse: 4.8382 - val_loss: 11.7554 - val_mae: 2.4864 - val_mse: 11.7554\n",
            "Epoch 246/300\n",
            "9/9 [==============================] - 0s 4ms/step - loss: 5.9611 - mae: 1.7248 - mse: 5.9611 - val_loss: 11.6775 - val_mae: 2.4761 - val_mse: 11.6775\n",
            "Epoch 247/300\n",
            "9/9 [==============================] - 0s 5ms/step - loss: 6.4617 - mae: 1.6756 - mse: 6.4617 - val_loss: 11.6467 - val_mae: 2.4767 - val_mse: 11.6467\n",
            "Epoch 248/300\n",
            "9/9 [==============================] - 0s 4ms/step - loss: 4.6447 - mae: 1.6136 - mse: 4.6447 - val_loss: 11.7920 - val_mae: 2.4788 - val_mse: 11.7920\n",
            "Epoch 249/300\n",
            "9/9 [==============================] - 0s 4ms/step - loss: 4.5940 - mae: 1.6193 - mse: 4.5940 - val_loss: 11.8333 - val_mae: 2.4925 - val_mse: 11.8333\n",
            "Epoch 250/300\n",
            "9/9 [==============================] - 0s 5ms/step - loss: 4.6610 - mae: 1.6280 - mse: 4.6610 - val_loss: 11.7838 - val_mae: 2.4865 - val_mse: 11.7838\n",
            "Epoch 251/300\n",
            "9/9 [==============================] - 0s 4ms/step - loss: 5.1575 - mae: 1.6354 - mse: 5.1575 - val_loss: 11.7473 - val_mae: 2.5108 - val_mse: 11.7473\n",
            "Epoch 252/300\n",
            "9/9 [==============================] - 0s 5ms/step - loss: 4.8126 - mae: 1.6333 - mse: 4.8126 - val_loss: 11.4992 - val_mae: 2.4693 - val_mse: 11.4992\n",
            "Epoch 253/300\n",
            "9/9 [==============================] - 0s 4ms/step - loss: 5.4099 - mae: 1.6494 - mse: 5.4099 - val_loss: 11.7724 - val_mae: 2.4937 - val_mse: 11.7724\n",
            "Epoch 254/300\n",
            "9/9 [==============================] - 0s 4ms/step - loss: 4.8103 - mae: 1.5882 - mse: 4.8103 - val_loss: 11.5757 - val_mae: 2.4872 - val_mse: 11.5757\n",
            "Epoch 255/300\n",
            "9/9 [==============================] - 0s 7ms/step - loss: 4.5730 - mae: 1.5961 - mse: 4.5730 - val_loss: 11.5452 - val_mae: 2.4797 - val_mse: 11.5452\n",
            "Epoch 256/300\n",
            "9/9 [==============================] - 0s 5ms/step - loss: 4.7983 - mae: 1.5557 - mse: 4.7983 - val_loss: 11.5282 - val_mae: 2.4698 - val_mse: 11.5282\n",
            "Epoch 257/300\n",
            "9/9 [==============================] - 0s 4ms/step - loss: 4.2454 - mae: 1.5207 - mse: 4.2454 - val_loss: 11.6551 - val_mae: 2.4799 - val_mse: 11.6551\n",
            "Epoch 258/300\n",
            "9/9 [==============================] - 0s 4ms/step - loss: 5.2202 - mae: 1.6854 - mse: 5.2202 - val_loss: 11.3359 - val_mae: 2.4664 - val_mse: 11.3359\n",
            "Epoch 259/300\n",
            "9/9 [==============================] - 0s 6ms/step - loss: 4.9382 - mae: 1.6007 - mse: 4.9382 - val_loss: 11.8101 - val_mae: 2.4980 - val_mse: 11.8101\n",
            "Epoch 260/300\n",
            "9/9 [==============================] - 0s 4ms/step - loss: 5.6591 - mae: 1.6339 - mse: 5.6591 - val_loss: 11.7790 - val_mae: 2.4919 - val_mse: 11.7790\n",
            "Epoch 261/300\n",
            "9/9 [==============================] - 0s 4ms/step - loss: 5.2567 - mae: 1.6220 - mse: 5.2567 - val_loss: 11.3258 - val_mae: 2.4560 - val_mse: 11.3258\n",
            "Epoch 262/300\n",
            "9/9 [==============================] - 0s 5ms/step - loss: 4.5199 - mae: 1.5428 - mse: 4.5199 - val_loss: 11.4329 - val_mae: 2.4537 - val_mse: 11.4329\n",
            "Epoch 263/300\n",
            "9/9 [==============================] - 0s 5ms/step - loss: 4.2539 - mae: 1.5803 - mse: 4.2539 - val_loss: 11.7055 - val_mae: 2.4998 - val_mse: 11.7055\n",
            "Epoch 264/300\n",
            "9/9 [==============================] - 0s 5ms/step - loss: 4.8424 - mae: 1.6089 - mse: 4.8424 - val_loss: 11.4928 - val_mae: 2.4669 - val_mse: 11.4928\n",
            "Epoch 265/300\n",
            "9/9 [==============================] - 0s 5ms/step - loss: 4.3302 - mae: 1.5638 - mse: 4.3302 - val_loss: 11.7777 - val_mae: 2.4978 - val_mse: 11.7777\n",
            "Epoch 266/300\n",
            "9/9 [==============================] - 0s 5ms/step - loss: 4.7587 - mae: 1.6262 - mse: 4.7587 - val_loss: 11.7245 - val_mae: 2.4930 - val_mse: 11.7245\n",
            "Epoch 267/300\n",
            "9/9 [==============================] - 0s 4ms/step - loss: 4.5286 - mae: 1.5881 - mse: 4.5286 - val_loss: 11.4007 - val_mae: 2.4589 - val_mse: 11.4007\n",
            "Epoch 268/300\n",
            "9/9 [==============================] - 0s 5ms/step - loss: 4.6999 - mae: 1.6203 - mse: 4.6999 - val_loss: 11.5132 - val_mae: 2.4720 - val_mse: 11.5132\n",
            "Epoch 269/300\n",
            "9/9 [==============================] - 0s 4ms/step - loss: 4.9184 - mae: 1.4735 - mse: 4.9184 - val_loss: 11.3751 - val_mae: 2.4539 - val_mse: 11.3751\n",
            "Epoch 270/300\n",
            "9/9 [==============================] - 0s 6ms/step - loss: 4.6891 - mae: 1.5835 - mse: 4.6891 - val_loss: 11.4181 - val_mae: 2.4611 - val_mse: 11.4181\n",
            "Epoch 271/300\n",
            "9/9 [==============================] - 0s 5ms/step - loss: 5.8712 - mae: 1.6545 - mse: 5.8712 - val_loss: 11.6649 - val_mae: 2.4794 - val_mse: 11.6649\n",
            "Epoch 272/300\n",
            "9/9 [==============================] - 0s 4ms/step - loss: 4.1322 - mae: 1.4947 - mse: 4.1322 - val_loss: 11.7946 - val_mae: 2.5021 - val_mse: 11.7946\n",
            "Epoch 273/300\n",
            "9/9 [==============================] - 0s 4ms/step - loss: 4.4127 - mae: 1.5494 - mse: 4.4127 - val_loss: 11.3001 - val_mae: 2.4456 - val_mse: 11.3001\n",
            "Epoch 274/300\n",
            "9/9 [==============================] - 0s 4ms/step - loss: 4.9227 - mae: 1.6446 - mse: 4.9227 - val_loss: 11.5798 - val_mae: 2.4733 - val_mse: 11.5798\n",
            "Epoch 275/300\n",
            "9/9 [==============================] - 0s 4ms/step - loss: 4.2602 - mae: 1.5275 - mse: 4.2602 - val_loss: 11.2402 - val_mae: 2.4510 - val_mse: 11.2402\n",
            "Epoch 276/300\n",
            "9/9 [==============================] - 0s 4ms/step - loss: 5.7392 - mae: 1.6972 - mse: 5.7392 - val_loss: 11.6203 - val_mae: 2.4804 - val_mse: 11.6203\n",
            "Epoch 277/300\n",
            "9/9 [==============================] - 0s 4ms/step - loss: 5.3138 - mae: 1.5807 - mse: 5.3138 - val_loss: 11.2107 - val_mae: 2.4365 - val_mse: 11.2107\n",
            "Epoch 278/300\n",
            "9/9 [==============================] - 0s 4ms/step - loss: 5.0339 - mae: 1.6207 - mse: 5.0339 - val_loss: 11.3873 - val_mae: 2.4640 - val_mse: 11.3873\n",
            "Epoch 279/300\n",
            "9/9 [==============================] - 0s 4ms/step - loss: 4.4874 - mae: 1.5141 - mse: 4.4874 - val_loss: 11.5744 - val_mae: 2.4738 - val_mse: 11.5744\n",
            "Epoch 280/300\n",
            "9/9 [==============================] - 0s 5ms/step - loss: 4.9002 - mae: 1.5291 - mse: 4.9002 - val_loss: 11.5337 - val_mae: 2.4896 - val_mse: 11.5337\n",
            "Epoch 281/300\n",
            "9/9 [==============================] - 0s 5ms/step - loss: 4.0502 - mae: 1.5141 - mse: 4.0502 - val_loss: 11.6878 - val_mae: 2.4815 - val_mse: 11.6878\n",
            "Epoch 282/300\n",
            "9/9 [==============================] - 0s 5ms/step - loss: 5.4219 - mae: 1.6066 - mse: 5.4219 - val_loss: 11.3380 - val_mae: 2.4493 - val_mse: 11.3380\n",
            "Epoch 283/300\n",
            "9/9 [==============================] - 0s 4ms/step - loss: 3.9366 - mae: 1.4445 - mse: 3.9366 - val_loss: 11.4749 - val_mae: 2.4662 - val_mse: 11.4749\n",
            "Epoch 284/300\n",
            "9/9 [==============================] - 0s 4ms/step - loss: 3.8590 - mae: 1.4666 - mse: 3.8590 - val_loss: 11.2686 - val_mae: 2.4394 - val_mse: 11.2686\n",
            "Epoch 285/300\n",
            "9/9 [==============================] - 0s 4ms/step - loss: 4.2184 - mae: 1.5418 - mse: 4.2184 - val_loss: 11.5295 - val_mae: 2.4755 - val_mse: 11.5295\n",
            "Epoch 286/300\n",
            "9/9 [==============================] - 0s 4ms/step - loss: 5.4715 - mae: 1.6618 - mse: 5.4715 - val_loss: 11.4361 - val_mae: 2.4634 - val_mse: 11.4361\n",
            "Epoch 287/300\n",
            "9/9 [==============================] - 0s 7ms/step - loss: 3.5755 - mae: 1.3850 - mse: 3.5755 - val_loss: 11.7722 - val_mae: 2.4896 - val_mse: 11.7722\n",
            "Epoch 288/300\n",
            "9/9 [==============================] - 0s 4ms/step - loss: 4.4156 - mae: 1.5564 - mse: 4.4156 - val_loss: 11.6907 - val_mae: 2.4927 - val_mse: 11.6907\n",
            "Epoch 289/300\n",
            "9/9 [==============================] - 0s 6ms/step - loss: 4.1588 - mae: 1.5468 - mse: 4.1588 - val_loss: 11.3382 - val_mae: 2.4405 - val_mse: 11.3382\n",
            "Epoch 290/300\n",
            "9/9 [==============================] - 0s 5ms/step - loss: 3.8690 - mae: 1.4526 - mse: 3.8690 - val_loss: 11.3543 - val_mae: 2.4552 - val_mse: 11.3543\n",
            "Epoch 291/300\n",
            "9/9 [==============================] - 0s 5ms/step - loss: 4.0191 - mae: 1.5001 - mse: 4.0191 - val_loss: 11.5614 - val_mae: 2.4740 - val_mse: 11.5614\n",
            "Epoch 292/300\n",
            "9/9 [==============================] - 0s 5ms/step - loss: 4.4857 - mae: 1.5418 - mse: 4.4857 - val_loss: 11.4837 - val_mae: 2.4596 - val_mse: 11.4837\n",
            "Epoch 293/300\n",
            "9/9 [==============================] - 0s 5ms/step - loss: 4.6858 - mae: 1.5140 - mse: 4.6858 - val_loss: 11.7026 - val_mae: 2.4935 - val_mse: 11.7026\n",
            "Epoch 294/300\n",
            "9/9 [==============================] - 0s 5ms/step - loss: 5.5914 - mae: 1.5994 - mse: 5.5914 - val_loss: 11.4796 - val_mae: 2.4720 - val_mse: 11.4796\n",
            "Epoch 295/300\n",
            "9/9 [==============================] - 0s 4ms/step - loss: 4.2153 - mae: 1.5078 - mse: 4.2153 - val_loss: 11.7226 - val_mae: 2.4933 - val_mse: 11.7226\n",
            "Epoch 296/300\n",
            "9/9 [==============================] - 0s 7ms/step - loss: 3.8741 - mae: 1.4701 - mse: 3.8741 - val_loss: 11.4714 - val_mae: 2.4541 - val_mse: 11.4714\n",
            "Epoch 297/300\n",
            "9/9 [==============================] - 0s 4ms/step - loss: 5.2240 - mae: 1.5598 - mse: 5.2240 - val_loss: 11.3872 - val_mae: 2.4442 - val_mse: 11.3872\n",
            "Epoch 298/300\n",
            "9/9 [==============================] - 0s 5ms/step - loss: 5.1497 - mae: 1.5915 - mse: 5.1497 - val_loss: 11.6991 - val_mae: 2.4917 - val_mse: 11.6991\n",
            "Epoch 299/300\n",
            "9/9 [==============================] - 0s 4ms/step - loss: 3.8252 - mae: 1.4054 - mse: 3.8252 - val_loss: 11.4590 - val_mae: 2.4564 - val_mse: 11.4590\n",
            "Epoch 300/300\n",
            "9/9 [==============================] - 0s 5ms/step - loss: 3.9092 - mae: 1.4471 - mse: 3.9092 - val_loss: 11.3239 - val_mae: 2.4389 - val_mse: 11.3239\n"
          ],
          "name": "stdout"
        }
      ]
    },
    {
      "cell_type": "markdown",
      "metadata": {
        "id": "EOgBRySSnf92"
      },
      "source": [
        "모델 결과 그리기"
      ]
    },
    {
      "cell_type": "code",
      "metadata": {
        "colab": {
          "base_uri": "https://localhost:8080/",
          "height": 350
        },
        "id": "ikg84_9snijE",
        "outputId": "ada352bb-7ad8-4ec1-e239-5ca6c0e2bc16"
      },
      "source": [
        "import matplotlib.pyplot as plt\n",
        "\n",
        "his_dict = history.history\n",
        "mse = his_dict['mse']\n",
        "val_mse = his_dict['val_mse'] # 검증 데이터가 있는 경우 ‘val_’ 수식어가 붙습니다.\n",
        "\n",
        "epochs = range(1, len(mse) + 1)\n",
        "fig = plt.figure(figsize = (10, 5))\n",
        "\n",
        "# 훈련 및 검증 손실 그리기\n",
        "ax1 = fig.add_subplot(1, 2, 1)\n",
        "ax1.plot(epochs, mse, color = 'blue', label = 'train_mse')\n",
        "ax1.plot(epochs, val_mse, color = 'orange', label = 'val_mse')\n",
        "ax1.set_title('train and val mse')\n",
        "ax1.set_xlabel('epochs')\n",
        "ax1.set_ylabel('mse')\n",
        "ax1.legend()\n",
        "\n",
        "mae = his_dict['mae']\n",
        "val_mae = his_dict['val_mae']\n",
        "\n",
        "# 훈련 및 검증 정확도 그리기\n",
        "ax2 = fig.add_subplot(1, 2, 2)\n",
        "ax2.plot(epochs, mae, color = 'blue', label = 'train_mae')\n",
        "ax2.plot(epochs, val_mae, color = 'orange', label = 'val_mae')\n",
        "ax2.set_title('train and val mae')\n",
        "ax2.set_xlabel('epochs')\n",
        "ax2.set_ylabel('mae')\n",
        "ax2.legend()\n",
        "\n",
        "plt.show()\n"
      ],
      "execution_count": null,
      "outputs": [
        {
          "output_type": "display_data",
          "data": {
            "image/png": "[encoded data removed]",
            "text/plain": [
              "<Figure size 720x360 with 2 Axes>"
            ]
          },
          "metadata": {
            "tags": [],
            "needs_background": "light"
          }
        }
      ]
    },
    {
      "cell_type": "markdown",
      "metadata": {
        "id": "Z_Wkgf21nwSE"
      },
      "source": [
        "모델 평가하기"
      ]
    },
    {
      "cell_type": "code",
      "metadata": {
        "colab": {
          "base_uri": "https://localhost:8080/"
        },
        "id": "0zxZGwFBnxzN",
        "outputId": "efde0748-df20-40e4-8a27-c425fbd99c4f"
      },
      "source": [
        "model.evaluate(x_test, y_test) # mae 2.0 -> 실제 집값과 2,000 달러정도 차이"
      ],
      "execution_count": null,
      "outputs": [
        {
          "output_type": "stream",
          "text": [
            "4/4 [==============================] - 0s 3ms/step - loss: 8.9889 - mae: 2.1514 - mse: 8.9889\n"
          ],
          "name": "stdout"
        },
        {
          "output_type": "execute_result",
          "data": {
            "text/plain": [
              "[8.988921165466309, 2.1513710021972656, 8.988921165466309]"
            ]
          },
          "metadata": {
            "tags": []
          },
          "execution_count": 13
        }
      ]
    },
    {
      "cell_type": "markdown",
      "metadata": {
        "id": "KXsEC16Ln83J"
      },
      "source": [
        "모델 예측하기"
      ]
    },
    {
      "cell_type": "code",
      "metadata": {
        "colab": {
          "base_uri": "https://localhost:8080/",
          "height": 279
        },
        "id": "9xa5qMJXn-qE",
        "outputId": "8b19fb62-5e0e-454e-8d01-89d6ef1e7d75"
      },
      "source": [
        "test_predictions = model.predict(x_test).flatten()\n",
        "\n",
        "plt.scatter(y_test, test_predictions)\n",
        "plt.xlabel('True Values [Price]')\n",
        "plt.ylabel('Predictions [Price]')\n",
        "plt.axis('equal')\n",
        "plt.axis('square')\n",
        "plt.xlim([0,plt.xlim()[1]])\n",
        "plt.ylim([0,plt.ylim()[1]])\n",
        "_ = plt.plot([-100, 100], [-100, 100])\n",
        "\n",
        "# 40달러 밑으로는 정확하게 예측하는 경향이 있으나 50달러에 가까워질수록 자주\n",
        "# 틀리는 경향이 있음.\n",
        "# mse 값이 가장 적은 모델을 사용해야 할것"
      ],
      "execution_count": null,
      "outputs": [
        {
          "output_type": "display_data",
          "data": {
            "image/png": "[encoded data removed]",
            "text/plain": [
              "<Figure size 432x288 with 1 Axes>"
            ]
          },
          "metadata": {
            "tags": [],
            "needs_background": "light"
          }
        }
      ]
    }
  ]
}