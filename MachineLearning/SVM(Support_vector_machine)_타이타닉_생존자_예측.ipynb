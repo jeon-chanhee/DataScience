{
  "nbformat": 4,
  "nbformat_minor": 0,
  "metadata": {
    "colab": {
      "name": "SVM(Support vector machine) 타이타닉 생존자 예측.ipynb",
      "provenance": []
    },
    "kernelspec": {
      "name": "python3",
      "display_name": "Python 3"
    },
    "language_info": {
      "name": "python"
    }
  },
  "cells": [
    {
      "cell_type": "markdown",
      "metadata": {
        "id": "BrlrMCefcDCP"
      },
      "source": [
        "문제 정의 : SVM(Support vector machine) 사용하여 타이타닉 생존자(1), 사망(0) 예측"
      ]
    },
    {
      "cell_type": "markdown",
      "metadata": {
        "id": "GsAQflZicVFg"
      },
      "source": [
        "기본 라이브러리 불러오기"
      ]
    },
    {
      "cell_type": "code",
      "metadata": {
        "id": "owKael25cW1b"
      },
      "source": [
        "import pandas as pd\n",
        "import seaborn as sns"
      ],
      "execution_count": 1,
      "outputs": []
    },
    {
      "cell_type": "markdown",
      "metadata": {
        "id": "w2NDdeP9cbPK"
      },
      "source": [
        "한글 깨짐 방지"
      ]
    },
    {
      "cell_type": "code",
      "metadata": {
        "colab": {
          "base_uri": "https://localhost:8080/"
        },
        "id": "-vtVJpGvcdnI",
        "outputId": "26d3a41f-4d5b-446b-ed4e-a83764f28640"
      },
      "source": [
        "import matplotlib as mpl\n",
        "import matplotlib.pyplot as plt\n",
        " \n",
        "%config InlineBackend.figure_format = 'retina'\n",
        " \n",
        "!apt -qq -y install fonts-nanum\n",
        " \n",
        "import matplotlib.font_manager as fm\n",
        "\n",
        "fontpath = '/usr/share/fonts/truetype/nanum/NanumBarunGothic.ttf'\n",
        "font = fm.FontProperties(fname=fontpath, size=9)\n",
        "plt.rc('font', family='NanumBarunGothic') \n",
        "mpl.font_manager._rebuild()\n"
      ],
      "execution_count": 2,
      "outputs": [
        {
          "output_type": "stream",
          "text": [
            "fonts-nanum is already the newest version (20170925-1).\n",
            "0 upgraded, 0 newly installed, 0 to remove and 39 not upgraded.\n"
          ],
          "name": "stdout"
        }
      ]
    },
    {
      "cell_type": "markdown",
      "metadata": {
        "id": "JGWo4O5zcoqQ"
      },
      "source": [
        "[Step 1] 데이터 준비 - seaborn에서 제공하는 titanic 데이터셋 가져오기"
      ]
    },
    {
      "cell_type": "code",
      "metadata": {
        "id": "P0RNs4AGcuFw"
      },
      "source": [
        "# loda_dataset 함수를 사용하여 데이터프레임으로 변환\n",
        "df = sns.load_dataset('titanic')"
      ],
      "execution_count": 3,
      "outputs": []
    },
    {
      "cell_type": "markdown",
      "metadata": {
        "id": "s32-gwpjcz9F"
      },
      "source": [
        "[Step 2] 데이터 탐색 및 데이터 전처리"
      ]
    },
    {
      "cell_type": "code",
      "metadata": {
        "colab": {
          "base_uri": "https://localhost:8080/",
          "height": 223
        },
        "id": "hWHfWbJoc11z",
        "outputId": "f4086c89-0e9e-4f3f-9a2a-25092a6ba278"
      },
      "source": [
        "df.head()"
      ],
      "execution_count": 4,
      "outputs": [
        {
          "output_type": "execute_result",
          "data": {
            "text/html": [
              "<div>\n",
              "<style scoped>\n",
              "    .dataframe tbody tr th:only-of-type {\n",
              "        vertical-align: middle;\n",
              "    }\n",
              "\n",
              "    .dataframe tbody tr th {\n",
              "        vertical-align: top;\n",
              "    }\n",
              "\n",
              "    .dataframe thead th {\n",
              "        text-align: right;\n",
              "    }\n",
              "</style>\n",
              "<table border=\"1\" class=\"dataframe\">\n",
              "  <thead>\n",
              "    <tr style=\"text-align: right;\">\n",
              "      <th></th>\n",
              "      <th>survived</th>\n",
              "      <th>pclass</th>\n",
              "      <th>sex</th>\n",
              "      <th>age</th>\n",
              "      <th>sibsp</th>\n",
              "      <th>parch</th>\n",
              "      <th>fare</th>\n",
              "      <th>embarked</th>\n",
              "      <th>class</th>\n",
              "      <th>who</th>\n",
              "      <th>adult_male</th>\n",
              "      <th>deck</th>\n",
              "      <th>embark_town</th>\n",
              "      <th>alive</th>\n",
              "      <th>alone</th>\n",
              "    </tr>\n",
              "  </thead>\n",
              "  <tbody>\n",
              "    <tr>\n",
              "      <th>0</th>\n",
              "      <td>0</td>\n",
              "      <td>3</td>\n",
              "      <td>male</td>\n",
              "      <td>22.0</td>\n",
              "      <td>1</td>\n",
              "      <td>0</td>\n",
              "      <td>7.2500</td>\n",
              "      <td>S</td>\n",
              "      <td>Third</td>\n",
              "      <td>man</td>\n",
              "      <td>True</td>\n",
              "      <td>NaN</td>\n",
              "      <td>Southampton</td>\n",
              "      <td>no</td>\n",
              "      <td>False</td>\n",
              "    </tr>\n",
              "    <tr>\n",
              "      <th>1</th>\n",
              "      <td>1</td>\n",
              "      <td>1</td>\n",
              "      <td>female</td>\n",
              "      <td>38.0</td>\n",
              "      <td>1</td>\n",
              "      <td>0</td>\n",
              "      <td>71.2833</td>\n",
              "      <td>C</td>\n",
              "      <td>First</td>\n",
              "      <td>woman</td>\n",
              "      <td>False</td>\n",
              "      <td>C</td>\n",
              "      <td>Cherbourg</td>\n",
              "      <td>yes</td>\n",
              "      <td>False</td>\n",
              "    </tr>\n",
              "    <tr>\n",
              "      <th>2</th>\n",
              "      <td>1</td>\n",
              "      <td>3</td>\n",
              "      <td>female</td>\n",
              "      <td>26.0</td>\n",
              "      <td>0</td>\n",
              "      <td>0</td>\n",
              "      <td>7.9250</td>\n",
              "      <td>S</td>\n",
              "      <td>Third</td>\n",
              "      <td>woman</td>\n",
              "      <td>False</td>\n",
              "      <td>NaN</td>\n",
              "      <td>Southampton</td>\n",
              "      <td>yes</td>\n",
              "      <td>True</td>\n",
              "    </tr>\n",
              "    <tr>\n",
              "      <th>3</th>\n",
              "      <td>1</td>\n",
              "      <td>1</td>\n",
              "      <td>female</td>\n",
              "      <td>35.0</td>\n",
              "      <td>1</td>\n",
              "      <td>0</td>\n",
              "      <td>53.1000</td>\n",
              "      <td>S</td>\n",
              "      <td>First</td>\n",
              "      <td>woman</td>\n",
              "      <td>False</td>\n",
              "      <td>C</td>\n",
              "      <td>Southampton</td>\n",
              "      <td>yes</td>\n",
              "      <td>False</td>\n",
              "    </tr>\n",
              "    <tr>\n",
              "      <th>4</th>\n",
              "      <td>0</td>\n",
              "      <td>3</td>\n",
              "      <td>male</td>\n",
              "      <td>35.0</td>\n",
              "      <td>0</td>\n",
              "      <td>0</td>\n",
              "      <td>8.0500</td>\n",
              "      <td>S</td>\n",
              "      <td>Third</td>\n",
              "      <td>man</td>\n",
              "      <td>True</td>\n",
              "      <td>NaN</td>\n",
              "      <td>Southampton</td>\n",
              "      <td>no</td>\n",
              "      <td>True</td>\n",
              "    </tr>\n",
              "  </tbody>\n",
              "</table>\n",
              "</div>"
            ],
            "text/plain": [
              "   survived  pclass     sex   age  ...  deck  embark_town  alive  alone\n",
              "0         0       3    male  22.0  ...   NaN  Southampton     no  False\n",
              "1         1       1  female  38.0  ...     C    Cherbourg    yes  False\n",
              "2         1       3  female  26.0  ...   NaN  Southampton    yes   True\n",
              "3         1       1  female  35.0  ...     C  Southampton    yes  False\n",
              "4         0       3    male  35.0  ...   NaN  Southampton     no   True\n",
              "\n",
              "[5 rows x 15 columns]"
            ]
          },
          "metadata": {
            "tags": []
          },
          "execution_count": 4
        }
      ]
    },
    {
      "cell_type": "code",
      "metadata": {
        "colab": {
          "base_uri": "https://localhost:8080/"
        },
        "id": "eaNYWwg8dAy6",
        "outputId": "f1cfc7da-5a9a-4b5c-e28c-c3d74f61cf05"
      },
      "source": [
        "df.info()"
      ],
      "execution_count": 5,
      "outputs": [
        {
          "output_type": "stream",
          "text": [
            "<class 'pandas.core.frame.DataFrame'>\n",
            "RangeIndex: 891 entries, 0 to 890\n",
            "Data columns (total 15 columns):\n",
            " #   Column       Non-Null Count  Dtype   \n",
            "---  ------       --------------  -----   \n",
            " 0   survived     891 non-null    int64   \n",
            " 1   pclass       891 non-null    int64   \n",
            " 2   sex          891 non-null    object  \n",
            " 3   age          714 non-null    float64 \n",
            " 4   sibsp        891 non-null    int64   \n",
            " 5   parch        891 non-null    int64   \n",
            " 6   fare         891 non-null    float64 \n",
            " 7   embarked     889 non-null    object  \n",
            " 8   class        891 non-null    category\n",
            " 9   who          891 non-null    object  \n",
            " 10  adult_male   891 non-null    bool    \n",
            " 11  deck         203 non-null    category\n",
            " 12  embark_town  889 non-null    object  \n",
            " 13  alive        891 non-null    object  \n",
            " 14  alone        891 non-null    bool    \n",
            "dtypes: bool(2), category(2), float64(2), int64(4), object(5)\n",
            "memory usage: 80.6+ KB\n"
          ],
          "name": "stdout"
        }
      ]
    },
    {
      "cell_type": "code",
      "metadata": {
        "colab": {
          "base_uri": "https://localhost:8080/"
        },
        "id": "T10r9YhndH2A",
        "outputId": "65b8c18e-16fb-4924-8710-a082a745f04b"
      },
      "source": [
        "# NaN값이 많은 deck(객실 데크 위치) 열을 삭제, embarked와 내용이 겹치는 embark_town(승선 도시) 열을 삭제\n",
        "\n",
        "rdf = df.drop(['deck','embark_town'], axis=1) # 열을 삭제할거라 axis=1\n",
        "rdf.info()"
      ],
      "execution_count": 6,
      "outputs": [
        {
          "output_type": "stream",
          "text": [
            "<class 'pandas.core.frame.DataFrame'>\n",
            "RangeIndex: 891 entries, 0 to 890\n",
            "Data columns (total 13 columns):\n",
            " #   Column      Non-Null Count  Dtype   \n",
            "---  ------      --------------  -----   \n",
            " 0   survived    891 non-null    int64   \n",
            " 1   pclass      891 non-null    int64   \n",
            " 2   sex         891 non-null    object  \n",
            " 3   age         714 non-null    float64 \n",
            " 4   sibsp       891 non-null    int64   \n",
            " 5   parch       891 non-null    int64   \n",
            " 6   fare        891 non-null    float64 \n",
            " 7   embarked    889 non-null    object  \n",
            " 8   class       891 non-null    category\n",
            " 9   who         891 non-null    object  \n",
            " 10  adult_male  891 non-null    bool    \n",
            " 11  alive       891 non-null    object  \n",
            " 12  alone       891 non-null    bool    \n",
            "dtypes: bool(2), category(1), float64(2), int64(4), object(4)\n",
            "memory usage: 72.4+ KB\n"
          ],
          "name": "stdout"
        }
      ]
    },
    {
      "cell_type": "code",
      "metadata": {
        "colab": {
          "base_uri": "https://localhost:8080/"
        },
        "id": "WLh5h3h0dSLo",
        "outputId": "04e2555b-6398-4401-c908-8dad0aa700e2"
      },
      "source": [
        "# age 열에 나이 데이터가 없는 모든 행을 삭제 -> 177개 NaN 삭제\n",
        "rdf = rdf.dropna(subset=['age'],how='any', axis=0) # age 열을 기준으로 모든 데이터 삭제\n",
        "                                                   # axis=0 다 행이기 때문에\n",
        "rdf.info()"
      ],
      "execution_count": 7,
      "outputs": [
        {
          "output_type": "stream",
          "text": [
            "<class 'pandas.core.frame.DataFrame'>\n",
            "Int64Index: 714 entries, 0 to 890\n",
            "Data columns (total 13 columns):\n",
            " #   Column      Non-Null Count  Dtype   \n",
            "---  ------      --------------  -----   \n",
            " 0   survived    714 non-null    int64   \n",
            " 1   pclass      714 non-null    int64   \n",
            " 2   sex         714 non-null    object  \n",
            " 3   age         714 non-null    float64 \n",
            " 4   sibsp       714 non-null    int64   \n",
            " 5   parch       714 non-null    int64   \n",
            " 6   fare        714 non-null    float64 \n",
            " 7   embarked    712 non-null    object  \n",
            " 8   class       714 non-null    category\n",
            " 9   who         714 non-null    object  \n",
            " 10  adult_male  714 non-null    bool    \n",
            " 11  alive       714 non-null    object  \n",
            " 12  alone       714 non-null    bool    \n",
            "dtypes: bool(2), category(1), float64(2), int64(4), object(4)\n",
            "memory usage: 63.6+ KB\n"
          ],
          "name": "stdout"
        }
      ]
    },
    {
      "cell_type": "code",
      "metadata": {
        "colab": {
          "base_uri": "https://localhost:8080/",
          "height": 35
        },
        "id": "JDZKDLs_eVCo",
        "outputId": "4846eb03-aed8-4579-ee81-f52f9eeea844"
      },
      "source": [
        "# embarked 열의 NaN값을 승선도시 중에서 가장 많이 출현한 값 확인 -> 탑승한 도시의 첫글자\n",
        "most_freq = rdf['embarked'].value_counts(dropna=True).idxmax()\n",
        "most_freq"
      ],
      "execution_count": 9,
      "outputs": [
        {
          "output_type": "execute_result",
          "data": {
            "application/vnd.google.colaboratory.intrinsic+json": {
              "type": "string"
            },
            "text/plain": [
              "'S'"
            ]
          },
          "metadata": {
            "tags": []
          },
          "execution_count": 9
        }
      ]
    },
    {
      "cell_type": "code",
      "metadata": {
        "id": "TK6tH0T6eSik"
      },
      "source": [
        "# embarked 열의 NaN값을 승선도시 중에서 가장 많이 출현한 값으로 치환하기\n",
        "rdf['embarked'].fillna(most_freq, inplace=True)"
      ],
      "execution_count": 10,
      "outputs": []
    },
    {
      "cell_type": "markdown",
      "metadata": {
        "id": "jNTn64iOeX9D"
      },
      "source": [
        "[Step 3] 분석에 사용할 속성을 선택"
      ]
    },
    {
      "cell_type": "code",
      "metadata": {
        "colab": {
          "base_uri": "https://localhost:8080/",
          "height": 203
        },
        "id": "7CyjaqNXeY8w",
        "outputId": "568c3df0-4004-4067-ec4f-ed02b6f340fd"
      },
      "source": [
        "# 분석에 활용할 열(속성)을 선택 (생존 여부, 객실 등급, 성별, 나이, 타이타닉에 탑승한 형제 자매수,\n",
        "# 타이타닉에 탑승한 부모/자녀 수, 탑승한 곳(항구), C=Cherbourg, Q=Queenstown, S=Southhampton\n",
        "ndf = rdf[['survived','pclass','sex','age','sibsp','parch','embarked']]\n",
        "ndf.head()"
      ],
      "execution_count": 11,
      "outputs": [
        {
          "output_type": "execute_result",
          "data": {
            "text/html": [
              "<div>\n",
              "<style scoped>\n",
              "    .dataframe tbody tr th:only-of-type {\n",
              "        vertical-align: middle;\n",
              "    }\n",
              "\n",
              "    .dataframe tbody tr th {\n",
              "        vertical-align: top;\n",
              "    }\n",
              "\n",
              "    .dataframe thead th {\n",
              "        text-align: right;\n",
              "    }\n",
              "</style>\n",
              "<table border=\"1\" class=\"dataframe\">\n",
              "  <thead>\n",
              "    <tr style=\"text-align: right;\">\n",
              "      <th></th>\n",
              "      <th>survived</th>\n",
              "      <th>pclass</th>\n",
              "      <th>sex</th>\n",
              "      <th>age</th>\n",
              "      <th>sibsp</th>\n",
              "      <th>parch</th>\n",
              "      <th>embarked</th>\n",
              "    </tr>\n",
              "  </thead>\n",
              "  <tbody>\n",
              "    <tr>\n",
              "      <th>0</th>\n",
              "      <td>0</td>\n",
              "      <td>3</td>\n",
              "      <td>male</td>\n",
              "      <td>22.0</td>\n",
              "      <td>1</td>\n",
              "      <td>0</td>\n",
              "      <td>S</td>\n",
              "    </tr>\n",
              "    <tr>\n",
              "      <th>1</th>\n",
              "      <td>1</td>\n",
              "      <td>1</td>\n",
              "      <td>female</td>\n",
              "      <td>38.0</td>\n",
              "      <td>1</td>\n",
              "      <td>0</td>\n",
              "      <td>C</td>\n",
              "    </tr>\n",
              "    <tr>\n",
              "      <th>2</th>\n",
              "      <td>1</td>\n",
              "      <td>3</td>\n",
              "      <td>female</td>\n",
              "      <td>26.0</td>\n",
              "      <td>0</td>\n",
              "      <td>0</td>\n",
              "      <td>S</td>\n",
              "    </tr>\n",
              "    <tr>\n",
              "      <th>3</th>\n",
              "      <td>1</td>\n",
              "      <td>1</td>\n",
              "      <td>female</td>\n",
              "      <td>35.0</td>\n",
              "      <td>1</td>\n",
              "      <td>0</td>\n",
              "      <td>S</td>\n",
              "    </tr>\n",
              "    <tr>\n",
              "      <th>4</th>\n",
              "      <td>0</td>\n",
              "      <td>3</td>\n",
              "      <td>male</td>\n",
              "      <td>35.0</td>\n",
              "      <td>0</td>\n",
              "      <td>0</td>\n",
              "      <td>S</td>\n",
              "    </tr>\n",
              "  </tbody>\n",
              "</table>\n",
              "</div>"
            ],
            "text/plain": [
              "   survived  pclass     sex   age  sibsp  parch embarked\n",
              "0         0       3    male  22.0      1      0        S\n",
              "1         1       1  female  38.0      1      0        C\n",
              "2         1       3  female  26.0      0      0        S\n",
              "3         1       1  female  35.0      1      0        S\n",
              "4         0       3    male  35.0      0      0        S"
            ]
          },
          "metadata": {
            "tags": []
          },
          "execution_count": 11
        }
      ]
    },
    {
      "cell_type": "code",
      "metadata": {
        "colab": {
          "base_uri": "https://localhost:8080/",
          "height": 417
        },
        "id": "gTEuB0PvecDB",
        "outputId": "cf70e50b-b6d2-4430-8cb9-66ba7a09c8c8"
      },
      "source": [
        "# 원핫인코딩 - 범주형 데이터를 모형이 인식할 수 있도록 숫자형으로 변경\n",
        "# male, female -> [1,0],[0,1]\n",
        "# embarked c, Q, s -> [1,0,0],[0,1,0],[0,0,1]\n",
        "\n",
        "onehot_sex = pd.get_dummies(ndf['sex'])\n",
        "ndf = pd.concat([ndf,onehot_sex], axis=1)     # 데이터프레임 2개 합침\n",
        "\n",
        "onehot_embarked = pd.get_dummies(ndf['embarked'],prefix='town') # 그냥 s,q,c 만있으면 몰라서 \n",
        "ndf = pd.concat([ndf,onehot_embarked], axis=1)     # 데이터프레임 2개 합침\n",
        "\n",
        "ndf"
      ],
      "execution_count": 12,
      "outputs": [
        {
          "output_type": "execute_result",
          "data": {
            "text/html": [
              "<div>\n",
              "<style scoped>\n",
              "    .dataframe tbody tr th:only-of-type {\n",
              "        vertical-align: middle;\n",
              "    }\n",
              "\n",
              "    .dataframe tbody tr th {\n",
              "        vertical-align: top;\n",
              "    }\n",
              "\n",
              "    .dataframe thead th {\n",
              "        text-align: right;\n",
              "    }\n",
              "</style>\n",
              "<table border=\"1\" class=\"dataframe\">\n",
              "  <thead>\n",
              "    <tr style=\"text-align: right;\">\n",
              "      <th></th>\n",
              "      <th>survived</th>\n",
              "      <th>pclass</th>\n",
              "      <th>sex</th>\n",
              "      <th>age</th>\n",
              "      <th>sibsp</th>\n",
              "      <th>parch</th>\n",
              "      <th>embarked</th>\n",
              "      <th>female</th>\n",
              "      <th>male</th>\n",
              "      <th>town_C</th>\n",
              "      <th>town_Q</th>\n",
              "      <th>town_S</th>\n",
              "    </tr>\n",
              "  </thead>\n",
              "  <tbody>\n",
              "    <tr>\n",
              "      <th>0</th>\n",
              "      <td>0</td>\n",
              "      <td>3</td>\n",
              "      <td>male</td>\n",
              "      <td>22.0</td>\n",
              "      <td>1</td>\n",
              "      <td>0</td>\n",
              "      <td>S</td>\n",
              "      <td>0</td>\n",
              "      <td>1</td>\n",
              "      <td>0</td>\n",
              "      <td>0</td>\n",
              "      <td>1</td>\n",
              "    </tr>\n",
              "    <tr>\n",
              "      <th>1</th>\n",
              "      <td>1</td>\n",
              "      <td>1</td>\n",
              "      <td>female</td>\n",
              "      <td>38.0</td>\n",
              "      <td>1</td>\n",
              "      <td>0</td>\n",
              "      <td>C</td>\n",
              "      <td>1</td>\n",
              "      <td>0</td>\n",
              "      <td>1</td>\n",
              "      <td>0</td>\n",
              "      <td>0</td>\n",
              "    </tr>\n",
              "    <tr>\n",
              "      <th>2</th>\n",
              "      <td>1</td>\n",
              "      <td>3</td>\n",
              "      <td>female</td>\n",
              "      <td>26.0</td>\n",
              "      <td>0</td>\n",
              "      <td>0</td>\n",
              "      <td>S</td>\n",
              "      <td>1</td>\n",
              "      <td>0</td>\n",
              "      <td>0</td>\n",
              "      <td>0</td>\n",
              "      <td>1</td>\n",
              "    </tr>\n",
              "    <tr>\n",
              "      <th>3</th>\n",
              "      <td>1</td>\n",
              "      <td>1</td>\n",
              "      <td>female</td>\n",
              "      <td>35.0</td>\n",
              "      <td>1</td>\n",
              "      <td>0</td>\n",
              "      <td>S</td>\n",
              "      <td>1</td>\n",
              "      <td>0</td>\n",
              "      <td>0</td>\n",
              "      <td>0</td>\n",
              "      <td>1</td>\n",
              "    </tr>\n",
              "    <tr>\n",
              "      <th>4</th>\n",
              "      <td>0</td>\n",
              "      <td>3</td>\n",
              "      <td>male</td>\n",
              "      <td>35.0</td>\n",
              "      <td>0</td>\n",
              "      <td>0</td>\n",
              "      <td>S</td>\n",
              "      <td>0</td>\n",
              "      <td>1</td>\n",
              "      <td>0</td>\n",
              "      <td>0</td>\n",
              "      <td>1</td>\n",
              "    </tr>\n",
              "    <tr>\n",
              "      <th>...</th>\n",
              "      <td>...</td>\n",
              "      <td>...</td>\n",
              "      <td>...</td>\n",
              "      <td>...</td>\n",
              "      <td>...</td>\n",
              "      <td>...</td>\n",
              "      <td>...</td>\n",
              "      <td>...</td>\n",
              "      <td>...</td>\n",
              "      <td>...</td>\n",
              "      <td>...</td>\n",
              "      <td>...</td>\n",
              "    </tr>\n",
              "    <tr>\n",
              "      <th>885</th>\n",
              "      <td>0</td>\n",
              "      <td>3</td>\n",
              "      <td>female</td>\n",
              "      <td>39.0</td>\n",
              "      <td>0</td>\n",
              "      <td>5</td>\n",
              "      <td>Q</td>\n",
              "      <td>1</td>\n",
              "      <td>0</td>\n",
              "      <td>0</td>\n",
              "      <td>1</td>\n",
              "      <td>0</td>\n",
              "    </tr>\n",
              "    <tr>\n",
              "      <th>886</th>\n",
              "      <td>0</td>\n",
              "      <td>2</td>\n",
              "      <td>male</td>\n",
              "      <td>27.0</td>\n",
              "      <td>0</td>\n",
              "      <td>0</td>\n",
              "      <td>S</td>\n",
              "      <td>0</td>\n",
              "      <td>1</td>\n",
              "      <td>0</td>\n",
              "      <td>0</td>\n",
              "      <td>1</td>\n",
              "    </tr>\n",
              "    <tr>\n",
              "      <th>887</th>\n",
              "      <td>1</td>\n",
              "      <td>1</td>\n",
              "      <td>female</td>\n",
              "      <td>19.0</td>\n",
              "      <td>0</td>\n",
              "      <td>0</td>\n",
              "      <td>S</td>\n",
              "      <td>1</td>\n",
              "      <td>0</td>\n",
              "      <td>0</td>\n",
              "      <td>0</td>\n",
              "      <td>1</td>\n",
              "    </tr>\n",
              "    <tr>\n",
              "      <th>889</th>\n",
              "      <td>1</td>\n",
              "      <td>1</td>\n",
              "      <td>male</td>\n",
              "      <td>26.0</td>\n",
              "      <td>0</td>\n",
              "      <td>0</td>\n",
              "      <td>C</td>\n",
              "      <td>0</td>\n",
              "      <td>1</td>\n",
              "      <td>1</td>\n",
              "      <td>0</td>\n",
              "      <td>0</td>\n",
              "    </tr>\n",
              "    <tr>\n",
              "      <th>890</th>\n",
              "      <td>0</td>\n",
              "      <td>3</td>\n",
              "      <td>male</td>\n",
              "      <td>32.0</td>\n",
              "      <td>0</td>\n",
              "      <td>0</td>\n",
              "      <td>Q</td>\n",
              "      <td>0</td>\n",
              "      <td>1</td>\n",
              "      <td>0</td>\n",
              "      <td>1</td>\n",
              "      <td>0</td>\n",
              "    </tr>\n",
              "  </tbody>\n",
              "</table>\n",
              "<p>714 rows × 12 columns</p>\n",
              "</div>"
            ],
            "text/plain": [
              "     survived  pclass     sex   age  ...  male  town_C town_Q  town_S\n",
              "0           0       3    male  22.0  ...     1       0      0       1\n",
              "1           1       1  female  38.0  ...     0       1      0       0\n",
              "2           1       3  female  26.0  ...     0       0      0       1\n",
              "3           1       1  female  35.0  ...     0       0      0       1\n",
              "4           0       3    male  35.0  ...     1       0      0       1\n",
              "..        ...     ...     ...   ...  ...   ...     ...    ...     ...\n",
              "885         0       3  female  39.0  ...     0       0      1       0\n",
              "886         0       2    male  27.0  ...     1       0      0       1\n",
              "887         1       1  female  19.0  ...     0       0      0       1\n",
              "889         1       1    male  26.0  ...     1       1      0       0\n",
              "890         0       3    male  32.0  ...     1       0      1       0\n",
              "\n",
              "[714 rows x 12 columns]"
            ]
          },
          "metadata": {
            "tags": []
          },
          "execution_count": 12
        }
      ]
    },
    {
      "cell_type": "code",
      "metadata": {
        "colab": {
          "base_uri": "https://localhost:8080/",
          "height": 203
        },
        "id": "kJ08vxc7enYw",
        "outputId": "bbbedef8-8712-4c67-9af7-b73ea9f1bfc2"
      },
      "source": [
        "# 기존 칼럼 삭제\n",
        "ndf.drop(['sex','embarked'],axis=1, inplace=True)\n",
        "ndf.head()"
      ],
      "execution_count": 13,
      "outputs": [
        {
          "output_type": "execute_result",
          "data": {
            "text/html": [
              "<div>\n",
              "<style scoped>\n",
              "    .dataframe tbody tr th:only-of-type {\n",
              "        vertical-align: middle;\n",
              "    }\n",
              "\n",
              "    .dataframe tbody tr th {\n",
              "        vertical-align: top;\n",
              "    }\n",
              "\n",
              "    .dataframe thead th {\n",
              "        text-align: right;\n",
              "    }\n",
              "</style>\n",
              "<table border=\"1\" class=\"dataframe\">\n",
              "  <thead>\n",
              "    <tr style=\"text-align: right;\">\n",
              "      <th></th>\n",
              "      <th>survived</th>\n",
              "      <th>pclass</th>\n",
              "      <th>age</th>\n",
              "      <th>sibsp</th>\n",
              "      <th>parch</th>\n",
              "      <th>female</th>\n",
              "      <th>male</th>\n",
              "      <th>town_C</th>\n",
              "      <th>town_Q</th>\n",
              "      <th>town_S</th>\n",
              "    </tr>\n",
              "  </thead>\n",
              "  <tbody>\n",
              "    <tr>\n",
              "      <th>0</th>\n",
              "      <td>0</td>\n",
              "      <td>3</td>\n",
              "      <td>22.0</td>\n",
              "      <td>1</td>\n",
              "      <td>0</td>\n",
              "      <td>0</td>\n",
              "      <td>1</td>\n",
              "      <td>0</td>\n",
              "      <td>0</td>\n",
              "      <td>1</td>\n",
              "    </tr>\n",
              "    <tr>\n",
              "      <th>1</th>\n",
              "      <td>1</td>\n",
              "      <td>1</td>\n",
              "      <td>38.0</td>\n",
              "      <td>1</td>\n",
              "      <td>0</td>\n",
              "      <td>1</td>\n",
              "      <td>0</td>\n",
              "      <td>1</td>\n",
              "      <td>0</td>\n",
              "      <td>0</td>\n",
              "    </tr>\n",
              "    <tr>\n",
              "      <th>2</th>\n",
              "      <td>1</td>\n",
              "      <td>3</td>\n",
              "      <td>26.0</td>\n",
              "      <td>0</td>\n",
              "      <td>0</td>\n",
              "      <td>1</td>\n",
              "      <td>0</td>\n",
              "      <td>0</td>\n",
              "      <td>0</td>\n",
              "      <td>1</td>\n",
              "    </tr>\n",
              "    <tr>\n",
              "      <th>3</th>\n",
              "      <td>1</td>\n",
              "      <td>1</td>\n",
              "      <td>35.0</td>\n",
              "      <td>1</td>\n",
              "      <td>0</td>\n",
              "      <td>1</td>\n",
              "      <td>0</td>\n",
              "      <td>0</td>\n",
              "      <td>0</td>\n",
              "      <td>1</td>\n",
              "    </tr>\n",
              "    <tr>\n",
              "      <th>4</th>\n",
              "      <td>0</td>\n",
              "      <td>3</td>\n",
              "      <td>35.0</td>\n",
              "      <td>0</td>\n",
              "      <td>0</td>\n",
              "      <td>0</td>\n",
              "      <td>1</td>\n",
              "      <td>0</td>\n",
              "      <td>0</td>\n",
              "      <td>1</td>\n",
              "    </tr>\n",
              "  </tbody>\n",
              "</table>\n",
              "</div>"
            ],
            "text/plain": [
              "   survived  pclass   age  sibsp  parch  female  male  town_C  town_Q  town_S\n",
              "0         0       3  22.0      1      0       0     1       0       0       1\n",
              "1         1       1  38.0      1      0       1     0       1       0       0\n",
              "2         1       3  26.0      0      0       1     0       0       0       1\n",
              "3         1       1  35.0      1      0       1     0       0       0       1\n",
              "4         0       3  35.0      0      0       0     1       0       0       1"
            ]
          },
          "metadata": {
            "tags": []
          },
          "execution_count": 13
        }
      ]
    },
    {
      "cell_type": "markdown",
      "metadata": {
        "id": "ppYzWIz6eqPp"
      },
      "source": [
        "[Step 4] 데이터셋 구분 - 훈련용(train data)/검증용(test data)"
      ]
    },
    {
      "cell_type": "code",
      "metadata": {
        "id": "3c2u8v_weq94"
      },
      "source": [
        "# 속성(변수) 선택\n",
        "# ndf -> X, y 형태로 분리하는 작업 (문제집, 정답지)\n",
        "X = ndf[['pclass','age','sibsp','parch','female','male','town_C','town_Q','town_S']]\n",
        "y = ndf['survived']\n"
      ],
      "execution_count": 14,
      "outputs": []
    },
    {
      "cell_type": "code",
      "metadata": {
        "colab": {
          "base_uri": "https://localhost:8080/"
        },
        "id": "bnWyLSIQi3lJ",
        "outputId": "fd58d9f8-c5e2-40bc-b388-f962ccf44ea0"
      },
      "source": [
        "# 설명 변수(데이터, 문제집) 정규화 0~100까지 연령값이 많아서 -> 스케일링 0~1사이의 작은 값으로 축소\n",
        "# 모든 변수들 각 column 별로 0~1 사이로 스케일링\n",
        "from sklearn import preprocessing\n",
        "\n",
        "X = preprocessing.StandardScaler().fit(X).transform(X)\n",
        "X"
      ],
      "execution_count": 27,
      "outputs": [
        {
          "output_type": "execute_result",
          "data": {
            "text/plain": [
              "array([[ 0.91123237, -0.53037664,  0.52457013, ..., -0.47180795,\n",
              "        -0.20203051,  0.53307848],\n",
              "       [-1.47636364,  0.57183099,  0.52457013, ...,  2.11950647,\n",
              "        -0.20203051, -1.87589641],\n",
              "       [ 0.91123237, -0.25482473, -0.55170307, ..., -0.47180795,\n",
              "        -0.20203051,  0.53307848],\n",
              "       ...,\n",
              "       [-1.47636364, -0.73704057, -0.55170307, ..., -0.47180795,\n",
              "        -0.20203051,  0.53307848],\n",
              "       [-1.47636364, -0.25482473, -0.55170307, ...,  2.11950647,\n",
              "        -0.20203051, -1.87589641],\n",
              "       [ 0.91123237,  0.15850313, -0.55170307, ..., -0.47180795,\n",
              "         4.94974747, -1.87589641]])"
            ]
          },
          "metadata": {
            "tags": []
          },
          "execution_count": 27
        }
      ]
    },
    {
      "cell_type": "code",
      "metadata": {
        "colab": {
          "base_uri": "https://localhost:8080/"
        },
        "id": "C9od6QvoexD5",
        "outputId": "2793a6fa-f563-45b1-a1cd-21cabf0af3fd"
      },
      "source": [
        "from sklearn.model_selection import train_test_split\n",
        "\n",
        "X_train, X_test, y_train, y_test = train_test_split(X,y,test_size=0.3, random_state=42)\n",
        "\n",
        "print(X_train.shape)\n",
        "print(X_test.shape)"
      ],
      "execution_count": 28,
      "outputs": [
        {
          "output_type": "stream",
          "text": [
            "(499, 9)\n",
            "(215, 9)\n"
          ],
          "name": "stdout"
        }
      ]
    },
    {
      "cell_type": "markdown",
      "metadata": {
        "id": "UYptyabNgu_p"
      },
      "source": [
        "[Step 5] SVM 분류 모형 - sklearn 사용"
      ]
    },
    {
      "cell_type": "code",
      "metadata": {
        "id": "aGA25_tEgz50"
      },
      "source": [
        "# sklearn 라이브러리에서 svm 분류 모형 가져오기\n",
        "from sklearn import svm\n",
        "\n",
        "# 모형 객체 생성 (kernel='rbf' 적용)\n",
        "# 벡터 공간을 맵핑 하는 함수 -> radial basis function (RBF) 커널을 사용\n",
        "# 선형(linear), 다항식(poly), 가우시안 RBF(rbf) , 시그모이드(sigmoid)\n",
        "\n",
        "svm_model = svm.SVC(kernel='rbf') # 공간 개념인 벡터를 kernel이라고 함 그곳에 넣는것"
      ],
      "execution_count": 29,
      "outputs": []
    },
    {
      "cell_type": "code",
      "metadata": {
        "id": "bfX3UNt0hVJ1"
      },
      "source": [
        "# 훈련 데이터를 사용하여 모형 학습\n",
        "svm_model.fit(X_train, y_train)\n",
        "\n",
        "# 테스트 데이터를 사용하여 y_hat 예측\n",
        "y_hat = svm_model.predict(X_test)"
      ],
      "execution_count": 30,
      "outputs": []
    },
    {
      "cell_type": "markdown",
      "metadata": {
        "id": "TAih3NG9hm3U"
      },
      "source": [
        "[Step 6] 모형 성능 평가"
      ]
    },
    {
      "cell_type": "code",
      "metadata": {
        "colab": {
          "base_uri": "https://localhost:8080/"
        },
        "id": "4ADOlGWPhqaa",
        "outputId": "3b962c99-884c-4520-b31d-3fd138a02ec1"
      },
      "source": [
        "from sklearn import metrics\n",
        "\n",
        "print(\"테스트 세트 점수 : {:.2f}%\".format(svm_model.score(X_test, y_test)*100))"
      ],
      "execution_count": 31,
      "outputs": [
        {
          "output_type": "stream",
          "text": [
            "테스트 세트 점수 : 80.93%\n"
          ],
          "name": "stdout"
        }
      ]
    },
    {
      "cell_type": "code",
      "metadata": {
        "colab": {
          "base_uri": "https://localhost:8080/"
        },
        "id": "q0u86fjHiCIP",
        "outputId": "cc017c09-72f7-423b-b403-11b9d7ac6bd3"
      },
      "source": [
        "# 모형 성능 평가 - 평가지표 계산\n",
        "svm_report = metrics.classification_report(y_test, y_hat)\n",
        "print(svm_report)"
      ],
      "execution_count": 32,
      "outputs": [
        {
          "output_type": "stream",
          "text": [
            "              precision    recall  f1-score   support\n",
            "\n",
            "           0       0.79      0.91      0.85       126\n",
            "           1       0.84      0.66      0.74        89\n",
            "\n",
            "    accuracy                           0.81       215\n",
            "   macro avg       0.82      0.79      0.80       215\n",
            "weighted avg       0.81      0.81      0.80       215\n",
            "\n"
          ],
          "name": "stdout"
        }
      ]
    }
  ]
}