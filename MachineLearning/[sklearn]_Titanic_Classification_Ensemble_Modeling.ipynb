{
  "nbformat": 4,
  "nbformat_minor": 0,
  "metadata": {
    "colab": {
      "name": "[sklearn] Titanic Classification - Ensemble Modeling.ipynb",
      "provenance": []
    },
    "kernelspec": {
      "name": "python3",
      "display_name": "Python 3"
    },
    "language_info": {
      "name": "python"
    }
  },
  "cells": [
    {
      "cell_type": "markdown",
      "metadata": {
        "id": "N1haQTkDpqVQ"
      },
      "source": [
        "문제 정의 : 타이타닉 생존자 예측 데이터 셋 사용하여 유무를 예측하는 이진 분류 문제로 정의 <br>\n",
        "사망 : 0 , 생존 : 1"
      ]
    },
    {
      "cell_type": "markdown",
      "metadata": {
        "id": "gSoHaC5kphyP"
      },
      "source": [
        "라이브러리 임포트"
      ]
    },
    {
      "cell_type": "code",
      "metadata": {
        "id": "aRF35bk7qYI4"
      },
      "source": [
        "# Library for reading and handling the data\n",
        "import numpy as np\n",
        "import pandas as pd\n",
        "import re\n",
        "\n",
        "# Library for data visualization\n",
        "import matplotlib.pyplot as plt\n",
        "import seaborn as sns\n",
        "\n",
        "# Library for data preprocessing\n",
        "from sklearn.model_selection import train_test_split\n",
        "from sklearn.preprocessing import StandardScaler, OrdinalEncoder, OneHotEncoder\n",
        "from sklearn.base import BaseEstimator, TransformerMixin\n",
        "\n",
        "# Library for creating ML model\n",
        "from sklearn.linear_model import LogisticRegression\n",
        "from sklearn.tree import DecisionTreeClassifier\n",
        "from sklearn.ensemble import GradientBoostingClassifier\n",
        "from sklearn.ensemble import RandomForestClassifier\n",
        "\n",
        "# Library for Analysing the ML model\n",
        "from sklearn import metrics\n",
        "\n"
      ],
      "execution_count": null,
      "outputs": []
    },
    {
      "cell_type": "markdown",
      "metadata": {
        "id": "qnbjRrF4rCYp"
      },
      "source": [
        "데이터 준비하기"
      ]
    },
    {
      "cell_type": "code",
      "metadata": {
        "id": "HZuRrHYnr3Y2"
      },
      "source": [
        "train_path = 'train.csv'\n",
        "\n",
        "target = 'Survived'\n",
        "\n",
        "index = 'PassengerId'\n",
        "\n",
        "dtypes = ({\n",
        "    'Survived': bool, \n",
        "    'Pclass':   'category', \n",
        "    'Name':     'category',\n",
        "    'Sex':      'category',\n",
        "    'Age':      float,\n",
        "    'SibSp':    int,\n",
        "    'Parch':    int,\n",
        "    'Ticket':  'category',\n",
        "    'Fare':     float,\n",
        "    'Cabin':   'category',\n",
        "    'Embarked':'category'\n",
        "})\n",
        "\n",
        "titanic = pd.read_csv(train_path, index_col=index, dtype=dtypes)\n"
      ],
      "execution_count": null,
      "outputs": []
    },
    {
      "cell_type": "code",
      "metadata": {
        "colab": {
          "base_uri": "https://localhost:8080/"
        },
        "id": "jcnOiOTJsvcm",
        "outputId": "edc96706-5388-4417-f64a-32072f61744b"
      },
      "source": [
        "titanic.info()"
      ],
      "execution_count": null,
      "outputs": [
        {
          "output_type": "stream",
          "text": [
            "<class 'pandas.core.frame.DataFrame'>\n",
            "Int64Index: 891 entries, 1 to 891\n",
            "Data columns (total 11 columns):\n",
            " #   Column    Non-Null Count  Dtype   \n",
            "---  ------    --------------  -----   \n",
            " 0   Survived  891 non-null    bool    \n",
            " 1   Pclass    891 non-null    category\n",
            " 2   Name      891 non-null    category\n",
            " 3   Sex       891 non-null    category\n",
            " 4   Age       714 non-null    float64 \n",
            " 5   SibSp     891 non-null    int64   \n",
            " 6   Parch     891 non-null    int64   \n",
            " 7   Ticket    891 non-null    category\n",
            " 8   Fare      891 non-null    float64 \n",
            " 9   Cabin     204 non-null    category\n",
            " 10  Embarked  889 non-null    category\n",
            "dtypes: bool(1), category(6), float64(2), int64(2)\n",
            "memory usage: 122.2 KB\n"
          ],
          "name": "stdout"
        }
      ]
    },
    {
      "cell_type": "markdown",
      "metadata": {
        "id": "qItUzxkhtAIt"
      },
      "source": [
        "데이터 시각화"
      ]
    },
    {
      "cell_type": "code",
      "metadata": {
        "colab": {
          "base_uri": "https://localhost:8080/"
        },
        "id": "FxzRf2o7tGg1",
        "outputId": "5abe3523-2685-4bee-e052-dfb9167641ea"
      },
      "source": [
        "titanic['Survived'].value_counts()"
      ],
      "execution_count": null,
      "outputs": [
        {
          "output_type": "execute_result",
          "data": {
            "text/plain": [
              "False    549\n",
              "True     342\n",
              "Name: Survived, dtype: int64"
            ]
          },
          "metadata": {
            "tags": []
          },
          "execution_count": 4
        }
      ]
    },
    {
      "cell_type": "code",
      "metadata": {
        "colab": {
          "base_uri": "https://localhost:8080/",
          "height": 809
        },
        "id": "S7ssiAistVFN",
        "outputId": "c9405a06-54ac-4545-9e1d-b0c4b0ef1c6b"
      },
      "source": [
        "attributes = ['Survived','Sex','Pclass','Embarked','SibSp','Parch']\n",
        "\n",
        "plt.figure(figsize=(14,12), dpi=200)\n",
        "\n",
        "for i, feature in enumerate(attributes):\n",
        "  plt.subplot(3,3,i+1)\n",
        "  sns.countplot(data=titanic, x=feature, hue='Survived')\n",
        "\n",
        "sns.despine()"
      ],
      "execution_count": null,
      "outputs": [
        {
          "output_type": "display_data",
          "data": {
            "image/png": "[encoded data removed]",
            "text/plain": [
              "<Figure size 2800x2400 with 6 Axes>"
            ]
          },
          "metadata": {
            "tags": [],
            "needs_background": "light"
          }
        }
      ]
    },
    {
      "cell_type": "markdown",
      "metadata": {
        "id": "YPnbXuV0u-jp"
      },
      "source": [
        "데이터 전처리"
      ]
    },
    {
      "cell_type": "code",
      "metadata": {
        "colab": {
          "base_uri": "https://localhost:8080/"
        },
        "id": "knjI34sivA0u",
        "outputId": "13eaecba-b0f2-4781-bbcf-925ec3df8478"
      },
      "source": [
        "titanic['Name'].iloc[0:5]"
      ],
      "execution_count": null,
      "outputs": [
        {
          "output_type": "execute_result",
          "data": {
            "text/plain": [
              "PassengerId\n",
              "1                              Braund, Mr. Owen Harris\n",
              "2    Cumings, Mrs. John Bradley (Florence Briggs Th...\n",
              "3                               Heikkinen, Miss. Laina\n",
              "4         Futrelle, Mrs. Jacques Heath (Lily May Peel)\n",
              "5                             Allen, Mr. William Henry\n",
              "Name: Name, dtype: category\n",
              "Categories (891, object): ['Abbing, Mr. Anthony', 'Abbott, Mr. Rossmore Edward',\n",
              "                           'Abbott, Mrs. Stanton (Rosa Hunt)', 'Abelson, Mr. Samuel', ..., 'de Pelsmaeker, Mr. Alfons',\n",
              "                           'del Carlo, Mr. Sebastiano', 'van Billiard, Mr. Austin Blyler',\n",
              "                           'van Melkebeke, Mr. Philemon']"
            ]
          },
          "metadata": {
            "tags": []
          },
          "execution_count": 6
        }
      ]
    },
    {
      "cell_type": "code",
      "metadata": {
        "id": "PnHtrKlAvog1"
      },
      "source": [
        "def get_title(name):\n",
        "  return re.split(',|\\.',name)[1].strip()\n",
        "# ,|\\. 이 있는 이름 첫 번째의 공백을 제거하고 달라"
      ],
      "execution_count": null,
      "outputs": []
    },
    {
      "cell_type": "code",
      "metadata": {
        "id": "bFo-5pU_v5rd"
      },
      "source": [
        "# 이름에서 호칭 추출 (Miss, Mr, Mrs..)\n",
        "titanic['title'] = titanic['Name'].apply(get_title)"
      ],
      "execution_count": null,
      "outputs": []
    },
    {
      "cell_type": "code",
      "metadata": {
        "colab": {
          "base_uri": "https://localhost:8080/",
          "height": 234
        },
        "id": "3LzENbr_wI9K",
        "outputId": "4abcb956-79b9-455d-c500-169267dc7547"
      },
      "source": [
        "titanic.head()"
      ],
      "execution_count": null,
      "outputs": [
        {
          "output_type": "execute_result",
          "data": {
            "text/html": [
              "<div>\n",
              "<style scoped>\n",
              "    .dataframe tbody tr th:only-of-type {\n",
              "        vertical-align: middle;\n",
              "    }\n",
              "\n",
              "    .dataframe tbody tr th {\n",
              "        vertical-align: top;\n",
              "    }\n",
              "\n",
              "    .dataframe thead th {\n",
              "        text-align: right;\n",
              "    }\n",
              "</style>\n",
              "<table border=\"1\" class=\"dataframe\">\n",
              "  <thead>\n",
              "    <tr style=\"text-align: right;\">\n",
              "      <th></th>\n",
              "      <th>Survived</th>\n",
              "      <th>Pclass</th>\n",
              "      <th>Name</th>\n",
              "      <th>Sex</th>\n",
              "      <th>Age</th>\n",
              "      <th>SibSp</th>\n",
              "      <th>Parch</th>\n",
              "      <th>Ticket</th>\n",
              "      <th>Fare</th>\n",
              "      <th>Cabin</th>\n",
              "      <th>Embarked</th>\n",
              "      <th>title</th>\n",
              "    </tr>\n",
              "    <tr>\n",
              "      <th>PassengerId</th>\n",
              "      <th></th>\n",
              "      <th></th>\n",
              "      <th></th>\n",
              "      <th></th>\n",
              "      <th></th>\n",
              "      <th></th>\n",
              "      <th></th>\n",
              "      <th></th>\n",
              "      <th></th>\n",
              "      <th></th>\n",
              "      <th></th>\n",
              "      <th></th>\n",
              "    </tr>\n",
              "  </thead>\n",
              "  <tbody>\n",
              "    <tr>\n",
              "      <th>1</th>\n",
              "      <td>False</td>\n",
              "      <td>3</td>\n",
              "      <td>Braund, Mr. Owen Harris</td>\n",
              "      <td>male</td>\n",
              "      <td>22.0</td>\n",
              "      <td>1</td>\n",
              "      <td>0</td>\n",
              "      <td>A/5 21171</td>\n",
              "      <td>7.2500</td>\n",
              "      <td>NaN</td>\n",
              "      <td>S</td>\n",
              "      <td>Mr</td>\n",
              "    </tr>\n",
              "    <tr>\n",
              "      <th>2</th>\n",
              "      <td>True</td>\n",
              "      <td>1</td>\n",
              "      <td>Cumings, Mrs. John Bradley (Florence Briggs Th...</td>\n",
              "      <td>female</td>\n",
              "      <td>38.0</td>\n",
              "      <td>1</td>\n",
              "      <td>0</td>\n",
              "      <td>PC 17599</td>\n",
              "      <td>71.2833</td>\n",
              "      <td>C85</td>\n",
              "      <td>C</td>\n",
              "      <td>Mrs</td>\n",
              "    </tr>\n",
              "    <tr>\n",
              "      <th>3</th>\n",
              "      <td>True</td>\n",
              "      <td>3</td>\n",
              "      <td>Heikkinen, Miss. Laina</td>\n",
              "      <td>female</td>\n",
              "      <td>26.0</td>\n",
              "      <td>0</td>\n",
              "      <td>0</td>\n",
              "      <td>STON/O2. 3101282</td>\n",
              "      <td>7.9250</td>\n",
              "      <td>NaN</td>\n",
              "      <td>S</td>\n",
              "      <td>Miss</td>\n",
              "    </tr>\n",
              "    <tr>\n",
              "      <th>4</th>\n",
              "      <td>True</td>\n",
              "      <td>1</td>\n",
              "      <td>Futrelle, Mrs. Jacques Heath (Lily May Peel)</td>\n",
              "      <td>female</td>\n",
              "      <td>35.0</td>\n",
              "      <td>1</td>\n",
              "      <td>0</td>\n",
              "      <td>113803</td>\n",
              "      <td>53.1000</td>\n",
              "      <td>C123</td>\n",
              "      <td>S</td>\n",
              "      <td>Mrs</td>\n",
              "    </tr>\n",
              "    <tr>\n",
              "      <th>5</th>\n",
              "      <td>False</td>\n",
              "      <td>3</td>\n",
              "      <td>Allen, Mr. William Henry</td>\n",
              "      <td>male</td>\n",
              "      <td>35.0</td>\n",
              "      <td>0</td>\n",
              "      <td>0</td>\n",
              "      <td>373450</td>\n",
              "      <td>8.0500</td>\n",
              "      <td>NaN</td>\n",
              "      <td>S</td>\n",
              "      <td>Mr</td>\n",
              "    </tr>\n",
              "  </tbody>\n",
              "</table>\n",
              "</div>"
            ],
            "text/plain": [
              "             Survived Pclass  ... Embarked title\n",
              "PassengerId                   ...               \n",
              "1               False      3  ...        S    Mr\n",
              "2                True      1  ...        C   Mrs\n",
              "3                True      3  ...        S  Miss\n",
              "4                True      1  ...        S   Mrs\n",
              "5               False      3  ...        S    Mr\n",
              "\n",
              "[5 rows x 12 columns]"
            ]
          },
          "metadata": {
            "tags": []
          },
          "execution_count": 9
        }
      ]
    },
    {
      "cell_type": "code",
      "metadata": {
        "id": "qH42Hx7ywVSP"
      },
      "source": [
        "# 호칭이 생존에 과연 영향을 끼치는지 확인을 위해서 집계 함수 -> 카운트, 평균\n",
        "titles = titanic.groupby('title').agg({'Survived' : ['count','mean']})"
      ],
      "execution_count": null,
      "outputs": []
    },
    {
      "cell_type": "code",
      "metadata": {
        "id": "if9tjcGNxGFe"
      },
      "source": [
        "# Survived 컬럼 레이어 정리\n",
        "titles.columns = titles.columns.droplevel()"
      ],
      "execution_count": null,
      "outputs": []
    },
    {
      "cell_type": "code",
      "metadata": {
        "colab": {
          "base_uri": "https://localhost:8080/",
          "height": 603
        },
        "id": "emGxCKq_x8dv",
        "outputId": "997c60c2-ff84-4379-9b69-96d748481d69"
      },
      "source": [
        "# 생존 평균이 높은 순으로 정렬\n",
        "titles.sort_values('mean', ascending=False)"
      ],
      "execution_count": null,
      "outputs": [
        {
          "output_type": "execute_result",
          "data": {
            "text/html": [
              "<div>\n",
              "<style scoped>\n",
              "    .dataframe tbody tr th:only-of-type {\n",
              "        vertical-align: middle;\n",
              "    }\n",
              "\n",
              "    .dataframe tbody tr th {\n",
              "        vertical-align: top;\n",
              "    }\n",
              "\n",
              "    .dataframe thead th {\n",
              "        text-align: right;\n",
              "    }\n",
              "</style>\n",
              "<table border=\"1\" class=\"dataframe\">\n",
              "  <thead>\n",
              "    <tr style=\"text-align: right;\">\n",
              "      <th></th>\n",
              "      <th>count</th>\n",
              "      <th>mean</th>\n",
              "    </tr>\n",
              "    <tr>\n",
              "      <th>title</th>\n",
              "      <th></th>\n",
              "      <th></th>\n",
              "    </tr>\n",
              "  </thead>\n",
              "  <tbody>\n",
              "    <tr>\n",
              "      <th>the Countess</th>\n",
              "      <td>1</td>\n",
              "      <td>1.000000</td>\n",
              "    </tr>\n",
              "    <tr>\n",
              "      <th>Mlle</th>\n",
              "      <td>2</td>\n",
              "      <td>1.000000</td>\n",
              "    </tr>\n",
              "    <tr>\n",
              "      <th>Sir</th>\n",
              "      <td>1</td>\n",
              "      <td>1.000000</td>\n",
              "    </tr>\n",
              "    <tr>\n",
              "      <th>Ms</th>\n",
              "      <td>1</td>\n",
              "      <td>1.000000</td>\n",
              "    </tr>\n",
              "    <tr>\n",
              "      <th>Lady</th>\n",
              "      <td>1</td>\n",
              "      <td>1.000000</td>\n",
              "    </tr>\n",
              "    <tr>\n",
              "      <th>Mme</th>\n",
              "      <td>1</td>\n",
              "      <td>1.000000</td>\n",
              "    </tr>\n",
              "    <tr>\n",
              "      <th>Mrs</th>\n",
              "      <td>125</td>\n",
              "      <td>0.792000</td>\n",
              "    </tr>\n",
              "    <tr>\n",
              "      <th>Miss</th>\n",
              "      <td>182</td>\n",
              "      <td>0.697802</td>\n",
              "    </tr>\n",
              "    <tr>\n",
              "      <th>Master</th>\n",
              "      <td>40</td>\n",
              "      <td>0.575000</td>\n",
              "    </tr>\n",
              "    <tr>\n",
              "      <th>Col</th>\n",
              "      <td>2</td>\n",
              "      <td>0.500000</td>\n",
              "    </tr>\n",
              "    <tr>\n",
              "      <th>Major</th>\n",
              "      <td>2</td>\n",
              "      <td>0.500000</td>\n",
              "    </tr>\n",
              "    <tr>\n",
              "      <th>Dr</th>\n",
              "      <td>7</td>\n",
              "      <td>0.428571</td>\n",
              "    </tr>\n",
              "    <tr>\n",
              "      <th>Mr</th>\n",
              "      <td>517</td>\n",
              "      <td>0.156673</td>\n",
              "    </tr>\n",
              "    <tr>\n",
              "      <th>Jonkheer</th>\n",
              "      <td>1</td>\n",
              "      <td>0.000000</td>\n",
              "    </tr>\n",
              "    <tr>\n",
              "      <th>Rev</th>\n",
              "      <td>6</td>\n",
              "      <td>0.000000</td>\n",
              "    </tr>\n",
              "    <tr>\n",
              "      <th>Don</th>\n",
              "      <td>1</td>\n",
              "      <td>0.000000</td>\n",
              "    </tr>\n",
              "    <tr>\n",
              "      <th>Capt</th>\n",
              "      <td>1</td>\n",
              "      <td>0.000000</td>\n",
              "    </tr>\n",
              "  </tbody>\n",
              "</table>\n",
              "</div>"
            ],
            "text/plain": [
              "              count      mean\n",
              "title                        \n",
              "the Countess      1  1.000000\n",
              "Mlle              2  1.000000\n",
              "Sir               1  1.000000\n",
              "Ms                1  1.000000\n",
              "Lady              1  1.000000\n",
              "Mme               1  1.000000\n",
              "Mrs             125  0.792000\n",
              "Miss            182  0.697802\n",
              "Master           40  0.575000\n",
              "Col               2  0.500000\n",
              "Major             2  0.500000\n",
              "Dr                7  0.428571\n",
              "Mr              517  0.156673\n",
              "Jonkheer          1  0.000000\n",
              "Rev               6  0.000000\n",
              "Don               1  0.000000\n",
              "Capt              1  0.000000"
            ]
          },
          "metadata": {
            "tags": []
          },
          "execution_count": 12
        }
      ]
    },
    {
      "cell_type": "code",
      "metadata": {
        "id": "v5mmSSfcyXHI"
      },
      "source": [
        "# 호칭 추출이 되지 않은 title 값을 Other로 처리\n",
        "uncommon_titles = (['Don', 'Rev', 'Dr', 'Mme', 'Ms', 'Major', \n",
        "                    'Lady', 'Sir', 'Mlle', 'Col', 'Capt', \n",
        "                    'the Countess', 'Jonkheer'])\n",
        "\n",
        "titanic['title'] = titanic['title'].replace(uncommon_titles,'other')"
      ],
      "execution_count": null,
      "outputs": []
    },
    {
      "cell_type": "code",
      "metadata": {
        "colab": {
          "base_uri": "https://localhost:8080/",
          "height": 550
        },
        "id": "XETldj1tzFSX",
        "outputId": "b236d2b3-55c2-456f-9364-e75a944eb279"
      },
      "source": [
        "sns.catplot(x='title',kind='count',hue='Survived',\n",
        "            data=titanic, height=7)\n",
        "\n",
        "plt.tick_params(labelsize=12)\n",
        "plt.ylabel('Count', fontsize=14)\n",
        "plt.xlabel('Title',fontsize=14)\n",
        "plt.title('Survival by Title')\n",
        "plt.show()"
      ],
      "execution_count": null,
      "outputs": [
        {
          "output_type": "display_data",
          "data": {
            "image/png": "[encoded data removed]",
            "text/plain": [
              "<Figure size 565.25x504 with 1 Axes>"
            ]
          },
          "metadata": {
            "tags": [],
            "needs_background": "light"
          }
        }
      ]
    },
    {
      "cell_type": "code",
      "metadata": {
        "id": "ITAAHbFv0xcH"
      },
      "source": [
        "# 가족 사이즈 (fam_size) -> Sibsp(동승한 자매 or 배우자) + Parch(동승한 부모 or 자식수)\n",
        "titanic['fam_size'] = titanic['SibSp'] + titanic['Parch']"
      ],
      "execution_count": null,
      "outputs": []
    },
    {
      "cell_type": "code",
      "metadata": {
        "colab": {
          "base_uri": "https://localhost:8080/",
          "height": 550
        },
        "id": "pOFOufI31Q37",
        "outputId": "c84b8ffc-f9c0-4379-caee-0416addffa96"
      },
      "source": [
        "sns.catplot(x='fam_size',kind='count',hue='Survived',\n",
        "            data=titanic, height=7)\n",
        "\n",
        "plt.tick_params(labelsize=12)\n",
        "plt.ylabel('Count', fontsize=14)\n",
        "plt.xlabel('fam_size',fontsize=14)\n",
        "plt.title('Survival by fam_size')\n",
        "plt.show()"
      ],
      "execution_count": null,
      "outputs": [
        {
          "output_type": "display_data",
          "data": {
            "image/png": "[encoded data removed]",
            "text/plain": [
              "<Figure size 565.25x504 with 1 Axes>"
            ]
          },
          "metadata": {
            "tags": [],
            "needs_background": "light"
          }
        }
      ]
    },
    {
      "cell_type": "markdown",
      "metadata": {
        "id": "VdDq1fb22LjP"
      },
      "source": [
        "ML을 위한 전처리"
      ]
    },
    {
      "cell_type": "code",
      "metadata": {
        "id": "ERBGssYv2N1f"
      },
      "source": [
        "# 텍스트 데이터 삭제\n",
        "titanic = titanic.drop(['Name','Ticket','Cabin', 'Embarked','title'], axis=1)"
      ],
      "execution_count": null,
      "outputs": []
    },
    {
      "cell_type": "code",
      "metadata": {
        "colab": {
          "base_uri": "https://localhost:8080/",
          "height": 234
        },
        "id": "k6NxSXar2eSw",
        "outputId": "18fccde2-ad01-4be1-d59b-eb0ef729b743"
      },
      "source": [
        "titanic.head()"
      ],
      "execution_count": null,
      "outputs": [
        {
          "output_type": "execute_result",
          "data": {
            "text/html": [
              "<div>\n",
              "<style scoped>\n",
              "    .dataframe tbody tr th:only-of-type {\n",
              "        vertical-align: middle;\n",
              "    }\n",
              "\n",
              "    .dataframe tbody tr th {\n",
              "        vertical-align: top;\n",
              "    }\n",
              "\n",
              "    .dataframe thead th {\n",
              "        text-align: right;\n",
              "    }\n",
              "</style>\n",
              "<table border=\"1\" class=\"dataframe\">\n",
              "  <thead>\n",
              "    <tr style=\"text-align: right;\">\n",
              "      <th></th>\n",
              "      <th>Survived</th>\n",
              "      <th>Pclass</th>\n",
              "      <th>Sex</th>\n",
              "      <th>Age</th>\n",
              "      <th>SibSp</th>\n",
              "      <th>Parch</th>\n",
              "      <th>Fare</th>\n",
              "      <th>fam_size</th>\n",
              "    </tr>\n",
              "    <tr>\n",
              "      <th>PassengerId</th>\n",
              "      <th></th>\n",
              "      <th></th>\n",
              "      <th></th>\n",
              "      <th></th>\n",
              "      <th></th>\n",
              "      <th></th>\n",
              "      <th></th>\n",
              "      <th></th>\n",
              "    </tr>\n",
              "  </thead>\n",
              "  <tbody>\n",
              "    <tr>\n",
              "      <th>1</th>\n",
              "      <td>False</td>\n",
              "      <td>3</td>\n",
              "      <td>male</td>\n",
              "      <td>22.0</td>\n",
              "      <td>1</td>\n",
              "      <td>0</td>\n",
              "      <td>7.2500</td>\n",
              "      <td>1</td>\n",
              "    </tr>\n",
              "    <tr>\n",
              "      <th>2</th>\n",
              "      <td>True</td>\n",
              "      <td>1</td>\n",
              "      <td>female</td>\n",
              "      <td>38.0</td>\n",
              "      <td>1</td>\n",
              "      <td>0</td>\n",
              "      <td>71.2833</td>\n",
              "      <td>1</td>\n",
              "    </tr>\n",
              "    <tr>\n",
              "      <th>3</th>\n",
              "      <td>True</td>\n",
              "      <td>3</td>\n",
              "      <td>female</td>\n",
              "      <td>26.0</td>\n",
              "      <td>0</td>\n",
              "      <td>0</td>\n",
              "      <td>7.9250</td>\n",
              "      <td>0</td>\n",
              "    </tr>\n",
              "    <tr>\n",
              "      <th>4</th>\n",
              "      <td>True</td>\n",
              "      <td>1</td>\n",
              "      <td>female</td>\n",
              "      <td>35.0</td>\n",
              "      <td>1</td>\n",
              "      <td>0</td>\n",
              "      <td>53.1000</td>\n",
              "      <td>1</td>\n",
              "    </tr>\n",
              "    <tr>\n",
              "      <th>5</th>\n",
              "      <td>False</td>\n",
              "      <td>3</td>\n",
              "      <td>male</td>\n",
              "      <td>35.0</td>\n",
              "      <td>0</td>\n",
              "      <td>0</td>\n",
              "      <td>8.0500</td>\n",
              "      <td>0</td>\n",
              "    </tr>\n",
              "  </tbody>\n",
              "</table>\n",
              "</div>"
            ],
            "text/plain": [
              "             Survived Pclass     Sex   Age  SibSp  Parch     Fare  fam_size\n",
              "PassengerId                                                                \n",
              "1               False      3    male  22.0      1      0   7.2500         1\n",
              "2                True      1  female  38.0      1      0  71.2833         1\n",
              "3                True      3  female  26.0      0      0   7.9250         0\n",
              "4                True      1  female  35.0      1      0  53.1000         1\n",
              "5               False      3    male  35.0      0      0   8.0500         0"
            ]
          },
          "metadata": {
            "tags": []
          },
          "execution_count": 18
        }
      ]
    },
    {
      "cell_type": "code",
      "metadata": {
        "id": "EcYi-5I-20oW"
      },
      "source": [
        "# 여성을 1로 남성을 0으로 처리\n",
        "\n",
        "tmp = []\n",
        "for each in titanic['Sex']:\n",
        "  if each == 'female':\n",
        "    tmp.append(1)\n",
        "  elif each == 'male':\n",
        "    tmp.append(0)\n",
        "  else:\n",
        "    tmp.append(np.nan)\n",
        "\n",
        "titanic['Sex'] = tmp"
      ],
      "execution_count": null,
      "outputs": []
    },
    {
      "cell_type": "code",
      "metadata": {
        "colab": {
          "base_uri": "https://localhost:8080/",
          "height": 234
        },
        "id": "l0VJSQfs3rRR",
        "outputId": "f5fc17d5-6386-4ff8-98bb-f93e6f48f8c3"
      },
      "source": [
        "titanic.head()"
      ],
      "execution_count": null,
      "outputs": [
        {
          "output_type": "execute_result",
          "data": {
            "text/html": [
              "<div>\n",
              "<style scoped>\n",
              "    .dataframe tbody tr th:only-of-type {\n",
              "        vertical-align: middle;\n",
              "    }\n",
              "\n",
              "    .dataframe tbody tr th {\n",
              "        vertical-align: top;\n",
              "    }\n",
              "\n",
              "    .dataframe thead th {\n",
              "        text-align: right;\n",
              "    }\n",
              "</style>\n",
              "<table border=\"1\" class=\"dataframe\">\n",
              "  <thead>\n",
              "    <tr style=\"text-align: right;\">\n",
              "      <th></th>\n",
              "      <th>Survived</th>\n",
              "      <th>Pclass</th>\n",
              "      <th>Sex</th>\n",
              "      <th>Age</th>\n",
              "      <th>SibSp</th>\n",
              "      <th>Parch</th>\n",
              "      <th>Fare</th>\n",
              "      <th>fam_size</th>\n",
              "    </tr>\n",
              "    <tr>\n",
              "      <th>PassengerId</th>\n",
              "      <th></th>\n",
              "      <th></th>\n",
              "      <th></th>\n",
              "      <th></th>\n",
              "      <th></th>\n",
              "      <th></th>\n",
              "      <th></th>\n",
              "      <th></th>\n",
              "    </tr>\n",
              "  </thead>\n",
              "  <tbody>\n",
              "    <tr>\n",
              "      <th>1</th>\n",
              "      <td>False</td>\n",
              "      <td>3</td>\n",
              "      <td>0</td>\n",
              "      <td>22.0</td>\n",
              "      <td>1</td>\n",
              "      <td>0</td>\n",
              "      <td>7.2500</td>\n",
              "      <td>1</td>\n",
              "    </tr>\n",
              "    <tr>\n",
              "      <th>2</th>\n",
              "      <td>True</td>\n",
              "      <td>1</td>\n",
              "      <td>1</td>\n",
              "      <td>38.0</td>\n",
              "      <td>1</td>\n",
              "      <td>0</td>\n",
              "      <td>71.2833</td>\n",
              "      <td>1</td>\n",
              "    </tr>\n",
              "    <tr>\n",
              "      <th>3</th>\n",
              "      <td>True</td>\n",
              "      <td>3</td>\n",
              "      <td>1</td>\n",
              "      <td>26.0</td>\n",
              "      <td>0</td>\n",
              "      <td>0</td>\n",
              "      <td>7.9250</td>\n",
              "      <td>0</td>\n",
              "    </tr>\n",
              "    <tr>\n",
              "      <th>4</th>\n",
              "      <td>True</td>\n",
              "      <td>1</td>\n",
              "      <td>1</td>\n",
              "      <td>35.0</td>\n",
              "      <td>1</td>\n",
              "      <td>0</td>\n",
              "      <td>53.1000</td>\n",
              "      <td>1</td>\n",
              "    </tr>\n",
              "    <tr>\n",
              "      <th>5</th>\n",
              "      <td>False</td>\n",
              "      <td>3</td>\n",
              "      <td>0</td>\n",
              "      <td>35.0</td>\n",
              "      <td>0</td>\n",
              "      <td>0</td>\n",
              "      <td>8.0500</td>\n",
              "      <td>0</td>\n",
              "    </tr>\n",
              "  </tbody>\n",
              "</table>\n",
              "</div>"
            ],
            "text/plain": [
              "             Survived Pclass  Sex   Age  SibSp  Parch     Fare  fam_size\n",
              "PassengerId                                                             \n",
              "1               False      3    0  22.0      1      0   7.2500         1\n",
              "2                True      1    1  38.0      1      0  71.2833         1\n",
              "3                True      3    1  26.0      0      0   7.9250         0\n",
              "4                True      1    1  35.0      1      0  53.1000         1\n",
              "5               False      3    0  35.0      0      0   8.0500         0"
            ]
          },
          "metadata": {
            "tags": []
          },
          "execution_count": 20
        }
      ]
    },
    {
      "cell_type": "markdown",
      "metadata": {
        "id": "Wvq5NICZ7Tje"
      },
      "source": [
        "데이터 형변환 및 결손 데이터 처리"
      ]
    },
    {
      "cell_type": "code",
      "metadata": {
        "colab": {
          "base_uri": "https://localhost:8080/"
        },
        "id": "8L7ZFiYL7WCY",
        "outputId": "efb1e212-5223-43c2-a39c-7caeb8620190"
      },
      "source": [
        "# 데이터 형 변환 (소수점)\n",
        "titanic['Pclass'] = titanic['Pclass'].astype('float')\n",
        "titanic['Sex'] = titanic['Sex'].astype('float')\n",
        "titanic['SibSp'] = titanic['SibSp'].astype('float')\n",
        "titanic['Parch'] = titanic['Parch'].astype('float')\n",
        "titanic['Fare'] = titanic['Fare'].astype('float')\n",
        "\n",
        "#null(결손) 값인 경우 삭제\n",
        "titanic = titanic[titanic['Survived'].notnull()]\n",
        "titanic = titanic[titanic['Age'].notnull()]\n",
        "titanic = titanic[titanic['SibSp'].notnull()]\n",
        "titanic = titanic[titanic['Parch'].notnull()]\n",
        "titanic = titanic[titanic['Fare'].notnull()]\n",
        "\n",
        "titanic.info()"
      ],
      "execution_count": null,
      "outputs": [
        {
          "output_type": "stream",
          "text": [
            "<class 'pandas.core.frame.DataFrame'>\n",
            "Int64Index: 714 entries, 1 to 891\n",
            "Data columns (total 8 columns):\n",
            " #   Column    Non-Null Count  Dtype  \n",
            "---  ------    --------------  -----  \n",
            " 0   Survived  714 non-null    bool   \n",
            " 1   Pclass    714 non-null    float64\n",
            " 2   Sex       714 non-null    float64\n",
            " 3   Age       714 non-null    float64\n",
            " 4   SibSp     714 non-null    float64\n",
            " 5   Parch     714 non-null    float64\n",
            " 6   Fare      714 non-null    float64\n",
            " 7   fam_size  714 non-null    int64  \n",
            "dtypes: bool(1), float64(6), int64(1)\n",
            "memory usage: 45.3 KB\n"
          ],
          "name": "stdout"
        }
      ]
    },
    {
      "cell_type": "markdown",
      "metadata": {
        "id": "_6CIU3IU7sfK"
      },
      "source": [
        "데이터 분리하기 X(문제집), y(정답)"
      ]
    },
    {
      "cell_type": "code",
      "metadata": {
        "id": "aHUxvZBC7wU3"
      },
      "source": [
        "titanic_labels = titanic['Survived'].copy()\n",
        "titanic = titanic.drop('Survived', axis=1)"
      ],
      "execution_count": null,
      "outputs": []
    },
    {
      "cell_type": "markdown",
      "metadata": {
        "id": "9mT-GCYG78ii"
      },
      "source": [
        "훈련 데이터, 테스트데이터셋 분리하기"
      ]
    },
    {
      "cell_type": "code",
      "metadata": {
        "id": "y7ZVyVkN7_Yb"
      },
      "source": [
        "X_train, X_test, y_train, y_test = train_test_split(titanic,\n",
        "                                                    titanic_labels,\n",
        "                                                    train_size=0.8)"
      ],
      "execution_count": null,
      "outputs": []
    },
    {
      "cell_type": "markdown",
      "metadata": {
        "id": "iL2eT5ri8WGx"
      },
      "source": [
        "머신러닝 모델 구축 -1) LogisticRegression"
      ]
    },
    {
      "cell_type": "code",
      "metadata": {
        "id": "IvLNHfw18bkQ"
      },
      "source": [
        "log_reg = LogisticRegression().fit(X_train,y_train)"
      ],
      "execution_count": null,
      "outputs": []
    },
    {
      "cell_type": "code",
      "metadata": {
        "colab": {
          "base_uri": "https://localhost:8080/"
        },
        "id": "B6VYQQdp8gK4",
        "outputId": "88cc4b1b-a78c-4bdc-8ef2-beaaad0a7265"
      },
      "source": [
        "# 정확도 확인\n",
        "print('Train data Score:', log_reg.score(X_train,y_train))\n",
        "print('Test data Score:', log_reg.score(X_test,y_test))"
      ],
      "execution_count": null,
      "outputs": [
        {
          "output_type": "stream",
          "text": [
            "Train data Score: 0.7985989492119089\n",
            "Test data Score: 0.7972027972027972\n"
          ],
          "name": "stdout"
        }
      ]
    },
    {
      "cell_type": "markdown",
      "metadata": {
        "id": "QXCCAVoz8kp-"
      },
      "source": [
        "머신러닝 모델 구축 - 2) Decision Tree"
      ]
    },
    {
      "cell_type": "code",
      "metadata": {
        "id": "T1V0PBls8lHf"
      },
      "source": [
        "tree = DecisionTreeClassifier(max_depth=5,\n",
        "                              min_samples_leaf=20,\n",
        "                              min_samples_split=40).fit(X_train,y_train)"
      ],
      "execution_count": null,
      "outputs": []
    },
    {
      "cell_type": "code",
      "metadata": {
        "colab": {
          "base_uri": "https://localhost:8080/"
        },
        "id": "-PwIKrlE8pEk",
        "outputId": "390f6a01-4b1f-4fca-95a8-7f0061e015f4"
      },
      "source": [
        "# 정확도 확인\n",
        "print('Train data Score:', tree.score(X_train,y_train))\n",
        "print('Test data Score:', tree.score(X_test,y_test))"
      ],
      "execution_count": null,
      "outputs": [
        {
          "output_type": "stream",
          "text": [
            "Train data Score: 0.8178633975481612\n",
            "Test data Score: 0.7692307692307693\n"
          ],
          "name": "stdout"
        }
      ]
    },
    {
      "cell_type": "markdown",
      "metadata": {
        "id": "ix2bz4IJ89KY"
      },
      "source": [
        "머신러닝 모델 구축 - 3) GradientBoostingClassfier"
      ]
    },
    {
      "cell_type": "code",
      "metadata": {
        "id": "MgARffin9A9Y"
      },
      "source": [
        "boost = GradientBoostingClassifier(max_depth=3,\n",
        "                                   learning_rate=0.05).fit(X_train,y_train)"
      ],
      "execution_count": null,
      "outputs": []
    },
    {
      "cell_type": "code",
      "metadata": {
        "colab": {
          "base_uri": "https://localhost:8080/"
        },
        "id": "26xKmBfP9Cyo",
        "outputId": "baf69bf0-050d-4ac1-9517-79c6127786c9"
      },
      "source": [
        "# 정확도 확인\n",
        "print('Train data Score:', boost.score(X_train,y_train))\n",
        "print('Test data Score:', boost.score(X_test,y_test))"
      ],
      "execution_count": null,
      "outputs": [
        {
          "output_type": "stream",
          "text": [
            "Train data Score: 0.8704028021015762\n",
            "Test data Score: 0.8111888111888111\n"
          ],
          "name": "stdout"
        }
      ]
    },
    {
      "cell_type": "markdown",
      "metadata": {
        "id": "h-yz__LL9M33"
      },
      "source": [
        "머신러닝 모델 구축 -4) RandomForestClassifier"
      ]
    },
    {
      "cell_type": "code",
      "metadata": {
        "id": "tdyfKRZD9Sj4"
      },
      "source": [
        "random = RandomForestClassifier(n_estimators=300,\n",
        "                                random_state=0).fit(X_train,y_train)"
      ],
      "execution_count": null,
      "outputs": []
    },
    {
      "cell_type": "code",
      "metadata": {
        "colab": {
          "base_uri": "https://localhost:8080/"
        },
        "id": "ICW7FBXM9cXW",
        "outputId": "bb1539fe-09f6-43f0-8a85-50bddf8f101d"
      },
      "source": [
        "# 정확도 확인\n",
        "print('Train data Score:', random.score(X_train,y_train))\n",
        "print('Test data Score:', random.score(X_test,y_test))"
      ],
      "execution_count": null,
      "outputs": [
        {
          "output_type": "stream",
          "text": [
            "Train data Score: 0.9912434325744308\n",
            "Test data Score: 0.7692307692307693\n"
          ],
          "name": "stdout"
        }
      ]
    },
    {
      "cell_type": "markdown",
      "metadata": {
        "id": "TJxuHS6sAgHD"
      },
      "source": [
        "성능평가 - ROC 커브"
      ]
    },
    {
      "cell_type": "code",
      "metadata": {
        "id": "DBUPj_GVAjQE"
      },
      "source": [
        "def plot_auc_roc(model):\n",
        "    probs = model.predict_proba(X_test)\n",
        "    preds = probs[:,1]\n",
        "    fpr, tpr, threshold = metrics.roc_curve(y_test, preds)\n",
        "    roc_auc = metrics.auc(fpr, tpr)\n",
        "\n",
        "    # method I: plt\n",
        "    import matplotlib.pyplot as plt\n",
        "    plt.title('Receiver Operating Characteristic')\n",
        "    plt.plot(fpr, tpr, 'b', label = 'AUC = %0.2f' % roc_auc)\n",
        "    plt.legend(loc = 'lower right')\n",
        "    plt.plot([0, 1], [0, 1],'r--')\n",
        "    plt.xlim([0, 1])\n",
        "    plt.ylim([0, 1])\n",
        "    plt.ylabel('True Positive Rate')\n",
        "    plt.xlabel('False Positive Rate')\n",
        "    plt.show()"
      ],
      "execution_count": null,
      "outputs": []
    },
    {
      "cell_type": "code",
      "metadata": {
        "colab": {
          "base_uri": "https://localhost:8080/",
          "height": 295
        },
        "id": "oocb6pISAl4o",
        "outputId": "b502fd4a-9cd8-44a2-b3bc-c10157d8ac1c"
      },
      "source": [
        "# Logistic Regression ROC \n",
        "plot_auc_roc(log_reg)"
      ],
      "execution_count": null,
      "outputs": [
        {
          "output_type": "display_data",
          "data": {
            "image/png": "[encoded data removed]",
            "text/plain": [
              "<Figure size 432x288 with 1 Axes>"
            ]
          },
          "metadata": {
            "tags": [],
            "needs_background": "light"
          }
        }
      ]
    },
    {
      "cell_type": "code",
      "metadata": {
        "colab": {
          "base_uri": "https://localhost:8080/",
          "height": 295
        },
        "id": "8pKF_z7lA_5l",
        "outputId": "14d5409b-cf25-4a49-97f6-d4267e1e8d1d"
      },
      "source": [
        "# Decision Tree ROC \n",
        "plot_auc_roc(tree)"
      ],
      "execution_count": null,
      "outputs": [
        {
          "output_type": "display_data",
          "data": {
            "image/png": "[encoded data removed]",
            "text/plain": [
              "<Figure size 432x288 with 1 Axes>"
            ]
          },
          "metadata": {
            "tags": [],
            "needs_background": "light"
          }
        }
      ]
    },
    {
      "cell_type": "code",
      "metadata": {
        "colab": {
          "base_uri": "https://localhost:8080/",
          "height": 295
        },
        "id": "0OFt2v18BHby",
        "outputId": "3319d83e-d7fd-4d0d-acf6-96f8685984be"
      },
      "source": [
        "# GradientBoosting ROC \n",
        "plot_auc_roc(boost)"
      ],
      "execution_count": null,
      "outputs": [
        {
          "output_type": "display_data",
          "data": {
            "image/png": "[encoded data removed]",
            "text/plain": [
              "<Figure size 432x288 with 1 Axes>"
            ]
          },
          "metadata": {
            "tags": [],
            "needs_background": "light"
          }
        }
      ]
    },
    {
      "cell_type": "code",
      "metadata": {
        "colab": {
          "base_uri": "https://localhost:8080/",
          "height": 295
        },
        "id": "MaCtgWMXBLvZ",
        "outputId": "bb1823cf-0cb3-4413-8f65-2e8121deb041"
      },
      "source": [
        "# GradientBoosting ROC \n",
        "plot_auc_roc(random)"
      ],
      "execution_count": null,
      "outputs": [
        {
          "output_type": "display_data",
          "data": {
            "image/png": "[encoded data removed]",
            "text/plain": [
              "<Figure size 432x288 with 1 Axes>"
            ]
          },
          "metadata": {
            "tags": [],
            "needs_background": "light"
          }
        }
      ]
    },
    {
      "cell_type": "markdown",
      "metadata": {
        "id": "kgXJwZSYCqoS"
      },
      "source": [
        "성능평가 - 평가 지표(classification_report)"
      ]
    },
    {
      "cell_type": "code",
      "metadata": {
        "colab": {
          "base_uri": "https://localhost:8080/"
        },
        "id": "vF-xartrCX0w",
        "outputId": "db2a397d-0d60-4221-971c-5a33bbec2fd5"
      },
      "source": [
        "# Logistic Regression 평가 지표\n",
        "lg_y_hat = log_reg.predict(X_test)\n",
        "lg_report = metrics.classification_report(y_test, lg_y_hat)\n",
        "print('Logistic Regression 평가 지표')\n",
        "print(lg_report)\n",
        "print('accuracy', metrics.accuracy_score(y_test,lg_y_hat) )\n",
        "print('precision', metrics.precision_score(y_test,lg_y_hat) )\n",
        "print('recall', metrics.recall_score(y_test,lg_y_hat) )\n",
        "print('f1', metrics.f1_score(y_test,lg_y_hat) )"
      ],
      "execution_count": null,
      "outputs": [
        {
          "output_type": "stream",
          "text": [
            "Logistic Regression 평가 지표\n",
            "              precision    recall  f1-score   support\n",
            "\n",
            "       False       0.83      0.82      0.82        82\n",
            "        True       0.76      0.77      0.76        61\n",
            "\n",
            "    accuracy                           0.80       143\n",
            "   macro avg       0.79      0.79      0.79       143\n",
            "weighted avg       0.80      0.80      0.80       143\n",
            "\n",
            "accuracy 0.7972027972027972\n",
            "precision 0.7580645161290323\n",
            "recall 0.7704918032786885\n",
            "f1 0.7642276422764228\n"
          ],
          "name": "stdout"
        }
      ]
    },
    {
      "cell_type": "code",
      "metadata": {
        "colab": {
          "base_uri": "https://localhost:8080/"
        },
        "id": "Q7D7iM4TCaUY",
        "outputId": "8d3c2484-390f-4729-a9af-18ea2e41c1af"
      },
      "source": [
        "# Decision Tree 평가 지표\n",
        "tree_y_hat = tree.predict(X_test)\n",
        "tree_report = metrics.classification_report(y_test, tree_y_hat)\n",
        "print('Logistic Regression 평가 지표')\n",
        "print(tree_report)\n",
        "print('accuracy', metrics.accuracy_score(y_test,tree_y_hat) )\n",
        "print('precision', metrics.precision_score(y_test,tree_y_hat) )\n",
        "print('recall', metrics.recall_score(y_test,tree_y_hat) )\n",
        "print('f1', metrics.f1_score(y_test,tree_y_hat) )"
      ],
      "execution_count": null,
      "outputs": [
        {
          "output_type": "stream",
          "text": [
            "Logistic Regression 평가 지표\n",
            "              precision    recall  f1-score   support\n",
            "\n",
            "       False       0.80      0.80      0.80        82\n",
            "        True       0.73      0.72      0.73        61\n",
            "\n",
            "    accuracy                           0.77       143\n",
            "   macro avg       0.76      0.76      0.76       143\n",
            "weighted avg       0.77      0.77      0.77       143\n",
            "\n",
            "accuracy 0.7692307692307693\n",
            "precision 0.7333333333333333\n",
            "recall 0.7213114754098361\n",
            "f1 0.7272727272727273\n"
          ],
          "name": "stdout"
        }
      ]
    },
    {
      "cell_type": "code",
      "metadata": {
        "colab": {
          "base_uri": "https://localhost:8080/"
        },
        "id": "01-FV8F0CdyI",
        "outputId": "1c81e63a-f24d-4198-fcc6-4ad53984f3b0"
      },
      "source": [
        "# GradientBoosting 평가 지표\n",
        "boost_y_hat = boost.predict(X_test)\n",
        "boost_report = metrics.classification_report(y_test, boost_y_hat)\n",
        "print('Logistic Regression 평가 지표')\n",
        "print(boost_report)\n",
        "print('accuracy', metrics.accuracy_score(y_test,boost_y_hat) )\n",
        "print('precision', metrics.precision_score(y_test,boost_y_hat) )\n",
        "print('recall', metrics.recall_score(y_test,boost_y_hat) )\n",
        "print('f1', metrics.f1_score(y_test,boost_y_hat))"
      ],
      "execution_count": null,
      "outputs": [
        {
          "output_type": "stream",
          "text": [
            "Logistic Regression 평가 지표\n",
            "              precision    recall  f1-score   support\n",
            "\n",
            "       False       0.79      0.91      0.85        82\n",
            "        True       0.85      0.67      0.75        61\n",
            "\n",
            "    accuracy                           0.81       143\n",
            "   macro avg       0.82      0.79      0.80       143\n",
            "weighted avg       0.82      0.81      0.81       143\n",
            "\n",
            "accuracy 0.8111888111888111\n",
            "precision 0.8541666666666666\n",
            "recall 0.6721311475409836\n",
            "f1 0.7522935779816513\n"
          ],
          "name": "stdout"
        }
      ]
    },
    {
      "cell_type": "code",
      "metadata": {
        "colab": {
          "base_uri": "https://localhost:8080/"
        },
        "id": "NrqHf8NKD1ui",
        "outputId": "29dc09d0-3a74-459d-c466-139e749ea5af"
      },
      "source": [
        "# RandomForest 평가 지표\n",
        "random_y_hat = boost.predict(X_test)\n",
        "random_report = metrics.classification_report(y_test, random_y_hat)\n",
        "print('Logistic Regression 평가 지표')\n",
        "print(boost_report)\n",
        "print('accuracy', metrics.accuracy_score(y_test,random_y_hat) )\n",
        "print('precision', metrics.precision_score(y_test,random_y_hat) )\n",
        "print('recall', metrics.recall_score(y_test,random_y_hat) )\n",
        "print('f1', metrics.f1_score(y_test,random_y_hat))"
      ],
      "execution_count": null,
      "outputs": [
        {
          "output_type": "stream",
          "text": [
            "Logistic Regression 평가 지표\n",
            "              precision    recall  f1-score   support\n",
            "\n",
            "       False       0.79      0.91      0.85        82\n",
            "        True       0.85      0.67      0.75        61\n",
            "\n",
            "    accuracy                           0.81       143\n",
            "   macro avg       0.82      0.79      0.80       143\n",
            "weighted avg       0.82      0.81      0.81       143\n",
            "\n",
            "accuracy 0.8111888111888111\n",
            "precision 0.8541666666666666\n",
            "recall 0.6721311475409836\n",
            "f1 0.7522935779816513\n"
          ],
          "name": "stdout"
        }
      ]
    },
    {
      "cell_type": "markdown",
      "metadata": {
        "id": "3w5CVPJgCsZj"
      },
      "source": [
        "성능평가 - precision_score, recall_score 각 모델별로 추출한 후 그래프로 시각화"
      ]
    },
    {
      "cell_type": "code",
      "metadata": {
        "id": "johL9GxoBsCY"
      },
      "source": [
        "precision_list = []\n",
        "recall_list = []\n",
        "\n",
        "precision_list.append(metrics.precision_score(y_test,lg_y_hat))\n",
        "recall_list.append(metrics.recall_score(y_test,lg_y_hat))\n",
        "\n",
        "precision_list.append(metrics.precision_score(y_test,tree_y_hat))\n",
        "recall_list.append(metrics.recall_score(y_test,tree_y_hat))\n",
        "\n",
        "precision_list.append(metrics.precision_score(y_test,boost_y_hat))\n",
        "recall_list.append(metrics.recall_score(y_test,boost_y_hat))\n",
        "\n",
        "precision_list.append(metrics.precision_score(y_test,random_y_hat))\n",
        "recall_list.append(metrics.recall_score(y_test,random_y_hat))"
      ],
      "execution_count": null,
      "outputs": []
    },
    {
      "cell_type": "code",
      "metadata": {
        "colab": {
          "base_uri": "https://localhost:8080/",
          "height": 265
        },
        "id": "vVXYN8rZCiCX",
        "outputId": "5a6827e8-f437-48ce-915f-5d5f03c351a7"
      },
      "source": [
        "plt.plot(['lg','tree','boost','random'],precision_list, label='precision')\n",
        "plt.plot(['lg','tree','boost','random'],recall_list, label='recall')\n",
        "plt.legend()\n",
        "plt.show()"
      ],
      "execution_count": null,
      "outputs": [
        {
          "output_type": "display_data",
          "data": {
            "image/png": "[encoded data removed]",
            "text/plain": [
              "<Figure size 432x288 with 1 Axes>"
            ]
          },
          "metadata": {
            "tags": [],
            "needs_background": "light"
          }
        }
      ]
    }
  ]
}