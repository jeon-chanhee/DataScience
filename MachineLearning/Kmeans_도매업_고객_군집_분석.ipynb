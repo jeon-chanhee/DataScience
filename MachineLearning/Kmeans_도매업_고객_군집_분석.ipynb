{
  "nbformat": 4,
  "nbformat_minor": 0,
  "metadata": {
    "colab": {
      "name": "Kmeans 도매업 고객 군집 분석.ipynb",
      "provenance": [],
      "collapsed_sections": []
    },
    "kernelspec": {
      "name": "python3",
      "display_name": "Python 3"
    },
    "language_info": {
      "name": "python"
    }
  },
  "cells": [
    {
      "cell_type": "markdown",
      "metadata": {
        "id": "4JOdfcwWKhrB"
      },
      "source": [
        "문제 정의 : 도매업 고객(wholesale customers) 데이터 셋을 활용한 군집 분석"
      ]
    },
    {
      "cell_type": "code",
      "metadata": {
        "id": "Ca0IYOzRBwwN"
      },
      "source": [
        "# 기본 라이브러리 불러오기\n",
        "import pandas as pd\n",
        "import matplotlib.pyplot as plt"
      ],
      "execution_count": 1,
      "outputs": []
    },
    {
      "cell_type": "markdown",
      "metadata": {
        "id": "-uLoiTzBKuxJ"
      },
      "source": [
        "[Step 1] 데이터 준비하기"
      ]
    },
    {
      "cell_type": "code",
      "metadata": {
        "id": "1R5ITifFKxiE"
      },
      "source": [
        "# Wholesale customers 데이터셋 가져오기 (출처: UCI ML Repository)\n",
        "uci_path = 'https://archive.ics.uci.edu/ml/machine-learning-databases/\\\n",
        "00292/Wholesale%20customers%20data.csv'\n",
        "df = pd.read_csv(uci_path, header=0)"
      ],
      "execution_count": 2,
      "outputs": []
    },
    {
      "cell_type": "markdown",
      "metadata": {
        "id": "fhvCAgsoK4tB"
      },
      "source": [
        "[Step 2] 데이터 탐색"
      ]
    },
    {
      "cell_type": "code",
      "metadata": {
        "colab": {
          "base_uri": "https://localhost:8080/",
          "height": 203
        },
        "id": "qFEmw6P_K7U4",
        "outputId": "f531741c-b633-4174-e71a-fa95657abbfa"
      },
      "source": [
        "# 데이터 살펴보기\n",
        "df.head()"
      ],
      "execution_count": 3,
      "outputs": [
        {
          "output_type": "execute_result",
          "data": {
            "text/html": [
              "<div>\n",
              "<style scoped>\n",
              "    .dataframe tbody tr th:only-of-type {\n",
              "        vertical-align: middle;\n",
              "    }\n",
              "\n",
              "    .dataframe tbody tr th {\n",
              "        vertical-align: top;\n",
              "    }\n",
              "\n",
              "    .dataframe thead th {\n",
              "        text-align: right;\n",
              "    }\n",
              "</style>\n",
              "<table border=\"1\" class=\"dataframe\">\n",
              "  <thead>\n",
              "    <tr style=\"text-align: right;\">\n",
              "      <th></th>\n",
              "      <th>Channel</th>\n",
              "      <th>Region</th>\n",
              "      <th>Fresh</th>\n",
              "      <th>Milk</th>\n",
              "      <th>Grocery</th>\n",
              "      <th>Frozen</th>\n",
              "      <th>Detergents_Paper</th>\n",
              "      <th>Delicassen</th>\n",
              "    </tr>\n",
              "  </thead>\n",
              "  <tbody>\n",
              "    <tr>\n",
              "      <th>0</th>\n",
              "      <td>2</td>\n",
              "      <td>3</td>\n",
              "      <td>12669</td>\n",
              "      <td>9656</td>\n",
              "      <td>7561</td>\n",
              "      <td>214</td>\n",
              "      <td>2674</td>\n",
              "      <td>1338</td>\n",
              "    </tr>\n",
              "    <tr>\n",
              "      <th>1</th>\n",
              "      <td>2</td>\n",
              "      <td>3</td>\n",
              "      <td>7057</td>\n",
              "      <td>9810</td>\n",
              "      <td>9568</td>\n",
              "      <td>1762</td>\n",
              "      <td>3293</td>\n",
              "      <td>1776</td>\n",
              "    </tr>\n",
              "    <tr>\n",
              "      <th>2</th>\n",
              "      <td>2</td>\n",
              "      <td>3</td>\n",
              "      <td>6353</td>\n",
              "      <td>8808</td>\n",
              "      <td>7684</td>\n",
              "      <td>2405</td>\n",
              "      <td>3516</td>\n",
              "      <td>7844</td>\n",
              "    </tr>\n",
              "    <tr>\n",
              "      <th>3</th>\n",
              "      <td>1</td>\n",
              "      <td>3</td>\n",
              "      <td>13265</td>\n",
              "      <td>1196</td>\n",
              "      <td>4221</td>\n",
              "      <td>6404</td>\n",
              "      <td>507</td>\n",
              "      <td>1788</td>\n",
              "    </tr>\n",
              "    <tr>\n",
              "      <th>4</th>\n",
              "      <td>2</td>\n",
              "      <td>3</td>\n",
              "      <td>22615</td>\n",
              "      <td>5410</td>\n",
              "      <td>7198</td>\n",
              "      <td>3915</td>\n",
              "      <td>1777</td>\n",
              "      <td>5185</td>\n",
              "    </tr>\n",
              "  </tbody>\n",
              "</table>\n",
              "</div>"
            ],
            "text/plain": [
              "   Channel  Region  Fresh  Milk  Grocery  Frozen  Detergents_Paper  Delicassen\n",
              "0        2       3  12669  9656     7561     214              2674        1338\n",
              "1        2       3   7057  9810     9568    1762              3293        1776\n",
              "2        2       3   6353  8808     7684    2405              3516        7844\n",
              "3        1       3  13265  1196     4221    6404               507        1788\n",
              "4        2       3  22615  5410     7198    3915              1777        5185"
            ]
          },
          "metadata": {
            "tags": []
          },
          "execution_count": 3
        }
      ]
    },
    {
      "cell_type": "code",
      "metadata": {
        "colab": {
          "base_uri": "https://localhost:8080/"
        },
        "id": "2_eLqD8KLbzF",
        "outputId": "65ad2508-ce6a-42e6-db0b-86d94451594b"
      },
      "source": [
        "# 데이터 자료형 확인\n",
        "df.info()"
      ],
      "execution_count": 4,
      "outputs": [
        {
          "output_type": "stream",
          "text": [
            "<class 'pandas.core.frame.DataFrame'>\n",
            "RangeIndex: 440 entries, 0 to 439\n",
            "Data columns (total 8 columns):\n",
            " #   Column            Non-Null Count  Dtype\n",
            "---  ------            --------------  -----\n",
            " 0   Channel           440 non-null    int64\n",
            " 1   Region            440 non-null    int64\n",
            " 2   Fresh             440 non-null    int64\n",
            " 3   Milk              440 non-null    int64\n",
            " 4   Grocery           440 non-null    int64\n",
            " 5   Frozen            440 non-null    int64\n",
            " 6   Detergents_Paper  440 non-null    int64\n",
            " 7   Delicassen        440 non-null    int64\n",
            "dtypes: int64(8)\n",
            "memory usage: 27.6 KB\n"
          ],
          "name": "stdout"
        }
      ]
    },
    {
      "cell_type": "markdown",
      "metadata": {
        "id": "HYmnT1mfLljA"
      },
      "source": [
        "[Step3] 데이터 전처리"
      ]
    },
    {
      "cell_type": "code",
      "metadata": {
        "colab": {
          "base_uri": "https://localhost:8080/"
        },
        "id": "kQpm9S3MLn40",
        "outputId": "12850172-2f71-497d-aa6e-8beaa02b6fbf"
      },
      "source": [
        "# 군집 분석은 모든 속성이 x (정답 y는 없음)\n",
        "\n",
        "X = df.iloc[:,:] # 전체 데이터 사용\n",
        "print(X[:5])"
      ],
      "execution_count": 5,
      "outputs": [
        {
          "output_type": "stream",
          "text": [
            "   Channel  Region  Fresh  Milk  Grocery  Frozen  Detergents_Paper  Delicassen\n",
            "0        2       3  12669  9656     7561     214              2674        1338\n",
            "1        2       3   7057  9810     9568    1762              3293        1776\n",
            "2        2       3   6353  8808     7684    2405              3516        7844\n",
            "3        1       3  13265  1196     4221    6404               507        1788\n",
            "4        2       3  22615  5410     7198    3915              1777        5185\n"
          ],
          "name": "stdout"
        }
      ]
    },
    {
      "cell_type": "code",
      "metadata": {
        "colab": {
          "base_uri": "https://localhost:8080/"
        },
        "id": "dcakDh_CLtKO",
        "outputId": "fb760bef-588f-4a67-f065-8ace4121a889"
      },
      "source": [
        "# 데이터 정규화\n",
        "\n",
        "from sklearn import preprocessing\n",
        "X = preprocessing.StandardScaler().fit(X).transform(X)\n",
        "print(X[:5])"
      ],
      "execution_count": 6,
      "outputs": [
        {
          "output_type": "stream",
          "text": [
            "[[ 1.44865163  0.59066829  0.05293319  0.52356777 -0.04111489 -0.58936716\n",
            "  -0.04356873 -0.06633906]\n",
            " [ 1.44865163  0.59066829 -0.39130197  0.54445767  0.17031835 -0.27013618\n",
            "   0.08640684  0.08915105]\n",
            " [ 1.44865163  0.59066829 -0.44702926  0.40853771 -0.0281571  -0.13753572\n",
            "   0.13323164  2.24329255]\n",
            " [-0.69029709  0.59066829  0.10011141 -0.62401993 -0.3929769   0.6871443\n",
            "  -0.49858822  0.09341105]\n",
            " [ 1.44865163  0.59066829  0.84023948 -0.05239645 -0.07935618  0.17385884\n",
            "  -0.23191782  1.29934689]]\n"
          ],
          "name": "stdout"
        }
      ]
    },
    {
      "cell_type": "markdown",
      "metadata": {
        "id": "PLvigRIjMauR"
      },
      "source": [
        "[Step 4] K-means 군집 모형 - sklearn 사용"
      ]
    },
    {
      "cell_type": "code",
      "metadata": {
        "id": "Y-OOgIksMfdZ"
      },
      "source": [
        "# sklearn 라이브러리에서 cluster 군집 모형 가져오기\n",
        "from sklearn import cluster\n",
        "\n",
        "# https://scikit-learn.org/stable/modules/generated/sklearn.cluster.KMeans.html\n",
        "# 모형 객체 생성 클러스터 개수 5개 지정\n",
        "\n",
        "kmeans = cluster.KMeans(init=\"k-means++\",n_clusters=5, n_init=10) # n_init 시작점 고정"
      ],
      "execution_count": 7,
      "outputs": []
    },
    {
      "cell_type": "code",
      "metadata": {
        "colab": {
          "base_uri": "https://localhost:8080/"
        },
        "id": "Fejp28soM-dp",
        "outputId": "72a410d4-1ab1-4238-821b-57f843664ea3"
      },
      "source": [
        "# 모형 학습\n",
        "kmeans.fit(X)"
      ],
      "execution_count": 8,
      "outputs": [
        {
          "output_type": "execute_result",
          "data": {
            "text/plain": [
              "KMeans(algorithm='auto', copy_x=True, init='k-means++', max_iter=300,\n",
              "       n_clusters=5, n_init=10, n_jobs=None, precompute_distances='auto',\n",
              "       random_state=None, tol=0.0001, verbose=0)"
            ]
          },
          "metadata": {
            "tags": []
          },
          "execution_count": 8
        }
      ]
    },
    {
      "cell_type": "code",
      "metadata": {
        "colab": {
          "base_uri": "https://localhost:8080/"
        },
        "id": "5zQyoq9HNU6B",
        "outputId": "264df09b-97b5-4ecd-ed62-e9ce6ca2f186"
      },
      "source": [
        "# 예측 (군집)\n",
        "cluster_label = kmeans.labels_ # 0~4까지 군집을 만듬\n",
        "print(cluster_label)"
      ],
      "execution_count": 9,
      "outputs": [
        {
          "output_type": "stream",
          "text": [
            "[2 2 2 3 2 2 2 2 3 2 2 2 2 2 2 3 2 3 2 3 2 3 3 1 2 2 3 3 2 3 3 3 3 3 3 2 3\n",
            " 2 2 3 3 3 2 2 2 2 2 1 2 2 3 3 2 2 3 3 1 2 3 3 2 1 2 2 3 1 3 2 3 3 3 3 3 2\n",
            " 2 3 3 2 3 3 3 2 2 3 2 1 1 3 3 3 3 3 1 3 2 3 2 3 3 3 2 2 2 3 3 3 2 2 2 2 3\n",
            " 2 3 3 3 3 3 3 3 3 3 3 3 2 3 3 3 2 3 3 3 3 3 3 3 3 3 3 3 3 3 3 3 3 3 2 3 3\n",
            " 3 3 3 3 3 3 3 2 2 3 2 2 2 3 3 2 2 2 2 3 3 3 2 2 3 2 3 2 3 3 3 3 3 1 3 4 3\n",
            " 3 3 3 2 2 3 3 3 2 3 3 0 2 0 0 2 2 0 0 0 2 0 0 0 2 0 1 0 0 2 0 2 0 2 0 0 0\n",
            " 0 0 0 0 0 0 0 0 0 0 0 0 0 0 0 0 0 0 0 0 0 0 0 2 0 0 0 0 0 1 0 0 0 0 0 0 0\n",
            " 0 0 0 0 0 2 0 2 0 2 0 0 0 0 3 3 3 3 3 3 2 3 2 3 3 3 3 3 3 3 3 3 3 3 2 0 2\n",
            " 0 2 2 0 2 2 2 2 2 2 2 0 0 2 0 0 2 0 0 2 0 0 0 2 0 0 0 0 0 4 0 0 0 0 0 2 0\n",
            " 1 0 2 0 0 0 0 2 2 3 2 3 3 2 2 3 2 3 2 3 2 3 3 3 2 3 3 3 3 3 3 3 2 3 3 3 3\n",
            " 3 3 3 2 3 3 2 3 3 2 3 3 3 3 3 3 3 3 3 3 3 3 3 3 3 3 2 3 3 3 3 3 3 3 3 3 3\n",
            " 2 2 3 3 3 3 3 3 2 2 3 2 3 3 2 3 2 2 3 3 3 3 3 3 3 3 3 3 3 3 2 3 3]\n"
          ],
          "name": "stdout"
        }
      ]
    },
    {
      "cell_type": "code",
      "metadata": {
        "colab": {
          "base_uri": "https://localhost:8080/",
          "height": 223
        },
        "id": "xstF6DAkNocg",
        "outputId": "65d94a2a-007f-44a6-c6a1-1de16a2c1de3"
      },
      "source": [
        "# 예측 결과를 데이터프레임에 추가\n",
        "df['Cluster'] = cluster_label\n",
        "df.head()"
      ],
      "execution_count": 10,
      "outputs": [
        {
          "output_type": "execute_result",
          "data": {
            "text/html": [
              "<div>\n",
              "<style scoped>\n",
              "    .dataframe tbody tr th:only-of-type {\n",
              "        vertical-align: middle;\n",
              "    }\n",
              "\n",
              "    .dataframe tbody tr th {\n",
              "        vertical-align: top;\n",
              "    }\n",
              "\n",
              "    .dataframe thead th {\n",
              "        text-align: right;\n",
              "    }\n",
              "</style>\n",
              "<table border=\"1\" class=\"dataframe\">\n",
              "  <thead>\n",
              "    <tr style=\"text-align: right;\">\n",
              "      <th></th>\n",
              "      <th>Channel</th>\n",
              "      <th>Region</th>\n",
              "      <th>Fresh</th>\n",
              "      <th>Milk</th>\n",
              "      <th>Grocery</th>\n",
              "      <th>Frozen</th>\n",
              "      <th>Detergents_Paper</th>\n",
              "      <th>Delicassen</th>\n",
              "      <th>Cluster</th>\n",
              "    </tr>\n",
              "  </thead>\n",
              "  <tbody>\n",
              "    <tr>\n",
              "      <th>0</th>\n",
              "      <td>2</td>\n",
              "      <td>3</td>\n",
              "      <td>12669</td>\n",
              "      <td>9656</td>\n",
              "      <td>7561</td>\n",
              "      <td>214</td>\n",
              "      <td>2674</td>\n",
              "      <td>1338</td>\n",
              "      <td>2</td>\n",
              "    </tr>\n",
              "    <tr>\n",
              "      <th>1</th>\n",
              "      <td>2</td>\n",
              "      <td>3</td>\n",
              "      <td>7057</td>\n",
              "      <td>9810</td>\n",
              "      <td>9568</td>\n",
              "      <td>1762</td>\n",
              "      <td>3293</td>\n",
              "      <td>1776</td>\n",
              "      <td>2</td>\n",
              "    </tr>\n",
              "    <tr>\n",
              "      <th>2</th>\n",
              "      <td>2</td>\n",
              "      <td>3</td>\n",
              "      <td>6353</td>\n",
              "      <td>8808</td>\n",
              "      <td>7684</td>\n",
              "      <td>2405</td>\n",
              "      <td>3516</td>\n",
              "      <td>7844</td>\n",
              "      <td>2</td>\n",
              "    </tr>\n",
              "    <tr>\n",
              "      <th>3</th>\n",
              "      <td>1</td>\n",
              "      <td>3</td>\n",
              "      <td>13265</td>\n",
              "      <td>1196</td>\n",
              "      <td>4221</td>\n",
              "      <td>6404</td>\n",
              "      <td>507</td>\n",
              "      <td>1788</td>\n",
              "      <td>3</td>\n",
              "    </tr>\n",
              "    <tr>\n",
              "      <th>4</th>\n",
              "      <td>2</td>\n",
              "      <td>3</td>\n",
              "      <td>22615</td>\n",
              "      <td>5410</td>\n",
              "      <td>7198</td>\n",
              "      <td>3915</td>\n",
              "      <td>1777</td>\n",
              "      <td>5185</td>\n",
              "      <td>2</td>\n",
              "    </tr>\n",
              "  </tbody>\n",
              "</table>\n",
              "</div>"
            ],
            "text/plain": [
              "   Channel  Region  Fresh  Milk  ...  Frozen  Detergents_Paper  Delicassen  Cluster\n",
              "0        2       3  12669  9656  ...     214              2674        1338        2\n",
              "1        2       3   7057  9810  ...    1762              3293        1776        2\n",
              "2        2       3   6353  8808  ...    2405              3516        7844        2\n",
              "3        1       3  13265  1196  ...    6404               507        1788        3\n",
              "4        2       3  22615  5410  ...    3915              1777        5185        2\n",
              "\n",
              "[5 rows x 9 columns]"
            ]
          },
          "metadata": {
            "tags": []
          },
          "execution_count": 10
        }
      ]
    },
    {
      "cell_type": "markdown",
      "metadata": {
        "id": "pV1E_BVxN724"
      },
      "source": [
        "클러스터 데이터 시각화"
      ]
    },
    {
      "cell_type": "code",
      "metadata": {
        "colab": {
          "base_uri": "https://localhost:8080/",
          "height": 584
        },
        "id": "zoPfaZLQN-Rw",
        "outputId": "33fc5b83-a509-48f9-9dd4-82abf69a53d7"
      },
      "source": [
        "# 그래프로 표현 - 시각화\n",
        "df.plot(kind='scatter',x='Grocery',y='Frozen',c='Cluster',cmap='Set1',figsize=(10,10))\n",
        "plt.show()"
      ],
      "execution_count": 12,
      "outputs": [
        {
          "output_type": "display_data",
          "data": {
            "image/png": "[encoded data removed]",
            "text/plain": [
              "<Figure size 720x720 with 2 Axes>"
            ]
          },
          "metadata": {
            "tags": [],
            "needs_background": "light"
          }
        }
      ]
    },
    {
      "cell_type": "code",
      "metadata": {
        "id": "wtNHeL1tOkJO"
      },
      "source": [
        "# 그래프로 표현 - 시각화\n",
        "df.plot(kind='scatter',x='Grocery',y='Frozen',c='Cluster',cmap='Set1',figsize=(10,10))\n",
        "plt.show()"
      ],
      "execution_count": null,
      "outputs": []
    },
    {
      "cell_type": "code",
      "metadata": {
        "colab": {
          "base_uri": "https://localhost:8080/",
          "height": 584
        },
        "id": "Wt-dLfHkO0j1",
        "outputId": "4a04eadb-71bf-4148-97a0-b0d5335b18c3"
      },
      "source": [
        "# 큰 값으로 구성된 클러스터(0,4)를 제외 - 값이 몰려 있는 구간을 자세하게 분석\n",
        "\n",
        "mask = (df['Cluster']==0) | (df['Cluster']==4)\n",
        "ndf = df[~mask] # ~ -> not 0과 4를 제외한 애들 모아놓음\n",
        "ndf.plot(kind='scatter',x='Grocery',y='Frozen',c='Cluster',cmap='Set1',figsize=(10,10))\n",
        "plt.show()"
      ],
      "execution_count": 17,
      "outputs": [
        {
          "output_type": "display_data",
          "data": {
            "image/png": "[encoded data removed]",
            "text/plain": [
              "<Figure size 720x720 with 2 Axes>"
            ]
          },
          "metadata": {
            "tags": [],
            "needs_background": "light"
          }
        }
      ]
    }
  ]
}