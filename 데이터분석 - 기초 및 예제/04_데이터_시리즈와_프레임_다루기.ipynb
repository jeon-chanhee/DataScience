{
  "nbformat": 4,
  "nbformat_minor": 0,
  "metadata": {
    "colab": {
      "name": "04_데이터 시리즈와 프레임 다루기.ipynb",
      "provenance": [],
      "authorship_tag": "ABX9TyM9r56FPgP0K0iV3kpHIi3x",
      "include_colab_link": true
    },
    "kernelspec": {
      "name": "python3",
      "display_name": "Python 3"
    },
    "language_info": {
      "name": "python"
    }
  },
  "cells": [
    {
      "cell_type": "markdown",
      "metadata": {
        "id": "view-in-github",
        "colab_type": "text"
      },
      "source": [
        "<a href=\"https://colab.research.google.com/github/jeon-chanhee/DataScience/blob/main/04_%EB%8D%B0%EC%9D%B4%ED%84%B0_%EC%8B%9C%EB%A6%AC%EC%A6%88%EC%99%80_%ED%94%84%EB%A0%88%EC%9E%84_%EB%8B%A4%EB%A3%A8%EA%B8%B0.ipynb\" target=\"_parent\"><img src=\"https://colab.research.google.com/assets/colab-badge.svg\" alt=\"Open In Colab\"/></a>"
      ]
    },
    {
      "cell_type": "markdown",
      "metadata": {
        "id": "4jjy1R145C5S"
      },
      "source": [
        "데이터 준비하기\n"
      ]
    },
    {
      "cell_type": "code",
      "metadata": {
        "colab": {
          "base_uri": "https://localhost:8080/",
          "height": 234
        },
        "id": "Uwiflg544xCW",
        "outputId": "4e5a107e-408c-41b2-d81e-5ba95a9c40c2"
      },
      "source": [
        "import pandas as pd\n",
        "\n",
        "# niaaa-report2009.csv; 미국 국립 알코올 남용 및 중독 연구소에서 발표한 2011년 실태조사 보고서 중 2009년 1년치 데이터\n",
        "\n",
        "alco2009 = pd.read_csv(\"/content/niaaa-report2009.csv\",index_col = \"State\")\n",
        "alco2009.head()"
      ],
      "execution_count": null,
      "outputs": [
        {
          "output_type": "execute_result",
          "data": {
            "text/html": [
              "<div>\n",
              "<style scoped>\n",
              "    .dataframe tbody tr th:only-of-type {\n",
              "        vertical-align: middle;\n",
              "    }\n",
              "\n",
              "    .dataframe tbody tr th {\n",
              "        vertical-align: top;\n",
              "    }\n",
              "\n",
              "    .dataframe thead th {\n",
              "        text-align: right;\n",
              "    }\n",
              "</style>\n",
              "<table border=\"1\" class=\"dataframe\">\n",
              "  <thead>\n",
              "    <tr style=\"text-align: right;\">\n",
              "      <th></th>\n",
              "      <th>Beer</th>\n",
              "      <th>Wine</th>\n",
              "      <th>Spirits</th>\n",
              "    </tr>\n",
              "    <tr>\n",
              "      <th>State</th>\n",
              "      <th></th>\n",
              "      <th></th>\n",
              "      <th></th>\n",
              "    </tr>\n",
              "  </thead>\n",
              "  <tbody>\n",
              "    <tr>\n",
              "      <th>Alabama</th>\n",
              "      <td>1.20</td>\n",
              "      <td>0.22</td>\n",
              "      <td>0.58</td>\n",
              "    </tr>\n",
              "    <tr>\n",
              "      <th>Alaska</th>\n",
              "      <td>1.31</td>\n",
              "      <td>0.54</td>\n",
              "      <td>1.16</td>\n",
              "    </tr>\n",
              "    <tr>\n",
              "      <th>Arizona</th>\n",
              "      <td>1.19</td>\n",
              "      <td>0.38</td>\n",
              "      <td>0.74</td>\n",
              "    </tr>\n",
              "    <tr>\n",
              "      <th>Arkansas</th>\n",
              "      <td>1.07</td>\n",
              "      <td>0.17</td>\n",
              "      <td>0.60</td>\n",
              "    </tr>\n",
              "    <tr>\n",
              "      <th>California</th>\n",
              "      <td>1.05</td>\n",
              "      <td>0.55</td>\n",
              "      <td>0.73</td>\n",
              "    </tr>\n",
              "  </tbody>\n",
              "</table>\n",
              "</div>"
            ],
            "text/plain": [
              "            Beer  Wine  Spirits\n",
              "State                          \n",
              "Alabama     1.20  0.22     0.58\n",
              "Alaska      1.31  0.54     1.16\n",
              "Arizona     1.19  0.38     0.74\n",
              "Arkansas    1.07  0.17     0.60\n",
              "California  1.05  0.55     0.73"
            ]
          },
          "metadata": {
            "tags": []
          },
          "execution_count": 2
        }
      ]
    },
    {
      "cell_type": "code",
      "metadata": {
        "colab": {
          "base_uri": "https://localhost:8080/",
          "height": 234
        },
        "id": "MStVp6hB5r3Y",
        "outputId": "402701d6-5551-4585-f64d-ba29f77c7457"
      },
      "source": [
        "alco2009.tail()"
      ],
      "execution_count": null,
      "outputs": [
        {
          "output_type": "execute_result",
          "data": {
            "text/html": [
              "<div>\n",
              "<style scoped>\n",
              "    .dataframe tbody tr th:only-of-type {\n",
              "        vertical-align: middle;\n",
              "    }\n",
              "\n",
              "    .dataframe tbody tr th {\n",
              "        vertical-align: top;\n",
              "    }\n",
              "\n",
              "    .dataframe thead th {\n",
              "        text-align: right;\n",
              "    }\n",
              "</style>\n",
              "<table border=\"1\" class=\"dataframe\">\n",
              "  <thead>\n",
              "    <tr style=\"text-align: right;\">\n",
              "      <th></th>\n",
              "      <th>Beer</th>\n",
              "      <th>Wine</th>\n",
              "      <th>Spirits</th>\n",
              "    </tr>\n",
              "    <tr>\n",
              "      <th>State</th>\n",
              "      <th></th>\n",
              "      <th></th>\n",
              "      <th></th>\n",
              "    </tr>\n",
              "  </thead>\n",
              "  <tbody>\n",
              "    <tr>\n",
              "      <th>Virginia</th>\n",
              "      <td>1.11</td>\n",
              "      <td>0.43</td>\n",
              "      <td>0.59</td>\n",
              "    </tr>\n",
              "    <tr>\n",
              "      <th>Washington</th>\n",
              "      <td>1.09</td>\n",
              "      <td>0.51</td>\n",
              "      <td>0.74</td>\n",
              "    </tr>\n",
              "    <tr>\n",
              "      <th>West Virginia</th>\n",
              "      <td>1.24</td>\n",
              "      <td>0.10</td>\n",
              "      <td>0.45</td>\n",
              "    </tr>\n",
              "    <tr>\n",
              "      <th>Wisconsin</th>\n",
              "      <td>1.49</td>\n",
              "      <td>0.31</td>\n",
              "      <td>1.16</td>\n",
              "    </tr>\n",
              "    <tr>\n",
              "      <th>Wyoming</th>\n",
              "      <td>1.45</td>\n",
              "      <td>0.22</td>\n",
              "      <td>1.10</td>\n",
              "    </tr>\n",
              "  </tbody>\n",
              "</table>\n",
              "</div>"
            ],
            "text/plain": [
              "               Beer  Wine  Spirits\n",
              "State                             \n",
              "Virginia       1.11  0.43     0.59\n",
              "Washington     1.09  0.51     0.74\n",
              "West Virginia  1.24  0.10     0.45\n",
              "Wisconsin      1.49  0.31     1.16\n",
              "Wyoming        1.45  0.22     1.10"
            ]
          },
          "metadata": {
            "tags": []
          },
          "execution_count": 4
        }
      ]
    },
    {
      "cell_type": "code",
      "metadata": {
        "colab": {
          "base_uri": "https://localhost:8080/"
        },
        "id": "V5KKGhfR57nd",
        "outputId": "50112a4c-011c-4b5a-b592-7df01e55000b"
      },
      "source": [
        "alco2009.size"
      ],
      "execution_count": null,
      "outputs": [
        {
          "output_type": "execute_result",
          "data": {
            "text/plain": [
              "153"
            ]
          },
          "metadata": {
            "tags": []
          },
          "execution_count": 6
        }
      ]
    },
    {
      "cell_type": "code",
      "metadata": {
        "colab": {
          "base_uri": "https://localhost:8080/"
        },
        "id": "7qZwDEyl6Cbd",
        "outputId": "85419339-ee34-490f-f4dc-3c6c56fb945a"
      },
      "source": [
        "alco2009.info()"
      ],
      "execution_count": null,
      "outputs": [
        {
          "output_type": "stream",
          "text": [
            "<class 'pandas.core.frame.DataFrame'>\n",
            "Index: 51 entries, Alabama to Wyoming\n",
            "Data columns (total 3 columns):\n",
            " #   Column   Non-Null Count  Dtype  \n",
            "---  ------   --------------  -----  \n",
            " 0   Beer     51 non-null     float64\n",
            " 1   Wine     51 non-null     float64\n",
            " 2   Spirits  51 non-null     float64\n",
            "dtypes: float64(3)\n",
            "memory usage: 4.1+ KB\n"
          ],
          "name": "stdout"
        }
      ]
    },
    {
      "cell_type": "code",
      "metadata": {
        "colab": {
          "base_uri": "https://localhost:8080/"
        },
        "id": "cFwaYf3a6GVa",
        "outputId": "ca4a246b-06fe-474a-d647-d36af2b7ded3"
      },
      "source": [
        "alco2009.shape"
      ],
      "execution_count": null,
      "outputs": [
        {
          "output_type": "execute_result",
          "data": {
            "text/plain": [
              "(51, 3)"
            ]
          },
          "metadata": {
            "tags": []
          },
          "execution_count": 11
        }
      ]
    },
    {
      "cell_type": "code",
      "metadata": {
        "colab": {
          "base_uri": "https://localhost:8080/"
        },
        "id": "FwcbXuJf6ama",
        "outputId": "1b47c028-8837-44e7-c87c-2fbc59eea697"
      },
      "source": [
        "alco2009[\"Wine\"].head()"
      ],
      "execution_count": null,
      "outputs": [
        {
          "output_type": "execute_result",
          "data": {
            "text/plain": [
              "State\n",
              "Alabama       0.22\n",
              "Alaska        0.54\n",
              "Arizona       0.38\n",
              "Arkansas      0.17\n",
              "California    0.55\n",
              "Name: Wine, dtype: float64"
            ]
          },
          "metadata": {
            "tags": []
          },
          "execution_count": 12
        }
      ]
    },
    {
      "cell_type": "code",
      "metadata": {
        "colab": {
          "base_uri": "https://localhost:8080/"
        },
        "id": "gr1SVy766i_i",
        "outputId": "1cf6eeb2-997c-47f5-f131-a70434a010a6"
      },
      "source": [
        "alco2009.Wine.head()"
      ],
      "execution_count": null,
      "outputs": [
        {
          "output_type": "execute_result",
          "data": {
            "text/plain": [
              "State\n",
              "Alabama       0.22\n",
              "Alaska        0.54\n",
              "Arizona       0.38\n",
              "Arkansas      0.17\n",
              "California    0.55\n",
              "Name: Wine, dtype: float64"
            ]
          },
          "metadata": {
            "tags": []
          },
          "execution_count": 13
        }
      ]
    },
    {
      "cell_type": "code",
      "metadata": {
        "colab": {
          "base_uri": "https://localhost:8080/",
          "height": 234
        },
        "id": "XksVxdL062uv",
        "outputId": "ddc720ad-3453-4568-e18f-11e98fd43234"
      },
      "source": [
        "# 새로운 열 추가\n",
        "alco2009[\"Total\"] = 0\n",
        "alco2009.head()"
      ],
      "execution_count": null,
      "outputs": [
        {
          "output_type": "execute_result",
          "data": {
            "text/html": [
              "<div>\n",
              "<style scoped>\n",
              "    .dataframe tbody tr th:only-of-type {\n",
              "        vertical-align: middle;\n",
              "    }\n",
              "\n",
              "    .dataframe tbody tr th {\n",
              "        vertical-align: top;\n",
              "    }\n",
              "\n",
              "    .dataframe thead th {\n",
              "        text-align: right;\n",
              "    }\n",
              "</style>\n",
              "<table border=\"1\" class=\"dataframe\">\n",
              "  <thead>\n",
              "    <tr style=\"text-align: right;\">\n",
              "      <th></th>\n",
              "      <th>Beer</th>\n",
              "      <th>Wine</th>\n",
              "      <th>Spirits</th>\n",
              "      <th>Total</th>\n",
              "    </tr>\n",
              "    <tr>\n",
              "      <th>State</th>\n",
              "      <th></th>\n",
              "      <th></th>\n",
              "      <th></th>\n",
              "      <th></th>\n",
              "    </tr>\n",
              "  </thead>\n",
              "  <tbody>\n",
              "    <tr>\n",
              "      <th>Alabama</th>\n",
              "      <td>1.20</td>\n",
              "      <td>0.22</td>\n",
              "      <td>0.58</td>\n",
              "      <td>0</td>\n",
              "    </tr>\n",
              "    <tr>\n",
              "      <th>Alaska</th>\n",
              "      <td>1.31</td>\n",
              "      <td>0.54</td>\n",
              "      <td>1.16</td>\n",
              "      <td>0</td>\n",
              "    </tr>\n",
              "    <tr>\n",
              "      <th>Arizona</th>\n",
              "      <td>1.19</td>\n",
              "      <td>0.38</td>\n",
              "      <td>0.74</td>\n",
              "      <td>0</td>\n",
              "    </tr>\n",
              "    <tr>\n",
              "      <th>Arkansas</th>\n",
              "      <td>1.07</td>\n",
              "      <td>0.17</td>\n",
              "      <td>0.60</td>\n",
              "      <td>0</td>\n",
              "    </tr>\n",
              "    <tr>\n",
              "      <th>California</th>\n",
              "      <td>1.05</td>\n",
              "      <td>0.55</td>\n",
              "      <td>0.73</td>\n",
              "      <td>0</td>\n",
              "    </tr>\n",
              "  </tbody>\n",
              "</table>\n",
              "</div>"
            ],
            "text/plain": [
              "            Beer  Wine  Spirits  Total\n",
              "State                                 \n",
              "Alabama     1.20  0.22     0.58      0\n",
              "Alaska      1.31  0.54     1.16      0\n",
              "Arizona     1.19  0.38     0.74      0\n",
              "Arkansas    1.07  0.17     0.60      0\n",
              "California  1.05  0.55     0.73      0"
            ]
          },
          "metadata": {
            "tags": []
          },
          "execution_count": 15
        }
      ]
    },
    {
      "cell_type": "code",
      "metadata": {
        "colab": {
          "base_uri": "https://localhost:8080/",
          "height": 234
        },
        "id": "tyLA8hwn7Sq5",
        "outputId": "fb23ba38-1c40-47bf-ee90-c26f2a7efaed"
      },
      "source": [
        "# 인덱스 변경하기 (어떤 열이라도 데이터 프레임의 인덱스가 될 수 있음)\n",
        "\n",
        "alco2009.reset_index().set_index(\"Beer\").head() \n",
        "\n",
        "# reset_index()  인덱스 값 초기화\n",
        "# set_index(\"Beer\") 로 바꿈"
      ],
      "execution_count": null,
      "outputs": [
        {
          "output_type": "execute_result",
          "data": {
            "text/html": [
              "<div>\n",
              "<style scoped>\n",
              "    .dataframe tbody tr th:only-of-type {\n",
              "        vertical-align: middle;\n",
              "    }\n",
              "\n",
              "    .dataframe tbody tr th {\n",
              "        vertical-align: top;\n",
              "    }\n",
              "\n",
              "    .dataframe thead th {\n",
              "        text-align: right;\n",
              "    }\n",
              "</style>\n",
              "<table border=\"1\" class=\"dataframe\">\n",
              "  <thead>\n",
              "    <tr style=\"text-align: right;\">\n",
              "      <th></th>\n",
              "      <th>State</th>\n",
              "      <th>Wine</th>\n",
              "      <th>Spirits</th>\n",
              "      <th>Total</th>\n",
              "    </tr>\n",
              "    <tr>\n",
              "      <th>Beer</th>\n",
              "      <th></th>\n",
              "      <th></th>\n",
              "      <th></th>\n",
              "      <th></th>\n",
              "    </tr>\n",
              "  </thead>\n",
              "  <tbody>\n",
              "    <tr>\n",
              "      <th>1.20</th>\n",
              "      <td>Alabama</td>\n",
              "      <td>0.22</td>\n",
              "      <td>0.58</td>\n",
              "      <td>0</td>\n",
              "    </tr>\n",
              "    <tr>\n",
              "      <th>1.31</th>\n",
              "      <td>Alaska</td>\n",
              "      <td>0.54</td>\n",
              "      <td>1.16</td>\n",
              "      <td>0</td>\n",
              "    </tr>\n",
              "    <tr>\n",
              "      <th>1.19</th>\n",
              "      <td>Arizona</td>\n",
              "      <td>0.38</td>\n",
              "      <td>0.74</td>\n",
              "      <td>0</td>\n",
              "    </tr>\n",
              "    <tr>\n",
              "      <th>1.07</th>\n",
              "      <td>Arkansas</td>\n",
              "      <td>0.17</td>\n",
              "      <td>0.60</td>\n",
              "      <td>0</td>\n",
              "    </tr>\n",
              "    <tr>\n",
              "      <th>1.05</th>\n",
              "      <td>California</td>\n",
              "      <td>0.55</td>\n",
              "      <td>0.73</td>\n",
              "      <td>0</td>\n",
              "    </tr>\n",
              "  </tbody>\n",
              "</table>\n",
              "</div>"
            ],
            "text/plain": [
              "           State  Wine  Spirits  Total\n",
              "Beer                                  \n",
              "1.20     Alabama  0.22     0.58      0\n",
              "1.31      Alaska  0.54     1.16      0\n",
              "1.19     Arizona  0.38     0.74      0\n",
              "1.07    Arkansas  0.17     0.60      0\n",
              "1.05  California  0.55     0.73      0"
            ]
          },
          "metadata": {
            "tags": []
          },
          "execution_count": 18
        }
      ]
    },
    {
      "cell_type": "code",
      "metadata": {
        "colab": {
          "base_uri": "https://localhost:8080/",
          "height": 234
        },
        "id": "Ne4E7nLb775W",
        "outputId": "5f6caf86-770f-40b5-b499-285fdd8b3c41"
      },
      "source": [
        "alco2009.reset_index().set_index(\"State\").head()"
      ],
      "execution_count": null,
      "outputs": [
        {
          "output_type": "execute_result",
          "data": {
            "text/html": [
              "<div>\n",
              "<style scoped>\n",
              "    .dataframe tbody tr th:only-of-type {\n",
              "        vertical-align: middle;\n",
              "    }\n",
              "\n",
              "    .dataframe tbody tr th {\n",
              "        vertical-align: top;\n",
              "    }\n",
              "\n",
              "    .dataframe thead th {\n",
              "        text-align: right;\n",
              "    }\n",
              "</style>\n",
              "<table border=\"1\" class=\"dataframe\">\n",
              "  <thead>\n",
              "    <tr style=\"text-align: right;\">\n",
              "      <th></th>\n",
              "      <th>Beer</th>\n",
              "      <th>Wine</th>\n",
              "      <th>Spirits</th>\n",
              "      <th>Total</th>\n",
              "    </tr>\n",
              "    <tr>\n",
              "      <th>State</th>\n",
              "      <th></th>\n",
              "      <th></th>\n",
              "      <th></th>\n",
              "      <th></th>\n",
              "    </tr>\n",
              "  </thead>\n",
              "  <tbody>\n",
              "    <tr>\n",
              "      <th>Alabama</th>\n",
              "      <td>1.20</td>\n",
              "      <td>0.22</td>\n",
              "      <td>0.58</td>\n",
              "      <td>0</td>\n",
              "    </tr>\n",
              "    <tr>\n",
              "      <th>Alaska</th>\n",
              "      <td>1.31</td>\n",
              "      <td>0.54</td>\n",
              "      <td>1.16</td>\n",
              "      <td>0</td>\n",
              "    </tr>\n",
              "    <tr>\n",
              "      <th>Arizona</th>\n",
              "      <td>1.19</td>\n",
              "      <td>0.38</td>\n",
              "      <td>0.74</td>\n",
              "      <td>0</td>\n",
              "    </tr>\n",
              "    <tr>\n",
              "      <th>Arkansas</th>\n",
              "      <td>1.07</td>\n",
              "      <td>0.17</td>\n",
              "      <td>0.60</td>\n",
              "      <td>0</td>\n",
              "    </tr>\n",
              "    <tr>\n",
              "      <th>California</th>\n",
              "      <td>1.05</td>\n",
              "      <td>0.55</td>\n",
              "      <td>0.73</td>\n",
              "      <td>0</td>\n",
              "    </tr>\n",
              "  </tbody>\n",
              "</table>\n",
              "</div>"
            ],
            "text/plain": [
              "            Beer  Wine  Spirits  Total\n",
              "State                                 \n",
              "Alabama     1.20  0.22     0.58      0\n",
              "Alaska      1.31  0.54     1.16      0\n",
              "Arizona     1.19  0.38     0.74      0\n",
              "Arkansas    1.07  0.17     0.60      0\n",
              "California  1.05  0.55     0.73      0"
            ]
          },
          "metadata": {
            "tags": []
          },
          "execution_count": 20
        }
      ]
    },
    {
      "cell_type": "code",
      "metadata": {
        "colab": {
          "base_uri": "https://localhost:8080/"
        },
        "id": "bwPt6kk28BTi",
        "outputId": "f023be61-5b01-4149-8440-b51c72d9c8bf"
      },
      "source": [
        "alco2009.loc[\"Nebraska\"] # pandas 1.0.0 버전부터 deprecated"
      ],
      "execution_count": null,
      "outputs": [
        {
          "output_type": "execute_result",
          "data": {
            "text/plain": [
              "Beer       1.46\n",
              "Wine       0.20\n",
              "Spirits    0.68\n",
              "Total      0.00\n",
              "Name: Nebraska, dtype: float64"
            ]
          },
          "metadata": {
            "tags": []
          },
          "execution_count": 24
        }
      ]
    },
    {
      "cell_type": "code",
      "metadata": {
        "colab": {
          "base_uri": "https://localhost:8080/"
        },
        "id": "E1U9LfF6BHx4",
        "outputId": "3073abf6-7ce1-40d1-d4ef-4eafa3a765a6"
      },
      "source": [
        "# in 연산자 데이터 프레임의 특정 레이블을 가진 행이 있는지 확인\n",
        "\"Samoa\" in alco2009.index"
      ],
      "execution_count": null,
      "outputs": [
        {
          "output_type": "execute_result",
          "data": {
            "text/plain": [
              "False"
            ]
          },
          "metadata": {
            "tags": []
          },
          "execution_count": 26
        }
      ]
    },
    {
      "cell_type": "code",
      "metadata": {
        "id": "_IE3Dqr6BtlF",
        "colab": {
          "base_uri": "https://localhost:8080/"
        },
        "outputId": "02c6e960-3efa-4c20-83e7-68172eeb1b1b"
      },
      "source": [
        "\"Nebraska\" in alco2009.index"
      ],
      "execution_count": null,
      "outputs": [
        {
          "output_type": "execute_result",
          "data": {
            "text/plain": [
              "True"
            ]
          },
          "metadata": {
            "tags": []
          },
          "execution_count": 27
        }
      ]
    }
  ]
}
