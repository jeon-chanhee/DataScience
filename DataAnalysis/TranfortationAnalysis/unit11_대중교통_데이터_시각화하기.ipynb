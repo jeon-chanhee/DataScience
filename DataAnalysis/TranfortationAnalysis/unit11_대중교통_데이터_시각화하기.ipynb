{
  "nbformat": 4,
  "nbformat_minor": 0,
  "metadata": {
    "colab": {
      "name": "unit11_대중교통 데이터 시각화하기.ipynb",
      "provenance": [],
      "collapsed_sections": []
    },
    "kernelspec": {
      "name": "python3",
      "display_name": "Python 3"
    },
    "language_info": {
      "name": "python"
    }
  },
  "cells": [
    {
      "cell_type": "markdown",
      "metadata": {
        "id": "R6uo0wqZoZJG"
      },
      "source": [
        "지하철 유무임별 이용현황 데이터 정제하기"
      ]
    },
    {
      "cell_type": "markdown",
      "metadata": {
        "id": "RXXj_Vq-1lHb"
      },
      "source": [
        "데이터 출력하기"
      ]
    },
    {
      "cell_type": "code",
      "metadata": {
        "id": "A5Bp2Dab1b30"
      },
      "source": [
        "import csv\n",
        "\n",
        "f = open('subwayfree.csv') # 인코딩 utf-8 생략 가능\n",
        "data = csv.reader(f)\n",
        "\n",
        "for row in data:\n",
        "  print(row)"
      ],
      "execution_count": null,
      "outputs": []
    },
    {
      "cell_type": "markdown",
      "metadata": {
        "id": "ChgiZIGV6ktf"
      },
      "source": [
        "유임승차 수 정수형으로 변경"
      ]
    },
    {
      "cell_type": "code",
      "metadata": {
        "id": "35Ma63Zb6nN2"
      },
      "source": [
        "import csv\n",
        "\n",
        "f = open('subwayfree.csv') # 인코딩 utf-8 생략 가능\n",
        "data = csv.reader(f)\n",
        "next(data)\n",
        "\n",
        "for row in data:\n",
        "  row[4] = int(row[4])\n",
        "  print(row)"
      ],
      "execution_count": null,
      "outputs": []
    },
    {
      "cell_type": "markdown",
      "metadata": {
        "id": "3ucpsxcR7B6k"
      },
      "source": [
        "인원 숫자 데이터 정수로 변경 (유임승차, 유임하차, 무임승차, 무임하차 : 4,5,6,7 인덱스)"
      ]
    },
    {
      "cell_type": "code",
      "metadata": {
        "id": "qzfe9zuS7LRc"
      },
      "source": [
        "import csv\n",
        "\n",
        "f = open('subwayfree.csv') # 인코딩 utf-8 생략 가능\n",
        "data = csv.reader(f)\n",
        "next(data)\n",
        "\n",
        "for row in data:\n",
        "  for i in range(4,8):  # 4,5,6,7 인덱스 데이터 정수로 변경\n",
        "    row[i] = int(row[i])\n",
        "  print(row)"
      ],
      "execution_count": null,
      "outputs": []
    },
    {
      "cell_type": "markdown",
      "metadata": {
        "id": "RN7WnK6o-ENv"
      },
      "source": [
        "유임 승차 비율이 가장 높은 역은 어디일까?"
      ]
    },
    {
      "cell_type": "code",
      "metadata": {
        "colab": {
          "base_uri": "https://localhost:8080/"
        },
        "id": "mGInErfG-H3u",
        "outputId": "66b3150f-7b3b-498d-ebc1-1aa0d5ba7abc"
      },
      "source": [
        "import csv\n",
        "\n",
        "f = open('subwayfree.csv') # 인코딩 utf-8 생략 가능\n",
        "data = csv.reader(f)\n",
        "next(data)\n",
        "\n",
        "mx = 0 # 최대 유임승차 비율\n",
        "rate = 0 # 유임승차 비율\n",
        "\n",
        "for row in data:\n",
        "  for i in range(4,8):  # 4,5,6,7 인덱스 데이터 정수로 변경\n",
        "    row[i] = int(row[i])\n",
        "  \n",
        "  if row[4] != 0 and row[6] != 0:\n",
        "    rate = row[4]/row[6] # 유임승차 / 무임승차\n",
        "\n",
        "  if rate > mx:\n",
        "    mx = rate\n",
        "\n",
        "print(mx)"
      ],
      "execution_count": null,
      "outputs": [
        {
          "output_type": "stream",
          "text": [
            "27.5\n"
          ],
          "name": "stdout"
        }
      ]
    },
    {
      "cell_type": "markdown",
      "metadata": {
        "id": "LjrLmJi2AOPg"
      },
      "source": [
        "유임승차 / 무임승차 비율의 최댓값 찾기 -> 기존 0 데이터가 '-' 데이터로 되어있음\n",
        "<br>\n",
        "rate = 유임승차 인원 / 무임 승차 인원\n"
      ]
    },
    {
      "cell_type": "code",
      "metadata": {
        "id": "yp2qRsLeAU2w"
      },
      "source": [
        "import csv\n",
        "\n",
        "f = open('subwayfree.csv') # 인코딩 utf-8 생략 가능\n",
        "data = csv.reader(f)\n",
        "next(data)\n",
        "\n",
        "mx = 0 # 최대 유임승차 비율\n",
        "rate = 0 # 유임승차 비율\n",
        "\n",
        "for row in data:\n",
        "  for i in range(4,8):  # 4,5,6,7 인덱스 데이터 정수로 변경\n",
        "    row[i] = int(row[i])\n",
        "  \n",
        "  if row[4] != 0 and row[6] != 0:\n",
        "    rate = row[4]/row[6] # 유임승차 / 무임승차\n",
        "\n",
        "  if rate > mx:\n",
        "    mx = rate\n",
        "\n",
        "print(mx)"
      ],
      "execution_count": null,
      "outputs": []
    },
    {
      "cell_type": "markdown",
      "metadata": {
        "id": "WQixbgQEAaKO"
      },
      "source": [
        "비율 계산 방식 변경 rate = 유임승차 인원 / 전체(유임+무임) 인원\n"
      ]
    },
    {
      "cell_type": "code",
      "metadata": {
        "colab": {
          "base_uri": "https://localhost:8080/"
        },
        "id": "418y3Fe4AdaO",
        "outputId": "c495befd-725b-4136-c34f-b56eec766849"
      },
      "source": [
        "import csv\n",
        "\n",
        "f = open('subwayfree.csv') # 인코딩 utf-8 생략 가능\n",
        "data = csv.reader(f)\n",
        "next(data)\n",
        "\n",
        "mx = 0 # 최대 유임승차 비율\n",
        "rate = 0 # 유임승차 비율\n",
        "\n",
        "for row in data:\n",
        "  for i in range(4,8):  # 4,5,6,7 인덱스 데이터 정수로 변경\n",
        "    row[i] = int(row[i])\n",
        "  \n",
        "  if row[4] != 0 and row[6] != 0 and (row[4] + row[6]) > 100000:    # 유무임  승차 인원 합쳐서 10만명 이상만\n",
        "    rate = row[4]/(row[4] + row[6]) # 유임승차 / 전체 (유+무임)승차\n",
        "\n",
        "  if rate > mx:\n",
        "    mx = rate\n",
        "    mx_station = row[3] + ' ' + row[1]  # 지하철 역 + 호선 정보 ex) 서울역 1호선\n",
        "    print(mx_station, round(mx * 100,2))   # % 비율로 보기 위해 , round() 소수점 2번째 자리까지 보기\n",
        "\n",
        "# 서울역 1호선 87.27부터 나오는건 가장 먼저 잡힌 데이터이기 때문에\n",
        "\n"
      ],
      "execution_count": null,
      "outputs": [
        {
          "output_type": "stream",
          "text": [
            "서울역 1호선 87.27\n",
            "종각 1호선 88.43\n",
            "시청 2호선 92.04\n",
            "을지로입구 2호선 92.16\n",
            "한양대 2호선 93.83\n",
            "강남 2호선 94.42\n",
            "홍대입구 2호선 95.34\n"
          ],
          "name": "stdout"
        }
      ]
    },
    {
      "cell_type": "code",
      "metadata": {
        "colab": {
          "base_uri": "https://localhost:8080/"
        },
        "id": "kEM9OChUDahR",
        "outputId": "4fbd9517-f2b5-4bea-e3e9-45d8287ae0b0"
      },
      "source": [
        "import csv\n",
        "\n",
        "f = open('subwayfree.csv') # 인코딩 utf-8 생략 가능\n",
        "data = csv.reader(f)\n",
        "next(data)\n",
        "\n",
        "mx = 0 # 최대 유임승차 비율\n",
        "rate = 0 # 유임승차 비율\n",
        "mx_station = '' # 최대 유임승차역 정보\n",
        "\n",
        "\n",
        "for row in data:\n",
        "  for i in range(4,8):  # 4,5,6,7 인덱스 데이터 정수로 변경\n",
        "    row[i] = int(row[i])\n",
        "  \n",
        "  if row[4] != 0 and row[6] != 0 and (row[4] + row[6]) > 100000:    # 유무임  승차 인원 합쳐서 10만명 이상만\n",
        "    rate = row[4]/(row[4] + row[6]) # 유임승차 / 전체 (유+무임)승차\n",
        "\n",
        "  if rate > mx:\n",
        "    mx = rate\n",
        "    mx_station = row[3] + ' ' + row[1]  # 지하철 역 + 호선 정보 ex) 서울역 1호선\n",
        " \n",
        "\n",
        "print(mx_station, round(mx * 100,2))"
      ],
      "execution_count": null,
      "outputs": [
        {
          "output_type": "stream",
          "text": [
            "홍대입구 2호선 95.34\n"
          ],
          "name": "stdout"
        }
      ]
    },
    {
      "cell_type": "markdown",
      "metadata": {
        "id": "AON_n5FCaEpb"
      },
      "source": [
        "유무임 승하차 인원이 가장 많은 역 찾기"
      ]
    },
    {
      "cell_type": "code",
      "metadata": {
        "colab": {
          "base_uri": "https://localhost:8080/"
        },
        "id": "EoMRZTeXY0Fa",
        "outputId": "4c22ddd2-843d-46f9-e0a6-5b8fa4b64ba9"
      },
      "source": [
        "import csv\n",
        "\n",
        "f = open('subwayfree.csv') # 인코딩 utf-8 생략 가능\n",
        "data = csv.reader(f)\n",
        "next(data)\n",
        "\n",
        "mx = [0] * 4 # 최대 유임승차, 유임하차, 무임승차, 무임하차 인원수 각 수별로 리스트를 만든것임\n",
        "mx_station = [''] * 4 # 최대 유임승차, 유임하차, 무임승차, 무임하차 인원수 역 정보\n",
        "\n",
        "label = ['유임승차','유임하차','무임승차','무임하차']\n",
        "\n",
        "for row in data:\n",
        "  for i in range(4,8):  # 4,5,6,7 인덱스 데이터 정수로 변경\n",
        "    row[i] = int(row[i])\n",
        "    if row[i] > mx[i-4]:  # row[4] > mx[0] 유임승차 끼리 비교 mx의 인덱스 0번째랑 비교해야하니까\n",
        "      mx[i-4] = row[i]\n",
        "      mx_station[i-4] =  row[3] + ' ' + row[1]  # 지하철 역 + 호선 정보 ex) 서울역 1호선\n",
        "\n",
        "for i in range(4):\n",
        "  print(label[i]+' : '+mx_station[i],mx[i])"
      ],
      "execution_count": null,
      "outputs": [
        {
          "output_type": "stream",
          "text": [
            "유임승차 : 강남 2호선 3153418\n",
            "유임하차 : 강남 2호선 3210437\n",
            "무임승차 : 종로3가 1호선 387062\n",
            "무임하차 : 제기동 1호선 400607\n"
          ],
          "name": "stdout"
        }
      ]
    },
    {
      "cell_type": "markdown",
      "metadata": {
        "id": "zMfg-kIldRUE"
      },
      "source": [
        "유무임 승하차 인원이 가장 적은 역 찾기"
      ]
    },
    {
      "cell_type": "code",
      "metadata": {
        "colab": {
          "base_uri": "https://localhost:8080/"
        },
        "id": "tYXzhgLKdVSI",
        "outputId": "c6dd696b-0d60-4dd6-854d-c95e80b56bf4"
      },
      "source": [
        "import csv\n",
        "\n",
        "f = open('subwayfree.csv') # 인코딩 utf-8 생략 가능\n",
        "data = csv.reader(f)\n",
        "next(data)\n",
        "\n",
        "min = [999] * 4 # 유임승하차, 무임승하차를 담아야하는 리스트\n",
        "min_station = [''] * 4 # 유임승하차, 무임승하차를 담아야하는 리스트\n",
        "\n",
        "label = ['유임승차','유임하차','무임승차','무임하차']\n",
        "\n",
        "for row in data:\n",
        "  for i in range(4,8):\n",
        "    if '-' != row[i]:\n",
        "      row[i]=int(row[i])\n",
        "      if row[i] > 0 and row[i] < min[i-4]:      # != 보다는 > 를 쓰는게 나음\n",
        "        min[i-4] = row[i]\n",
        "        min_station[i-4] = row[3] + ' ' + row[1]\n",
        "\n",
        "for i in range(4):\n",
        "  print(label[i]+ ' : '+min_station[i],min[i])\n"
      ],
      "execution_count": null,
      "outputs": [
        {
          "output_type": "stream",
          "text": [
            "유임승차 : 지축 일산선 2\n",
            "유임하차 : 지평 중앙선 566\n",
            "무임승차 : 충무로 3호선 2\n",
            "무임하차 : 옥수 경원선 91\n"
          ],
          "name": "stdout"
        }
      ]
    },
    {
      "cell_type": "markdown",
      "metadata": {
        "id": "FO7iOIMGduHO"
      },
      "source": [
        "모든 역의 유무임 승하차 비율은 어떻게 될까?"
      ]
    },
    {
      "cell_type": "code",
      "metadata": {
        "id": "svqqNooMqBvM"
      },
      "source": [
        "import csv\n",
        "import matplotlib.pyplot as plt\n",
        "\n",
        "\n",
        "f = open('subwayfree.csv') # 인코딩 utf-8 생략 가능\n",
        "data = csv.reader(f)\n",
        "next(data)\n",
        "\n",
        "min = [999] * 4 # 유임승하차, 무임승하차를 담아야하는 리스트\n",
        "min_station = [''] * 4 # 유임승하차, 무임승하차를 담아야하는 리스트\n",
        "\n",
        "label = ['유임승차','유임하차','무임승차','무임하차']\n",
        "\n",
        "for row in data:\n",
        "  for i in range(4,8):\n",
        "    if '-' != row[i]:\n",
        "      row[i]=int(row[i])\n",
        "      plt.figure(dpi=200)\n",
        "      plt.pie(row[4:8])\n",
        "      plt.axis('equal')\n",
        "      plt.show()"
      ],
      "execution_count": null,
      "outputs": []
    },
    {
      "cell_type": "markdown",
      "metadata": {
        "id": "Aas8uf6_qqjL"
      },
      "source": [
        "한글깨짐 방지"
      ]
    },
    {
      "cell_type": "code",
      "metadata": {
        "colab": {
          "base_uri": "https://localhost:8080/"
        },
        "id": "czuXMOzQquKt",
        "outputId": "746cc054-a0ee-4567-acbc-555511a9e189"
      },
      "source": [
        "import matplotlib as mpl\n",
        "import matplotlib.pyplot as plt\n",
        " \n",
        "%config InlineBackend.figure_format = 'retina'\n",
        " \n",
        "!apt -qq -y install fonts-nanum\n",
        " \n",
        "import matplotlib.font_manager as fm\n",
        "\n",
        "fontpath = '/usr/share/fonts/truetype/nanum/NanumBarunGothic.ttf'\n",
        "font = fm.FontProperties(fname=fontpath, size=9)\n",
        "plt.rc('font', family='NanumBarunGothic') \n",
        "mpl.font_manager._rebuild()\n"
      ],
      "execution_count": null,
      "outputs": [
        {
          "output_type": "stream",
          "text": [
            "fonts-nanum is already the newest version (20170925-1).\n",
            "0 upgraded, 0 newly installed, 0 to remove and 39 not upgraded.\n"
          ],
          "name": "stdout"
        }
      ]
    },
    {
      "cell_type": "markdown",
      "metadata": {
        "id": "WZ3OKkehrFZc"
      },
      "source": [
        "모든 역의 유무임 승하차 비율을 파이 차트로 나타내기"
      ]
    },
    {
      "cell_type": "code",
      "metadata": {
        "id": "7ybhypvfrHzx"
      },
      "source": [
        "import csv\n",
        "import matplotlib.pyplot as plt\n",
        "\n",
        "\n",
        "f = open('subwayfree.csv') # 인코딩 utf-8 생략 가능\n",
        "data = csv.reader(f)\n",
        "next(data)\n",
        "\n",
        "min = [999] * 4 # 유임승하차, 무임승하차를 담아야하는 리스트\n",
        "min_station = [''] * 4 # 유임승하차, 무임승하차를 담아야하는 리스트\n",
        "\n",
        "label = ['유임승차','유임하차','무임승차','무임하차']\n",
        "\n",
        "for row in data:\n",
        "  for i in range(4,8):\n",
        "    if '-' != row[i]:\n",
        "      row[i]=int(row[i])\n",
        "      plt.figure(dpi=200)\n",
        "      plt.title(row[3] + ' ' + row[1])\n",
        "      plt.pie(row[4:8],labels=label,autopct='%.1f%%')\n",
        "      plt.axis('equal')\n",
        "      plt.savefig(row[3] + ' ' + row[1]+'.png')   # 그림파일로 저장\n",
        "      plt.show()"
      ],
      "execution_count": null,
      "outputs": []
    }
  ]
}