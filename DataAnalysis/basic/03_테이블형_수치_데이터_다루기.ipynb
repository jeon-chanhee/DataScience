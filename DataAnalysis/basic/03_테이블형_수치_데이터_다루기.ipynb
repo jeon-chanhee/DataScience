{
  "nbformat": 4,
  "nbformat_minor": 0,
  "metadata": {
    "colab": {
      "name": "03_테이블형 수치 데이터 다루기.ipynb",
      "provenance": [],
      "collapsed_sections": []
    },
    "kernelspec": {
      "name": "python3",
      "display_name": "Python 3"
    },
    "language_info": {
      "name": "python"
    }
  },
  "cells": [
    {
      "cell_type": "markdown",
      "metadata": {
        "id": "Q7Y1GxFmirEn"
      },
      "source": [
        "10개의 양수로 된 간단한 numpy 배열 만들기"
      ]
    },
    {
      "cell_type": "code",
      "metadata": {
        "colab": {
          "base_uri": "https://localhost:8080/"
        },
        "id": "f_Z4IgkYiuov",
        "outputId": "cba73ad3-ac78-4f50-eac8-f659edcebe82"
      },
      "source": [
        "import numpy as np\n",
        "\n",
        "numbers = np.array(range(1,11),copy=True)   # copy는 복사할 수 있는지 없는지\n",
        "numbers"
      ],
      "execution_count": null,
      "outputs": [
        {
          "output_type": "execute_result",
          "data": {
            "text/plain": [
              "array([ 1,  2,  3,  4,  5,  6,  7,  8,  9, 10])"
            ]
          },
          "metadata": {
            "tags": []
          },
          "execution_count": 2
        }
      ]
    },
    {
      "cell_type": "markdown",
      "metadata": {
        "id": "NNgk3PhVjijL"
      },
      "source": [
        "ones() -> 1, zeros() -> 0, empty() -> 아직 생성되지 않은 엔트리로 구성 <br>\n",
        "https://numpy.org/doc/stable/reference/generated/numpy.array.html\n"
      ]
    },
    {
      "cell_type": "code",
      "metadata": {
        "colab": {
          "base_uri": "https://localhost:8080/"
        },
        "id": "X2mD-z-OhaRQ",
        "outputId": "02e849ad-0ba2-4978-ef28-ee54e17d866e"
      },
      "source": [
        " # 아직 생성되지 않은 엔트리로 구성된 배열을 1로 채움\n",
        " ones = np.ones([2,4], dtype = np.float)   # 2 row 4 column\n",
        " ones                                    # 정수 형태로 쓰고 싶으면 int 설정"
      ],
      "execution_count": null,
      "outputs": [
        {
          "output_type": "execute_result",
          "data": {
            "text/plain": [
              "array([[1., 1., 1., 1.],\n",
              "       [1., 1., 1., 1.]])"
            ]
          },
          "metadata": {
            "tags": []
          },
          "execution_count": 6
        }
      ]
    },
    {
      "cell_type": "code",
      "metadata": {
        "colab": {
          "base_uri": "https://localhost:8080/"
        },
        "id": "AK9pKYxHlFHI",
        "outputId": "ca813557-ab0f-4d07-c55f-97c915dadcb3"
      },
      "source": [
        "# 아직 생성되지 않은 엔트리로 구성된 배열을 0으로 채움\n",
        "\n",
        "zeros = np.zeros([2,4],dtype = np.float)\n",
        "zeros"
      ],
      "execution_count": null,
      "outputs": [
        {
          "output_type": "execute_result",
          "data": {
            "text/plain": [
              "array([[0., 0., 0., 0.],\n",
              "       [0., 0., 0., 0.]])"
            ]
          },
          "metadata": {
            "tags": []
          },
          "execution_count": 8
        }
      ]
    },
    {
      "cell_type": "code",
      "metadata": {
        "colab": {
          "base_uri": "https://localhost:8080/"
        },
        "id": "ekpIi15jlP1p",
        "outputId": "6e082cac-37ad-4769-c965-aa970412c693"
      },
      "source": [
        "# 아직 생성되지 않은 엔트리로 구성된 배열\n",
        "\n",
        "empty = np.empty([2,4],dtype = np.float)\n",
        "empty"
      ],
      "execution_count": null,
      "outputs": [
        {
          "output_type": "execute_result",
          "data": {
            "text/plain": [
              "array([[0., 0., 0., 0.],\n",
              "       [0., 0., 0., 0.]])"
            ]
          },
          "metadata": {
            "tags": []
          },
          "execution_count": 9
        }
      ]
    },
    {
      "cell_type": "markdown",
      "metadata": {
        "id": "ZWYBPrmplzN5"
      },
      "source": [
        "데이터 확인하기"
      ]
    },
    {
      "cell_type": "code",
      "metadata": {
        "colab": {
          "base_uri": "https://localhost:8080/"
        },
        "id": "xWxYX1mtl1NK",
        "outputId": "e43fed56-a5d7-43b5-aab0-1d671811081a"
      },
      "source": [
        "ones.shape"
      ],
      "execution_count": null,
      "outputs": [
        {
          "output_type": "execute_result",
          "data": {
            "text/plain": [
              "(2, 4)"
            ]
          },
          "metadata": {
            "tags": []
          },
          "execution_count": 11
        }
      ]
    },
    {
      "cell_type": "code",
      "metadata": {
        "colab": {
          "base_uri": "https://localhost:8080/"
        },
        "id": "mo3D7IS-mSSI",
        "outputId": "dc071c7b-2194-4cb9-d6be-9bb0f67cb8bf"
      },
      "source": [
        "ones.ndim    #  차원 확인 "
      ],
      "execution_count": null,
      "outputs": [
        {
          "output_type": "execute_result",
          "data": {
            "text/plain": [
              "2"
            ]
          },
          "metadata": {
            "tags": []
          },
          "execution_count": 13
        }
      ]
    },
    {
      "cell_type": "code",
      "metadata": {
        "colab": {
          "base_uri": "https://localhost:8080/"
        },
        "id": "UIfB5iDWmX7z",
        "outputId": "3d240e28-56bd-4365-b8ac-4550adaa0e52"
      },
      "source": [
        "ones.dtype"
      ],
      "execution_count": null,
      "outputs": [
        {
          "output_type": "execute_result",
          "data": {
            "text/plain": [
              "dtype('float64')"
            ]
          },
          "metadata": {
            "tags": []
          },
          "execution_count": 15
        }
      ]
    },
    {
      "cell_type": "code",
      "metadata": {
        "colab": {
          "base_uri": "https://localhost:8080/"
        },
        "id": "70b_K8UcmjVa",
        "outputId": "04f65b0d-8ecf-4d6a-cad2-09cd4e4b963c"
      },
      "source": [
        "numbers.dtype"
      ],
      "execution_count": null,
      "outputs": [
        {
          "output_type": "execute_result",
          "data": {
            "text/plain": [
              "dtype('int64')"
            ]
          },
          "metadata": {
            "tags": []
          },
          "execution_count": 18
        }
      ]
    },
    {
      "cell_type": "markdown",
      "metadata": {
        "id": "JmNGCbrPmuWm"
      },
      "source": [
        "arange(start, stop, step, dtype=None) 일정 간격으로 배열 생성하는 함수"
      ]
    },
    {
      "cell_type": "code",
      "metadata": {
        "colab": {
          "base_uri": "https://localhost:8080/"
        },
        "id": "4UQ8aIzVmoiY",
        "outputId": "532c8783-06e5-4bee-8123-04ca13492b4e"
      },
      "source": [
        "np_numbers = np.arange(2,5,0.25)    # 2부터 시작해서 0.25씩 증가\n",
        "np_numbers"
      ],
      "execution_count": null,
      "outputs": [
        {
          "output_type": "execute_result",
          "data": {
            "text/plain": [
              "array([2.  , 2.25, 2.5 , 2.75, 3.  , 3.25, 3.5 , 3.75, 4.  , 4.25, 4.5 ,\n",
              "       4.75])"
            ]
          },
          "metadata": {
            "tags": []
          },
          "execution_count": 21
        }
      ]
    },
    {
      "cell_type": "markdown",
      "metadata": {
        "id": "Wb4fX2tLngev"
      },
      "source": [
        "astype(dtype, casting=\"unsafe\", copy=True) 아이템의 타입 변경해 주는 함수\n"
      ]
    },
    {
      "cell_type": "code",
      "metadata": {
        "colab": {
          "base_uri": "https://localhost:8080/"
        },
        "id": "cIgz37-Tneyx",
        "outputId": "7e9fee17-76bf-45da-a1d7-c9b194209cb4"
      },
      "source": [
        "np_numbers = np_numbers.astype(np.int)\n",
        "np_numbers                             # 소수점이 도움이 안될 때 타입 변경 실수->정수\n"
      ],
      "execution_count": null,
      "outputs": [
        {
          "output_type": "execute_result",
          "data": {
            "text/plain": [
              "dtype('int64')"
            ]
          },
          "metadata": {
            "tags": []
          },
          "execution_count": 23
        }
      ]
    },
    {
      "cell_type": "markdown",
      "metadata": {
        "id": "SI0cgsuUoQzz"
      },
      "source": [
        "reshape(d0,d1,...) 대상 배열의 모양을 바꿔주는 함수"
      ]
    },
    {
      "cell_type": "code",
      "metadata": {
        "colab": {
          "base_uri": "https://localhost:8080/"
        },
        "id": "b1TN06M8ofKs",
        "outputId": "0004f5a4-2b57-41e6-ae7e-e4c7f387852d"
      },
      "source": [
        "# 몇 가지 S&P 주식 기호들\n",
        "sap = np.array([\"MMM\", \"ABT\", \"ABBV\", \"ACN\", \"ACE\", \"ATVI\", \"ADBE\", \"ADT\"])\n",
        "sap #U4 는 4글자 유니코드\n"
      ],
      "execution_count": null,
      "outputs": [
        {
          "output_type": "execute_result",
          "data": {
            "text/plain": [
              "array(['MMM', 'ABT', 'ABBV', 'ACN', 'ACE', 'ATVI', 'ADBE', 'ADT'],\n",
              "      dtype='<U4')"
            ]
          },
          "metadata": {
            "tags": []
          },
          "execution_count": 25
        }
      ]
    },
    {
      "cell_type": "code",
      "metadata": {
        "colab": {
          "base_uri": "https://localhost:8080/"
        },
        "id": "tqfTE7YZow6K",
        "outputId": "f73824dc-dfee-49f6-fc33-e8973d101122"
      },
      "source": [
        "sap.shape"
      ],
      "execution_count": null,
      "outputs": [
        {
          "output_type": "execute_result",
          "data": {
            "text/plain": [
              "(8,)"
            ]
          },
          "metadata": {
            "tags": []
          },
          "execution_count": 27
        }
      ]
    },
    {
      "cell_type": "code",
      "metadata": {
        "colab": {
          "base_uri": "https://localhost:8080/"
        },
        "id": "SUqto0RRo5kS",
        "outputId": "e0d84cfe-dbed-46c4-ba43-27d712214fe6"
      },
      "source": [
        "sap2d = sap.reshape(2,4)    \n",
        "sap2d"
      ],
      "execution_count": null,
      "outputs": [
        {
          "output_type": "execute_result",
          "data": {
            "text/plain": [
              "array([['MMM', 'ABT', 'ABBV', 'ACN'],\n",
              "       ['ACE', 'ATVI', 'ADBE', 'ADT']], dtype='<U4')"
            ]
          },
          "metadata": {
            "tags": []
          },
          "execution_count": 29
        }
      ]
    },
    {
      "cell_type": "code",
      "metadata": {
        "colab": {
          "base_uri": "https://localhost:8080/"
        },
        "id": "bk_MW2f0pTzg",
        "outputId": "9b5cd214-71e1-42aa-c6f2-9f1086eb4d0d"
      },
      "source": [
        "# 기존 배열과 새로운 배열의 아이템의 개수는 항상 동일 해야 함\n",
        "# numpy 보존의 법칙 성립\n",
        "\n",
        "sap3d = sap.reshape(2,2,2) # 3차원으로 변경\n",
        "sap3d"
      ],
      "execution_count": null,
      "outputs": [
        {
          "output_type": "execute_result",
          "data": {
            "text/plain": [
              "array([[['MMM', 'ABT'],\n",
              "        ['ABBV', 'ACN']],\n",
              "\n",
              "       [['ACE', 'ATVI'],\n",
              "        ['ADBE', 'ADT']]], dtype='<U4')"
            ]
          },
          "metadata": {
            "tags": []
          },
          "execution_count": 31
        }
      ]
    },
    {
      "cell_type": "code",
      "metadata": {
        "colab": {
          "base_uri": "https://localhost:8080/"
        },
        "id": "5PHX-hEdplYc",
        "outputId": "eeb40f78-243d-4433-eaf3-2b35f0c6f341"
      },
      "source": [
        "sap3d[0] # 1차원"
      ],
      "execution_count": null,
      "outputs": [
        {
          "output_type": "execute_result",
          "data": {
            "text/plain": [
              "array([['MMM', 'ABT'],\n",
              "       ['ABBV', 'ACN']], dtype='<U4')"
            ]
          },
          "metadata": {
            "tags": []
          },
          "execution_count": 33
        }
      ]
    },
    {
      "cell_type": "code",
      "metadata": {
        "colab": {
          "base_uri": "https://localhost:8080/"
        },
        "id": "H4TEXNmNpn1J",
        "outputId": "35e8fe91-a9ab-4281-df49-1ab2b49a3185"
      },
      "source": [
        "sap3d[1] # 2차원"
      ],
      "execution_count": null,
      "outputs": [
        {
          "output_type": "execute_result",
          "data": {
            "text/plain": [
              "array([['ACE', 'ATVI'],\n",
              "       ['ADBE', 'ADT']], dtype='<U4')"
            ]
          },
          "metadata": {
            "tags": []
          },
          "execution_count": 34
        }
      ]
    },
    {
      "cell_type": "code",
      "metadata": {
        "colab": {
          "base_uri": "https://localhost:8080/",
          "height": 169
        },
        "id": "dVxXUmrWpp46",
        "outputId": "8010d78f-0aec-4e95-86aa-4079ba73e4fd"
      },
      "source": [
        "sap3d[2] # 3차원 안나옴. 데이터가 없어서"
      ],
      "execution_count": null,
      "outputs": [
        {
          "output_type": "error",
          "ename": "IndexError",
          "evalue": "ignored",
          "traceback": [
            "\u001b[0;31m---------------------------------------------------------------------------\u001b[0m",
            "\u001b[0;31mIndexError\u001b[0m                                Traceback (most recent call last)",
            "\u001b[0;32m<ipython-input-35-66d01770f85c>\u001b[0m in \u001b[0;36m<module>\u001b[0;34m()\u001b[0m\n\u001b[0;32m----> 1\u001b[0;31m \u001b[0msap3d\u001b[0m\u001b[0;34m[\u001b[0m\u001b[0;36m2\u001b[0m\u001b[0;34m]\u001b[0m \u001b[0;31m# 3차원 안나옴. 데이터가 없어서\u001b[0m\u001b[0;34m\u001b[0m\u001b[0;34m\u001b[0m\u001b[0m\n\u001b[0m",
            "\u001b[0;31mIndexError\u001b[0m: index 2 is out of bounds for axis 0 with size 2"
          ]
        }
      ]
    },
    {
      "cell_type": "markdown",
      "metadata": {
        "id": "N1FnDTrDq6Ur"
      },
      "source": [
        "데이터 클리닝(data cleaning)을 위해 사용 되는 boolean indexing\n"
      ]
    },
    {
      "cell_type": "code",
      "metadata": {
        "colab": {
          "base_uri": "https://localhost:8080/"
        },
        "id": "ticWFPzcrBU0",
        "outputId": "1291d52c-54f5-4811-81db-5044f5fe465b"
      },
      "source": [
        "# 절대 음수 값이 와서는 안되는 데이터셋 \n",
        "\n",
        "dirty = np.array([9,4,1,-0.01,-0.02,-0.001])\n",
        "whos_dirty = dirty < 0  # boolean indexing\n",
        "whos_dirty\n",
        "# 지우고 싶은 애들을 True로 만들어야함 여기서는 음수 "
      ],
      "execution_count": null,
      "outputs": [
        {
          "output_type": "execute_result",
          "data": {
            "text/plain": [
              "array([False, False, False,  True,  True,  True])"
            ]
          },
          "metadata": {
            "tags": []
          },
          "execution_count": 36
        }
      ]
    },
    {
      "cell_type": "code",
      "metadata": {
        "colab": {
          "base_uri": "https://localhost:8080/"
        },
        "id": "tqaFCW64sb2W",
        "outputId": "cc00de62-eebf-4b34-9b10-8d0c9b9d60bd"
      },
      "source": [
        "dirty[whos_dirty] = 0 # 모든 음수값을 0으로 바꿈\n",
        "dirty"
      ],
      "execution_count": null,
      "outputs": [
        {
          "output_type": "execute_result",
          "data": {
            "text/plain": [
              "array([9., 4., 1., 0., 0., 0.])"
            ]
          },
          "metadata": {
            "tags": []
          },
          "execution_count": 38
        }
      ]
    },
    {
      "cell_type": "markdown",
      "metadata": {
        "id": "zdOafe1uxUmN"
      },
      "source": [
        "논리 연산자 | or, & and, - not 결합하여 boolean indexing 사용\n"
      ]
    },
    {
      "cell_type": "code",
      "metadata": {
        "colab": {
          "base_uri": "https://localhost:8080/"
        },
        "id": "oJ2NvFY6xRa0",
        "outputId": "4608e4dc-08ff-4443-80f2-1a05dc3a2b05"
      },
      "source": [
        "linear = np.arange(-1,1.1,0.2)\n",
        "linear"
      ],
      "execution_count": null,
      "outputs": [
        {
          "output_type": "execute_result",
          "data": {
            "text/plain": [
              "array([-1.00000000e+00, -8.00000000e-01, -6.00000000e-01, -4.00000000e-01,\n",
              "       -2.00000000e-01, -2.22044605e-16,  2.00000000e-01,  4.00000000e-01,\n",
              "        6.00000000e-01,  8.00000000e-01,  1.00000000e+00])"
            ]
          },
          "metadata": {
            "tags": []
          },
          "execution_count": 40
        }
      ]
    },
    {
      "cell_type": "code",
      "metadata": {
        "colab": {
          "base_uri": "https://localhost:8080/"
        },
        "id": "WYeX7Js3xnBJ",
        "outputId": "006d2c54-76ea-4740-92cd-f09d61ae5c68"
      },
      "source": [
        "# -0.5 ~ 0.5 사이의 값만 -> 0으로 변경하고 싶음\n",
        "whos_linear = (linear <=0.5) & (linear >= -0.5)\n",
        "whos_linear"
      ],
      "execution_count": null,
      "outputs": [
        {
          "output_type": "execute_result",
          "data": {
            "text/plain": [
              "array([False, False, False,  True,  True,  True,  True,  True, False,\n",
              "       False, False])"
            ]
          },
          "metadata": {
            "tags": []
          },
          "execution_count": 42
        }
      ]
    },
    {
      "cell_type": "code",
      "metadata": {
        "colab": {
          "base_uri": "https://localhost:8080/"
        },
        "id": "KjQvJ9jayqCS",
        "outputId": "6734955f-51fb-4c7e-9973-e04580cbaec7"
      },
      "source": [
        "linear[whos_linear] = 0     # 다 0으로 만듬\n",
        "linear"
      ],
      "execution_count": null,
      "outputs": [
        {
          "output_type": "execute_result",
          "data": {
            "text/plain": [
              "array([-1. , -0.8, -0.6,  0. ,  0. ,  0. ,  0. ,  0. ,  0.6,  0.8,  1. ])"
            ]
          },
          "metadata": {
            "tags": []
          },
          "execution_count": 43
        }
      ]
    },
    {
      "cell_type": "markdown",
      "metadata": {
        "id": "73JDDmaHy3in"
      },
      "source": [
        "스마트 인덱"
      ]
    },
    {
      "cell_type": "code",
      "metadata": {
        "colab": {
          "base_uri": "https://localhost:8080/"
        },
        "id": "Sm2ZqtijzKBY",
        "outputId": "5748ae91-6414-438c-fbd2-67794bed64eb"
      },
      "source": [
        "sap"
      ],
      "execution_count": null,
      "outputs": [
        {
          "output_type": "execute_result",
          "data": {
            "text/plain": [
              "array(['MMM', 'ABT', 'ABBV', 'ACN', 'ACE', 'ATVI', 'ADBE', 'ADT'],\n",
              "      dtype='<U4')"
            ]
          },
          "metadata": {
            "tags": []
          },
          "execution_count": 45
        }
      ]
    },
    {
      "cell_type": "code",
      "metadata": {
        "colab": {
          "base_uri": "https://localhost:8080/"
        },
        "id": "hR5vFe-Ny6UB",
        "outputId": "8f3f3bce-4a8e-4bf8-e0aa-d5a9ab99396c"
      },
      "source": [
        "# S&P 리스트에서 두번째, 세번째, 마지막 주식 기호를 추출\n",
        "sap[[1,2,-1]]"
      ],
      "execution_count": null,
      "outputs": [
        {
          "output_type": "execute_result",
          "data": {
            "text/plain": [
              "array(['ABT', 'ABBV', 'ADT'], dtype='<U4')"
            ]
          },
          "metadata": {
            "tags": []
          },
          "execution_count": 46
        }
      ]
    },
    {
      "cell_type": "code",
      "metadata": {
        "colab": {
          "base_uri": "https://localhost:8080/"
        },
        "id": "nPVC8Yc8zTlp",
        "outputId": "0b004fcc-e232-4c77-89e5-16da138744f8"
      },
      "source": [
        "sap2d"
      ],
      "execution_count": null,
      "outputs": [
        {
          "output_type": "execute_result",
          "data": {
            "text/plain": [
              "array([['MMM', 'ABT', 'ABBV', 'ACN'],\n",
              "       ['ACE', 'ATVI', 'ADBE', 'ADT']], dtype='<U4')"
            ]
          },
          "metadata": {
            "tags": []
          },
          "execution_count": 48
        }
      ]
    },
    {
      "cell_type": "code",
      "metadata": {
        "colab": {
          "base_uri": "https://localhost:8080/"
        },
        "id": "bVv363xczZmD",
        "outputId": "53558fc3-b693-4bce-936a-5ea0ed2ef6d4"
      },
      "source": [
        "sap2d[:,[1]] # [] 로 감싸면 2차원 배열"
      ],
      "execution_count": null,
      "outputs": [
        {
          "output_type": "execute_result",
          "data": {
            "text/plain": [
              "array([['ABT'],\n",
              "       ['ATVI']], dtype='<U4')"
            ]
          },
          "metadata": {
            "tags": []
          },
          "execution_count": 50
        }
      ]
    },
    {
      "cell_type": "code",
      "metadata": {
        "colab": {
          "base_uri": "https://localhost:8080/"
        },
        "id": "zjApvrIJzmCs",
        "outputId": "d17fc529-a8ee-4ba2-db10-d7e0340cdaa2"
      },
      "source": [
        "sap2d[:,1] # 감싸지 않으면 1차원 배열"
      ],
      "execution_count": null,
      "outputs": [
        {
          "output_type": "execute_result",
          "data": {
            "text/plain": [
              "array(['ABT', 'ATVI'], dtype='<U4')"
            ]
          },
          "metadata": {
            "tags": []
          },
          "execution_count": 51
        }
      ]
    },
    {
      "cell_type": "markdown",
      "metadata": {
        "id": "EyKy7Ijpz1Bx"
      },
      "source": [
        "차원만 같다면 numpy에서는 사칙연산 가능 (그낭 더하기) -> 브로드캐스팅\n"
      ]
    },
    {
      "cell_type": "code",
      "metadata": {
        "colab": {
          "base_uri": "https://localhost:8080/"
        },
        "id": "9QFtpb0bz4Dv",
        "outputId": "457a50c1-0183-4100-81a8-569d2be98c72"
      },
      "source": [
        "a = np.arange(4)\n",
        "b = np.arange(1,5)\n",
        "\n",
        "print(a)\n",
        "print(b)"
      ],
      "execution_count": null,
      "outputs": [
        {
          "output_type": "stream",
          "text": [
            "[0 1 2 3]\n",
            "[1 2 3 4]\n"
          ],
          "name": "stdout"
        }
      ]
    },
    {
      "cell_type": "code",
      "metadata": {
        "colab": {
          "base_uri": "https://localhost:8080/"
        },
        "id": "ggEVRwyq0RDe",
        "outputId": "a6177c5a-9056-4061-abd9-4f22e29c55e7"
      },
      "source": [
        "a+b"
      ],
      "execution_count": null,
      "outputs": [
        {
          "output_type": "execute_result",
          "data": {
            "text/plain": [
              "array([1, 3, 5, 7])"
            ]
          },
          "metadata": {
            "tags": []
          },
          "execution_count": 54
        }
      ]
    },
    {
      "cell_type": "code",
      "metadata": {
        "colab": {
          "base_uri": "https://localhost:8080/"
        },
        "id": "K-xesq9S0dn8",
        "outputId": "fae49f58-a633-4aaf-b5f5-77ac08880801"
      },
      "source": [
        "a*5"
      ],
      "execution_count": null,
      "outputs": [
        {
          "output_type": "execute_result",
          "data": {
            "text/plain": [
              "array([ 0,  5, 10, 15])"
            ]
          },
          "metadata": {
            "tags": []
          },
          "execution_count": 56
        }
      ]
    },
    {
      "cell_type": "code",
      "metadata": {
        "colab": {
          "base_uri": "https://localhost:8080/"
        },
        "id": "Ua1bDH1e1EA7",
        "outputId": "45974a96-8c14-49ed-98e4-84697869a9b0"
      },
      "source": [
        "noise = np.eye(4) + 0.01 * np.random.random([4,4])\n",
        "noise"
      ],
      "execution_count": null,
      "outputs": [
        {
          "output_type": "execute_result",
          "data": {
            "text/plain": [
              "array([[1.00882335, 0.00145144, 0.0022387 , 0.001679  ],\n",
              "       [0.00375442, 1.00550884, 0.00478575, 0.00378605],\n",
              "       [0.00994404, 0.00770402, 1.00396453, 0.00805218],\n",
              "       [0.00736086, 0.00888817, 0.00220344, 1.00639803]])"
            ]
          },
          "metadata": {
            "tags": []
          },
          "execution_count": 60
        }
      ]
    }
  ]
}