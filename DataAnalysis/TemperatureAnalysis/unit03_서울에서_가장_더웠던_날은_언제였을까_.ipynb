{
  "nbformat": 4,
  "nbformat_minor": 0,
  "metadata": {
    "colab": {
      "name": "unit03_서울에서 가장 더웠던 날은 언제였을까?.ipynb",
      "provenance": []
    },
    "kernelspec": {
      "name": "python3",
      "display_name": "Python 3"
    },
    "language_info": {
      "name": "python"
    }
  },
  "cells": [
    {
      "cell_type": "markdown",
      "metadata": {
        "id": "g0zGFlNRhrMJ"
      },
      "source": [
        "Step 1) 데이터 불러서 한 행씩 출력하기"
      ]
    },
    {
      "cell_type": "code",
      "metadata": {
        "id": "BfhsGamehhgf"
      },
      "source": [
        "import csv\n",
        "\n",
        "f = open('/content/seoul.csv','r',encoding='cp949')\n",
        "\n",
        "data = csv.reader(f)\n",
        "header = next(data)\n",
        "\n",
        "for row in data:\n",
        "  print(row)\n",
        "  # 최고기온 데이터만 추출 (현재 문자열로 되어있는데 숫자형태로 바꿔줘야함)\n",
        "  row[-1] = float(row[-1]) # float(row[4] -> 제일 마지막 컬럼 -> -1로 인덱스 처리)\n",
        "\n",
        "f.close()  # 하지만 결측치(null) 값이 있어서 오류가 발생\n"
      ],
      "execution_count": null,
      "outputs": []
    },
    {
      "cell_type": "markdown",
      "metadata": {
        "id": "ZJVQd68ekeZG"
      },
      "source": [
        "step 2) 데이터 중 최고 기온을 실수로 변환하여 한 행씩 출력하기"
      ]
    },
    {
      "cell_type": "code",
      "metadata": {
        "id": "FEHJmOOYiQKJ"
      },
      "source": [
        "import csv\n",
        "\n",
        "max_temp = -999 # 최고 기온 값을 저장할 변수 -> 0이 왜 아님? 명확한 결과를 위해 극적인 값으로 세팅 (누가봐도 초기화 데이터로 초기값 설정해주기)\n",
        "max_date = ''   # 최고 기온이 가장 높았던 날짜를 저장하는 변수\n",
        "\n",
        "f = open('/content/seoul.csv','r',encoding='cp949')\n",
        "\n",
        "data = csv.reader(f)\n",
        "header = next(data)\n",
        "\n",
        "for row in data:\n",
        "\n",
        "  # 최고 기온 데이터가 ''(결측지) 인지 확인\n",
        "  if row[-1] == '':\n",
        "    row[-1] = -999 # -999를 넣어서 빈 문자열('')이 있던 자리라고 표시\n",
        "  \n",
        "  print(row[0], row[-1]) # 날짜 데이터와 같이 출력\n",
        "  row[-1] = float(row[-1]) # 기온 데이터 실수형으로 변환\n",
        "  print(row[0], row[-1]) # 날짜 데이터와 같이 출력"
      ],
      "execution_count": null,
      "outputs": []
    },
    {
      "cell_type": "markdown",
      "metadata": {
        "id": "5iNqRz8-rTE9"
      },
      "source": [
        "step3 ) 최고 기온과 최고 기온이었던 날짜 찾기"
      ]
    },
    {
      "cell_type": "code",
      "metadata": {
        "colab": {
          "base_uri": "https://localhost:8080/"
        },
        "id": "4Xa4L7aIrWpf",
        "outputId": "e703fe2d-b77d-421e-b0c7-816b45376860"
      },
      "source": [
        "import csv\n",
        "\n",
        "max_temp = -999 # 최고 기온 값을 저장할 변수 -> 0이 왜 아님? 명확한 결과를 위해 극적인 값으로 세팅 (누가봐도 초기화 데이터로 초기값 설정해주기)\n",
        "max_date = ''   # 최고 기온이 가장 높았던 날짜를 저장하는 변수\n",
        "\n",
        "f = open('/content/seoul.csv','r',encoding='cp949')\n",
        "\n",
        "data = csv.reader(f)\n",
        "header = next(data)\n",
        "\n",
        "for row in data:\n",
        "\n",
        "  # 최고 기온 데이터가 ''(결측지) 인지 확인\n",
        "  if row[-1] == '':\n",
        "    row[-1] = -999 # -999를 넣어서 빈 문자열('')이 있던 자리라고 표시\n",
        "\n",
        "  row[-1] = float(row[-1]) # 기온 데이터 실수형으로 변환\n",
        "\n",
        "  # 최고 기온 정보를 저장\n",
        "\n",
        "  if max_temp < row[-1]:     # 계속해서 큰 숫자를 찾도록 비교! 찾고나면 각각의 변수에 저장\n",
        "    max_date = row[0]\n",
        "    max_temp = row[-1]\n",
        "\n",
        "f.close()\n",
        "\n",
        "print('기상 관측 이래 서울의 최고 기온이 가장 높았던 날은' , max_date+'로',max_temp,'도 였습니다')"
      ],
      "execution_count": null,
      "outputs": [
        {
          "output_type": "stream",
          "text": [
            "기상 관측 이래 서울의 최고 기온이 가장 높았던 날은 2018-08-01로 39.6 도 였습니다\n"
          ],
          "name": "stdout"
        }
      ]
    },
    {
      "cell_type": "markdown",
      "metadata": {
        "id": "e3vlMaAvsczj"
      },
      "source": [
        "step 4) 최저 기온과 최저 기온이었던 날짜 찾기"
      ]
    },
    {
      "cell_type": "code",
      "metadata": {
        "id": "kE0cS_8HOUBj"
      },
      "source": [
        ""
      ],
      "execution_count": null,
      "outputs": []
    },
    {
      "cell_type": "code",
      "metadata": {
        "colab": {
          "base_uri": "https://localhost:8080/"
        },
        "id": "iHVqy01KsiHN",
        "outputId": "3e5a4abe-9722-467c-88a9-05f3c98ef1bd"
      },
      "source": [
        "import csv\n",
        "\n",
        "min_temp = 999 # 최저 기온 값을 저장할 변수 -> 0이 왜 아님? 명확한 결과를 위해 극적인 값으로 세팅 (누가봐도 초기화 데이터로 초기값 설정해주기)\n",
        "min_date = ''   # 최저 기온이 가장 높았던 날짜를 저장하는 변수\n",
        "\n",
        "f = open('/content/seoul.csv','r',encoding='cp949')\n",
        "\n",
        "data = csv.reader(f)\n",
        "header = next(data)\n",
        "\n",
        "for row in data:\n",
        "\n",
        "  # 최저 기온 데이터가 ''(결측지) 인지 확인\n",
        "  if row[-2] == '':\n",
        "    row[-2] = 999 # 999를 넣어서 빈 문자열('')이 있던 자리라고 표시\n",
        "\n",
        "  row[-2] = float(row[-2]) # 기온 데이터 실수형으로 변환\n",
        "\n",
        "  # 최고 기온 정보를 저장\n",
        "\n",
        "  if min_temp > row[-2]:     # 계속해서 작은 숫자를 찾도록 비교! 찾고나면 각각의 변수에 저장\n",
        "    min_date = row[0]\n",
        "    min_temp = row[-2]\n",
        "\n",
        "f.close()\n",
        "\n",
        "print('기상 관측 이래 서울의 최저 기온이 가장 낮은 날은' , min_date+'로',min_temp,'도 였습니다')"
      ],
      "execution_count": null,
      "outputs": [
        {
          "output_type": "stream",
          "text": [
            "기상 관측 이래 서울의 최저 기온이 가장 낮은 날은 1927-12-31로 -23.1 도 였습니다\n"
          ],
          "name": "stdout"
        }
      ]
    },
    {
      "cell_type": "code",
      "metadata": {
        "colab": {
          "base_uri": "https://localhost:8080/"
        },
        "id": "CEerZDEZ0-of",
        "outputId": "eb2e0b3d-acf4-44d6-b1a2-78a1397934b4"
      },
      "source": [
        "# 평균 기온 최고\n",
        "\n",
        "import csv\n",
        "\n",
        "max_temp = -999 # 최저 기온 값을 저장할 변수 -> 0이 왜 아님? 명확한 결과를 위해 극적인 값으로 세팅 (누가봐도 초기화 데이터로 초기값 설정해주기)\n",
        "max_date = ''   # 최저 기온이 가장 높았던 날짜를 저장하는 변수\n",
        "\n",
        "f = open('/content/seoul.csv','r',encoding='cp949')\n",
        "\n",
        "data = csv.reader(f)\n",
        "header = next(data)\n",
        "\n",
        "for row in data:\n",
        "\n",
        "  # 최저 기온 데이터가 ''(결측지) 인지 확인\n",
        "  if row[2] == '':\n",
        "    row[2] = -999 # 999를 넣어서 빈 문자열('')이 있던 자리라고 표시\n",
        "\n",
        "  row[2] = float(row[2]) # 기온 데이터 실수형으로 변환\n",
        "\n",
        "  # 최고 기온 정보를 저장\n",
        "\n",
        "  if max_temp < row[2]:     # 계속해서 작은 숫자를 찾도록 비교! 찾고나면 각각의 변수에 저장\n",
        "    max_date = row[0]\n",
        "    max_temp = row[2]\n",
        "\n",
        "f.close()\n",
        "\n",
        "print('기상 관측 이래 서울의 평균 기온이 가장 높은 날은' , max_date+'로',max_temp,'도 였습니다')"
      ],
      "execution_count": null,
      "outputs": [
        {
          "output_type": "stream",
          "text": [
            "기상 관측 이래 서울의 평균 기온이 가장 높은 날은 2018-08-02로 33.7 도 였습니다\n"
          ],
          "name": "stdout"
        }
      ]
    },
    {
      "cell_type": "code",
      "metadata": {
        "colab": {
          "base_uri": "https://localhost:8080/"
        },
        "id": "nOIZ9rJU2c5n",
        "outputId": "68c23bd0-bbfd-4c44-878a-00685721d969"
      },
      "source": [
        "# 평균 기온 최저\n",
        "\n",
        "import csv\n",
        "\n",
        "min_temp = 999 # 최저 기온 값을 저장할 변수 -> 0이 왜 아님? 명확한 결과를 위해 극적인 값으로 세팅 (누가봐도 초기화 데이터로 초기값 설정해주기)\n",
        "min_date = ''   # 최저 기온이 가장 높았던 날짜를 저장하는 변수\n",
        "\n",
        "f = open('/content/seoul.csv','r',encoding='cp949')\n",
        "\n",
        "data = csv.reader(f)\n",
        "header = next(data)\n",
        "\n",
        "for row in data:\n",
        "\n",
        "  # 최저 기온 데이터가 ''(결측지) 인지 확인\n",
        "  if row[2] == '':\n",
        "    row[2] = 999 # 999를 넣어서 빈 문자열('')이 있던 자리라고 표시\n",
        "\n",
        "  row[2] = float(row[2]) # 기온 데이터 실수형으로 변환\n",
        "\n",
        "  # 최고 기온 정보를 저장\n",
        "\n",
        "  if min_temp > row[2]:     # 계속해서 작은 숫자를 찾도록 비교! 찾고나면 각각의 변수에 저장\n",
        "    min_date = row[0]\n",
        "    min_temp = row[2]\n",
        "\n",
        "f.close()\n",
        "\n",
        "print('기상 관측 이래 서울의 평균 기온이 가장 낮은 날은' , min_date+'로',min_temp,'도 였습니다')"
      ],
      "execution_count": null,
      "outputs": [
        {
          "output_type": "stream",
          "text": [
            "기상 관측 이래 서울의 평균 기온이 가장 낮은 날은 1915-01-13로 -19.2 도 였습니다\n"
          ],
          "name": "stdout"
        }
      ]
    }
  ]
}