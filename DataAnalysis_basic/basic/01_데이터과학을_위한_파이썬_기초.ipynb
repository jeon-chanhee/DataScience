{
  "nbformat": 4,
  "nbformat_minor": 0,
  "metadata": {
    "colab": {
      "name": "01_데이터과학을 위한 파이썬 기초.ipynb",
      "provenance": [],
      "collapsed_sections": [],
      "authorship_tag": "ABX9TyP7eYXF+yavzGYON9nlWCmd",
      "include_colab_link": true
    },
    "kernelspec": {
      "name": "python3",
      "display_name": "Python 3"
    },
    "language_info": {
      "name": "python"
    }
  },
  "cells": [
    {
      "cell_type": "markdown",
      "metadata": {
        "id": "view-in-github",
        "colab_type": "text"
      },
      "source": [
        "<a href=\"https://colab.research.google.com/github/jeon-chanhee/DataScience/blob/main/01_%EB%8D%B0%EC%9D%B4%ED%84%B0%EA%B3%BC%ED%95%99%EC%9D%84_%EC%9C%84%ED%95%9C_%ED%8C%8C%EC%9D%B4%EC%8D%AC_%EA%B8%B0%EC%B4%88.ipynb\" target=\"_parent\"><img src=\"https://colab.research.google.com/assets/colab-badge.svg\" alt=\"Open In Colab\"/></a>"
      ]
    },
    {
      "cell_type": "markdown",
      "metadata": {
        "id": "OjQPPVS7v2Ff"
      },
      "source": [
        "strip() 공백 제거 함수"
      ]
    },
    {
      "cell_type": "code",
      "metadata": {
        "colab": {
          "base_uri": "https://localhost:8080/",
          "height": 35
        },
        "id": "FYdq05SvvdjB",
        "outputId": "7644c535-e1de-497c-c1e4-4dc47dbfeed9"
      },
      "source": [
        "st = \"Hello, world! \\t\\t\\n\" # 모든 줄 바꿈과 탭 (\\n, \\r \\t)\n",
        "st"
      ],
      "execution_count": null,
      "outputs": [
        {
          "output_type": "execute_result",
          "data": {
            "application/vnd.google.colaboratory.intrinsic+json": {
              "type": "string"
            },
            "text/plain": [
              "'Hello, world! \\t\\t\\n'"
            ]
          },
          "metadata": {
            "tags": []
          },
          "execution_count": 1
        }
      ]
    },
    {
      "cell_type": "code",
      "metadata": {
        "colab": {
          "base_uri": "https://localhost:8080/",
          "height": 35
        },
        "id": "gJ6aCjxMwNuG",
        "outputId": "2b4c5af0-c731-49e1-f333-b09b58e12919"
      },
      "source": [
        "st.strip()  # 모든 공백 제거"
      ],
      "execution_count": null,
      "outputs": [
        {
          "output_type": "execute_result",
          "data": {
            "application/vnd.google.colaboratory.intrinsic+json": {
              "type": "string"
            },
            "text/plain": [
              "'Hello, world!'"
            ]
          },
          "metadata": {
            "tags": []
          },
          "execution_count": 2
        }
      ]
    },
    {
      "cell_type": "code",
      "metadata": {
        "colab": {
          "base_uri": "https://localhost:8080/",
          "height": 35
        },
        "id": "pFxi1-InwlsX",
        "outputId": "2ac367c7-8ab4-4482-e0fc-29445bcb9254"
      },
      "source": [
        "st.lstrip() # 왼쪽 공백 제거"
      ],
      "execution_count": null,
      "outputs": [
        {
          "output_type": "execute_result",
          "data": {
            "application/vnd.google.colaboratory.intrinsic+json": {
              "type": "string"
            },
            "text/plain": [
              "'Hello, world! \\t\\t\\n'"
            ]
          },
          "metadata": {
            "tags": []
          },
          "execution_count": 4
        }
      ]
    },
    {
      "cell_type": "code",
      "metadata": {
        "colab": {
          "base_uri": "https://localhost:8080/",
          "height": 35
        },
        "id": "_nm3ViZhwqmY",
        "outputId": "85e27274-c601-4281-b708-bc1edb76366b"
      },
      "source": [
        "st.rstrip()  # 오른쪽 공백 제거 "
      ],
      "execution_count": null,
      "outputs": [
        {
          "output_type": "execute_result",
          "data": {
            "application/vnd.google.colaboratory.intrinsic+json": {
              "type": "string"
            },
            "text/plain": [
              "'Hello, world!'"
            ]
          },
          "metadata": {
            "tags": []
          },
          "execution_count": 6
        }
      ]
    },
    {
      "cell_type": "markdown",
      "metadata": {
        "id": "RuuakE0dxD83"
      },
      "source": [
        "split(delim=\"\") 문자열 자르기 함수"
      ]
    },
    {
      "cell_type": "code",
      "metadata": {
        "colab": {
          "base_uri": "https://localhost:8080/"
        },
        "id": "dafF955vxJD2",
        "outputId": "fcebb2f6-b8c8-4d08-815a-bb7a68a3f5fd"
      },
      "source": [
        " \"Hello, world!\".split() # delim 구분자 -> default 공백"
      ],
      "execution_count": null,
      "outputs": [
        {
          "output_type": "execute_result",
          "data": {
            "text/plain": [
              "['Hello,', 'world!']"
            ]
          },
          "metadata": {
            "tags": []
          },
          "execution_count": 8
        }
      ]
    },
    {
      "cell_type": "code",
      "metadata": {
        "colab": {
          "base_uri": "https://localhost:8080/"
        },
        "id": "ZHPx5PZGxgu9",
        "outputId": "fa02e83e-82e0-4bb3-a25c-6924aa2ccc3d"
      },
      "source": [
        " \"Hello, world!\".strip().split(\",\")  # 구분자 -> ,(콤마)"
      ],
      "execution_count": null,
      "outputs": [
        {
          "output_type": "execute_result",
          "data": {
            "text/plain": [
              "['Hello', ' world!']"
            ]
          },
          "metadata": {
            "tags": []
          },
          "execution_count": 12
        }
      ]
    },
    {
      "cell_type": "code",
      "metadata": {
        "colab": {
          "base_uri": "https://localhost:8080/"
        },
        "id": "5XWlwdS4x-Mp",
        "outputId": "6a6d6b0c-0a0b-45e6-befa-29ba5e40e208"
      },
      "source": [
        "\"www.networksciencelab.com\".split(\".\")"
      ],
      "execution_count": null,
      "outputs": [
        {
          "output_type": "execute_result",
          "data": {
            "text/plain": [
              "['www', 'networksciencelab', 'com']"
            ]
          },
          "metadata": {
            "tags": []
          },
          "execution_count": 14
        }
      ]
    },
    {
      "cell_type": "markdown",
      "metadata": {
        "id": "ZE5DO--jypYv"
      },
      "source": [
        "join(Is) 문자열을 연결시키는 함수\n"
      ]
    },
    {
      "cell_type": "code",
      "metadata": {
        "colab": {
          "base_uri": "https://localhost:8080/",
          "height": 35
        },
        "id": "V9ff95cEywef",
        "outputId": "09c0b614-879d-4f53-bbcb-7efee3420777"
      },
      "source": [
        "\", \".join([\"alpha\", \"bravo\", \"charile\", \"delta\"]) # 문자열 리스트 Is 하나의 문자열로 붙임. -> 문자열 조각을 재조합"
      ],
      "execution_count": null,
      "outputs": [
        {
          "output_type": "execute_result",
          "data": {
            "application/vnd.google.colaboratory.intrinsic+json": {
              "type": "string"
            },
            "text/plain": [
              "'alpha, bravo, charile, delta'"
            ]
          },
          "metadata": {
            "tags": []
          },
          "execution_count": 18
        }
      ]
    },
    {
      "cell_type": "code",
      "metadata": {
        "colab": {
          "base_uri": "https://localhost:8080/",
          "height": 35
        },
        "id": "NB930WmKzVie",
        "outputId": "1bed4fbb-4c6c-4e1c-ef34-ea6c33c7ad47"
      },
      "source": [
        "\"-\".join(\"1.617.305.1985\".split(\".\"))"
      ],
      "execution_count": null,
      "outputs": [
        {
          "output_type": "execute_result",
          "data": {
            "application/vnd.google.colaboratory.intrinsic+json": {
              "type": "string"
            },
            "text/plain": [
              "'1-617-305-1985'"
            ]
          },
          "metadata": {
            "tags": []
          },
          "execution_count": 21
        }
      ]
    },
    {
      "cell_type": "code",
      "metadata": {
        "colab": {
          "base_uri": "https://localhost:8080/",
          "height": 35
        },
        "id": "8-51Igkcz0Az",
        "outputId": "9c33b08a-d917-4f6b-b12e-487fc6a546bb"
      },
      "source": [
        "# 1) \\n\\t 공백 데이터 기준으로 자르기\n",
        "ls = \"This string\\n\\r has many\\t\\tsapces\".split()\n",
        "# 2) 공백 한칸으로 재조합\n",
        "\" \".join(ls)"
      ],
      "execution_count": null,
      "outputs": [
        {
          "output_type": "execute_result",
          "data": {
            "application/vnd.google.colaboratory.intrinsic+json": {
              "type": "string"
            },
            "text/plain": [
              "'This string has many sapces'"
            ]
          },
          "metadata": {
            "tags": []
          },
          "execution_count": 23
        }
      ]
    },
    {
      "cell_type": "code",
      "metadata": {
        "colab": {
          "base_uri": "https://localhost:8080/",
          "height": 35
        },
        "id": "-HacmMqB1ccR",
        "outputId": "7aa06d69-8002-493d-e39e-5f6266b26772"
      },
      "source": [
        "\" \".join(\"This string\\n\\r has many\\t\\tsapces\".split())"
      ],
      "execution_count": null,
      "outputs": [
        {
          "output_type": "execute_result",
          "data": {
            "application/vnd.google.colaboratory.intrinsic+json": {
              "type": "string"
            },
            "text/plain": [
              "'This string has many sapces'"
            ]
          },
          "metadata": {
            "tags": []
          },
          "execution_count": 24
        }
      ]
    },
    {
      "cell_type": "markdown",
      "metadata": {
        "id": "UE-Wn43e1lPb"
      },
      "source": [
        "find(needle) 해당 문자열에 부문 문자열 needle 처음 등장하는 인덱스 반환(위치) 없으면 -1 반환하는 함수(대소문자 구분)"
      ]
    },
    {
      "cell_type": "code",
      "metadata": {
        "colab": {
          "base_uri": "https://localhost:8080/"
        },
        "id": "vnZzreBO1wx5",
        "outputId": "d63796a9-0c1f-499f-a389-f515d3ae24c4"
      },
      "source": [
        "\"www.networksciencelab.com\".find(\".com\")"
      ],
      "execution_count": null,
      "outputs": [
        {
          "output_type": "execute_result",
          "data": {
            "text/plain": [
              "21"
            ]
          },
          "metadata": {
            "tags": []
          },
          "execution_count": 25
        }
      ]
    },
    {
      "cell_type": "code",
      "metadata": {
        "colab": {
          "base_uri": "https://localhost:8080/"
        },
        "id": "NJKpu8XV2Izp",
        "outputId": "279a3477-0ab3-4b1c-bed0-3fbaf710549d"
      },
      "source": [
        "\"www.networksciencelab.Com\".find(\".com\") # 정확하게 동일해야지 찾을 수 있음."
      ],
      "execution_count": null,
      "outputs": [
        {
          "output_type": "execute_result",
          "data": {
            "text/plain": [
              "-1"
            ]
          },
          "metadata": {
            "tags": []
          },
          "execution_count": 27
        }
      ]
    },
    {
      "cell_type": "markdown",
      "metadata": {
        "id": "Uly8Ma-p2YIF"
      },
      "source": [
        "count(needle) 해당 문자열에서 등장하는 횟수를 반환하는 함수 (대소문자 구분)"
      ]
    },
    {
      "cell_type": "code",
      "metadata": {
        "colab": {
          "base_uri": "https://localhost:8080/"
        },
        "id": "sS1Upv9z2fw3",
        "outputId": "e42124fe-2b28-46cf-d22e-f1f97d1b5f16"
      },
      "source": [
        "\"www.networksciencelab.com\".count(\".\")"
      ],
      "execution_count": null,
      "outputs": [
        {
          "output_type": "execute_result",
          "data": {
            "text/plain": [
              "2"
            ]
          },
          "metadata": {
            "tags": []
          },
          "execution_count": 28
        }
      ]
    },
    {
      "cell_type": "code",
      "metadata": {
        "colab": {
          "base_uri": "https://localhost:8080/"
        },
        "id": "ue_2-Bsp2Pi6",
        "outputId": "2685893f-dd9e-4bf8-c899-894b4da9f77a"
      },
      "source": [
        "\"www.networksciencelab.com\".count(\"w\")"
      ],
      "execution_count": null,
      "outputs": [
        {
          "output_type": "execute_result",
          "data": {
            "text/plain": [
              "4"
            ]
          },
          "metadata": {
            "tags": []
          },
          "execution_count": 30
        }
      ]
    },
    {
      "cell_type": "code",
      "metadata": {
        "colab": {
          "base_uri": "https://localhost:8080/"
        },
        "id": "_rpW3Adj24St",
        "outputId": "ece6522b-84ba-474c-e3b9-765e202d7f33"
      },
      "source": [
        "\"www.networksciencelab.com\".count(\"C\")  # count() 로 없는 값 반환할 때 0 반환"
      ],
      "execution_count": null,
      "outputs": [
        {
          "output_type": "execute_result",
          "data": {
            "text/plain": [
              "0"
            ]
          },
          "metadata": {
            "tags": []
          },
          "execution_count": 33
        }
      ]
    },
    {
      "cell_type": "markdown",
      "metadata": {
        "id": "5tZYzb7r3JTQ"
      },
      "source": [
        "프레디케이트 함수 -> 문자열 s가 특정 클래스에 속하는지 True,False로 반환"
      ]
    },
    {
      "cell_type": "code",
      "metadata": {
        "colab": {
          "base_uri": "https://localhost:8080/"
        },
        "id": "huLzABjd3128",
        "outputId": "4a212a88-300c-4319-e2f7-8eb908cb4633"
      },
      "source": [
        "\"www.networksciencelab.com\".islower() # 모든 알파벳 문자가 소문자인지 체크"
      ],
      "execution_count": null,
      "outputs": [
        {
          "output_type": "execute_result",
          "data": {
            "text/plain": [
              "True"
            ]
          },
          "metadata": {
            "tags": []
          },
          "execution_count": 40
        }
      ]
    },
    {
      "cell_type": "code",
      "metadata": {
        "colab": {
          "base_uri": "https://localhost:8080/"
        },
        "id": "C2UVF1RU4AHY",
        "outputId": "c879a9f5-24e9-4210-a745-efb583611f2d"
      },
      "source": [
        "\"www.networksciencelab.com\".isupper() # 모든 알파벳 문자가 대문자인지 체크"
      ],
      "execution_count": null,
      "outputs": [
        {
          "output_type": "execute_result",
          "data": {
            "text/plain": [
              "False"
            ]
          },
          "metadata": {
            "tags": []
          },
          "execution_count": 42
        }
      ]
    },
    {
      "cell_type": "code",
      "metadata": {
        "colab": {
          "base_uri": "https://localhost:8080/"
        },
        "id": "WrGIZqMT4L02",
        "outputId": "169635d4-dfcc-49a0-8260-78154f802db1"
      },
      "source": [
        "\"www.networksciencelab.com\".isdigit() # 0~9 사이 숫자인지 확인"
      ],
      "execution_count": null,
      "outputs": [
        {
          "output_type": "execute_result",
          "data": {
            "text/plain": [
              "False"
            ]
          },
          "metadata": {
            "tags": []
          },
          "execution_count": 44
        }
      ]
    },
    {
      "cell_type": "code",
      "metadata": {
        "colab": {
          "base_uri": "https://localhost:8080/"
        },
        "id": "2OK3A2PY4Sdi",
        "outputId": "4124bd66-f9dc-46f3-ec3f-ef5df73942dd"
      },
      "source": [
        "\"www.networksciencelab.com\".isalpha() # 모두 알파벳으로만 이뤄져 있는지 확인 dot(.) 제거 해야만 True"
      ],
      "execution_count": null,
      "outputs": [
        {
          "output_type": "execute_result",
          "data": {
            "text/plain": [
              "False"
            ]
          },
          "metadata": {
            "tags": []
          },
          "execution_count": 46
        }
      ]
    },
    {
      "cell_type": "markdown",
      "metadata": {
        "id": "BoNtu3Q747Ys"
      },
      "source": [
        "대,소문자 변환 함수 → 모든 문자 대,소문자 변환 (문자열 s의 복사본 반환)"
      ]
    },
    {
      "cell_type": "code",
      "metadata": {
        "colab": {
          "base_uri": "https://localhost:8080/",
          "height": 35
        },
        "id": "043OONho5DMN",
        "outputId": "943865a9-d544-45dc-c10c-398520db48bf"
      },
      "source": [
        "st = \"www.networksciencelab.com\".upper()\n",
        "st"
      ],
      "execution_count": null,
      "outputs": [
        {
          "output_type": "execute_result",
          "data": {
            "application/vnd.google.colaboratory.intrinsic+json": {
              "type": "string"
            },
            "text/plain": [
              "'WWW.NETWORKSCIENCELAB.COM'"
            ]
          },
          "metadata": {
            "tags": []
          },
          "execution_count": 47
        }
      ]
    },
    {
      "cell_type": "code",
      "metadata": {
        "id": "egFp1aeq4fyL"
      },
      "source": [
        "st = st.lower()   # 새롭게 변수를 설정 (오른쪽 변수를 담는 그릇 = )"
      ],
      "execution_count": null,
      "outputs": []
    },
    {
      "cell_type": "markdown",
      "metadata": {
        "id": "UkGguIImNj4n"
      },
      "source": [
        "2. 올바른 자료구조 선택하기\n"
      ]
    },
    {
      "cell_type": "markdown",
      "metadata": {
        "id": "W88oAh-pNpXY"
      },
      "source": [
        "중복된 아이템이 있는 리스트 -> myList"
      ]
    },
    {
      "cell_type": "code",
      "metadata": {
        "colab": {
          "base_uri": "https://localhost:8080/"
        },
        "id": "kr0DSdbdNn6y",
        "outputId": "e958ed79-1754-4cb0-9bcf-d8bb4bf21560"
      },
      "source": [
        "myList = \"This string\\n\\r has many\\t\\tspaces\\tThis string\\n\\r has many\\t\\tspaces\".split()\n",
        "myList"
      ],
      "execution_count": null,
      "outputs": [
        {
          "output_type": "execute_result",
          "data": {
            "text/plain": [
              "['This',\n",
              " 'string',\n",
              " 'has',\n",
              " 'many',\n",
              " 'spaces',\n",
              " 'This',\n",
              " 'string',\n",
              " 'has',\n",
              " 'many',\n",
              " 'spaces']"
            ]
          },
          "metadata": {
            "tags": []
          },
          "execution_count": 53
        }
      ]
    },
    {
      "cell_type": "markdown",
      "metadata": {
        "id": "wa-FkOaoOC_H"
      },
      "source": [
        "리스트 -> 셋 변환 -> 다시 리스트로 변"
      ]
    },
    {
      "cell_type": "code",
      "metadata": {
        "id": "QrSCwY5_OFpT"
      },
      "source": [
        "# 1) 셋 변환 (중복 제거)\n",
        "set(myList)\n",
        "\n",
        "# 2) 중복 제거한 데이터를 리스트로 변환\n",
        "myList = list(set(myList))"
      ],
      "execution_count": null,
      "outputs": []
    },
    {
      "cell_type": "code",
      "metadata": {
        "colab": {
          "base_uri": "https://localhost:8080/"
        },
        "id": "UehpzI7KO4JH",
        "outputId": "56d4500c-12cc-4995-ad0a-308a4b89e733"
      },
      "source": [
        "myList"
      ],
      "execution_count": null,
      "outputs": [
        {
          "output_type": "execute_result",
          "data": {
            "text/plain": [
              "['spaces', 'many', 'has', 'This', 'string']"
            ]
          },
          "metadata": {
            "tags": []
          },
          "execution_count": 59
        }
      ]
    },
    {
      "cell_type": "markdown",
      "metadata": {
        "id": "OdMSxZSDPFYw"
      },
      "source": [
        "리스트 vs 셋 회원 명단 조회하기"
      ]
    },
    {
      "cell_type": "code",
      "metadata": {
        "colab": {
          "base_uri": "https://localhost:8080/"
        },
        "id": "-gQHisKpPDfY",
        "outputId": "e7325137-2ba4-4e95-f4b6-b8a2a97450e9"
      },
      "source": [
        "bigList = [str(i) for i in range(10000000)] # 리스트 내포 => 리스트 안에서 작업\n",
        "\"abc\" in bigList  # bigList 리스트에 abc 데이터 in(포함) 되어 있는지 확인 \n",
        "                  # 2초 걸림"
      ],
      "execution_count": null,
      "outputs": [
        {
          "output_type": "execute_result",
          "data": {
            "text/plain": [
              "False"
            ]
          },
          "metadata": {
            "tags": []
          },
          "execution_count": 1
        }
      ]
    },
    {
      "cell_type": "code",
      "metadata": {
        "colab": {
          "base_uri": "https://localhost:8080/"
        },
        "id": "4F9QGCYcOATi",
        "outputId": "3f6730e6-0af2-4bf9-cfd3-5992e262cf7c"
      },
      "source": [
        "bigList = set(bigList)  # 셋으로 변환하면 중복 제거 되기 때문에 데이터 조회 시 빠름\n",
        "\"abc\" in bigList # 0초 걸림"
      ],
      "execution_count": null,
      "outputs": [
        {
          "output_type": "execute_result",
          "data": {
            "text/plain": [
              "False"
            ]
          },
          "metadata": {
            "tags": []
          },
          "execution_count": 2
        }
      ]
    },
    {
      "cell_type": "markdown",
      "metadata": {
        "id": "k3pHxteARQoB"
      },
      "source": [
        "딕셔너리 (키-값으로 검색해야 할 때 매우 유용)\n"
      ]
    },
    {
      "cell_type": "markdown",
      "metadata": {
        "id": "I_5Z1Q3USGeq"
      },
      "source": [
        "리스트 딕셔너리 만들기 - enumerate 사용"
      ]
    },
    {
      "cell_type": "code",
      "metadata": {
        "colab": {
          "base_uri": "https://localhost:8080/"
        },
        "id": "64qlde1uRUjn",
        "outputId": "080a46ba-ae86-4812-ad3e-02e3cb9c76ae"
      },
      "source": [
        "# 1) 리스트 준비\n",
        "seq = [\"alpha\", \"bravo\", \"charile\", \"delta\"]   # 리스트에 담기는 건 값이기 때문에 value로 들어감 \n",
        "                                               # 자동으로 인덱스가 분배가 됨\n",
        "\n",
        "# 2) 딕셔너리 만들기  -> 인덱스 정보를 key, Data를 value로 만듬\n",
        "dict(enumerate(seq))    # 자동으로 인덱스가 생김 "
      ],
      "execution_count": null,
      "outputs": [
        {
          "output_type": "execute_result",
          "data": {
            "text/plain": [
              "{0: 'alpha', 1: 'bravo', 2: 'charile', 3: 'delta'}"
            ]
          },
          "metadata": {
            "tags": []
          },
          "execution_count": 4
        }
      ]
    },
    {
      "cell_type": "markdown",
      "metadata": {
        "id": "Byf4vH_YS_Kk"
      },
      "source": [
        "리스트 딕셔너리 만들기 - 키순서열과 값 순서열에 클래스 생성자인 zip(key,value) 사용"
      ]
    },
    {
      "cell_type": "code",
      "metadata": {
        "colab": {
          "base_uri": "https://localhost:8080/"
        },
        "id": "xCtNtxWQTeWs",
        "outputId": "7fadab5e-3d74-4011-98db-ac40f61fe222"
      },
      "source": [
        "kseq = \"abcd\"  # 문자열 또한, 순서열이다.\n",
        "vseq = [\"alpha\", \"bravo\", \"charile\", \"delta\"]\n",
        "dict(zip(kseq,vseq))      # zip(key,value) 생성자"
      ],
      "execution_count": null,
      "outputs": [
        {
          "output_type": "execute_result",
          "data": {
            "text/plain": [
              "{'a': 'alpha', 'b': 'bravo', 'c': 'charile', 'd': 'delta'}"
            ]
          },
          "metadata": {
            "tags": []
          },
          "execution_count": 66
        }
      ]
    },
    {
      "cell_type": "code",
      "metadata": {
        "colab": {
          "base_uri": "https://localhost:8080/"
        },
        "id": "dF2Ksb6dTcnO",
        "outputId": "22c948d6-28a5-49a9-901c-9b3a0c45380e"
      },
      "source": [
        "kseq = \"aaaa\"       # 딕셔너리이기 때문에 key값 중복 x\n",
        "vseq = [\"alpha\", \"bravo\", \"charile\", \"delta\"]\n",
        "dict(zip(kseq,vseq))"
      ],
      "execution_count": null,
      "outputs": [
        {
          "output_type": "execute_result",
          "data": {
            "text/plain": [
              "{'a': 'delta'}"
            ]
          },
          "metadata": {
            "tags": []
          },
          "execution_count": 67
        }
      ]
    },
    {
      "cell_type": "markdown",
      "metadata": {
        "id": "bR0JIUQ0c-AI"
      },
      "source": [
        "카운터(counter)는 딕셔너리 스타일의 컬렉션에서 다른 컬렉션 안의 아이템 개수 셀 때 사용"
      ]
    },
    {
      "cell_type": "code",
      "metadata": {
        "colab": {
          "base_uri": "https://localhost:8080/"
        },
        "id": "o1VgAMfXZ9sw",
        "outputId": "44356086-c4c3-4b62-d57d-67a0ad36b652"
      },
      "source": [
        "from collections import Counter\n",
        "\n",
        "phrase = \"a man a plan a canal panama\"\n",
        "ls = phrase.split()\n",
        "ls"
      ],
      "execution_count": null,
      "outputs": [
        {
          "output_type": "execute_result",
          "data": {
            "text/plain": [
              "['a', 'man', 'a', 'plan', 'a', 'canal', 'panama']"
            ]
          },
          "metadata": {
            "tags": []
          },
          "execution_count": 7
        }
      ]
    },
    {
      "cell_type": "code",
      "metadata": {
        "colab": {
          "base_uri": "https://localhost:8080/"
        },
        "id": "MUpFrOAkbjUs",
        "outputId": "e001c39e-42df-4d0f-9c24-12813d9ae614"
      },
      "source": [
        "cntr = Counter(phrase.split())    # 숫자를 세서 딕셔너리 형태로 출력됨\n",
        "\n",
        "cntr.most_common()   # 가장 빈번하게 등장한 n개의 아이템과 빈도 추출\n",
        "cntr.most_common(2)"
      ],
      "execution_count": null,
      "outputs": [
        {
          "output_type": "execute_result",
          "data": {
            "text/plain": [
              "[('a', 3), ('man', 1)]"
            ]
          },
          "metadata": {
            "tags": []
          },
          "execution_count": 8
        }
      ]
    },
    {
      "cell_type": "markdown",
      "metadata": {
        "id": "FbEXZ671cNWZ"
      },
      "source": [
        "출력한 리스트를 딕셔너리로 변환하면 가독성 좋아짐"
      ]
    },
    {
      "cell_type": "code",
      "metadata": {
        "colab": {
          "base_uri": "https://localhost:8080/"
        },
        "id": "uxZw9XANau7y",
        "outputId": "3a07a2eb-8b35-4595-945c-02f5d9f844b0"
      },
      "source": [
        "cntrDict = dict(cntr.most_common())  # key : 추출된 아이템 value : 아이템 빈도\n",
        "cntrDict                             # 중괄호{} 는 딕셔너리 대괄호[] 는 리스트"
      ],
      "execution_count": null,
      "outputs": [
        {
          "output_type": "execute_result",
          "data": {
            "text/plain": [
              "{'a': 3, 'canal': 1, 'man': 1, 'panama': 1, 'plan': 1}"
            ]
          },
          "metadata": {
            "tags": []
          },
          "execution_count": 80
        }
      ]
    },
    {
      "cell_type": "code",
      "metadata": {
        "colab": {
          "base_uri": "https://localhost:8080/"
        },
        "id": "IZZlIde0cn0n",
        "outputId": "56e436e6-2798-4a75-dfec-97286a37f8d4"
      },
      "source": [
        "cntrDict['plan']"
      ],
      "execution_count": null,
      "outputs": [
        {
          "output_type": "execute_result",
          "data": {
            "text/plain": [
              "1"
            ]
          },
          "metadata": {
            "tags": []
          },
          "execution_count": 81
        }
      ]
    },
    {
      "cell_type": "markdown",
      "metadata": {
        "id": "ktcb7HfAd0yC"
      },
      "source": [
        "웹에 접근하기"
      ]
    },
    {
      "cell_type": "code",
      "metadata": {
        "colab": {
          "base_uri": "https://localhost:8080/"
        },
        "id": "HNcG7r7xd2ty",
        "outputId": "94cce995-2ad4-4802-d57b-fc23b01c801f"
      },
      "source": [
        "import urllib.request\n",
        "\n",
        "try:             # 예외적인 상황에서 오류가 발생할 시의 함수\n",
        "  with urllib.urlopen(\"http://networksciencelab.com\") as doc:\n",
        "    html = doc.read()\n",
        "    print(html)\n",
        "except:\n",
        "  print(\"Could not open\")     # 오류가 날시 뜨는 문구"
      ],
      "execution_count": null,
      "outputs": [
        {
          "output_type": "stream",
          "text": [
            "Could not open\n"
          ],
          "name": "stdout"
        }
      ]
    },
    {
      "cell_type": "code",
      "metadata": {
        "id": "nWJHmo72fgCR"
      },
      "source": [
        "try:             \n",
        "  with urllib.urlopen(\"http://networksciencelab.com\") as doc:\n",
        "    html = doc.read()\n",
        "    print(html)"
      ],
      "execution_count": null,
      "outputs": []
    },
    {
      "cell_type": "code",
      "metadata": {
        "colab": {
          "base_uri": "https://localhost:8080/"
        },
        "id": "W-83VWu0gngV",
        "outputId": "07fa2665-7353-44e7-9923-984d2c616921"
      },
      "source": [
        "import urllib.parse     # 읽어서 분류하는 작업 parse\n",
        "\n",
        "URL = \"http://networksciencelab.com/index.html;param?foo=bar#content\" \n",
        "# url 파싱하여 6개의 아이템으로 구성된 튜플로 분리 스키마 네트워크 주소, 파일 시스템 경로, 파라미터, 쿼리, 플래그먼트\n",
        "\n",
        "urllib.parse.urlparse(URL)"
      ],
      "execution_count": null,
      "outputs": [
        {
          "output_type": "execute_result",
          "data": {
            "text/plain": [
              "ParseResult(scheme='http', netloc='networksciencelab.com', path='/index.html', params='param', query='foo=bar', fragment='content')"
            ]
          },
          "metadata": {
            "tags": []
          },
          "execution_count": 83
        }
      ]
    },
    {
      "cell_type": "markdown",
      "metadata": {
        "id": "AqmI9LwkpPGv"
      },
      "source": [
        "정규식 표현"
      ]
    },
    {
      "cell_type": "code",
      "metadata": {
        "colab": {
          "base_uri": "https://localhost:8080/"
        },
        "id": "0jTZyLLjoR23",
        "outputId": "f414d648-a012-4f17-a528-1f79a7ee8ba9"
      },
      "source": [
        "a = 'abcdef\\n' # 그냥 출력하면 보이진 않음\n",
        "print(a)\n",
        "\n",
        "b = r'abcdef\\n' # r을 쓰면 원천 문자열(raw string)로 인식 문자 그대로\n",
        "print(b)"
      ],
      "execution_count": null,
      "outputs": [
        {
          "output_type": "stream",
          "text": [
            "abcdef\n",
            "\n",
            "abcdef\\n\n"
          ],
          "name": "stdout"
        }
      ]
    },
    {
      "cell_type": "code",
      "metadata": {
        "colab": {
          "base_uri": "https://localhost:8080/"
        },
        "id": "H0Zn39z9pUNh",
        "outputId": "52c863c2-f368-44ca-87db-9de1d68a13c8"
      },
      "source": [
        "import re\n",
        "\n",
        "re.compile(r'(\\d+)/(\\d+)/(\\d+)')  # raw string -> 원래 0/0/0 1/1/1 2/2/2 이런식으로 나옴 "
      ],
      "execution_count": null,
      "outputs": [
        {
          "output_type": "execute_result",
          "data": {
            "text/plain": [
              "re.compile(r'(\\d+)/(\\d+)/(\\d+)', re.UNICODE)"
            ]
          },
          "metadata": {
            "tags": []
          },
          "execution_count": 87
        }
      ]
    },
    {
      "cell_type": "code",
      "metadata": {
        "colab": {
          "base_uri": "https://localhost:8080/"
        },
        "id": "7BVPW-7yp0C2",
        "outputId": "6fca08f6-cd8f-43e5-c190-b9ea8536724d"
      },
      "source": [
        "re.compile('(\\\\d+)/(\\\\d+)/(\\\\d+)') # raw string 사용하지 않으면 슬래시를 두번 사용해야하는 불편함"
      ],
      "execution_count": null,
      "outputs": [
        {
          "output_type": "execute_result",
          "data": {
            "text/plain": [
              "re.compile(r'(\\d+)/(\\d+)/(\\d+)', re.UNICODE)"
            ]
          },
          "metadata": {
            "tags": []
          },
          "execution_count": 89
        }
      ]
    },
    {
      "cell_type": "markdown",
      "metadata": {
        "id": "dIxM3hfeqKOH"
      },
      "source": [
        "정규 표현식으로 패턴 매칭하기"
      ]
    },
    {
      "cell_type": "markdown",
      "metadata": {
        "id": "-KJjRHGHqOgL"
      },
      "source": [
        "re.split() 함수 단어 분석을 위한 기본적인 단어 토크나이저로 사용할 수 있음"
      ]
    },
    {
      "cell_type": "code",
      "metadata": {
        "colab": {
          "base_uri": "https://localhost:8080/"
        },
        "id": "YH4CY52rqUFt",
        "outputId": "38543012-f87a-4b63-8ac6-154e1e7e8ac8"
      },
      "source": [
        "import re\n",
        "\n",
        "re.split(r\"\\W\",\"Hello, world!\")      # \\W : 알파벳이나 숫자가 아닌 개체 1개 --> 공백이나 , !\n",
        "                                     # r\"\\W\" -> 숫자, 알파벳 제외 한 개체 1개를 잘라라\n",
        "\n",
        " "
      ],
      "execution_count": null,
      "outputs": [
        {
          "output_type": "execute_result",
          "data": {
            "text/plain": [
              "['Hello', '', 'world', '']"
            ]
          },
          "metadata": {
            "tags": []
          },
          "execution_count": 91
        }
      ]
    },
    {
      "cell_type": "code",
      "metadata": {
        "colab": {
          "base_uri": "https://localhost:8080/"
        },
        "id": "wRyhPpf3rmQo",
        "outputId": "c83456e5-40bd-44f7-bfd5-7c0e7f9090c1"
      },
      "source": [
        "# 인근에 위치한 비문자(non-letter) (,)를 합친다.\n",
        "re.split(r\"\\W+\",\"Hello, world!\")     # r\"\\W+\": 알파벳이나 숫자가 아닌 개체 1개 이상 합친다(+)"
      ],
      "execution_count": null,
      "outputs": [
        {
          "output_type": "execute_result",
          "data": {
            "text/plain": [
              "['Hello', 'world', '']"
            ]
          },
          "metadata": {
            "tags": []
          },
          "execution_count": 92
        }
      ]
    },
    {
      "cell_type": "code",
      "metadata": {
        "colab": {
          "base_uri": "https://localhost:8080/"
        },
        "id": "yMR3rnZDqNWu",
        "outputId": "31d3c378-6428-44fb-f683-094a4deee286"
      },
      "source": [
        "mo = re.match(r\"\\d+\",\"067 Starts with a number\")   # 숫자 찾고 숫자 있는 위치까지 찾아라\n",
        "mo"
      ],
      "execution_count": null,
      "outputs": [
        {
          "output_type": "execute_result",
          "data": {
            "text/plain": [
              "<re.Match object; span=(0, 3), match='067'>"
            ]
          },
          "metadata": {
            "tags": []
          },
          "execution_count": 97
        }
      ]
    },
    {
      "cell_type": "code",
      "metadata": {
        "colab": {
          "base_uri": "https://localhost:8080/",
          "height": 35
        },
        "id": "69XcVx-stqxR",
        "outputId": "cb59ad66-4d6c-4ce9-9141-2295e8f7b5cc"
      },
      "source": [
        "mo.group()"
      ],
      "execution_count": null,
      "outputs": [
        {
          "output_type": "execute_result",
          "data": {
            "application/vnd.google.colaboratory.intrinsic+json": {
              "type": "string"
            },
            "text/plain": [
              "'067'"
            ]
          },
          "metadata": {
            "tags": []
          },
          "execution_count": 99
        }
      ]
    },
    {
      "cell_type": "code",
      "metadata": {
        "colab": {
          "base_uri": "https://localhost:8080/"
        },
        "id": "tKVXfPUutv8R",
        "outputId": "ea28abd2-997f-4e49-cc09-6c4603e65d01"
      },
      "source": [
        "print(re.match(r\"\\d+\",\"Dose not 010 Starts with a number\")) # match는 첫 번째 문장에만 적용가능"
      ],
      "execution_count": null,
      "outputs": [
        {
          "output_type": "stream",
          "text": [
            "None\n"
          ],
          "name": "stdout"
        }
      ]
    },
    {
      "cell_type": "code",
      "metadata": {
        "colab": {
          "base_uri": "https://localhost:8080/",
          "height": 35
        },
        "id": "ammnNw8nuSKY",
        "outputId": "2b985ed4-7e7a-4079-b494-0241150927c6"
      },
      "source": [
        "# search 문자열 일부분이 정규식과 매칭되는지 확인(매칭되는게 앞부분에 없다면 이 함수 사용)\n",
        "# [a-z] : 소문자들만 일치 \n",
        "# re.i : 대소문자 구분하지 않음\n",
        "re.search(r\"[a-z]+\", \"0010010 Has at least one 010 letter 0010010\",re.I).group()"
      ],
      "execution_count": null,
      "outputs": [
        {
          "output_type": "execute_result",
          "data": {
            "application/vnd.google.colaboratory.intrinsic+json": {
              "type": "string"
            },
            "text/plain": [
              "'Has'"
            ]
          },
          "metadata": {
            "tags": []
          },
          "execution_count": 107
        }
      ]
    },
    {
      "cell_type": "code",
      "metadata": {
        "colab": {
          "base_uri": "https://localhost:8080/",
          "height": 35
        },
        "id": "EfVlcPhmvtJx",
        "outputId": "c5269b4b-188d-4635-8f35-9234d1a067e0"
      },
      "source": [
        "# search 문자열 일부분이 정규식과 매칭되는지 확인(매칭되는게 앞부분에 없다면 이 함수 사용)\n",
        "# [a-z] : 소문자들만 일치 \n",
        "\n",
        "re.search(r\"[a-z]+\", \"0010010 Has at least one 010 letter 0010010\").group()"
      ],
      "execution_count": null,
      "outputs": [
        {
          "output_type": "execute_result",
          "data": {
            "application/vnd.google.colaboratory.intrinsic+json": {
              "type": "string"
            },
            "text/plain": [
              "'as'"
            ]
          },
          "metadata": {
            "tags": []
          },
          "execution_count": 109
        }
      ]
    },
    {
      "cell_type": "code",
      "metadata": {
        "colab": {
          "base_uri": "https://localhost:8080/",
          "height": 35
        },
        "id": "ogreKG1ev0oJ",
        "outputId": "47cd76f8-5753-49f8-c12e-fb9c23917926"
      },
      "source": [
        "# search 문자열 일부분이 정규식과 매칭되는지 확인(매칭되는게 앞부분에 없다면 이 함수 사용)\n",
        "# [A-Z] : 대문자들만 일치 \n",
        "\n",
        "re.search(r\"[A-Z]+\", \"0010010 has at least ONE 010 letter 0010010\").group()"
      ],
      "execution_count": null,
      "outputs": [
        {
          "output_type": "execute_result",
          "data": {
            "application/vnd.google.colaboratory.intrinsic+json": {
              "type": "string"
            },
            "text/plain": [
              "'ONE'"
            ]
          },
          "metadata": {
            "tags": []
          },
          "execution_count": 113
        }
      ]
    },
    {
      "cell_type": "code",
      "metadata": {
        "colab": {
          "base_uri": "https://localhost:8080/"
        },
        "id": "OVO5Xsszwk4d",
        "outputId": "3601a137-85ff-4a10-c1ea-604b828ef47e"
      },
      "source": [
        "# findall : 정규식에 부합하는 모든 문자열 찾기(대소문자 무시) -> 모든 소문자 들어있는 토큰 찾기\n",
        "re.findall(r\"[a-z]+\", \"0010010 Has at least one 010 letter 0010010\",re.I)"
      ],
      "execution_count": null,
      "outputs": [
        {
          "output_type": "execute_result",
          "data": {
            "text/plain": [
              "['Has', 'at', 'least', 'one', 'letter']"
            ]
          },
          "metadata": {
            "tags": []
          },
          "execution_count": 117
        }
      ]
    },
    {
      "cell_type": "code",
      "metadata": {
        "colab": {
          "base_uri": "https://localhost:8080/"
        },
        "id": "IRXt84ejw7b6",
        "outputId": "066e8181-8b62-4a3f-dedc-b7bde8000b17"
      },
      "source": [
        "# findall : 정규식에 부합하는 모든 문자열 찾기(대소문자 무시) -> 모든 소문자 들어있는 토큰 찾기\n",
        "re.findall(r\"[a-z]+\", \"0010010 Has at least one 010 letter 0010010\")    # 소문자만 찾기 re.i 빼기"
      ],
      "execution_count": null,
      "outputs": [
        {
          "output_type": "execute_result",
          "data": {
            "text/plain": [
              "['as', 'at', 'least', 'one', 'letter']"
            ]
          },
          "metadata": {
            "tags": []
          },
          "execution_count": 119
        }
      ]
    },
    {
      "cell_type": "code",
      "metadata": {
        "colab": {
          "base_uri": "https://localhost:8080/"
        },
        "id": "HV5Gh215xFFE",
        "outputId": "4c0483c9-d106-4670-d1b2-d2dfe147aef5"
      },
      "source": [
        "# findall : 정규식에 부합하는 모든 문자열 찾기(대소문자 무시) -> 모든 소문자 들어있는 토큰 찾기\n",
        "re.findall(r\"\\d+\", \"0010010 Has at least one 010 letter 0010010\")"
      ],
      "execution_count": null,
      "outputs": [
        {
          "output_type": "execute_result",
          "data": {
            "text/plain": [
              "['0010010', '010', '0010010']"
            ]
          },
          "metadata": {
            "tags": []
          },
          "execution_count": 120
        }
      ]
    },
    {
      "cell_type": "code",
      "metadata": {
        "colab": {
          "base_uri": "https://localhost:8080/"
        },
        "id": "ZZxArXYGxXnB",
        "outputId": "383f5fbe-48ca-4a3c-a6b1-9754f694875f"
      },
      "source": [
        "# findall : 정규식에 부합하는 모든 문자열 찾기(대소문자 무시) -> 모든 소문자 들어있는 토큰 찾기\n",
        "re.findall(r\"\\D+\", \"0010010 Has at least one 010 letter 0010010\") # 숫자가 아닌 객체 D"
      ],
      "execution_count": null,
      "outputs": [
        {
          "output_type": "execute_result",
          "data": {
            "text/plain": [
              "[' Has at least one ', ' letter ']"
            ]
          },
          "metadata": {
            "tags": []
          },
          "execution_count": 122
        }
      ]
    },
    {
      "cell_type": "code",
      "metadata": {
        "colab": {
          "base_uri": "https://localhost:8080/"
        },
        "id": "UNv1UseKxko5",
        "outputId": "57241179-8c8a-4b92-df07-2b9cc85e4abe"
      },
      "source": [
        "# findall : 정규식에 부합하는 모든 문자열 찾기(대소문자 무시) -> 모든 소문자 들어있는 토큰 찾기\n",
        "re.findall(r\"[^a-z]+\", \"0010010 Has at least one 010 letter 0010010\") # ^ 은 not을 의미 즉 알파벳 소문자 빼고 다 찾기"
      ],
      "execution_count": null,
      "outputs": [
        {
          "output_type": "execute_result",
          "data": {
            "text/plain": [
              "['0010010 H', ' ', ' ', ' ', ' 010 ', ' 0010010']"
            ]
          },
          "metadata": {
            "tags": []
          },
          "execution_count": 124
        }
      ]
    },
    {
      "cell_type": "code",
      "metadata": {
        "colab": {
          "base_uri": "https://localhost:8080/",
          "height": 35
        },
        "id": "-1uDXpL_xyvY",
        "outputId": "ffc49339-9308-48bf-9ace-8299aa5fdbb0"
      },
      "source": [
        "# sub : string으로 매칭되는 부분 문자열을 repl로 치환\n",
        "re.sub(r\"[a-z]+\",'[...]',\"0010010 Has at least one 010 letter 0010010\", flags = re.I) # 형식을 따라서 해야함\n",
        "re.sub"
      ],
      "execution_count": null,
      "outputs": [
        {
          "output_type": "execute_result",
          "data": {
            "application/vnd.google.colaboratory.intrinsic+json": {
              "type": "string"
            },
            "text/plain": [
              "'0010010 [...] [...] [...] [...] 010 [...] 0010010'"
            ]
          },
          "metadata": {
            "tags": []
          },
          "execution_count": 128
        }
      ]
    },
    {
      "cell_type": "code",
      "metadata": {
        "colab": {
          "base_uri": "https://localhost:8080/",
          "height": 35
        },
        "id": "ae0xaK8U4DfH",
        "outputId": "f5d0e63c-7e8e-4778-c09d-443547240e2a"
      },
      "source": [
        "# 010-abcd-0100 ---> abcd 값을 **** 으로 치환\n",
        "re.sub(r\"[a-d]+\",\"****\",\"010-abcd-0100\")\n",
        "# \\D 도 가능"
      ],
      "execution_count": null,
      "outputs": [
        {
          "output_type": "execute_result",
          "data": {
            "application/vnd.google.colaboratory.intrinsic+json": {
              "type": "string"
            },
            "text/plain": [
              "'010-****-0100'"
            ]
          },
          "metadata": {
            "tags": []
          },
          "execution_count": 132
        }
      ]
    },
    {
      "cell_type": "code",
      "metadata": {
        "colab": {
          "base_uri": "https://localhost:8080/",
          "height": 35
        },
        "id": "nkfrRjh55ST9",
        "outputId": "68e0b0e4-f93f-49fc-ff7e-fcd07ef82cb1"
      },
      "source": [
        "# 010-abcd-0100 ---> 숫자 값을 **** 으로 치환\n",
        "re.sub(r\"\\d+\",\"****\",\"010-abcd-0100\")"
      ],
      "execution_count": null,
      "outputs": [
        {
          "output_type": "execute_result",
          "data": {
            "application/vnd.google.colaboratory.intrinsic+json": {
              "type": "string"
            },
            "text/plain": [
              "'****-abcd-****'"
            ]
          },
          "metadata": {
            "tags": []
          },
          "execution_count": 134
        }
      ]
    },
    {
      "cell_type": "code",
      "metadata": {
        "colab": {
          "base_uri": "https://localhost:8080/",
          "height": 35
        },
        "id": "HyuTvhWS5wRy",
        "outputId": "16012cc1-e573-4c8c-b991-cfc304cd092a"
      },
      "source": [
        "# 010-abcd-0100 ---> - 값을 **** 으로 치환\n",
        "re.sub(r\"\\W+\",\"****\",\"010-abcd-0100\")"
      ],
      "execution_count": null,
      "outputs": [
        {
          "output_type": "execute_result",
          "data": {
            "application/vnd.google.colaboratory.intrinsic+json": {
              "type": "string"
            },
            "text/plain": [
              "'010****abcd****0100'"
            ]
          },
          "metadata": {
            "tags": []
          },
          "execution_count": 135
        }
      ]
    }
  ]
}
